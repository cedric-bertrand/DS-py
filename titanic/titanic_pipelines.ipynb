{
 "cells": [
  {
   "cell_type": "markdown",
   "metadata": {},
   "source": [
    "# Titanic (advanced)\n",
    "The Titanic problem is a nice playground to apply advanced ML methods. In this notebook, I used Scikit Learn ColumnTransformer and Pipeline classes to implement 6 different estimators and I combined them with the VotingClassifier to get my final estimator.  \n",
    "\n",
    "Final score is 0.80861, in the top 10% of all participants."
   ]
  },
  {
   "cell_type": "code",
   "execution_count": 2,
   "metadata": {},
   "outputs": [],
   "source": [
    "import numpy as np\n",
    "import pandas as pd\n",
    "\n",
    "from sklearn.compose import ColumnTransformer\n",
    "from sklearn.pipeline import Pipeline\n",
    "from sklearn.impute import SimpleImputer\n",
    "from sklearn.preprocessing import StandardScaler, OrdinalEncoder, OneHotEncoder, Binarizer\n",
    "\n",
    "from sklearn.model_selection import train_test_split, GridSearchCV\n",
    "\n",
    "from sklearn.linear_model import LogisticRegression\n",
    "from sklearn.neighbors import KNeighborsClassifier\n",
    "from sklearn.tree import DecisionTreeClassifier\n",
    "from sklearn.ensemble import RandomForestClassifier, VotingClassifier\n",
    "from sklearn.naive_bayes import BernoulliNB\n",
    "\n",
    "from matplotlib import pyplot as plt\n",
    "plt.rcParams['figure.figsize'] = 8, 12\n",
    "import seaborn as sns\n",
    "sns.set_style(\"darkgrid\")"
   ]
  },
  {
   "cell_type": "markdown",
   "metadata": {},
   "source": [
    "# Exploratory Data Analysis\n",
    "Since this is a well known dataset, I will keep EDA short. \n",
    "\n",
    "## Description of the dataset\n",
    "The code below gives a brief description of the training data set:\n",
    "* number of observations and of features\n",
    "* an extract of several random observations from the dataset to get a closer look at the features available\n",
    "* the count of null values and distinct values for each feature"
   ]
  },
  {
   "cell_type": "code",
   "execution_count": 3,
   "metadata": {},
   "outputs": [
    {
     "name": "stdout",
     "output_type": "stream",
     "text": [
      "Dataset = 891 observations x 11 features (including target)\n"
     ]
    },
    {
     "data": {
      "text/html": [
       "<div>\n",
       "<style scoped>\n",
       "    .dataframe tbody tr th:only-of-type {\n",
       "        vertical-align: middle;\n",
       "    }\n",
       "\n",
       "    .dataframe tbody tr th {\n",
       "        vertical-align: top;\n",
       "    }\n",
       "\n",
       "    .dataframe thead th {\n",
       "        text-align: right;\n",
       "    }\n",
       "</style>\n",
       "<table border=\"1\" class=\"dataframe\">\n",
       "  <thead>\n",
       "    <tr style=\"text-align: right;\">\n",
       "      <th></th>\n",
       "      <th>Survived</th>\n",
       "      <th>Pclass</th>\n",
       "      <th>Name</th>\n",
       "      <th>Sex</th>\n",
       "      <th>Age</th>\n",
       "      <th>SibSp</th>\n",
       "      <th>Parch</th>\n",
       "      <th>Ticket</th>\n",
       "      <th>Fare</th>\n",
       "      <th>Cabin</th>\n",
       "      <th>Embarked</th>\n",
       "    </tr>\n",
       "    <tr>\n",
       "      <th>PassengerId</th>\n",
       "      <th></th>\n",
       "      <th></th>\n",
       "      <th></th>\n",
       "      <th></th>\n",
       "      <th></th>\n",
       "      <th></th>\n",
       "      <th></th>\n",
       "      <th></th>\n",
       "      <th></th>\n",
       "      <th></th>\n",
       "      <th></th>\n",
       "    </tr>\n",
       "  </thead>\n",
       "  <tbody>\n",
       "    <tr>\n",
       "      <td>625</td>\n",
       "      <td>0</td>\n",
       "      <td>3</td>\n",
       "      <td>Bowen, Mr. David John \"Dai\"</td>\n",
       "      <td>male</td>\n",
       "      <td>21.0</td>\n",
       "      <td>0</td>\n",
       "      <td>0</td>\n",
       "      <td>54636</td>\n",
       "      <td>16.1000</td>\n",
       "      <td>NaN</td>\n",
       "      <td>S</td>\n",
       "    </tr>\n",
       "    <tr>\n",
       "      <td>325</td>\n",
       "      <td>0</td>\n",
       "      <td>3</td>\n",
       "      <td>Sage, Mr. George John Jr</td>\n",
       "      <td>male</td>\n",
       "      <td>NaN</td>\n",
       "      <td>8</td>\n",
       "      <td>2</td>\n",
       "      <td>CA. 2343</td>\n",
       "      <td>69.5500</td>\n",
       "      <td>NaN</td>\n",
       "      <td>S</td>\n",
       "    </tr>\n",
       "    <tr>\n",
       "      <td>376</td>\n",
       "      <td>1</td>\n",
       "      <td>1</td>\n",
       "      <td>Meyer, Mrs. Edgar Joseph (Leila Saks)</td>\n",
       "      <td>female</td>\n",
       "      <td>NaN</td>\n",
       "      <td>1</td>\n",
       "      <td>0</td>\n",
       "      <td>PC 17604</td>\n",
       "      <td>82.1708</td>\n",
       "      <td>NaN</td>\n",
       "      <td>C</td>\n",
       "    </tr>\n",
       "    <tr>\n",
       "      <td>305</td>\n",
       "      <td>0</td>\n",
       "      <td>3</td>\n",
       "      <td>Williams, Mr. Howard Hugh \"Harry\"</td>\n",
       "      <td>male</td>\n",
       "      <td>NaN</td>\n",
       "      <td>0</td>\n",
       "      <td>0</td>\n",
       "      <td>A/5 2466</td>\n",
       "      <td>8.0500</td>\n",
       "      <td>NaN</td>\n",
       "      <td>S</td>\n",
       "    </tr>\n",
       "    <tr>\n",
       "      <td>642</td>\n",
       "      <td>1</td>\n",
       "      <td>1</td>\n",
       "      <td>Sagesser, Mlle. Emma</td>\n",
       "      <td>female</td>\n",
       "      <td>24.0</td>\n",
       "      <td>0</td>\n",
       "      <td>0</td>\n",
       "      <td>PC 17477</td>\n",
       "      <td>69.3000</td>\n",
       "      <td>B35</td>\n",
       "      <td>C</td>\n",
       "    </tr>\n",
       "  </tbody>\n",
       "</table>\n",
       "</div>"
      ],
      "text/plain": [
       "             Survived  Pclass                                   Name     Sex  \\\n",
       "PassengerId                                                                    \n",
       "625                 0       3            Bowen, Mr. David John \"Dai\"    male   \n",
       "325                 0       3               Sage, Mr. George John Jr    male   \n",
       "376                 1       1  Meyer, Mrs. Edgar Joseph (Leila Saks)  female   \n",
       "305                 0       3      Williams, Mr. Howard Hugh \"Harry\"    male   \n",
       "642                 1       1                   Sagesser, Mlle. Emma  female   \n",
       "\n",
       "              Age  SibSp  Parch    Ticket     Fare Cabin Embarked  \n",
       "PassengerId                                                        \n",
       "625          21.0      0      0     54636  16.1000   NaN        S  \n",
       "325           NaN      8      2  CA. 2343  69.5500   NaN        S  \n",
       "376           NaN      1      0  PC 17604  82.1708   NaN        C  \n",
       "305           NaN      0      0  A/5 2466   8.0500   NaN        S  \n",
       "642          24.0      0      0  PC 17477  69.3000   B35        C  "
      ]
     },
     "execution_count": 3,
     "metadata": {},
     "output_type": "execute_result"
    }
   ],
   "source": [
    "# Load training set\n",
    "dataset = pd.read_csv('./input/train.csv', index_col = 'PassengerId')\n",
    "target = 'Survived'\n",
    "features = [c for c in list(dataset.columns.values) if c != target]\n",
    "\n",
    "# size of the dataset\n",
    "print('Dataset = {:d} observations x {:d} features (including target)'.format(dataset.shape[0], dataset.shape[1]))\n",
    "# list of features\n",
    "dataset.sample(5)"
   ]
  },
  {
   "cell_type": "code",
   "execution_count": 4,
   "metadata": {},
   "outputs": [
    {
     "data": {
      "text/html": [
       "<div>\n",
       "<style scoped>\n",
       "    .dataframe tbody tr th:only-of-type {\n",
       "        vertical-align: middle;\n",
       "    }\n",
       "\n",
       "    .dataframe tbody tr th {\n",
       "        vertical-align: top;\n",
       "    }\n",
       "\n",
       "    .dataframe thead th {\n",
       "        text-align: right;\n",
       "    }\n",
       "</style>\n",
       "<table border=\"1\" class=\"dataframe\">\n",
       "  <thead>\n",
       "    <tr style=\"text-align: right;\">\n",
       "      <th></th>\n",
       "      <th>Survived</th>\n",
       "      <th>Pclass</th>\n",
       "      <th>Name</th>\n",
       "      <th>Sex</th>\n",
       "      <th>Age</th>\n",
       "      <th>SibSp</th>\n",
       "      <th>Parch</th>\n",
       "      <th>Ticket</th>\n",
       "      <th>Fare</th>\n",
       "      <th>Cabin</th>\n",
       "      <th>Embarked</th>\n",
       "    </tr>\n",
       "  </thead>\n",
       "  <tbody>\n",
       "    <tr>\n",
       "      <td>Dtype</td>\n",
       "      <td>int64</td>\n",
       "      <td>int64</td>\n",
       "      <td>object</td>\n",
       "      <td>object</td>\n",
       "      <td>float64</td>\n",
       "      <td>int64</td>\n",
       "      <td>int64</td>\n",
       "      <td>object</td>\n",
       "      <td>float64</td>\n",
       "      <td>object</td>\n",
       "      <td>object</td>\n",
       "    </tr>\n",
       "    <tr>\n",
       "      <td>NbrNullValues</td>\n",
       "      <td>0</td>\n",
       "      <td>0</td>\n",
       "      <td>0</td>\n",
       "      <td>0</td>\n",
       "      <td>177</td>\n",
       "      <td>0</td>\n",
       "      <td>0</td>\n",
       "      <td>0</td>\n",
       "      <td>0</td>\n",
       "      <td>687</td>\n",
       "      <td>2</td>\n",
       "    </tr>\n",
       "    <tr>\n",
       "      <td>NbrDistinctVal</td>\n",
       "      <td>2</td>\n",
       "      <td>3</td>\n",
       "      <td>891</td>\n",
       "      <td>2</td>\n",
       "      <td>88</td>\n",
       "      <td>7</td>\n",
       "      <td>7</td>\n",
       "      <td>681</td>\n",
       "      <td>248</td>\n",
       "      <td>147</td>\n",
       "      <td>3</td>\n",
       "    </tr>\n",
       "  </tbody>\n",
       "</table>\n",
       "</div>"
      ],
      "text/plain": [
       "               Survived Pclass    Name     Sex      Age  SibSp  Parch  Ticket  \\\n",
       "Dtype             int64  int64  object  object  float64  int64  int64  object   \n",
       "NbrNullValues         0      0       0       0      177      0      0       0   \n",
       "NbrDistinctVal        2      3     891       2       88      7      7     681   \n",
       "\n",
       "                   Fare   Cabin Embarked  \n",
       "Dtype           float64  object   object  \n",
       "NbrNullValues         0     687        2  \n",
       "NbrDistinctVal      248     147        3  "
      ]
     },
     "metadata": {},
     "output_type": "display_data"
    }
   ],
   "source": [
    "summary = pd.DataFrame(np.array([dataset.dtypes, \n",
    "                                 dataset.isnull().sum(), \n",
    "                                 dataset.nunique()]),\n",
    "                       index=['Dtype', 'NbrNullValues', 'NbrDistinctVal'],                       \n",
    "                       columns=np.array(list(dataset)))\n",
    "display(summary)"
   ]
  },
  {
   "cell_type": "markdown",
   "metadata": {},
   "source": [
    "## Interaction with the target\n",
    "A plot of survival probability versus *Sex* and *Pclass* shows the importance of this 2 features. It shows also that the relation between *Pclass* and *Survived* is not linear and depends also on the feature *Sex*.  "
   ]
  },
  {
   "cell_type": "code",
   "execution_count": 5,
   "metadata": {},
   "outputs": [
    {
     "data": {
      "image/png": "[encoded data removed]",
      "text/plain": [
       "<Figure size 498.125x432 with 1 Axes>"
      ]
     },
     "metadata": {},
     "output_type": "display_data"
    }
   ],
   "source": [
    "sns.catplot(x='Pclass', y=target, hue='Sex', data=dataset, height=6, kind='bar', palette='muted');"
   ]
  },
  {
   "cell_type": "markdown",
   "metadata": {},
   "source": [
    "A plot of of *Age* for the 2 categories *Sex* and *Survived* shows a high proportion of survival for young men (roughly under 12 years). We will use this information for Bernouilli Naive Bayes classiifer, to binarize the age variable at an adequate threshold.  "
   ]
  },
  {
   "cell_type": "code",
   "execution_count": 7,
   "metadata": {},
   "outputs": [
    {
     "data": {
      "image/png": "[encoded data removed]",
      "text/plain": [
       "<Figure size 407x360 with 1 Axes>"
      ]
     },
     "metadata": {},
     "output_type": "display_data"
    }
   ],
   "source": [
    "sns.catplot(x='Sex', y='Age', hue='Survived', data=dataset, kind='swarm');"
   ]
  },
  {
   "cell_type": "markdown",
   "metadata": {},
   "source": [
    "## Features Engineering\n",
    "The feature engineering step is simple and consists in:\n",
    "* calculating the total family size as the sum of siblings/spouses (*SibSp*) and parents/children (*Parch*) plus 1\n",
    "* extracting the family name and the title (and grouping less frequent values of this feature)"
   ]
  },
  {
   "cell_type": "code",
   "execution_count": 8,
   "metadata": {},
   "outputs": [
    {
     "data": {
      "text/html": [
       "<div>\n",
       "<style scoped>\n",
       "    .dataframe tbody tr th:only-of-type {\n",
       "        vertical-align: middle;\n",
       "    }\n",
       "\n",
       "    .dataframe tbody tr th {\n",
       "        vertical-align: top;\n",
       "    }\n",
       "\n",
       "    .dataframe thead th {\n",
       "        text-align: right;\n",
       "    }\n",
       "</style>\n",
       "<table border=\"1\" class=\"dataframe\">\n",
       "  <thead>\n",
       "    <tr style=\"text-align: right;\">\n",
       "      <th></th>\n",
       "      <th>Survived</th>\n",
       "      <th>Pclass</th>\n",
       "      <th>Name</th>\n",
       "      <th>Sex</th>\n",
       "      <th>Age</th>\n",
       "      <th>SibSp</th>\n",
       "      <th>Parch</th>\n",
       "      <th>Ticket</th>\n",
       "      <th>Fare</th>\n",
       "      <th>Cabin</th>\n",
       "      <th>Embarked</th>\n",
       "      <th>FamilySize</th>\n",
       "      <th>FamilyName</th>\n",
       "      <th>Title</th>\n",
       "    </tr>\n",
       "    <tr>\n",
       "      <th>PassengerId</th>\n",
       "      <th></th>\n",
       "      <th></th>\n",
       "      <th></th>\n",
       "      <th></th>\n",
       "      <th></th>\n",
       "      <th></th>\n",
       "      <th></th>\n",
       "      <th></th>\n",
       "      <th></th>\n",
       "      <th></th>\n",
       "      <th></th>\n",
       "      <th></th>\n",
       "      <th></th>\n",
       "      <th></th>\n",
       "    </tr>\n",
       "  </thead>\n",
       "  <tbody>\n",
       "    <tr>\n",
       "      <td>387</td>\n",
       "      <td>0</td>\n",
       "      <td>3</td>\n",
       "      <td>Goodwin, Master. Sidney Leonard</td>\n",
       "      <td>male</td>\n",
       "      <td>1.0</td>\n",
       "      <td>5</td>\n",
       "      <td>2</td>\n",
       "      <td>CA 2144</td>\n",
       "      <td>46.90</td>\n",
       "      <td>NaN</td>\n",
       "      <td>S</td>\n",
       "      <td>8</td>\n",
       "      <td>Goodwin</td>\n",
       "      <td>Master</td>\n",
       "    </tr>\n",
       "    <tr>\n",
       "      <td>235</td>\n",
       "      <td>0</td>\n",
       "      <td>2</td>\n",
       "      <td>Leyson, Mr. Robert William Norman</td>\n",
       "      <td>male</td>\n",
       "      <td>24.0</td>\n",
       "      <td>0</td>\n",
       "      <td>0</td>\n",
       "      <td>C.A. 29566</td>\n",
       "      <td>10.50</td>\n",
       "      <td>NaN</td>\n",
       "      <td>S</td>\n",
       "      <td>1</td>\n",
       "      <td>Leyson</td>\n",
       "      <td>Mr</td>\n",
       "    </tr>\n",
       "    <tr>\n",
       "      <td>404</td>\n",
       "      <td>0</td>\n",
       "      <td>3</td>\n",
       "      <td>Hakkarainen, Mr. Pekka Pietari</td>\n",
       "      <td>male</td>\n",
       "      <td>28.0</td>\n",
       "      <td>1</td>\n",
       "      <td>0</td>\n",
       "      <td>STON/O2. 3101279</td>\n",
       "      <td>15.85</td>\n",
       "      <td>NaN</td>\n",
       "      <td>S</td>\n",
       "      <td>2</td>\n",
       "      <td>Hakkarainen</td>\n",
       "      <td>Mr</td>\n",
       "    </tr>\n",
       "  </tbody>\n",
       "</table>\n",
       "</div>"
      ],
      "text/plain": [
       "             Survived  Pclass                               Name   Sex   Age  \\\n",
       "PassengerId                                                                    \n",
       "387                 0       3    Goodwin, Master. Sidney Leonard  male   1.0   \n",
       "235                 0       2  Leyson, Mr. Robert William Norman  male  24.0   \n",
       "404                 0       3     Hakkarainen, Mr. Pekka Pietari  male  28.0   \n",
       "\n",
       "             SibSp  Parch            Ticket   Fare Cabin Embarked  FamilySize  \\\n",
       "PassengerId                                                                     \n",
       "387              5      2           CA 2144  46.90   NaN        S           8   \n",
       "235              0      0        C.A. 29566  10.50   NaN        S           1   \n",
       "404              1      0  STON/O2. 3101279  15.85   NaN        S           2   \n",
       "\n",
       "              FamilyName   Title  \n",
       "PassengerId                       \n",
       "387              Goodwin  Master  \n",
       "235               Leyson      Mr  \n",
       "404          Hakkarainen      Mr  "
      ]
     },
     "execution_count": 8,
     "metadata": {},
     "output_type": "execute_result"
    }
   ],
   "source": [
    "def prepare_data(data):\n",
    "    df = data.copy()\n",
    "    df['FamilySize'] = df['SibSp'] + df['Parch'] + 1\n",
    "    df['FamilyName'] = df['Name'].apply(lambda x: x.split(',')[0])\n",
    "    # remove left/right space characters, and replace other space characters with an underscore \n",
    "    df['FamilyName'] = df['FamilyName'].apply(lambda x: x.strip().replace(' ', '_'))\n",
    "    \n",
    "    df['Title'] = df['Name'].apply(lambda x: x.split(',')[1].split('.')[0].strip())  \n",
    "    # group similar values \n",
    "    df['Title'].replace(['Mr','Don','Rev','Dr','Major','Sir','Col','Capt','Jonkheer'], 'Mr', inplace=True) \n",
    "    df['Title'].replace(['Mrs','Mme','Lady','the Countess','Dona'], 'Mrs', inplace=True)     \n",
    "    df['Title'].replace(['Miss','Ms','Mlle'], 'Miss', inplace=True)\n",
    "    # passenger 797 Dr. Leader is a female and is misclassified. Should be corrected\n",
    "    df.loc[(df.Sex == 'female') & (df.Title == 'Mr'), 'Title'] = 'Mrs'\n",
    "    return df\n",
    "    \n",
    "data_prepared = prepare_data(dataset)  \n",
    "data_prepared.sample(3)"
   ]
  },
  {
   "cell_type": "markdown",
   "metadata": {},
   "source": [
    "# Models\n",
    "I implemented the following 6 models:\n",
    "* 2 logistic regressions (one without using family names, and the second with family names)\n",
    "* 1 k-Nearest Neighbors\n",
    "* 1 decision tree\n",
    "* 1 random forest classifier\n",
    "* 1 Naives Bayes with binary features  \n",
    "3 models include the feature FamilyName (the second Logistic Regression, the Decision tree and the Naive Bayes model). The 3 other models do not use this feature. \n",
    "\n",
    "All models are implemented following the same pattern:\n",
    "* use a new train/test split (in order to increase the variablity between the models)\n",
    "* define a ColumnTransformer to handle differently the preprocessing of features used\n",
    "* define a pipeline including the ColumnTransformer, eventually other preprocessing transformers, and the predictive model\n",
    "* optimize the hyperparameters of the pipeline using a grid search (with 5-fold cross validation)\n",
    "* calculate the score of the best estimator on the test data\n",
    "\n",
    "Finally, the best estimators for the 6 models are grouped together, using soft voting (ie ensembling the predicted probabilities of the 6 models) with weights set to the score of each model on the test dataset. "
   ]
  },
  {
   "cell_type": "code",
   "execution_count": 9,
   "metadata": {},
   "outputs": [],
   "source": [
    "features = [col for col in list(data_prepared) if col != target]\n",
    "X = data_prepared[features]\n",
    "y = data_prepared[[target]]"
   ]
  },
  {
   "cell_type": "markdown",
   "metadata": {},
   "source": [
    "## Logistic regression\n",
    "We start with a simple Logistic Regression model, using only the 6 features *Sex*, *Pclass*, *Title*, *Age*, *Fare* and *FamilySize*.  "
   ]
  },
  {
   "cell_type": "code",
   "execution_count": 10,
   "metadata": {},
   "outputs": [
    {
     "name": "stdout",
     "output_type": "stream",
     "text": [
      "Fitting 5 folds for each of 16 candidates, totalling 80 fits\n"
     ]
    },
    {
     "name": "stderr",
     "output_type": "stream",
     "text": [
      "[Parallel(n_jobs=1)]: Using backend SequentialBackend with 1 concurrent workers.\n"
     ]
    },
    {
     "name": "stdout",
     "output_type": "stream",
     "text": [
      "Logistic regression - best parameters: {'reg__C': 0.125, 'reg__penalty': 'l1'}\n",
      "Logistic regression - score on training data = 0.8183\n",
      "Logistic regression - score on validation data = 0.8459\n"
     ]
    },
    {
     "name": "stderr",
     "output_type": "stream",
     "text": [
      "[Parallel(n_jobs=1)]: Done  80 out of  80 | elapsed:    6.3s finished\n"
     ]
    }
   ],
   "source": [
    "X_train, X_valid, y_train, y_valid = train_test_split(X, y, test_size=0.4, stratify=y)\n",
    "\n",
    "ct_lr1 = ColumnTransformer( transformers = \n",
    "                       [('tr_sex', OrdinalEncoder(), ['Sex']),\n",
    "                        ('tr_class', OneHotEncoder(categories='auto', drop='first'), ['Pclass','Title']),                      \n",
    "                        ('tr_age', SimpleImputer(), ['Age', 'Fare']), \n",
    "                        ('tr_keep', 'passthrough', ['FamilySize']),\n",
    "                        ('tr_embarked', Pipeline([\n",
    "                            ('inputer', SimpleImputer(strategy='most_frequent')),\n",
    "                            ('onehot', OneHotEncoder(categories='auto', drop='first'))]), ['Embarked']),\n",
    "                       ],                       \n",
    "                      remainder='drop', sparse_threshold=0)\n",
    "\n",
    "model_lr1 = Pipeline([\n",
    "    ('col', ct_lr1),\n",
    "    ('scaler', StandardScaler()),    \n",
    "    ('reg', LogisticRegression(penalty='l1', solver='liblinear', max_iter=1000)),\n",
    "    ])\n",
    "\n",
    "param_lr1 = {\n",
    "    'reg__penalty': ['l1', 'l2'],\n",
    "    'reg__C': 2.0**np.arange(-5, +3) # [0.01, 0.1, 1.0, 10., 100.],\n",
    "    }\n",
    "\n",
    "grid_lr1 = GridSearchCV(model_lr1, param_lr1, cv=5, iid=False, verbose=1)\n",
    "grid_lr1.fit(X_train, y_train['Survived']);\n",
    "\n",
    "print('Logistic regression - best parameters: {}'.format(grid_lr1.best_params_))\n",
    "print('Logistic regression - score on training data = {:.4f}'.format(grid_lr1.best_score_))\n",
    "lr1_test_score = grid_lr1.score(X_valid, y_valid)\n",
    "print('Logistic regression - score on validation data = {:.4f}'.format(lr1_test_score))"
   ]
  },
  {
   "cell_type": "markdown",
   "metadata": {},
   "source": [
    "### Linear regression with feature FamilyName\n",
    "I use only l1 regularization for this regression due to the high number of categorical variables."
   ]
  },
  {
   "cell_type": "code",
   "execution_count": 11,
   "metadata": {},
   "outputs": [
    {
     "name": "stdout",
     "output_type": "stream",
     "text": [
      "Fitting 5 folds for each of 8 candidates, totalling 40 fits\n"
     ]
    },
    {
     "name": "stderr",
     "output_type": "stream",
     "text": [
      "[Parallel(n_jobs=1)]: Using backend SequentialBackend with 1 concurrent workers.\n",
      "[Parallel(n_jobs=1)]: Done  40 out of  40 | elapsed:    7.7s finished\n"
     ]
    },
    {
     "name": "stdout",
     "output_type": "stream",
     "text": [
      "Logistic regression - best parameters: {'reg__C': 0.125}\n",
      "Logistic regression - score on training data = 0.8297\n",
      "Logistic regression - score on validation data = 0.8459\n"
     ]
    }
   ],
   "source": [
    "X_train, X_valid, y_train, y_valid = train_test_split(X, y, test_size=0.4, stratify=y)\n",
    "\n",
    "ct_lr2 = ColumnTransformer( transformers = \n",
    "                       [('tr_sex', OrdinalEncoder(), ['Sex']),\n",
    "                        ('tr_class', OneHotEncoder(categories='auto', drop='first'), ['Pclass','Title']),                      \n",
    "                        ('tr_age', SimpleImputer(), ['Age', 'Fare']),\n",
    "                        ('tr_keep', 'passthrough', ['FamilySize']),   \n",
    "                        ('tr_embarked', Pipeline([\n",
    "                            ('inputer', SimpleImputer(strategy='most_frequent')),\n",
    "                            ('onehot', OneHotEncoder(categories='auto', drop='first'))]), ['Embarked']),                        \n",
    "                        ('tr_name', OneHotEncoder(categories='auto', drop=None, handle_unknown='ignore'), ['FamilyName']),                              \n",
    "                       ],                       \n",
    "                      remainder='drop', sparse_threshold=0)\n",
    "\n",
    "model_lr2 = Pipeline([\n",
    "    ('col', ct_lr2),\n",
    "    ('scaler', StandardScaler()),    \n",
    "    ('reg', LogisticRegression(penalty='l1', solver='liblinear', max_iter=500)),\n",
    "    ])\n",
    "\n",
    "param_lr2 = {\n",
    "    'reg__C': 2.0**np.arange(-5, +3), #[0.1, 0.4, 1.0, 2.5],\n",
    "    }\n",
    "\n",
    "grid_lr2 = GridSearchCV(model_lr2, param_lr2, cv=5, iid=False, verbose=1)\n",
    "grid_lr2.fit(X_train, y_train['Survived']);\n",
    "\n",
    "print('Logistic regression - best parameters: {}'.format(grid_lr2.best_params_))\n",
    "print('Logistic regression - score on training data = {:.4f}'.format(grid_lr2.best_score_))\n",
    "lr2_test_score = grid_lr2.score(X_valid, y_valid)\n",
    "print('Logistic regression - score on validation data = {:.4f}'.format(lr2_test_score))"
   ]
  },
  {
   "cell_type": "markdown",
   "metadata": {},
   "source": [
    "## K-Nearest Neighbors"
   ]
  },
  {
   "cell_type": "code",
   "execution_count": 12,
   "metadata": {},
   "outputs": [
    {
     "name": "stdout",
     "output_type": "stream",
     "text": [
      "Fitting 5 folds for each of 12 candidates, totalling 60 fits\n"
     ]
    },
    {
     "name": "stderr",
     "output_type": "stream",
     "text": [
      "[Parallel(n_jobs=1)]: Using backend SequentialBackend with 1 concurrent workers.\n"
     ]
    },
    {
     "name": "stdout",
     "output_type": "stream",
     "text": [
      "KNN - best parameters: {'knn__n_neighbors': 7, 'knn__weights': 'uniform'}\n",
      "KNN - score on training data = 0.8333\n",
      "KNN - score on validation data = 0.8039\n"
     ]
    },
    {
     "name": "stderr",
     "output_type": "stream",
     "text": [
      "[Parallel(n_jobs=1)]: Done  60 out of  60 | elapsed:    5.0s finished\n"
     ]
    }
   ],
   "source": [
    "X_train, X_valid, y_train, y_valid = train_test_split(X, y, test_size=0.4, stratify=y)\n",
    "\n",
    "ct_knn1 = ColumnTransformer( transformers = \n",
    "                       [('tr_sex', OrdinalEncoder(), ['Sex']),\n",
    "                        ('tr_class', OneHotEncoder(categories='auto', drop=None), ['Pclass','Title']),                      \n",
    "                        ('tr_age', SimpleImputer(), ['Age', 'Fare']),  \n",
    "                        ('tr_embarked', Pipeline([\n",
    "                            ('inputer', SimpleImputer(strategy='most_frequent')),\n",
    "                            ('onehot', OneHotEncoder(categories='auto', drop='first'))]), ['Embarked']),                        \n",
    "                        ('tr_keep', 'passthrough', ['FamilySize'])                          \n",
    "                       ],                       \n",
    "                      remainder='drop', sparse_threshold=0)\n",
    "\n",
    "model_knn1 = Pipeline([\n",
    "    ('col', ct_knn1),    \n",
    "    ('scaler', StandardScaler()),    \n",
    "    ('knn', KNeighborsClassifier(n_neighbors=3)),\n",
    "    ])\n",
    "\n",
    "param_knn1 = {\n",
    "    'knn__n_neighbors': [3, 5, 7, 9, 11, 13],\n",
    "    'knn__weights': ['uniform', 'distance'],\n",
    "    }\n",
    "\n",
    "grid_knn1 = GridSearchCV(model_knn1, param_knn1, cv=5, iid=False, verbose=1)\n",
    "grid_knn1.fit(X_train, y_train['Survived']);\n",
    "\n",
    "print('KNN - best parameters: {}'.format(grid_knn1.best_params_))\n",
    "print('KNN - score on training data = {:.4f}'.format(grid_knn1.best_score_))\n",
    "knn1_test_score = grid_knn1.score(X_valid, y_valid)\n",
    "print('KNN - score on validation data = {:.4f}'.format(knn1_test_score))"
   ]
  },
  {
   "cell_type": "markdown",
   "metadata": {},
   "source": [
    "## Decision Tree"
   ]
  },
  {
   "cell_type": "code",
   "execution_count": 13,
   "metadata": {},
   "outputs": [
    {
     "name": "stdout",
     "output_type": "stream",
     "text": [
      "Fitting 5 folds for each of 15 candidates, totalling 75 fits\n"
     ]
    },
    {
     "name": "stderr",
     "output_type": "stream",
     "text": [
      "[Parallel(n_jobs=1)]: Using backend SequentialBackend with 1 concurrent workers.\n"
     ]
    },
    {
     "name": "stdout",
     "output_type": "stream",
     "text": [
      "Decision Tree - best parameters: {'tree__max_depth': 7, 'tree__min_samples_leaf': 3}\n",
      "Decision Tree - score on training data = 0.8428\n",
      "Decision Tree - score on validation data = 0.7983\n"
     ]
    },
    {
     "name": "stderr",
     "output_type": "stream",
     "text": [
      "[Parallel(n_jobs=1)]: Done  75 out of  75 | elapsed:    7.5s finished\n"
     ]
    }
   ],
   "source": [
    "X_train, X_valid, y_train, y_valid = train_test_split(X, y, test_size=0.4, stratify=y)\n",
    "\n",
    "ct_dt1 = ColumnTransformer( transformers = \n",
    "                       [('tr_sex', OrdinalEncoder(), ['Sex']),\n",
    "                        ('tr_class', OneHotEncoder(categories='auto', drop=None), ['Pclass','Title']),                      \n",
    "                        ('tr_age', SimpleImputer(), ['Age', 'Fare']), \n",
    "                        ('tr_embarked', Pipeline([\n",
    "                            ('inputer', SimpleImputer(strategy='most_frequent')),\n",
    "                            ('onehot', OneHotEncoder(categories='auto', drop='first'))]), ['Embarked']),   \n",
    "                        ('tr_name', OneHotEncoder(categories='auto', drop=None, handle_unknown='ignore'), ['FamilyName']),                          \n",
    "                        ('tr_keep', 'passthrough', ['FamilySize'])                          \n",
    "                       ],                       \n",
    "                      remainder='drop', sparse_threshold=0)\n",
    "\n",
    "model_dt1 = Pipeline([\n",
    "#    ('name_tr', FamilyNameTransformer(minimum_count=6)),    \n",
    "    ('col', ct_dt1),    \n",
    "#    ('scaler', StandardScaler()),    \n",
    "    ('tree', DecisionTreeClassifier()),\n",
    "    ])\n",
    "\n",
    "param_dt1 = {\n",
    "#    'name_tr__minimum_count': [4,5,7], #[4,5,6,7],    \n",
    "    'tree__max_depth': [4, 5, 6, 7, 8],\n",
    "    'tree__min_samples_leaf': [1,2,3],\n",
    "    }\n",
    "\n",
    "grid_dt1 = GridSearchCV(model_dt1, param_dt1, cv=5, iid=False, verbose=1)\n",
    "grid_dt1.fit(X_train, y_train['Survived']);\n",
    "\n",
    "print('Decision Tree - best parameters: {}'.format(grid_dt1.best_params_))\n",
    "print('Decision Tree - score on training data = {:.4f}'.format(grid_dt1.best_score_))\n",
    "dt1_test_score = grid_dt1.score(X_valid, y_valid)\n",
    "print('Decision Tree - score on validation data = {:.4f}'.format(dt1_test_score))"
   ]
  },
  {
   "cell_type": "markdown",
   "metadata": {},
   "source": [
    "## RandomForest classifier"
   ]
  },
  {
   "cell_type": "code",
   "execution_count": 14,
   "metadata": {},
   "outputs": [
    {
     "name": "stdout",
     "output_type": "stream",
     "text": [
      "Fitting 5 folds for each of 48 candidates, totalling 240 fits\n"
     ]
    },
    {
     "name": "stderr",
     "output_type": "stream",
     "text": [
      "[Parallel(n_jobs=1)]: Using backend SequentialBackend with 1 concurrent workers.\n"
     ]
    },
    {
     "name": "stdout",
     "output_type": "stream",
     "text": [
      "Random Forest - best parameters: {'rfc__max_features': 5, 'rfc__min_samples_leaf': 8, 'rfc__n_estimators': 10}\n",
      "Random Forest - score on training data = 0.8483\n",
      "Random Forest - score on validation data = 0.8151\n"
     ]
    },
    {
     "name": "stderr",
     "output_type": "stream",
     "text": [
      "[Parallel(n_jobs=1)]: Done 240 out of 240 | elapsed:   28.4s finished\n"
     ]
    }
   ],
   "source": [
    "X_train, X_valid, y_train, y_valid = train_test_split(X, y, test_size=0.4, stratify=y)\n",
    "\n",
    "ct_rfc1 = ColumnTransformer( transformers = \n",
    "                       [('tr_sex', OrdinalEncoder(), ['Sex']),\n",
    "                        ('tr_class', OneHotEncoder(categories='auto', drop=None), ['Pclass','Title']),                      \n",
    "                        ('tr_age', SimpleImputer(), ['Age', 'Fare']), \n",
    "                        ('tr_embarked', Pipeline([\n",
    "                            ('inputer', SimpleImputer(strategy='most_frequent')),\n",
    "                            ('onehot', OneHotEncoder(categories='auto', drop='first'))]), ['Embarked']),                           \n",
    "                        ('tr_keep', 'passthrough', ['FamilySize'])                          \n",
    "                       ],                       \n",
    "                      remainder='drop', sparse_threshold=0)\n",
    "\n",
    "model_rfc1 = Pipeline([\n",
    "    ('col', ct_rfc1),    \n",
    "#    ('scaler', StandardScaler()),    \n",
    "    ('rfc', RandomForestClassifier()),\n",
    "    ])\n",
    "\n",
    "param_rfc1 = {\n",
    "    'rfc__n_estimators': [10, 15, 20],\n",
    "    'rfc__max_features': [4, 5, 6, 7],\n",
    "    'rfc__min_samples_leaf': [5, 6, 7, 8],\n",
    "    }\n",
    "\n",
    "grid_rfc1 = GridSearchCV(model_rfc1, param_rfc1, cv=5, iid=False, verbose=1)\n",
    "grid_rfc1.fit(X_train, y_train['Survived']);\n",
    "\n",
    "print('Random Forest - best parameters: {}'.format(grid_rfc1.best_params_))\n",
    "print('Random Forest - score on training data = {:.4f}'.format(grid_rfc1.best_score_))\n",
    "rfc1_test_score = grid_rfc1.score(X_valid, y_valid)\n",
    "print('Random Forest - score on validation data = {:.4f}'.format(rfc1_test_score))"
   ]
  },
  {
   "cell_type": "markdown",
   "metadata": {},
   "source": [
    "## Naive Bayes binomial\n",
    "We binarize the variable *Age* and include this threshold in the parameter grid to optimize hyperparameters. Based on the information obtained in the EDA phase, we search the optimal value of the threshold in the 6 to 10 years range."
   ]
  },
  {
   "cell_type": "code",
   "execution_count": 15,
   "metadata": {},
   "outputs": [
    {
     "name": "stdout",
     "output_type": "stream",
     "text": [
      "Fitting 5 folds for each of 45 candidates, totalling 225 fits\n"
     ]
    },
    {
     "name": "stderr",
     "output_type": "stream",
     "text": [
      "[Parallel(n_jobs=1)]: Using backend SequentialBackend with 1 concurrent workers.\n"
     ]
    },
    {
     "name": "stdout",
     "output_type": "stream",
     "text": [
      "Naive Bayes - best parameters: {'col__tr_age__bin__threshold': 10, 'nb__alpha': 0.015625}\n",
      "Naive Bayes - score on training data = 0.8147\n",
      "Naive Bayes - score on validation data = 0.7871\n"
     ]
    },
    {
     "name": "stderr",
     "output_type": "stream",
     "text": [
      "[Parallel(n_jobs=1)]: Done 225 out of 225 | elapsed:   23.3s finished\n"
     ]
    }
   ],
   "source": [
    "X_train, X_valid, y_train, y_valid = train_test_split(X, y, test_size=0.4, stratify=y)\n",
    "\n",
    "ct_nb1 = ColumnTransformer( transformers = \n",
    "                       [('tr_sex', OrdinalEncoder(), ['Sex']),\n",
    "                        ('tr_class', OneHotEncoder(categories='auto', drop=None), ['Pclass','Title']),                      \n",
    "                        ('tr_age', Pipeline([\n",
    "                            ('inputer', SimpleImputer()), \n",
    "                            ('bin', Binarizer(threshold=12))]), ['Age']), \n",
    "                        ('tr_embarked', Pipeline([\n",
    "                            ('inputer', SimpleImputer(strategy='most_frequent')),\n",
    "                            ('onehot', OneHotEncoder(categories='auto', drop='first'))]), ['Embarked']),  \n",
    "                        ('tr_name', OneHotEncoder(categories='auto', drop=None, handle_unknown='ignore'), ['FamilyName']),                          \n",
    "                       ],                       \n",
    "                      remainder='drop', sparse_threshold=0)\n",
    "\n",
    "model_nb1 = Pipeline([\n",
    "    ('col', ct_nb1),    \n",
    "#    ('scaler', StandardScaler()),    \n",
    "    ('nb', BernoulliNB()),\n",
    "    ])\n",
    "\n",
    "param_nb1 = {\n",
    "    'col__tr_age__bin__threshold': [6, 7, 8, 9, 10],\n",
    "    'nb__alpha': 2.0**np.arange(-8, +1),\n",
    "    }\n",
    "\n",
    "grid_nb1 = GridSearchCV(model_nb1, param_nb1, cv=5, iid=False, verbose=1)\n",
    "grid_nb1.fit(X_train, y_train['Survived']);\n",
    "\n",
    "print('Naive Bayes - best parameters: {}'.format(grid_nb1.best_params_))\n",
    "print('Naive Bayes - score on training data = {:.4f}'.format(grid_nb1.best_score_))\n",
    "nb1_test_score = grid_nb1.score(X_valid, y_valid)\n",
    "print('Naive Bayes - score on validation data = {:.4f}'.format(nb1_test_score))"
   ]
  },
  {
   "cell_type": "markdown",
   "metadata": {},
   "source": [
    "### Ensemble "
   ]
  },
  {
   "cell_type": "code",
   "execution_count": 16,
   "metadata": {},
   "outputs": [
    {
     "name": "stdout",
     "output_type": "stream",
     "text": [
      "0.8319327731092437\n"
     ]
    }
   ],
   "source": [
    "X_train, X_valid, y_train, y_valid = train_test_split(X, y, test_size=0.4, stratify=y)\n",
    "\n",
    "estimators = [\n",
    "     ('lg1', grid_lr1.best_estimator_),\n",
    "     ('lg2', grid_lr2.best_estimator_),    \n",
    "     ('knn', grid_knn1.best_estimator_),\n",
    "     ('dtc', grid_dt1.best_estimator_),    \n",
    "     ('rfc', grid_rfc1.best_estimator_),   \n",
    "     ('nb', grid_nb1.best_estimator_),     \n",
    "     ]\n",
    "weights = [lr1_test_score, lr2_test_score,  knn1_test_score, dt1_test_score, rfc1_test_score, nb1_test_score]\n",
    "\n",
    "clf = VotingClassifier(estimators=estimators, voting='soft', weights=weights)\n",
    "clf.fit(X_train, y_train['Survived'])\n",
    "print(clf.score(X_valid, y_valid))"
   ]
  },
  {
   "cell_type": "markdown",
   "metadata": {},
   "source": [
    "# Submission\n",
    "We retrain the ensemble estimator on the full training dataset, before predicting labels of the submission dataset.  "
   ]
  },
  {
   "cell_type": "code",
   "execution_count": 17,
   "metadata": {},
   "outputs": [],
   "source": [
    "# read and preprocess test data\n",
    "X_submission = pd.read_csv('./input/test.csv', index_col = 'PassengerId')\n",
    "X_submission = prepare_data(X_submission)  \n",
    "\n",
    "# fit on full training set\n",
    "clf.fit(X, y['Survived'])\n",
    "y_pred = clf.predict(X_submission)\n",
    "X_submission['Survived'] = y_pred\n",
    "\n",
    "X_submission.to_csv('./output/result.csv', \n",
    "                columns=['Survived'],\n",
    "                header=True,\n",
    "                index=True)\n"
   ]
  }
 ],
 "metadata": {
  "kernelspec": {
   "display_name": "Python 3",
   "language": "python",
   "name": "python3"
  },
  "language_info": {
   "codemirror_mode": {
    "name": "ipython",
    "version": 3
   },
   "file_extension": ".py",
   "mimetype": "text/x-python",
   "name": "python",
   "nbconvert_exporter": "python",
   "pygments_lexer": "ipython3",
   "version": "3.6.9"
  }
 },
 "nbformat": 4,
 "nbformat_minor": 4
}
