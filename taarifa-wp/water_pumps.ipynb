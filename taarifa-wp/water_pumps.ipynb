{
 "cells": [
  {
   "cell_type": "markdown",
   "metadata": {},
   "source": [
    "# Predicting the functional status of public water pumps in Tanzania"
   ]
  },
  {
   "cell_type": "code",
   "execution_count": 1,
   "metadata": {},
   "outputs": [],
   "source": [
    "# to print all outputs in a cell instead of just the last one \n",
    "from IPython.core.interactiveshell import InteractiveShell  \n",
    "InteractiveShell.ast_node_interactivity = 'all'  # 'last_expr' to revert to default behaviour \n",
    "\n",
    "# import\n",
    "import numpy as np\n",
    "import pandas as pd\n",
    "\n",
    "# visualisation\n",
    "import matplotlib.pyplot as plt\n",
    "#set figure size\n",
    "plt.rcParams['figure.figsize'] = 15, 6\n",
    "import seaborn as sns\n",
    "sns.set_style('whitegrid')   \n",
    "\n",
    "# to build specific estimators\n",
    "from sklearn.base import BaseEstimator, TransformerMixin\n",
    "from sklearn.preprocessing import Imputer, StandardScaler\n",
    "#from sklearn.pipeline import Pipeline \n",
    "\n",
    "from sklearn.model_selection import train_test_split #, GridSearchCV, PredefinedSplit\n",
    "\n",
    "from sklearn.neighbors import KNeighborsClassifier\n",
    "from sklearn.tree import DecisionTreeClassifier \n",
    "#from sklearn.metrics import f1_score\n",
    "\n",
    "# to display all columns of dataframe \n",
    "pd.set_option('display.max_columns', 50)"
   ]
  },
  {
   "cell_type": "code",
   "execution_count": 2,
   "metadata": {},
   "outputs": [],
   "source": [
    "# read data files\n",
    "train_predictors = pd.read_csv('./input/training_X.csv')\n",
    "train_target = pd.read_csv('./input/training_y.csv')\n",
    "# create dataset with both label and independent variables\n",
    "train_set = pd.concat([train_target[['status_group']], train_predictors], axis=1, sort=False)"
   ]
  },
  {
   "cell_type": "markdown",
   "metadata": {},
   "source": [
    "## EDA\n",
    "59400 observations x  40 features"
   ]
  },
  {
   "cell_type": "code",
   "execution_count": 3,
   "metadata": {},
   "outputs": [
    {
     "name": "stdout",
     "output_type": "stream",
     "text": [
      "Dimensions of training set = 59400 observations x  40 features\n"
     ]
    },
    {
     "data": {
      "text/html": [
       "<div>\n",
       "<style scoped>\n",
       "    .dataframe tbody tr th:only-of-type {\n",
       "        vertical-align: middle;\n",
       "    }\n",
       "\n",
       "    .dataframe tbody tr th {\n",
       "        vertical-align: top;\n",
       "    }\n",
       "\n",
       "    .dataframe thead th {\n",
       "        text-align: right;\n",
       "    }\n",
       "</style>\n",
       "<table border=\"1\" class=\"dataframe\">\n",
       "  <thead>\n",
       "    <tr style=\"text-align: right;\">\n",
       "      <th></th>\n",
       "      <th>status_group</th>\n",
       "      <th>id</th>\n",
       "      <th>amount_tsh</th>\n",
       "      <th>date_recorded</th>\n",
       "      <th>funder</th>\n",
       "      <th>gps_height</th>\n",
       "      <th>installer</th>\n",
       "      <th>longitude</th>\n",
       "      <th>latitude</th>\n",
       "      <th>wpt_name</th>\n",
       "      <th>num_private</th>\n",
       "      <th>basin</th>\n",
       "      <th>subvillage</th>\n",
       "      <th>region</th>\n",
       "      <th>region_code</th>\n",
       "      <th>district_code</th>\n",
       "      <th>lga</th>\n",
       "      <th>ward</th>\n",
       "      <th>population</th>\n",
       "      <th>public_meeting</th>\n",
       "      <th>recorded_by</th>\n",
       "      <th>scheme_management</th>\n",
       "      <th>scheme_name</th>\n",
       "      <th>permit</th>\n",
       "      <th>construction_year</th>\n",
       "      <th>extraction_type</th>\n",
       "      <th>extraction_type_group</th>\n",
       "      <th>extraction_type_class</th>\n",
       "      <th>management</th>\n",
       "      <th>management_group</th>\n",
       "      <th>payment</th>\n",
       "      <th>payment_type</th>\n",
       "      <th>water_quality</th>\n",
       "      <th>quality_group</th>\n",
       "      <th>quantity</th>\n",
       "      <th>quantity_group</th>\n",
       "      <th>source</th>\n",
       "      <th>source_type</th>\n",
       "      <th>source_class</th>\n",
       "      <th>waterpoint_type</th>\n",
       "      <th>waterpoint_type_group</th>\n",
       "    </tr>\n",
       "  </thead>\n",
       "  <tbody>\n",
       "    <tr>\n",
       "      <th>18091</th>\n",
       "      <td>functional</td>\n",
       "      <td>33436</td>\n",
       "      <td>0.0</td>\n",
       "      <td>2013-02-03</td>\n",
       "      <td>Rotary Club</td>\n",
       "      <td>1122</td>\n",
       "      <td>Rotary club</td>\n",
       "      <td>36.896394</td>\n",
       "      <td>-3.394640</td>\n",
       "      <td>Chakufaa Primary School</td>\n",
       "      <td>0</td>\n",
       "      <td>Pangani</td>\n",
       "      <td>Tanesco</td>\n",
       "      <td>Arusha</td>\n",
       "      <td>2</td>\n",
       "      <td>7</td>\n",
       "      <td>Meru</td>\n",
       "      <td>Maji ya Chai</td>\n",
       "      <td>350</td>\n",
       "      <td>True</td>\n",
       "      <td>GeoData Consultants Ltd</td>\n",
       "      <td>WUA</td>\n",
       "      <td>NaN</td>\n",
       "      <td>False</td>\n",
       "      <td>2009</td>\n",
       "      <td>gravity</td>\n",
       "      <td>gravity</td>\n",
       "      <td>gravity</td>\n",
       "      <td>wua</td>\n",
       "      <td>user-group</td>\n",
       "      <td>unknown</td>\n",
       "      <td>unknown</td>\n",
       "      <td>soft</td>\n",
       "      <td>good</td>\n",
       "      <td>insufficient</td>\n",
       "      <td>insufficient</td>\n",
       "      <td>rainwater harvesting</td>\n",
       "      <td>rainwater harvesting</td>\n",
       "      <td>surface</td>\n",
       "      <td>communal standpipe</td>\n",
       "      <td>communal standpipe</td>\n",
       "    </tr>\n",
       "    <tr>\n",
       "      <th>58052</th>\n",
       "      <td>functional</td>\n",
       "      <td>23393</td>\n",
       "      <td>1000.0</td>\n",
       "      <td>2011-02-26</td>\n",
       "      <td>No</td>\n",
       "      <td>473</td>\n",
       "      <td>No</td>\n",
       "      <td>37.059972</td>\n",
       "      <td>-6.770578</td>\n",
       "      <td>Kwa Mama Keni</td>\n",
       "      <td>0</td>\n",
       "      <td>Wami / Ruvu</td>\n",
       "      <td>Bondeni A</td>\n",
       "      <td>Morogoro</td>\n",
       "      <td>5</td>\n",
       "      <td>1</td>\n",
       "      <td>Kilosa</td>\n",
       "      <td>Chanzuru</td>\n",
       "      <td>350</td>\n",
       "      <td>True</td>\n",
       "      <td>GeoData Consultants Ltd</td>\n",
       "      <td>VWC</td>\n",
       "      <td>NaN</td>\n",
       "      <td>True</td>\n",
       "      <td>1979</td>\n",
       "      <td>swn 80</td>\n",
       "      <td>swn 80</td>\n",
       "      <td>handpump</td>\n",
       "      <td>vwc</td>\n",
       "      <td>user-group</td>\n",
       "      <td>pay when scheme fails</td>\n",
       "      <td>on failure</td>\n",
       "      <td>soft</td>\n",
       "      <td>good</td>\n",
       "      <td>insufficient</td>\n",
       "      <td>insufficient</td>\n",
       "      <td>shallow well</td>\n",
       "      <td>shallow well</td>\n",
       "      <td>groundwater</td>\n",
       "      <td>hand pump</td>\n",
       "      <td>hand pump</td>\n",
       "    </tr>\n",
       "    <tr>\n",
       "      <th>15317</th>\n",
       "      <td>functional</td>\n",
       "      <td>15244</td>\n",
       "      <td>200.0</td>\n",
       "      <td>2011-02-18</td>\n",
       "      <td>Government Of Tanzania</td>\n",
       "      <td>2255</td>\n",
       "      <td>Commu</td>\n",
       "      <td>34.071823</td>\n",
       "      <td>-9.233687</td>\n",
       "      <td>none</td>\n",
       "      <td>0</td>\n",
       "      <td>Lake Nyasa</td>\n",
       "      <td>Mbete</td>\n",
       "      <td>Iringa</td>\n",
       "      <td>11</td>\n",
       "      <td>3</td>\n",
       "      <td>Makete</td>\n",
       "      <td>Iwawa</td>\n",
       "      <td>0</td>\n",
       "      <td>True</td>\n",
       "      <td>GeoData Consultants Ltd</td>\n",
       "      <td>VWC</td>\n",
       "      <td>Luvulu</td>\n",
       "      <td>False</td>\n",
       "      <td>2006</td>\n",
       "      <td>gravity</td>\n",
       "      <td>gravity</td>\n",
       "      <td>gravity</td>\n",
       "      <td>vwc</td>\n",
       "      <td>user-group</td>\n",
       "      <td>pay monthly</td>\n",
       "      <td>monthly</td>\n",
       "      <td>soft</td>\n",
       "      <td>good</td>\n",
       "      <td>enough</td>\n",
       "      <td>enough</td>\n",
       "      <td>spring</td>\n",
       "      <td>spring</td>\n",
       "      <td>groundwater</td>\n",
       "      <td>communal standpipe</td>\n",
       "      <td>communal standpipe</td>\n",
       "    </tr>\n",
       "  </tbody>\n",
       "</table>\n",
       "</div>"
      ],
      "text/plain": [
       "      status_group     id  amount_tsh date_recorded                  funder  \\\n",
       "18091   functional  33436         0.0    2013-02-03             Rotary Club   \n",
       "58052   functional  23393      1000.0    2011-02-26                      No   \n",
       "15317   functional  15244       200.0    2011-02-18  Government Of Tanzania   \n",
       "\n",
       "       gps_height    installer  longitude  latitude                 wpt_name  \\\n",
       "18091        1122  Rotary club  36.896394 -3.394640  Chakufaa Primary School   \n",
       "58052         473           No  37.059972 -6.770578            Kwa Mama Keni   \n",
       "15317        2255        Commu  34.071823 -9.233687                     none   \n",
       "\n",
       "       num_private        basin subvillage    region  region_code  \\\n",
       "18091            0      Pangani    Tanesco    Arusha            2   \n",
       "58052            0  Wami / Ruvu  Bondeni A  Morogoro            5   \n",
       "15317            0   Lake Nyasa      Mbete    Iringa           11   \n",
       "\n",
       "       district_code     lga          ward  population public_meeting  \\\n",
       "18091              7    Meru  Maji ya Chai         350           True   \n",
       "58052              1  Kilosa      Chanzuru         350           True   \n",
       "15317              3  Makete         Iwawa           0           True   \n",
       "\n",
       "                   recorded_by scheme_management scheme_name permit  \\\n",
       "18091  GeoData Consultants Ltd               WUA         NaN  False   \n",
       "58052  GeoData Consultants Ltd               VWC         NaN   True   \n",
       "15317  GeoData Consultants Ltd               VWC      Luvulu  False   \n",
       "\n",
       "       construction_year extraction_type extraction_type_group  \\\n",
       "18091               2009         gravity               gravity   \n",
       "58052               1979          swn 80                swn 80   \n",
       "15317               2006         gravity               gravity   \n",
       "\n",
       "      extraction_type_class management management_group  \\\n",
       "18091               gravity        wua       user-group   \n",
       "58052              handpump        vwc       user-group   \n",
       "15317               gravity        vwc       user-group   \n",
       "\n",
       "                     payment payment_type water_quality quality_group  \\\n",
       "18091                unknown      unknown          soft          good   \n",
       "58052  pay when scheme fails   on failure          soft          good   \n",
       "15317            pay monthly      monthly          soft          good   \n",
       "\n",
       "           quantity quantity_group                source  \\\n",
       "18091  insufficient   insufficient  rainwater harvesting   \n",
       "58052  insufficient   insufficient          shallow well   \n",
       "15317        enough         enough                spring   \n",
       "\n",
       "                source_type source_class     waterpoint_type  \\\n",
       "18091  rainwater harvesting      surface  communal standpipe   \n",
       "58052          shallow well  groundwater           hand pump   \n",
       "15317                spring  groundwater  communal standpipe   \n",
       "\n",
       "      waterpoint_type_group  \n",
       "18091    communal standpipe  \n",
       "58052             hand pump  \n",
       "15317    communal standpipe  "
      ]
     },
     "execution_count": 3,
     "metadata": {},
     "output_type": "execute_result"
    }
   ],
   "source": [
    "print('Dimensions of training set = {:d} observations x  {:d} features'.format(train_predictors.shape[0], train_predictors.shape[1]))\n",
    "train_set.sample(3)"
   ]
  },
  {
   "cell_type": "markdown",
   "metadata": {},
   "source": [
    "### Target"
   ]
  },
  {
   "cell_type": "code",
   "execution_count": 4,
   "metadata": {},
   "outputs": [
    {
     "data": {
      "text/plain": [
       "functional                 0.543081\n",
       "non functional             0.384242\n",
       "functional needs repair    0.072677\n",
       "Name: status_group, dtype: float64"
      ]
     },
     "execution_count": 4,
     "metadata": {},
     "output_type": "execute_result"
    }
   ],
   "source": [
    "train_set['status_group'].value_counts(normalize=True)"
   ]
  },
  {
   "cell_type": "markdown",
   "metadata": {},
   "source": [
    "### Independant variables\n",
    "\n",
    "Several categorical variables have missing values: funder, installer, subvillage, public meeting, scheme_management and scheme_name, permit.  \n",
    "There is apparently no missing values for numerical variables.  \n",
    "The variables *id* (id of each pump) and *recorded_by* (only one distinct value) have no explicative value and can ignored.  \n",
    "The variables *wpt_name* (name of the waterpoint) and *subvillage* have a very high number of unique values. They can be ignored too. "
   ]
  },
  {
   "cell_type": "code",
   "execution_count": 5,
   "metadata": {},
   "outputs": [
    {
     "data": {
      "text/html": [
       "<div>\n",
       "<style scoped>\n",
       "    .dataframe tbody tr th:only-of-type {\n",
       "        vertical-align: middle;\n",
       "    }\n",
       "\n",
       "    .dataframe tbody tr th {\n",
       "        vertical-align: top;\n",
       "    }\n",
       "\n",
       "    .dataframe thead th {\n",
       "        text-align: right;\n",
       "    }\n",
       "</style>\n",
       "<table border=\"1\" class=\"dataframe\">\n",
       "  <thead>\n",
       "    <tr style=\"text-align: right;\">\n",
       "      <th></th>\n",
       "      <th>id</th>\n",
       "      <th>amount_tsh</th>\n",
       "      <th>date_recorded</th>\n",
       "      <th>funder</th>\n",
       "      <th>gps_height</th>\n",
       "      <th>installer</th>\n",
       "      <th>longitude</th>\n",
       "      <th>latitude</th>\n",
       "      <th>wpt_name</th>\n",
       "      <th>num_private</th>\n",
       "      <th>basin</th>\n",
       "      <th>subvillage</th>\n",
       "      <th>region</th>\n",
       "      <th>region_code</th>\n",
       "      <th>district_code</th>\n",
       "      <th>lga</th>\n",
       "      <th>ward</th>\n",
       "      <th>population</th>\n",
       "      <th>public_meeting</th>\n",
       "      <th>recorded_by</th>\n",
       "      <th>scheme_management</th>\n",
       "      <th>scheme_name</th>\n",
       "      <th>permit</th>\n",
       "      <th>construction_year</th>\n",
       "      <th>extraction_type</th>\n",
       "      <th>extraction_type_group</th>\n",
       "      <th>extraction_type_class</th>\n",
       "      <th>management</th>\n",
       "      <th>management_group</th>\n",
       "      <th>payment</th>\n",
       "      <th>payment_type</th>\n",
       "      <th>water_quality</th>\n",
       "      <th>quality_group</th>\n",
       "      <th>quantity</th>\n",
       "      <th>quantity_group</th>\n",
       "      <th>source</th>\n",
       "      <th>source_type</th>\n",
       "      <th>source_class</th>\n",
       "      <th>waterpoint_type</th>\n",
       "      <th>waterpoint_type_group</th>\n",
       "    </tr>\n",
       "  </thead>\n",
       "  <tbody>\n",
       "    <tr>\n",
       "      <th>Dtype</th>\n",
       "      <td>int64</td>\n",
       "      <td>float64</td>\n",
       "      <td>object</td>\n",
       "      <td>object</td>\n",
       "      <td>int64</td>\n",
       "      <td>object</td>\n",
       "      <td>float64</td>\n",
       "      <td>float64</td>\n",
       "      <td>object</td>\n",
       "      <td>int64</td>\n",
       "      <td>object</td>\n",
       "      <td>object</td>\n",
       "      <td>object</td>\n",
       "      <td>int64</td>\n",
       "      <td>int64</td>\n",
       "      <td>object</td>\n",
       "      <td>object</td>\n",
       "      <td>int64</td>\n",
       "      <td>object</td>\n",
       "      <td>object</td>\n",
       "      <td>object</td>\n",
       "      <td>object</td>\n",
       "      <td>object</td>\n",
       "      <td>int64</td>\n",
       "      <td>object</td>\n",
       "      <td>object</td>\n",
       "      <td>object</td>\n",
       "      <td>object</td>\n",
       "      <td>object</td>\n",
       "      <td>object</td>\n",
       "      <td>object</td>\n",
       "      <td>object</td>\n",
       "      <td>object</td>\n",
       "      <td>object</td>\n",
       "      <td>object</td>\n",
       "      <td>object</td>\n",
       "      <td>object</td>\n",
       "      <td>object</td>\n",
       "      <td>object</td>\n",
       "      <td>object</td>\n",
       "    </tr>\n",
       "    <tr>\n",
       "      <th>NbrNullValues</th>\n",
       "      <td>0</td>\n",
       "      <td>0</td>\n",
       "      <td>0</td>\n",
       "      <td>3635</td>\n",
       "      <td>0</td>\n",
       "      <td>3655</td>\n",
       "      <td>0</td>\n",
       "      <td>0</td>\n",
       "      <td>0</td>\n",
       "      <td>0</td>\n",
       "      <td>0</td>\n",
       "      <td>371</td>\n",
       "      <td>0</td>\n",
       "      <td>0</td>\n",
       "      <td>0</td>\n",
       "      <td>0</td>\n",
       "      <td>0</td>\n",
       "      <td>0</td>\n",
       "      <td>3334</td>\n",
       "      <td>0</td>\n",
       "      <td>3877</td>\n",
       "      <td>28166</td>\n",
       "      <td>3056</td>\n",
       "      <td>0</td>\n",
       "      <td>0</td>\n",
       "      <td>0</td>\n",
       "      <td>0</td>\n",
       "      <td>0</td>\n",
       "      <td>0</td>\n",
       "      <td>0</td>\n",
       "      <td>0</td>\n",
       "      <td>0</td>\n",
       "      <td>0</td>\n",
       "      <td>0</td>\n",
       "      <td>0</td>\n",
       "      <td>0</td>\n",
       "      <td>0</td>\n",
       "      <td>0</td>\n",
       "      <td>0</td>\n",
       "      <td>0</td>\n",
       "    </tr>\n",
       "    <tr>\n",
       "      <th>NbrDistinctVal</th>\n",
       "      <td>59400</td>\n",
       "      <td>98</td>\n",
       "      <td>356</td>\n",
       "      <td>1897</td>\n",
       "      <td>2428</td>\n",
       "      <td>2145</td>\n",
       "      <td>57516</td>\n",
       "      <td>57517</td>\n",
       "      <td>37400</td>\n",
       "      <td>65</td>\n",
       "      <td>9</td>\n",
       "      <td>19287</td>\n",
       "      <td>21</td>\n",
       "      <td>27</td>\n",
       "      <td>20</td>\n",
       "      <td>125</td>\n",
       "      <td>2092</td>\n",
       "      <td>1049</td>\n",
       "      <td>2</td>\n",
       "      <td>1</td>\n",
       "      <td>12</td>\n",
       "      <td>2696</td>\n",
       "      <td>2</td>\n",
       "      <td>55</td>\n",
       "      <td>18</td>\n",
       "      <td>13</td>\n",
       "      <td>7</td>\n",
       "      <td>12</td>\n",
       "      <td>5</td>\n",
       "      <td>7</td>\n",
       "      <td>7</td>\n",
       "      <td>8</td>\n",
       "      <td>6</td>\n",
       "      <td>5</td>\n",
       "      <td>5</td>\n",
       "      <td>10</td>\n",
       "      <td>7</td>\n",
       "      <td>3</td>\n",
       "      <td>7</td>\n",
       "      <td>6</td>\n",
       "    </tr>\n",
       "  </tbody>\n",
       "</table>\n",
       "</div>"
      ],
      "text/plain": [
       "                   id amount_tsh date_recorded  funder gps_height installer  \\\n",
       "Dtype           int64    float64        object  object      int64    object   \n",
       "NbrNullValues       0          0             0    3635          0      3655   \n",
       "NbrDistinctVal  59400         98           356    1897       2428      2145   \n",
       "\n",
       "               longitude latitude wpt_name num_private   basin subvillage  \\\n",
       "Dtype            float64  float64   object       int64  object     object   \n",
       "NbrNullValues          0        0        0           0       0        371   \n",
       "NbrDistinctVal     57516    57517    37400          65       9      19287   \n",
       "\n",
       "                region region_code district_code     lga    ward population  \\\n",
       "Dtype           object       int64         int64  object  object      int64   \n",
       "NbrNullValues        0           0             0       0       0          0   \n",
       "NbrDistinctVal      21          27            20     125    2092       1049   \n",
       "\n",
       "               public_meeting recorded_by scheme_management scheme_name  \\\n",
       "Dtype                  object      object            object      object   \n",
       "NbrNullValues            3334           0              3877       28166   \n",
       "NbrDistinctVal              2           1                12        2696   \n",
       "\n",
       "                permit construction_year extraction_type  \\\n",
       "Dtype           object             int64          object   \n",
       "NbrNullValues     3056                 0               0   \n",
       "NbrDistinctVal       2                55              18   \n",
       "\n",
       "               extraction_type_group extraction_type_class management  \\\n",
       "Dtype                         object                object     object   \n",
       "NbrNullValues                      0                     0          0   \n",
       "NbrDistinctVal                    13                     7         12   \n",
       "\n",
       "               management_group payment payment_type water_quality  \\\n",
       "Dtype                    object  object       object        object   \n",
       "NbrNullValues                 0       0            0             0   \n",
       "NbrDistinctVal                5       7            7             8   \n",
       "\n",
       "               quality_group quantity quantity_group  source source_type  \\\n",
       "Dtype                 object   object         object  object      object   \n",
       "NbrNullValues              0        0              0       0           0   \n",
       "NbrDistinctVal             6        5              5      10           7   \n",
       "\n",
       "               source_class waterpoint_type waterpoint_type_group  \n",
       "Dtype                object          object                object  \n",
       "NbrNullValues             0               0                     0  \n",
       "NbrDistinctVal            3               7                     6  "
      ]
     },
     "metadata": {},
     "output_type": "display_data"
    }
   ],
   "source": [
    "summary = pd.DataFrame(np.array([train_predictors.dtypes, \n",
    "                                 train_predictors.isnull().sum(), \n",
    "                                 train_predictors.nunique()]),\n",
    "                       index=['Dtype', 'NbrNullValues', 'NbrDistinctVal'],                                 \n",
    "                       columns=np.array(list(train_predictors)))\n",
    "display(summary)\n",
    "\n",
    "col_to_drop = ['id', 'recorded_by', 'wpt_name', 'subvillage']"
   ]
  },
  {
   "cell_type": "markdown",
   "metadata": {},
   "source": [
    "### Numerical variables\n",
    "\n",
    "Several numerical variables preset a high number of 0 values, which probably corresponds to missing value."
   ]
  },
  {
   "cell_type": "code",
   "execution_count": 6,
   "metadata": {},
   "outputs": [
    {
     "data": {
      "text/html": [
       "<div>\n",
       "<style scoped>\n",
       "    .dataframe tbody tr th:only-of-type {\n",
       "        vertical-align: middle;\n",
       "    }\n",
       "\n",
       "    .dataframe tbody tr th {\n",
       "        vertical-align: top;\n",
       "    }\n",
       "\n",
       "    .dataframe thead th {\n",
       "        text-align: right;\n",
       "    }\n",
       "</style>\n",
       "<table border=\"1\" class=\"dataframe\">\n",
       "  <thead>\n",
       "    <tr style=\"text-align: right;\">\n",
       "      <th></th>\n",
       "      <th>amount_tsh</th>\n",
       "      <th>gps_height</th>\n",
       "      <th>longitude</th>\n",
       "      <th>latitude</th>\n",
       "      <th>num_private</th>\n",
       "      <th>region_code</th>\n",
       "      <th>district_code</th>\n",
       "      <th>population</th>\n",
       "      <th>construction_year</th>\n",
       "    </tr>\n",
       "  </thead>\n",
       "  <tbody>\n",
       "    <tr>\n",
       "      <th>count</th>\n",
       "      <td>59400.000000</td>\n",
       "      <td>59400.000000</td>\n",
       "      <td>59400.000000</td>\n",
       "      <td>5.940000e+04</td>\n",
       "      <td>59400.000000</td>\n",
       "      <td>59400.000000</td>\n",
       "      <td>59400.000000</td>\n",
       "      <td>59400.000000</td>\n",
       "      <td>59400.000000</td>\n",
       "    </tr>\n",
       "    <tr>\n",
       "      <th>mean</th>\n",
       "      <td>317.650385</td>\n",
       "      <td>668.297239</td>\n",
       "      <td>34.077427</td>\n",
       "      <td>-5.706033e+00</td>\n",
       "      <td>0.474141</td>\n",
       "      <td>15.297003</td>\n",
       "      <td>5.629747</td>\n",
       "      <td>179.909983</td>\n",
       "      <td>1300.652475</td>\n",
       "    </tr>\n",
       "    <tr>\n",
       "      <th>std</th>\n",
       "      <td>2997.574558</td>\n",
       "      <td>693.116350</td>\n",
       "      <td>6.567432</td>\n",
       "      <td>2.946019e+00</td>\n",
       "      <td>12.236230</td>\n",
       "      <td>17.587406</td>\n",
       "      <td>9.633649</td>\n",
       "      <td>471.482176</td>\n",
       "      <td>951.620547</td>\n",
       "    </tr>\n",
       "    <tr>\n",
       "      <th>min</th>\n",
       "      <td>0.000000</td>\n",
       "      <td>-90.000000</td>\n",
       "      <td>0.000000</td>\n",
       "      <td>-1.164944e+01</td>\n",
       "      <td>0.000000</td>\n",
       "      <td>1.000000</td>\n",
       "      <td>0.000000</td>\n",
       "      <td>0.000000</td>\n",
       "      <td>0.000000</td>\n",
       "    </tr>\n",
       "    <tr>\n",
       "      <th>25%</th>\n",
       "      <td>0.000000</td>\n",
       "      <td>0.000000</td>\n",
       "      <td>33.090347</td>\n",
       "      <td>-8.540621e+00</td>\n",
       "      <td>0.000000</td>\n",
       "      <td>5.000000</td>\n",
       "      <td>2.000000</td>\n",
       "      <td>0.000000</td>\n",
       "      <td>0.000000</td>\n",
       "    </tr>\n",
       "    <tr>\n",
       "      <th>50%</th>\n",
       "      <td>0.000000</td>\n",
       "      <td>369.000000</td>\n",
       "      <td>34.908743</td>\n",
       "      <td>-5.021597e+00</td>\n",
       "      <td>0.000000</td>\n",
       "      <td>12.000000</td>\n",
       "      <td>3.000000</td>\n",
       "      <td>25.000000</td>\n",
       "      <td>1986.000000</td>\n",
       "    </tr>\n",
       "    <tr>\n",
       "      <th>75%</th>\n",
       "      <td>20.000000</td>\n",
       "      <td>1319.250000</td>\n",
       "      <td>37.178387</td>\n",
       "      <td>-3.326156e+00</td>\n",
       "      <td>0.000000</td>\n",
       "      <td>17.000000</td>\n",
       "      <td>5.000000</td>\n",
       "      <td>215.000000</td>\n",
       "      <td>2004.000000</td>\n",
       "    </tr>\n",
       "    <tr>\n",
       "      <th>max</th>\n",
       "      <td>350000.000000</td>\n",
       "      <td>2770.000000</td>\n",
       "      <td>40.345193</td>\n",
       "      <td>-2.000000e-08</td>\n",
       "      <td>1776.000000</td>\n",
       "      <td>99.000000</td>\n",
       "      <td>80.000000</td>\n",
       "      <td>30500.000000</td>\n",
       "      <td>2013.000000</td>\n",
       "    </tr>\n",
       "  </tbody>\n",
       "</table>\n",
       "</div>"
      ],
      "text/plain": [
       "          amount_tsh    gps_height     longitude      latitude   num_private  \\\n",
       "count   59400.000000  59400.000000  59400.000000  5.940000e+04  59400.000000   \n",
       "mean      317.650385    668.297239     34.077427 -5.706033e+00      0.474141   \n",
       "std      2997.574558    693.116350      6.567432  2.946019e+00     12.236230   \n",
       "min         0.000000    -90.000000      0.000000 -1.164944e+01      0.000000   \n",
       "25%         0.000000      0.000000     33.090347 -8.540621e+00      0.000000   \n",
       "50%         0.000000    369.000000     34.908743 -5.021597e+00      0.000000   \n",
       "75%        20.000000   1319.250000     37.178387 -3.326156e+00      0.000000   \n",
       "max    350000.000000   2770.000000     40.345193 -2.000000e-08   1776.000000   \n",
       "\n",
       "        region_code  district_code    population  construction_year  \n",
       "count  59400.000000   59400.000000  59400.000000       59400.000000  \n",
       "mean      15.297003       5.629747    179.909983        1300.652475  \n",
       "std       17.587406       9.633649    471.482176         951.620547  \n",
       "min        1.000000       0.000000      0.000000           0.000000  \n",
       "25%        5.000000       2.000000      0.000000           0.000000  \n",
       "50%       12.000000       3.000000     25.000000        1986.000000  \n",
       "75%       17.000000       5.000000    215.000000        2004.000000  \n",
       "max       99.000000      80.000000  30500.000000        2013.000000  "
      ]
     },
     "execution_count": 6,
     "metadata": {},
     "output_type": "execute_result"
    }
   ],
   "source": [
    "# extract all numerical variables plus target\n",
    "train_num = train_predictors.select_dtypes(include=np.number)\n",
    "train_num = pd.concat([train_num, train_target], axis=1)\n",
    "train_num = train_num.drop(labels='id', axis=1)\n",
    "\n",
    "train_num.describe()"
   ]
  },
  {
   "cell_type": "code",
   "execution_count": 7,
   "metadata": {},
   "outputs": [],
   "source": [
    "# define here function to do some eda on numerical variables\n",
    "def eda_numerical_variable(col, transform='none'):\n",
    "    # create df and add column coding for 0 value\n",
    "    df = train_num[['status_group',col]].copy()\n",
    "    df['is_zero'] = (train_num[col] == 0)\n",
    "\n",
    "    # frequency of 0 value\n",
    "    print('NUMERICAL VARIABLE: ' + col)\n",
    "    print('percentage of 0 value = {:.2f}%'.format(df[df.is_zero == True].shape[0]/train_num.shape[0]*100))\n",
    "\n",
    "    # is distribution of label values different between variable group with 0 or non-0 value?\n",
    "    print('\\nDistribution of label values for predictor with NON-ZERO value')\n",
    "    display(df.loc[df.is_zero == False, 'status_group'].value_counts(normalize=True))\n",
    "    print('Distribution of label values for predictor with ZERO value')\n",
    "    display(df.loc[df.is_zero == True, 'status_group'].value_counts(normalize=True))\n",
    "    # similar result but as plot\n",
    "    sns.countplot(x='status_group',hue='is_zero', data=df);\n",
    "   \n",
    "    if transform == 'log':\n",
    "        df[col] = df[col].apply(lambda x: np.log(x))\n",
    "\n",
    "    sns.catplot(x='status_group', y=col, data=df[df.is_zero == False], kind='box');"
   ]
  },
  {
   "cell_type": "markdown",
   "metadata": {},
   "source": [
    "#### amount_tsh\n",
    "this is the total head of the pump.\n",
    "* high percentage of 0 (ie missing value)\n",
    "* distribution of target differs significantly between groups with valid value and with missing value. Information of whether value is missing or not should be included as new variable\n",
    "* distribution of valid values for different differs label  "
   ]
  },
  {
   "cell_type": "code",
   "execution_count": 8,
   "metadata": {},
   "outputs": [
    {
     "name": "stdout",
     "output_type": "stream",
     "text": [
      "NUMERICAL VARIABLE: amount_tsh\n",
      "percentage of 0 value = 70.10%\n",
      "\n",
      "Distribution of label values for predictor with NON-ZERO value\n"
     ]
    },
    {
     "data": {
      "text/plain": [
       "functional                 0.706773\n",
       "non functional             0.221778\n",
       "functional needs repair    0.071449\n",
       "Name: status_group, dtype: float64"
      ]
     },
     "metadata": {},
     "output_type": "display_data"
    },
    {
     "name": "stdout",
     "output_type": "stream",
     "text": [
      "Distribution of label values for predictor with ZERO value\n"
     ]
    },
    {
     "data": {
      "text/plain": [
       "functional                 0.473258\n",
       "non functional             0.453541\n",
       "functional needs repair    0.073201\n",
       "Name: status_group, dtype: float64"
      ]
     },
     "metadata": {},
     "output_type": "display_data"
    },
    {
     "data": {
      "image/png": "[encoded data removed]",
      "text/plain": [
       "<Figure size 432x288 with 1 Axes>"
      ]
     },
     "metadata": {
      "needs_background": "light"
     },
     "output_type": "display_data"
    },
    {
     "data": {
      "image/png": "[encoded data removed]",
      "text/plain": [
       "<Figure size 360x360 with 1 Axes>"
      ]
     },
     "metadata": {
      "needs_background": "light"
     },
     "output_type": "display_data"
    }
   ],
   "source": [
    "eda_numerical_variable('amount_tsh', 'log')"
   ]
  },
  {
   "cell_type": "markdown",
   "metadata": {},
   "source": [
    "#### gps_height\n",
    "This is the altitude of the well.  \n",
    "Label *functional needs repair* may be underrepresented for altitude below 750. "
   ]
  },
  {
   "cell_type": "code",
   "execution_count": 9,
   "metadata": {},
   "outputs": [
    {
     "name": "stdout",
     "output_type": "stream",
     "text": [
      "NUMERICAL VARIABLE: gps_height\n",
      "percentage of 0 value = 34.41%\n",
      "\n",
      "Distribution of label values for predictor with NON-ZERO value\n"
     ]
    },
    {
     "data": {
      "text/plain": [
       "functional                 0.559263\n",
       "non functional             0.375186\n",
       "functional needs repair    0.065551\n",
       "Name: status_group, dtype: float64"
      ]
     },
     "metadata": {},
     "output_type": "display_data"
    },
    {
     "name": "stdout",
     "output_type": "stream",
     "text": [
      "Distribution of label values for predictor with ZERO value\n"
     ]
    },
    {
     "data": {
      "text/plain": [
       "functional                 0.512232\n",
       "non functional             0.401507\n",
       "functional needs repair    0.086261\n",
       "Name: status_group, dtype: float64"
      ]
     },
     "metadata": {},
     "output_type": "display_data"
    },
    {
     "data": {
      "image/png": "[encoded data removed]",
      "text/plain": [
       "<Figure size 432x288 with 1 Axes>"
      ]
     },
     "metadata": {
      "needs_background": "light"
     },
     "output_type": "display_data"
    },
    {
     "data": {
      "image/png": "[encoded data removed]",
      "text/plain": [
       "<Figure size 360x360 with 1 Axes>"
      ]
     },
     "metadata": {
      "needs_background": "light"
     },
     "output_type": "display_data"
    }
   ],
   "source": [
    "eda_numerical_variable('gps_height')"
   ]
  },
  {
   "cell_type": "markdown",
   "metadata": {},
   "source": [
    "#### longitude\n",
    "Some missing value. Higher frequency of *functional needs repair* status for missing value. "
   ]
  },
  {
   "cell_type": "code",
   "execution_count": 10,
   "metadata": {},
   "outputs": [
    {
     "name": "stdout",
     "output_type": "stream",
     "text": [
      "NUMERICAL VARIABLE: longitude\n",
      "percentage of 0 value = 3.05%\n",
      "\n",
      "Distribution of label values for predictor with NON-ZERO value\n"
     ]
    },
    {
     "data": {
      "text/plain": [
       "functional                 0.545061\n",
       "non functional             0.386678\n",
       "functional needs repair    0.068261\n",
       "Name: status_group, dtype: float64"
      ]
     },
     "metadata": {},
     "output_type": "display_data"
    },
    {
     "name": "stdout",
     "output_type": "stream",
     "text": [
      "Distribution of label values for predictor with ZERO value\n"
     ]
    },
    {
     "data": {
      "text/plain": [
       "functional                 0.480132\n",
       "non functional             0.306843\n",
       "functional needs repair    0.213024\n",
       "Name: status_group, dtype: float64"
      ]
     },
     "metadata": {},
     "output_type": "display_data"
    },
    {
     "data": {
      "image/png": "[encoded data removed]",
      "text/plain": [
       "<Figure size 432x288 with 1 Axes>"
      ]
     },
     "metadata": {
      "needs_background": "light"
     },
     "output_type": "display_data"
    },
    {
     "data": {
      "image/png": "[encoded data removed]",
      "text/plain": [
       "<Figure size 360x360 with 1 Axes>"
      ]
     },
     "metadata": {
      "needs_background": "light"
     },
     "output_type": "display_data"
    }
   ],
   "source": [
    "eda_numerical_variable('longitude')\n",
    "col_to_drop.append('longitude')"
   ]
  },
  {
   "cell_type": "markdown",
   "metadata": {},
   "source": [
    "#### latitude\n",
    "no missing value and not obvious correlation with label. We will drop it."
   ]
  },
  {
   "cell_type": "code",
   "execution_count": 11,
   "metadata": {},
   "outputs": [
    {
     "name": "stdout",
     "output_type": "stream",
     "text": [
      "NUMERICAL VARIABLE: latitude\n",
      "percentage of 0 value = 0.00%\n",
      "\n",
      "Distribution of label values for predictor with NON-ZERO value\n"
     ]
    },
    {
     "data": {
      "text/plain": [
       "functional                 0.543081\n",
       "non functional             0.384242\n",
       "functional needs repair    0.072677\n",
       "Name: status_group, dtype: float64"
      ]
     },
     "metadata": {},
     "output_type": "display_data"
    },
    {
     "name": "stdout",
     "output_type": "stream",
     "text": [
      "Distribution of label values for predictor with ZERO value\n"
     ]
    },
    {
     "data": {
      "text/plain": [
       "Series([], Name: status_group, dtype: float64)"
      ]
     },
     "metadata": {},
     "output_type": "display_data"
    },
    {
     "data": {
      "image/png": "[encoded data removed]",
      "text/plain": [
       "<Figure size 432x288 with 1 Axes>"
      ]
     },
     "metadata": {
      "needs_background": "light"
     },
     "output_type": "display_data"
    },
    {
     "data": {
      "image/png": "[encoded data removed]",
      "text/plain": [
       "<Figure size 360x360 with 1 Axes>"
      ]
     },
     "metadata": {
      "needs_background": "light"
     },
     "output_type": "display_data"
    }
   ],
   "source": [
    "eda_numerical_variable('latitude')\n",
    "col_to_drop.append('latitude')"
   ]
  },
  {
   "cell_type": "markdown",
   "metadata": {},
   "source": [
    "#### num_private\n",
    "meaning unknown. Very high frequency of 0 value. Drop or treat as categorical."
   ]
  },
  {
   "cell_type": "code",
   "execution_count": 12,
   "metadata": {},
   "outputs": [
    {
     "name": "stdout",
     "output_type": "stream",
     "text": [
      "NUMERICAL VARIABLE: num_private\n",
      "percentage of 0 value = 98.73%\n",
      "\n",
      "Distribution of label values for predictor with NON-ZERO value\n"
     ]
    },
    {
     "data": {
      "text/plain": [
       "functional                 0.608983\n",
       "non functional             0.327609\n",
       "functional needs repair    0.063408\n",
       "Name: status_group, dtype: float64"
      ]
     },
     "metadata": {},
     "output_type": "display_data"
    },
    {
     "name": "stdout",
     "output_type": "stream",
     "text": [
      "Distribution of label values for predictor with ZERO value\n"
     ]
    },
    {
     "data": {
      "text/plain": [
       "functional                 0.542230\n",
       "non functional             0.384973\n",
       "functional needs repair    0.072796\n",
       "Name: status_group, dtype: float64"
      ]
     },
     "metadata": {},
     "output_type": "display_data"
    },
    {
     "data": {
      "image/png": "[encoded data removed]",
      "text/plain": [
       "<Figure size 432x288 with 1 Axes>"
      ]
     },
     "metadata": {
      "needs_background": "light"
     },
     "output_type": "display_data"
    },
    {
     "data": {
      "image/png": "[encoded data removed]",
      "text/plain": [
       "<Figure size 360x360 with 1 Axes>"
      ]
     },
     "metadata": {
      "needs_background": "light"
     },
     "output_type": "display_data"
    }
   ],
   "source": [
    "eda_numerical_variable('num_private', 'log')\n",
    "col_to_drop.append('num_private')"
   ]
  },
  {
   "cell_type": "markdown",
   "metadata": {},
   "source": [
    "#### region_code and district_code\n",
    "* region_code - Geographic location (coded)\n",
    "* district_code - Geographic location (coded)\n",
    "Numerical values but unordered. Process as categorical variables."
   ]
  },
  {
   "cell_type": "markdown",
   "metadata": {},
   "source": [
    "#### population\n",
    "no impact of missing/valid value  \n"
   ]
  },
  {
   "cell_type": "code",
   "execution_count": 13,
   "metadata": {},
   "outputs": [
    {
     "name": "stdout",
     "output_type": "stream",
     "text": [
      "NUMERICAL VARIABLE: population\n",
      "percentage of 0 value = 35.99%\n",
      "\n",
      "Distribution of label values for predictor with NON-ZERO value\n"
     ]
    },
    {
     "data": {
      "text/plain": [
       "functional                 0.551961\n",
       "non functional             0.381178\n",
       "functional needs repair    0.066861\n",
       "Name: status_group, dtype: float64"
      ]
     },
     "metadata": {},
     "output_type": "display_data"
    },
    {
     "name": "stdout",
     "output_type": "stream",
     "text": [
      "Distribution of label values for predictor with ZERO value\n"
     ]
    },
    {
     "data": {
      "text/plain": [
       "functional                 0.527291\n",
       "non functional             0.389692\n",
       "functional needs repair    0.083018\n",
       "Name: status_group, dtype: float64"
      ]
     },
     "metadata": {},
     "output_type": "display_data"
    },
    {
     "data": {
      "image/png": "[encoded data removed]",
      "text/plain": [
       "<Figure size 432x288 with 1 Axes>"
      ]
     },
     "metadata": {
      "needs_background": "light"
     },
     "output_type": "display_data"
    },
    {
     "data": {
      "image/png": "[encoded data removed]",
      "text/plain": [
       "<Figure size 360x360 with 1 Axes>"
      ]
     },
     "metadata": {
      "needs_background": "light"
     },
     "output_type": "display_data"
    }
   ],
   "source": [
    "eda_numerical_variable('population', 'log')"
   ]
  },
  {
   "cell_type": "markdown",
   "metadata": {},
   "source": [
    "#### construction_year\n",
    "no need of NAN indicator"
   ]
  },
  {
   "cell_type": "code",
   "execution_count": 14,
   "metadata": {},
   "outputs": [
    {
     "name": "stdout",
     "output_type": "stream",
     "text": [
      "NUMERICAL VARIABLE: construction_year\n",
      "percentage of 0 value = 34.86%\n",
      "\n",
      "Distribution of label values for predictor with NON-ZERO value\n"
     ]
    },
    {
     "data": {
      "text/plain": [
       "functional                 0.560957\n",
       "non functional             0.373704\n",
       "functional needs repair    0.065338\n",
       "Name: status_group, dtype: float64"
      ]
     },
     "metadata": {},
     "output_type": "display_data"
    },
    {
     "name": "stdout",
     "output_type": "stream",
     "text": [
      "Distribution of label values for predictor with ZERO value\n"
     ]
    },
    {
     "data": {
      "text/plain": [
       "functional                 0.509682\n",
       "non functional             0.403931\n",
       "functional needs repair    0.086388\n",
       "Name: status_group, dtype: float64"
      ]
     },
     "metadata": {},
     "output_type": "display_data"
    },
    {
     "data": {
      "image/png": "[encoded data removed]",
      "text/plain": [
       "<Figure size 432x288 with 1 Axes>"
      ]
     },
     "metadata": {
      "needs_background": "light"
     },
     "output_type": "display_data"
    },
    {
     "data": {
      "image/png": "[encoded data removed]",
      "text/plain": [
       "<Figure size 360x360 with 1 Axes>"
      ]
     },
     "metadata": {
      "needs_background": "light"
     },
     "output_type": "display_data"
    }
   ],
   "source": [
    "eda_numerical_variable('construction_year')"
   ]
  },
  {
   "cell_type": "markdown",
   "metadata": {},
   "source": [
    "#### Summary\n",
    "Plan for Feature Engineering of numerical variables:\n",
    "* drop variables 'longitude', 'latitude', 'num_private'\n",
    "* replace 0 with NaN for variables 'amount_tsh', 'gps_height', 'population', 'construction_year'\n",
    "* create missing indicator for variable 'amount_tsh'\n"
   ]
  },
  {
   "cell_type": "markdown",
   "metadata": {},
   "source": [
    "### Categorical variables"
   ]
  },
  {
   "cell_type": "code",
   "execution_count": 15,
   "metadata": {},
   "outputs": [
    {
     "data": {
      "text/html": [
       "<div>\n",
       "<style scoped>\n",
       "    .dataframe tbody tr th:only-of-type {\n",
       "        vertical-align: middle;\n",
       "    }\n",
       "\n",
       "    .dataframe tbody tr th {\n",
       "        vertical-align: top;\n",
       "    }\n",
       "\n",
       "    .dataframe thead th {\n",
       "        text-align: right;\n",
       "    }\n",
       "</style>\n",
       "<table border=\"1\" class=\"dataframe\">\n",
       "  <thead>\n",
       "    <tr style=\"text-align: right;\">\n",
       "      <th></th>\n",
       "      <th>date_recorded</th>\n",
       "      <th>funder</th>\n",
       "      <th>installer</th>\n",
       "      <th>basin</th>\n",
       "      <th>region</th>\n",
       "      <th>region_code</th>\n",
       "      <th>district_code</th>\n",
       "      <th>lga</th>\n",
       "      <th>ward</th>\n",
       "      <th>public_meeting</th>\n",
       "      <th>scheme_management</th>\n",
       "      <th>scheme_name</th>\n",
       "      <th>permit</th>\n",
       "      <th>extraction_type</th>\n",
       "      <th>extraction_type_group</th>\n",
       "      <th>extraction_type_class</th>\n",
       "      <th>management</th>\n",
       "      <th>management_group</th>\n",
       "      <th>payment</th>\n",
       "      <th>payment_type</th>\n",
       "      <th>water_quality</th>\n",
       "      <th>quality_group</th>\n",
       "      <th>quantity</th>\n",
       "      <th>quantity_group</th>\n",
       "      <th>source</th>\n",
       "      <th>source_type</th>\n",
       "      <th>source_class</th>\n",
       "      <th>waterpoint_type</th>\n",
       "      <th>waterpoint_type_group</th>\n",
       "      <th>status_group</th>\n",
       "    </tr>\n",
       "  </thead>\n",
       "  <tbody>\n",
       "    <tr>\n",
       "      <th>0</th>\n",
       "      <td>2011-03-14</td>\n",
       "      <td>Roman</td>\n",
       "      <td>Roman</td>\n",
       "      <td>Lake Nyasa</td>\n",
       "      <td>Iringa</td>\n",
       "      <td>11</td>\n",
       "      <td>5</td>\n",
       "      <td>Ludewa</td>\n",
       "      <td>Mundindi</td>\n",
       "      <td>True</td>\n",
       "      <td>VWC</td>\n",
       "      <td>Roman</td>\n",
       "      <td>False</td>\n",
       "      <td>gravity</td>\n",
       "      <td>gravity</td>\n",
       "      <td>gravity</td>\n",
       "      <td>vwc</td>\n",
       "      <td>user-group</td>\n",
       "      <td>pay annually</td>\n",
       "      <td>annually</td>\n",
       "      <td>soft</td>\n",
       "      <td>good</td>\n",
       "      <td>enough</td>\n",
       "      <td>enough</td>\n",
       "      <td>spring</td>\n",
       "      <td>spring</td>\n",
       "      <td>groundwater</td>\n",
       "      <td>communal standpipe</td>\n",
       "      <td>communal standpipe</td>\n",
       "      <td>functional</td>\n",
       "    </tr>\n",
       "    <tr>\n",
       "      <th>1</th>\n",
       "      <td>2013-03-06</td>\n",
       "      <td>Grumeti</td>\n",
       "      <td>GRUMETI</td>\n",
       "      <td>Lake Victoria</td>\n",
       "      <td>Mara</td>\n",
       "      <td>20</td>\n",
       "      <td>2</td>\n",
       "      <td>Serengeti</td>\n",
       "      <td>Natta</td>\n",
       "      <td>NaN</td>\n",
       "      <td>Other</td>\n",
       "      <td>NaN</td>\n",
       "      <td>True</td>\n",
       "      <td>gravity</td>\n",
       "      <td>gravity</td>\n",
       "      <td>gravity</td>\n",
       "      <td>wug</td>\n",
       "      <td>user-group</td>\n",
       "      <td>never pay</td>\n",
       "      <td>never pay</td>\n",
       "      <td>soft</td>\n",
       "      <td>good</td>\n",
       "      <td>insufficient</td>\n",
       "      <td>insufficient</td>\n",
       "      <td>rainwater harvesting</td>\n",
       "      <td>rainwater harvesting</td>\n",
       "      <td>surface</td>\n",
       "      <td>communal standpipe</td>\n",
       "      <td>communal standpipe</td>\n",
       "      <td>functional</td>\n",
       "    </tr>\n",
       "    <tr>\n",
       "      <th>2</th>\n",
       "      <td>2013-02-25</td>\n",
       "      <td>Lottery Club</td>\n",
       "      <td>World vision</td>\n",
       "      <td>Pangani</td>\n",
       "      <td>Manyara</td>\n",
       "      <td>21</td>\n",
       "      <td>4</td>\n",
       "      <td>Simanjiro</td>\n",
       "      <td>Ngorika</td>\n",
       "      <td>True</td>\n",
       "      <td>VWC</td>\n",
       "      <td>Nyumba ya mungu pipe scheme</td>\n",
       "      <td>True</td>\n",
       "      <td>gravity</td>\n",
       "      <td>gravity</td>\n",
       "      <td>gravity</td>\n",
       "      <td>vwc</td>\n",
       "      <td>user-group</td>\n",
       "      <td>pay per bucket</td>\n",
       "      <td>per bucket</td>\n",
       "      <td>soft</td>\n",
       "      <td>good</td>\n",
       "      <td>enough</td>\n",
       "      <td>enough</td>\n",
       "      <td>dam</td>\n",
       "      <td>dam</td>\n",
       "      <td>surface</td>\n",
       "      <td>communal standpipe multiple</td>\n",
       "      <td>communal standpipe</td>\n",
       "      <td>functional</td>\n",
       "    </tr>\n",
       "    <tr>\n",
       "      <th>3</th>\n",
       "      <td>2013-01-28</td>\n",
       "      <td>Unicef</td>\n",
       "      <td>UNICEF</td>\n",
       "      <td>Ruvuma / Southern Coast</td>\n",
       "      <td>Mtwara</td>\n",
       "      <td>90</td>\n",
       "      <td>63</td>\n",
       "      <td>Nanyumbu</td>\n",
       "      <td>Nanyumbu</td>\n",
       "      <td>True</td>\n",
       "      <td>VWC</td>\n",
       "      <td>NaN</td>\n",
       "      <td>True</td>\n",
       "      <td>submersible</td>\n",
       "      <td>submersible</td>\n",
       "      <td>submersible</td>\n",
       "      <td>vwc</td>\n",
       "      <td>user-group</td>\n",
       "      <td>never pay</td>\n",
       "      <td>never pay</td>\n",
       "      <td>soft</td>\n",
       "      <td>good</td>\n",
       "      <td>dry</td>\n",
       "      <td>dry</td>\n",
       "      <td>machine dbh</td>\n",
       "      <td>borehole</td>\n",
       "      <td>groundwater</td>\n",
       "      <td>communal standpipe multiple</td>\n",
       "      <td>communal standpipe</td>\n",
       "      <td>non functional</td>\n",
       "    </tr>\n",
       "    <tr>\n",
       "      <th>4</th>\n",
       "      <td>2011-07-13</td>\n",
       "      <td>Action In A</td>\n",
       "      <td>Artisan</td>\n",
       "      <td>Lake Victoria</td>\n",
       "      <td>Kagera</td>\n",
       "      <td>18</td>\n",
       "      <td>1</td>\n",
       "      <td>Karagwe</td>\n",
       "      <td>Nyakasimbi</td>\n",
       "      <td>True</td>\n",
       "      <td>NaN</td>\n",
       "      <td>NaN</td>\n",
       "      <td>True</td>\n",
       "      <td>gravity</td>\n",
       "      <td>gravity</td>\n",
       "      <td>gravity</td>\n",
       "      <td>other</td>\n",
       "      <td>other</td>\n",
       "      <td>never pay</td>\n",
       "      <td>never pay</td>\n",
       "      <td>soft</td>\n",
       "      <td>good</td>\n",
       "      <td>seasonal</td>\n",
       "      <td>seasonal</td>\n",
       "      <td>rainwater harvesting</td>\n",
       "      <td>rainwater harvesting</td>\n",
       "      <td>surface</td>\n",
       "      <td>communal standpipe</td>\n",
       "      <td>communal standpipe</td>\n",
       "      <td>functional</td>\n",
       "    </tr>\n",
       "    <tr>\n",
       "      <th>5</th>\n",
       "      <td>2011-03-13</td>\n",
       "      <td>Mkinga Distric Coun</td>\n",
       "      <td>DWE</td>\n",
       "      <td>Pangani</td>\n",
       "      <td>Tanga</td>\n",
       "      <td>4</td>\n",
       "      <td>8</td>\n",
       "      <td>Mkinga</td>\n",
       "      <td>Moa</td>\n",
       "      <td>True</td>\n",
       "      <td>VWC</td>\n",
       "      <td>Zingibali</td>\n",
       "      <td>True</td>\n",
       "      <td>submersible</td>\n",
       "      <td>submersible</td>\n",
       "      <td>submersible</td>\n",
       "      <td>vwc</td>\n",
       "      <td>user-group</td>\n",
       "      <td>pay per bucket</td>\n",
       "      <td>per bucket</td>\n",
       "      <td>salty</td>\n",
       "      <td>salty</td>\n",
       "      <td>enough</td>\n",
       "      <td>enough</td>\n",
       "      <td>other</td>\n",
       "      <td>other</td>\n",
       "      <td>unknown</td>\n",
       "      <td>communal standpipe multiple</td>\n",
       "      <td>communal standpipe</td>\n",
       "      <td>functional</td>\n",
       "    </tr>\n",
       "    <tr>\n",
       "      <th>6</th>\n",
       "      <td>2012-10-01</td>\n",
       "      <td>Dwsp</td>\n",
       "      <td>DWSP</td>\n",
       "      <td>Internal</td>\n",
       "      <td>Shinyanga</td>\n",
       "      <td>17</td>\n",
       "      <td>3</td>\n",
       "      <td>Shinyanga Rural</td>\n",
       "      <td>Samuye</td>\n",
       "      <td>True</td>\n",
       "      <td>VWC</td>\n",
       "      <td>NaN</td>\n",
       "      <td>True</td>\n",
       "      <td>swn 80</td>\n",
       "      <td>swn 80</td>\n",
       "      <td>handpump</td>\n",
       "      <td>vwc</td>\n",
       "      <td>user-group</td>\n",
       "      <td>never pay</td>\n",
       "      <td>never pay</td>\n",
       "      <td>soft</td>\n",
       "      <td>good</td>\n",
       "      <td>enough</td>\n",
       "      <td>enough</td>\n",
       "      <td>machine dbh</td>\n",
       "      <td>borehole</td>\n",
       "      <td>groundwater</td>\n",
       "      <td>hand pump</td>\n",
       "      <td>hand pump</td>\n",
       "      <td>non functional</td>\n",
       "    </tr>\n",
       "    <tr>\n",
       "      <th>7</th>\n",
       "      <td>2012-10-09</td>\n",
       "      <td>Rwssp</td>\n",
       "      <td>DWE</td>\n",
       "      <td>Lake Tanganyika</td>\n",
       "      <td>Shinyanga</td>\n",
       "      <td>17</td>\n",
       "      <td>3</td>\n",
       "      <td>Kahama</td>\n",
       "      <td>Chambo</td>\n",
       "      <td>True</td>\n",
       "      <td>NaN</td>\n",
       "      <td>NaN</td>\n",
       "      <td>True</td>\n",
       "      <td>nira/tanira</td>\n",
       "      <td>nira/tanira</td>\n",
       "      <td>handpump</td>\n",
       "      <td>wug</td>\n",
       "      <td>user-group</td>\n",
       "      <td>unknown</td>\n",
       "      <td>unknown</td>\n",
       "      <td>milky</td>\n",
       "      <td>milky</td>\n",
       "      <td>enough</td>\n",
       "      <td>enough</td>\n",
       "      <td>shallow well</td>\n",
       "      <td>shallow well</td>\n",
       "      <td>groundwater</td>\n",
       "      <td>hand pump</td>\n",
       "      <td>hand pump</td>\n",
       "      <td>non functional</td>\n",
       "    </tr>\n",
       "    <tr>\n",
       "      <th>8</th>\n",
       "      <td>2012-11-03</td>\n",
       "      <td>Wateraid</td>\n",
       "      <td>Water Aid</td>\n",
       "      <td>Lake Tanganyika</td>\n",
       "      <td>Tabora</td>\n",
       "      <td>14</td>\n",
       "      <td>6</td>\n",
       "      <td>Tabora Urban</td>\n",
       "      <td>Itetemia</td>\n",
       "      <td>True</td>\n",
       "      <td>VWC</td>\n",
       "      <td>NaN</td>\n",
       "      <td>True</td>\n",
       "      <td>india mark ii</td>\n",
       "      <td>india mark ii</td>\n",
       "      <td>handpump</td>\n",
       "      <td>vwc</td>\n",
       "      <td>user-group</td>\n",
       "      <td>never pay</td>\n",
       "      <td>never pay</td>\n",
       "      <td>salty</td>\n",
       "      <td>salty</td>\n",
       "      <td>seasonal</td>\n",
       "      <td>seasonal</td>\n",
       "      <td>machine dbh</td>\n",
       "      <td>borehole</td>\n",
       "      <td>groundwater</td>\n",
       "      <td>hand pump</td>\n",
       "      <td>hand pump</td>\n",
       "      <td>non functional</td>\n",
       "    </tr>\n",
       "    <tr>\n",
       "      <th>9</th>\n",
       "      <td>2011-08-03</td>\n",
       "      <td>Isingiro Ho</td>\n",
       "      <td>Artisan</td>\n",
       "      <td>Lake Victoria</td>\n",
       "      <td>Kagera</td>\n",
       "      <td>18</td>\n",
       "      <td>1</td>\n",
       "      <td>Karagwe</td>\n",
       "      <td>Kaisho</td>\n",
       "      <td>True</td>\n",
       "      <td>NaN</td>\n",
       "      <td>NaN</td>\n",
       "      <td>True</td>\n",
       "      <td>nira/tanira</td>\n",
       "      <td>nira/tanira</td>\n",
       "      <td>handpump</td>\n",
       "      <td>vwc</td>\n",
       "      <td>user-group</td>\n",
       "      <td>never pay</td>\n",
       "      <td>never pay</td>\n",
       "      <td>soft</td>\n",
       "      <td>good</td>\n",
       "      <td>enough</td>\n",
       "      <td>enough</td>\n",
       "      <td>shallow well</td>\n",
       "      <td>shallow well</td>\n",
       "      <td>groundwater</td>\n",
       "      <td>hand pump</td>\n",
       "      <td>hand pump</td>\n",
       "      <td>functional</td>\n",
       "    </tr>\n",
       "  </tbody>\n",
       "</table>\n",
       "</div>"
      ],
      "text/plain": [
       "  date_recorded               funder     installer                    basin  \\\n",
       "0    2011-03-14                Roman         Roman               Lake Nyasa   \n",
       "1    2013-03-06              Grumeti       GRUMETI            Lake Victoria   \n",
       "2    2013-02-25         Lottery Club  World vision                  Pangani   \n",
       "3    2013-01-28               Unicef        UNICEF  Ruvuma / Southern Coast   \n",
       "4    2011-07-13          Action In A       Artisan            Lake Victoria   \n",
       "5    2011-03-13  Mkinga Distric Coun           DWE                  Pangani   \n",
       "6    2012-10-01                 Dwsp          DWSP                 Internal   \n",
       "7    2012-10-09                Rwssp           DWE          Lake Tanganyika   \n",
       "8    2012-11-03             Wateraid     Water Aid          Lake Tanganyika   \n",
       "9    2011-08-03          Isingiro Ho       Artisan            Lake Victoria   \n",
       "\n",
       "      region  region_code  district_code              lga        ward  \\\n",
       "0     Iringa           11              5           Ludewa    Mundindi   \n",
       "1       Mara           20              2        Serengeti       Natta   \n",
       "2    Manyara           21              4        Simanjiro     Ngorika   \n",
       "3     Mtwara           90             63         Nanyumbu    Nanyumbu   \n",
       "4     Kagera           18              1          Karagwe  Nyakasimbi   \n",
       "5      Tanga            4              8           Mkinga         Moa   \n",
       "6  Shinyanga           17              3  Shinyanga Rural      Samuye   \n",
       "7  Shinyanga           17              3           Kahama      Chambo   \n",
       "8     Tabora           14              6     Tabora Urban    Itetemia   \n",
       "9     Kagera           18              1          Karagwe      Kaisho   \n",
       "\n",
       "  public_meeting scheme_management                  scheme_name permit  \\\n",
       "0           True               VWC                        Roman  False   \n",
       "1            NaN             Other                          NaN   True   \n",
       "2           True               VWC  Nyumba ya mungu pipe scheme   True   \n",
       "3           True               VWC                          NaN   True   \n",
       "4           True               NaN                          NaN   True   \n",
       "5           True               VWC                    Zingibali   True   \n",
       "6           True               VWC                          NaN   True   \n",
       "7           True               NaN                          NaN   True   \n",
       "8           True               VWC                          NaN   True   \n",
       "9           True               NaN                          NaN   True   \n",
       "\n",
       "  extraction_type extraction_type_group extraction_type_class management  \\\n",
       "0         gravity               gravity               gravity        vwc   \n",
       "1         gravity               gravity               gravity        wug   \n",
       "2         gravity               gravity               gravity        vwc   \n",
       "3     submersible           submersible           submersible        vwc   \n",
       "4         gravity               gravity               gravity      other   \n",
       "5     submersible           submersible           submersible        vwc   \n",
       "6          swn 80                swn 80              handpump        vwc   \n",
       "7     nira/tanira           nira/tanira              handpump        wug   \n",
       "8   india mark ii         india mark ii              handpump        vwc   \n",
       "9     nira/tanira           nira/tanira              handpump        vwc   \n",
       "\n",
       "  management_group         payment payment_type water_quality quality_group  \\\n",
       "0       user-group    pay annually     annually          soft          good   \n",
       "1       user-group       never pay    never pay          soft          good   \n",
       "2       user-group  pay per bucket   per bucket          soft          good   \n",
       "3       user-group       never pay    never pay          soft          good   \n",
       "4            other       never pay    never pay          soft          good   \n",
       "5       user-group  pay per bucket   per bucket         salty         salty   \n",
       "6       user-group       never pay    never pay          soft          good   \n",
       "7       user-group         unknown      unknown         milky         milky   \n",
       "8       user-group       never pay    never pay         salty         salty   \n",
       "9       user-group       never pay    never pay          soft          good   \n",
       "\n",
       "       quantity quantity_group                source           source_type  \\\n",
       "0        enough         enough                spring                spring   \n",
       "1  insufficient   insufficient  rainwater harvesting  rainwater harvesting   \n",
       "2        enough         enough                   dam                   dam   \n",
       "3           dry            dry           machine dbh              borehole   \n",
       "4      seasonal       seasonal  rainwater harvesting  rainwater harvesting   \n",
       "5        enough         enough                 other                 other   \n",
       "6        enough         enough           machine dbh              borehole   \n",
       "7        enough         enough          shallow well          shallow well   \n",
       "8      seasonal       seasonal           machine dbh              borehole   \n",
       "9        enough         enough          shallow well          shallow well   \n",
       "\n",
       "  source_class              waterpoint_type waterpoint_type_group  \\\n",
       "0  groundwater           communal standpipe    communal standpipe   \n",
       "1      surface           communal standpipe    communal standpipe   \n",
       "2      surface  communal standpipe multiple    communal standpipe   \n",
       "3  groundwater  communal standpipe multiple    communal standpipe   \n",
       "4      surface           communal standpipe    communal standpipe   \n",
       "5      unknown  communal standpipe multiple    communal standpipe   \n",
       "6  groundwater                    hand pump             hand pump   \n",
       "7  groundwater                    hand pump             hand pump   \n",
       "8  groundwater                    hand pump             hand pump   \n",
       "9  groundwater                    hand pump             hand pump   \n",
       "\n",
       "     status_group  \n",
       "0      functional  \n",
       "1      functional  \n",
       "2      functional  \n",
       "3  non functional  \n",
       "4      functional  \n",
       "5      functional  \n",
       "6  non functional  \n",
       "7  non functional  \n",
       "8  non functional  \n",
       "9      functional  "
      ]
     },
     "execution_count": 15,
     "metadata": {},
     "output_type": "execute_result"
    }
   ],
   "source": [
    "train_cat = train_predictors.copy()\n",
    "train_cat = pd.concat([train_cat, train_target], axis=1)\n",
    "train_cat.drop(labels=['longitude', 'latitude', 'num_private',\n",
    "                       'amount_tsh', 'gps_height', 'population', 'construction_year',\n",
    "                       'id', 'recorded_by', 'wpt_name', 'subvillage'], axis=1, inplace=True)\n",
    "\n",
    "train_cat.head(10)"
   ]
  },
  {
   "cell_type": "code",
   "execution_count": 16,
   "metadata": {},
   "outputs": [
    {
     "data": {
      "text/html": [
       "<div>\n",
       "<style scoped>\n",
       "    .dataframe tbody tr th:only-of-type {\n",
       "        vertical-align: middle;\n",
       "    }\n",
       "\n",
       "    .dataframe tbody tr th {\n",
       "        vertical-align: top;\n",
       "    }\n",
       "\n",
       "    .dataframe thead th {\n",
       "        text-align: right;\n",
       "    }\n",
       "</style>\n",
       "<table border=\"1\" class=\"dataframe\">\n",
       "  <thead>\n",
       "    <tr style=\"text-align: right;\">\n",
       "      <th></th>\n",
       "      <th>date_recorded</th>\n",
       "      <th>funder</th>\n",
       "      <th>installer</th>\n",
       "      <th>basin</th>\n",
       "      <th>region</th>\n",
       "      <th>region_code</th>\n",
       "      <th>district_code</th>\n",
       "      <th>lga</th>\n",
       "      <th>ward</th>\n",
       "      <th>public_meeting</th>\n",
       "      <th>scheme_management</th>\n",
       "      <th>scheme_name</th>\n",
       "      <th>permit</th>\n",
       "      <th>extraction_type</th>\n",
       "      <th>extraction_type_group</th>\n",
       "      <th>extraction_type_class</th>\n",
       "      <th>management</th>\n",
       "      <th>management_group</th>\n",
       "      <th>payment</th>\n",
       "      <th>payment_type</th>\n",
       "      <th>water_quality</th>\n",
       "      <th>quality_group</th>\n",
       "      <th>quantity</th>\n",
       "      <th>quantity_group</th>\n",
       "      <th>source</th>\n",
       "      <th>source_type</th>\n",
       "      <th>source_class</th>\n",
       "      <th>waterpoint_type</th>\n",
       "      <th>waterpoint_type_group</th>\n",
       "      <th>status_group</th>\n",
       "    </tr>\n",
       "  </thead>\n",
       "  <tbody>\n",
       "    <tr>\n",
       "      <th>Dtype</th>\n",
       "      <td>object</td>\n",
       "      <td>object</td>\n",
       "      <td>object</td>\n",
       "      <td>object</td>\n",
       "      <td>object</td>\n",
       "      <td>int64</td>\n",
       "      <td>int64</td>\n",
       "      <td>object</td>\n",
       "      <td>object</td>\n",
       "      <td>object</td>\n",
       "      <td>object</td>\n",
       "      <td>object</td>\n",
       "      <td>object</td>\n",
       "      <td>object</td>\n",
       "      <td>object</td>\n",
       "      <td>object</td>\n",
       "      <td>object</td>\n",
       "      <td>object</td>\n",
       "      <td>object</td>\n",
       "      <td>object</td>\n",
       "      <td>object</td>\n",
       "      <td>object</td>\n",
       "      <td>object</td>\n",
       "      <td>object</td>\n",
       "      <td>object</td>\n",
       "      <td>object</td>\n",
       "      <td>object</td>\n",
       "      <td>object</td>\n",
       "      <td>object</td>\n",
       "      <td>object</td>\n",
       "    </tr>\n",
       "    <tr>\n",
       "      <th>NbrNullValues</th>\n",
       "      <td>0</td>\n",
       "      <td>3635</td>\n",
       "      <td>3655</td>\n",
       "      <td>0</td>\n",
       "      <td>0</td>\n",
       "      <td>0</td>\n",
       "      <td>0</td>\n",
       "      <td>0</td>\n",
       "      <td>0</td>\n",
       "      <td>3334</td>\n",
       "      <td>3877</td>\n",
       "      <td>28166</td>\n",
       "      <td>3056</td>\n",
       "      <td>0</td>\n",
       "      <td>0</td>\n",
       "      <td>0</td>\n",
       "      <td>0</td>\n",
       "      <td>0</td>\n",
       "      <td>0</td>\n",
       "      <td>0</td>\n",
       "      <td>0</td>\n",
       "      <td>0</td>\n",
       "      <td>0</td>\n",
       "      <td>0</td>\n",
       "      <td>0</td>\n",
       "      <td>0</td>\n",
       "      <td>0</td>\n",
       "      <td>0</td>\n",
       "      <td>0</td>\n",
       "      <td>0</td>\n",
       "    </tr>\n",
       "    <tr>\n",
       "      <th>NbrDistinctVal</th>\n",
       "      <td>356</td>\n",
       "      <td>1897</td>\n",
       "      <td>2145</td>\n",
       "      <td>9</td>\n",
       "      <td>21</td>\n",
       "      <td>27</td>\n",
       "      <td>20</td>\n",
       "      <td>125</td>\n",
       "      <td>2092</td>\n",
       "      <td>2</td>\n",
       "      <td>12</td>\n",
       "      <td>2696</td>\n",
       "      <td>2</td>\n",
       "      <td>18</td>\n",
       "      <td>13</td>\n",
       "      <td>7</td>\n",
       "      <td>12</td>\n",
       "      <td>5</td>\n",
       "      <td>7</td>\n",
       "      <td>7</td>\n",
       "      <td>8</td>\n",
       "      <td>6</td>\n",
       "      <td>5</td>\n",
       "      <td>5</td>\n",
       "      <td>10</td>\n",
       "      <td>7</td>\n",
       "      <td>3</td>\n",
       "      <td>7</td>\n",
       "      <td>6</td>\n",
       "      <td>3</td>\n",
       "    </tr>\n",
       "  </tbody>\n",
       "</table>\n",
       "</div>"
      ],
      "text/plain": [
       "               date_recorded  funder installer   basin  region region_code  \\\n",
       "Dtype                 object  object    object  object  object       int64   \n",
       "NbrNullValues              0    3635      3655       0       0           0   \n",
       "NbrDistinctVal           356    1897      2145       9      21          27   \n",
       "\n",
       "               district_code     lga    ward public_meeting scheme_management  \\\n",
       "Dtype                  int64  object  object         object            object   \n",
       "NbrNullValues              0       0       0           3334              3877   \n",
       "NbrDistinctVal            20     125    2092              2                12   \n",
       "\n",
       "               scheme_name  permit extraction_type extraction_type_group  \\\n",
       "Dtype               object  object          object                object   \n",
       "NbrNullValues        28166    3056               0                     0   \n",
       "NbrDistinctVal        2696       2              18                    13   \n",
       "\n",
       "               extraction_type_class management management_group payment  \\\n",
       "Dtype                         object     object           object  object   \n",
       "NbrNullValues                      0          0                0       0   \n",
       "NbrDistinctVal                     7         12                5       7   \n",
       "\n",
       "               payment_type water_quality quality_group quantity  \\\n",
       "Dtype                object        object        object   object   \n",
       "NbrNullValues             0             0             0        0   \n",
       "NbrDistinctVal            7             8             6        5   \n",
       "\n",
       "               quantity_group  source source_type source_class  \\\n",
       "Dtype                  object  object      object       object   \n",
       "NbrNullValues               0       0           0            0   \n",
       "NbrDistinctVal              5      10           7            3   \n",
       "\n",
       "               waterpoint_type waterpoint_type_group status_group  \n",
       "Dtype                   object                object       object  \n",
       "NbrNullValues                0                     0            0  \n",
       "NbrDistinctVal               7                     6            3  "
      ]
     },
     "metadata": {},
     "output_type": "display_data"
    }
   ],
   "source": [
    "summary = pd.DataFrame(np.array([train_cat.dtypes, \n",
    "                                 train_cat.isnull().sum(), \n",
    "                                 train_cat.nunique()]),\n",
    "                       index=['Dtype', 'NbrNullValues', 'NbrDistinctVal'],                                 \n",
    "                       columns=np.array(list(train_cat)))\n",
    "display(summary)\n",
    "\n",
    "# code NaN value as 'missing' \n",
    "train_cat.fillna(value='missing', inplace=True)"
   ]
  },
  {
   "cell_type": "markdown",
   "metadata": {},
   "source": [
    "#### High cardinality variables\n",
    "5 variables with high cardinality: 'funder', 'installer', 'lga', 'ward', 'scheme_name' (ignore this one)\n",
    "will be process during FE by mapping them to a numeric function. Ignore them during EDA"
   ]
  },
  {
   "cell_type": "code",
   "execution_count": 17,
   "metadata": {},
   "outputs": [],
   "source": [
    "col_high_cardinality = ['funder', 'installer', 'lga', 'ward']"
   ]
  },
  {
   "cell_type": "markdown",
   "metadata": {},
   "source": [
    "#### basin\n",
    "keep it, transform to dummy variables or treat as high cardinality"
   ]
  },
  {
   "cell_type": "code",
   "execution_count": 18,
   "metadata": {},
   "outputs": [
    {
     "data": {
      "text/plain": [
       "<matplotlib.axes._subplots.AxesSubplot at 0xeef6438>"
      ]
     },
     "execution_count": 18,
     "metadata": {},
     "output_type": "execute_result"
    },
    {
     "data": {
      "image/png": "[encoded data removed]",
      "text/plain": [
       "<Figure size 432x288 with 1 Axes>"
      ]
     },
     "metadata": {
      "needs_background": "light"
     },
     "output_type": "display_data"
    }
   ],
   "source": [
    "sns.countplot(x='basin', hue='status_group', data=train_cat);\n",
    "col_to_dummies = ['basin']"
   ]
  },
  {
   "cell_type": "markdown",
   "metadata": {},
   "source": [
    "#### region and region_code\n",
    "keep one of them, treat as high cardinality"
   ]
  },
  {
   "cell_type": "code",
   "execution_count": 19,
   "metadata": {},
   "outputs": [
    {
     "data": {
      "text/plain": [
       "<matplotlib.axes._subplots.AxesSubplot at 0xefd7748>"
      ]
     },
     "execution_count": 19,
     "metadata": {},
     "output_type": "execute_result"
    },
    {
     "data": {
      "image/png": "[encoded data removed]",
      "text/plain": [
       "<Figure size 432x288 with 1 Axes>"
      ]
     },
     "metadata": {
      "needs_background": "light"
     },
     "output_type": "display_data"
    }
   ],
   "source": [
    "sns.countplot(x='region', hue='status_group', data=train_cat);\n",
    "col_to_drop.append('region')\n",
    "col_high_cardinality.append('region_code')"
   ]
  },
  {
   "cell_type": "code",
   "execution_count": 20,
   "metadata": {},
   "outputs": [
    {
     "data": {
      "image/png": "[encoded data removed]",
      "text/plain": [
       "<Figure size 432x288 with 1 Axes>"
      ]
     },
     "metadata": {
      "needs_background": "light"
     },
     "output_type": "display_data"
    }
   ],
   "source": [
    "sns.countplot(x='region_code', hue='status_group', data=train_cat);"
   ]
  },
  {
   "cell_type": "markdown",
   "metadata": {},
   "source": [
    "#### district_code\n",
    "probably not very informative but process it as high cardinality"
   ]
  },
  {
   "cell_type": "code",
   "execution_count": 21,
   "metadata": {},
   "outputs": [
    {
     "data": {
      "text/plain": [
       "<matplotlib.axes._subplots.AxesSubplot at 0xf819f98>"
      ]
     },
     "execution_count": 21,
     "metadata": {},
     "output_type": "execute_result"
    },
    {
     "data": {
      "image/png": "[encoded data removed]",
      "text/plain": [
       "<Figure size 432x288 with 1 Axes>"
      ]
     },
     "metadata": {
      "needs_background": "light"
     },
     "output_type": "display_data"
    }
   ],
   "source": [
    "sns.countplot(x='district_code', hue='status_group', data=train_cat);\n",
    "col_high_cardinality.append('district_code')"
   ]
  },
  {
   "cell_type": "markdown",
   "metadata": {},
   "source": [
    "#### public meeting\n",
    "some impact, keep it and transform to dummy with NAN indicator"
   ]
  },
  {
   "cell_type": "code",
   "execution_count": 22,
   "metadata": {},
   "outputs": [
    {
     "data": {
      "image/png": "[encoded data removed]",
      "text/plain": [
       "<Figure size 432x288 with 1 Axes>"
      ]
     },
     "metadata": {
      "needs_background": "light"
     },
     "output_type": "display_data"
    }
   ],
   "source": [
    "sns.countplot(x='public_meeting', hue='status_group', data=train_cat);"
   ]
  },
  {
   "cell_type": "markdown",
   "metadata": {},
   "source": [
    "#### scheme_management and scheme_name\n",
    "potentially some impact for scheme_management  \n",
    "ignore scheme_name as too many missing values"
   ]
  },
  {
   "cell_type": "code",
   "execution_count": 23,
   "metadata": {},
   "outputs": [
    {
     "data": {
      "text/plain": [
       "<matplotlib.axes._subplots.AxesSubplot at 0xf8b1128>"
      ]
     },
     "execution_count": 23,
     "metadata": {},
     "output_type": "execute_result"
    },
    {
     "data": {
      "image/png": "[encoded data removed]",
      "text/plain": [
       "<Figure size 432x288 with 1 Axes>"
      ]
     },
     "metadata": {
      "needs_background": "light"
     },
     "output_type": "display_data"
    }
   ],
   "source": [
    "sns.countplot(x='scheme_management', hue='status_group', data=train_cat);\n",
    "col_to_drop.append('scheme_name')\n",
    "col_to_dummies.append('scheme_management')"
   ]
  },
  {
   "cell_type": "markdown",
   "metadata": {},
   "source": [
    "#### permit \n",
    "not sure if any impact, but keep it and transform to dummy with NAN indicator"
   ]
  },
  {
   "cell_type": "code",
   "execution_count": 24,
   "metadata": {},
   "outputs": [
    {
     "data": {
      "image/png": "[encoded data removed]",
      "text/plain": [
       "<Figure size 432x288 with 1 Axes>"
      ]
     },
     "metadata": {
      "needs_background": "light"
     },
     "output_type": "display_data"
    }
   ],
   "source": [
    "sns.countplot(x='permit', hue='status_group', data=train_cat);"
   ]
  },
  {
   "cell_type": "markdown",
   "metadata": {},
   "source": [
    "#### variables for extraction type\n",
    "keep only 'extraction_type_group'.  \n",
    "discard 'extraction_type' and 'extraction_type_class'"
   ]
  },
  {
   "cell_type": "code",
   "execution_count": 25,
   "metadata": {},
   "outputs": [
    {
     "data": {
      "text/plain": [
       "<matplotlib.axes._subplots.AxesSubplot at 0xf315438>"
      ]
     },
     "execution_count": 25,
     "metadata": {},
     "output_type": "execute_result"
    },
    {
     "data": {
      "image/png": "[encoded data removed]",
      "text/plain": [
       "<Figure size 432x288 with 1 Axes>"
      ]
     },
     "metadata": {
      "needs_background": "light"
     },
     "output_type": "display_data"
    }
   ],
   "source": [
    "sns.countplot(x='extraction_type', hue='status_group', data=train_cat);\n",
    "col_to_drop.append('extraction_type')"
   ]
  },
  {
   "cell_type": "code",
   "execution_count": 26,
   "metadata": {},
   "outputs": [
    {
     "data": {
      "text/plain": [
       "<matplotlib.axes._subplots.AxesSubplot at 0xf389a90>"
      ]
     },
     "execution_count": 26,
     "metadata": {},
     "output_type": "execute_result"
    },
    {
     "data": {
      "image/png": "[encoded data removed]",
      "text/plain": [
       "<Figure size 432x288 with 1 Axes>"
      ]
     },
     "metadata": {
      "needs_background": "light"
     },
     "output_type": "display_data"
    }
   ],
   "source": [
    "sns.countplot(x='extraction_type_group', hue='status_group', data=train_cat);\n",
    "col_to_dummies.append('extraction_type_group')"
   ]
  },
  {
   "cell_type": "code",
   "execution_count": 27,
   "metadata": {},
   "outputs": [
    {
     "data": {
      "text/plain": [
       "<matplotlib.axes._subplots.AxesSubplot at 0xeeedf28>"
      ]
     },
     "execution_count": 27,
     "metadata": {},
     "output_type": "execute_result"
    },
    {
     "data": {
      "image/png": "[encoded data removed]",
      "text/plain": [
       "<Figure size 432x288 with 1 Axes>"
      ]
     },
     "metadata": {
      "needs_background": "light"
     },
     "output_type": "display_data"
    }
   ],
   "source": [
    "sns.countplot(x='extraction_type_class', hue='status_group', data=train_cat);\n",
    "col_to_drop.append('extraction_type_class')"
   ]
  },
  {
   "cell_type": "markdown",
   "metadata": {},
   "source": [
    "#### management and management_group\n",
    "drop both, at least for now"
   ]
  },
  {
   "cell_type": "code",
   "execution_count": 28,
   "metadata": {},
   "outputs": [
    {
     "data": {
      "image/png": "[encoded data removed]",
      "text/plain": [
       "<Figure size 432x288 with 1 Axes>"
      ]
     },
     "metadata": {
      "needs_background": "light"
     },
     "output_type": "display_data"
    }
   ],
   "source": [
    "sns.countplot(x='management', hue='status_group', data=train_cat);"
   ]
  },
  {
   "cell_type": "code",
   "execution_count": 29,
   "metadata": {},
   "outputs": [
    {
     "data": {
      "text/plain": [
       "<matplotlib.axes._subplots.AxesSubplot at 0xe69d780>"
      ]
     },
     "execution_count": 29,
     "metadata": {},
     "output_type": "execute_result"
    },
    {
     "data": {
      "image/png": "[encoded data removed]",
      "text/plain": [
       "<Figure size 432x288 with 1 Axes>"
      ]
     },
     "metadata": {
      "needs_background": "light"
     },
     "output_type": "display_data"
    }
   ],
   "source": [
    "sns.countplot(x='management_group', hue='status_group', data=train_cat);\n",
    "col_to_drop.append('management')\n",
    "col_to_drop.append('management_group')"
   ]
  },
  {
   "cell_type": "markdown",
   "metadata": {},
   "source": [
    "#### payment and payment_type\n",
    "similar information, keep only one 'payment_type'"
   ]
  },
  {
   "cell_type": "code",
   "execution_count": 30,
   "metadata": {},
   "outputs": [
    {
     "data": {
      "text/plain": [
       "<matplotlib.axes._subplots.AxesSubplot at 0xe71c0b8>"
      ]
     },
     "execution_count": 30,
     "metadata": {},
     "output_type": "execute_result"
    },
    {
     "data": {
      "image/png": "[encoded data removed]",
      "text/plain": [
       "<Figure size 432x288 with 1 Axes>"
      ]
     },
     "metadata": {
      "needs_background": "light"
     },
     "output_type": "display_data"
    }
   ],
   "source": [
    "sns.countplot(x='payment', hue='status_group', data=train_cat);\n",
    "col_to_drop.append('payment')"
   ]
  },
  {
   "cell_type": "code",
   "execution_count": 31,
   "metadata": {},
   "outputs": [
    {
     "data": {
      "text/plain": [
       "<matplotlib.axes._subplots.AxesSubplot at 0xe7aea58>"
      ]
     },
     "execution_count": 31,
     "metadata": {},
     "output_type": "execute_result"
    },
    {
     "data": {
      "image/png": "[encoded data removed]",
      "text/plain": [
       "<Figure size 432x288 with 1 Axes>"
      ]
     },
     "metadata": {
      "needs_background": "light"
     },
     "output_type": "display_data"
    }
   ],
   "source": [
    "sns.countplot(x='payment_type', hue='status_group', data=train_cat);\n",
    "col_to_dummies.append('payment_type')"
   ]
  },
  {
   "cell_type": "markdown",
   "metadata": {},
   "source": [
    "#### water_quality and quality_group\n",
    "keep only quality_group and transform to dummy variables"
   ]
  },
  {
   "cell_type": "code",
   "execution_count": 32,
   "metadata": {},
   "outputs": [
    {
     "data": {
      "text/plain": [
       "<matplotlib.axes._subplots.AxesSubplot at 0xe8284e0>"
      ]
     },
     "execution_count": 32,
     "metadata": {},
     "output_type": "execute_result"
    },
    {
     "data": {
      "image/png": "[encoded data removed]",
      "text/plain": [
       "<Figure size 432x288 with 1 Axes>"
      ]
     },
     "metadata": {
      "needs_background": "light"
     },
     "output_type": "display_data"
    }
   ],
   "source": [
    "sns.countplot(x='water_quality', hue='status_group', data=train_cat);\n",
    "col_to_drop.append('water_quality')"
   ]
  },
  {
   "cell_type": "code",
   "execution_count": 33,
   "metadata": {},
   "outputs": [
    {
     "data": {
      "text/plain": [
       "<matplotlib.axes._subplots.AxesSubplot at 0x12750eb8>"
      ]
     },
     "execution_count": 33,
     "metadata": {},
     "output_type": "execute_result"
    },
    {
     "data": {
      "image/png": "[encoded data removed]",
      "text/plain": [
       "<Figure size 432x288 with 1 Axes>"
      ]
     },
     "metadata": {
      "needs_background": "light"
     },
     "output_type": "display_data"
    }
   ],
   "source": [
    "sns.countplot(x='quality_group', hue='status_group', data=train_cat);\n",
    "col_to_dummies.append('quality_group')"
   ]
  },
  {
   "cell_type": "markdown",
   "metadata": {},
   "source": [
    "#### quantity and quantity_group\n",
    "same information, keep only quantity_group and transform to dummy variables"
   ]
  },
  {
   "cell_type": "code",
   "execution_count": 34,
   "metadata": {},
   "outputs": [
    {
     "data": {
      "text/plain": [
       "<matplotlib.axes._subplots.AxesSubplot at 0x129c16d8>"
      ]
     },
     "execution_count": 34,
     "metadata": {},
     "output_type": "execute_result"
    },
    {
     "data": {
      "image/png": "[encoded data removed]",
      "text/plain": [
       "<Figure size 432x288 with 1 Axes>"
      ]
     },
     "metadata": {
      "needs_background": "light"
     },
     "output_type": "display_data"
    }
   ],
   "source": [
    "sns.countplot(x='quantity', hue='status_group', data=train_cat);\n",
    "col_to_drop.append('quantity')"
   ]
  },
  {
   "cell_type": "code",
   "execution_count": 35,
   "metadata": {},
   "outputs": [
    {
     "data": {
      "text/plain": [
       "<matplotlib.axes._subplots.AxesSubplot at 0x12a3ec88>"
      ]
     },
     "execution_count": 35,
     "metadata": {},
     "output_type": "execute_result"
    },
    {
     "data": {
      "image/png": "[encoded data removed]",
      "text/plain": [
       "<Figure size 432x288 with 1 Axes>"
      ]
     },
     "metadata": {
      "needs_background": "light"
     },
     "output_type": "display_data"
    }
   ],
   "source": [
    "sns.countplot(x='quantity_group', hue='status_group', data=train_cat);\n",
    "col_to_dummies.append('quantity_group')"
   ]
  },
  {
   "cell_type": "markdown",
   "metadata": {},
   "source": [
    "#### source, source_type, source_class\n",
    "keep only source which is the most informative  \n",
    "transform to dummy variables"
   ]
  },
  {
   "cell_type": "code",
   "execution_count": 36,
   "metadata": {},
   "outputs": [
    {
     "data": {
      "text/plain": [
       "<matplotlib.axes._subplots.AxesSubplot at 0x10918e10>"
      ]
     },
     "execution_count": 36,
     "metadata": {},
     "output_type": "execute_result"
    },
    {
     "data": {
      "image/png": "[encoded data removed]",
      "text/plain": [
       "<Figure size 432x288 with 1 Axes>"
      ]
     },
     "metadata": {
      "needs_background": "light"
     },
     "output_type": "display_data"
    }
   ],
   "source": [
    "sns.countplot(x='source', hue='status_group', data=train_cat);\n",
    "col_to_dummies.append('source')"
   ]
  },
  {
   "cell_type": "code",
   "execution_count": 37,
   "metadata": {},
   "outputs": [
    {
     "data": {
      "image/png": "[encoded data removed]",
      "text/plain": [
       "<Figure size 432x288 with 1 Axes>"
      ]
     },
     "metadata": {
      "needs_background": "light"
     },
     "output_type": "display_data"
    }
   ],
   "source": [
    "sns.countplot(x='source_type', hue='status_group', data=train_cat);"
   ]
  },
  {
   "cell_type": "code",
   "execution_count": 38,
   "metadata": {},
   "outputs": [
    {
     "data": {
      "text/plain": [
       "<matplotlib.axes._subplots.AxesSubplot at 0x12abde48>"
      ]
     },
     "execution_count": 38,
     "metadata": {},
     "output_type": "execute_result"
    },
    {
     "data": {
      "image/png": "[encoded data removed]",
      "text/plain": [
       "<Figure size 432x288 with 1 Axes>"
      ]
     },
     "metadata": {
      "needs_background": "light"
     },
     "output_type": "display_data"
    }
   ],
   "source": [
    "sns.countplot(x='source_class', hue='status_group', data=train_cat);\n",
    "col_to_drop.append('source_type')\n",
    "col_to_drop.append('source_class')"
   ]
  },
  {
   "cell_type": "markdown",
   "metadata": {},
   "source": [
    "#### waterpoint_type and waterpoint_type_group\n",
    "keep only waterpoint_type, process as dummy variable"
   ]
  },
  {
   "cell_type": "code",
   "execution_count": 39,
   "metadata": {},
   "outputs": [
    {
     "data": {
      "text/plain": [
       "<matplotlib.axes._subplots.AxesSubplot at 0x12b13da0>"
      ]
     },
     "execution_count": 39,
     "metadata": {},
     "output_type": "execute_result"
    },
    {
     "data": {
      "image/png": "[encoded data removed]",
      "text/plain": [
       "<Figure size 432x288 with 1 Axes>"
      ]
     },
     "metadata": {
      "needs_background": "light"
     },
     "output_type": "display_data"
    }
   ],
   "source": [
    "sns.countplot(x='waterpoint_type', hue='status_group', data=train_cat);\n",
    "col_to_dummies.append('waterpoint_type')"
   ]
  },
  {
   "cell_type": "code",
   "execution_count": 40,
   "metadata": {},
   "outputs": [
    {
     "data": {
      "text/plain": [
       "<matplotlib.axes._subplots.AxesSubplot at 0xda77f98>"
      ]
     },
     "execution_count": 40,
     "metadata": {},
     "output_type": "execute_result"
    },
    {
     "data": {
      "image/png": "[encoded data removed]",
      "text/plain": [
       "<Figure size 432x288 with 1 Axes>"
      ]
     },
     "metadata": {
      "needs_background": "light"
     },
     "output_type": "display_data"
    }
   ],
   "source": [
    "sns.countplot(x='waterpoint_type_group', hue='status_group', data=train_cat);\n",
    "col_to_drop.append('waterpoint_type_group')"
   ]
  },
  {
   "cell_type": "markdown",
   "metadata": {},
   "source": [
    "#### TODO EDA and FE for date_recorded"
   ]
  },
  {
   "cell_type": "markdown",
   "metadata": {},
   "source": [
    "#### Summary\n",
    "Plan for Feature Engineering of categorical variables:\n",
    "* drop 'region', 'scheme_management', 'scheme_name', 'extraction_type', 'extraction_type_class', 'payment', 'water_quality', 'quantity', 'source_type', 'source_class', 'waterpoint_type_group'\n",
    "* drop for now 'management', 'management_group'\n",
    "* process as high cardinality 'funder', 'installer', 'lga', 'ward' and 'region_code', 'district_code', 'extraction_type_group'\n",
    "* transform to dummy variables 'basin', 'payment_type', 'quality_group', 'quantity_group', 'source', 'waterpoint_type'\n",
    "* transform to dummy variables 'public_meeting', 'permit'"
   ]
  },
  {
   "cell_type": "markdown",
   "metadata": {},
   "source": [
    "## Feature Engineering"
   ]
  },
  {
   "cell_type": "code",
   "execution_count": 41,
   "metadata": {},
   "outputs": [],
   "source": [
    "# handle the target with mapping\n",
    "train_target['status_group'] = train_target['status_group'].map({'functional': 0, \n",
    "                                                                 'functional needs repair': 1, \n",
    "                                                                 'non functional': 2})"
   ]
  },
  {
   "cell_type": "markdown",
   "metadata": {},
   "source": [
    "This dataset contains several categorical variables with very high cardinality, like for example *funder* with 1897 unique values. There are 3 approaches possible to handle this type of features:\n",
    "* group together values that have close meaning (this is however not possible for variables like *funder* for which there is no clear proximity measure between different values)\n",
    "* discard values with low frequencies (possible, but this would probably be unsufficient to reduce enough the number of unique values)\n",
    "* **transform the initial feature into a continuous numerical feature**  \n",
    "\n",
    "We will use option 3, and we define 3 functions $f_F$, $f_R$ and $f_N$:\n",
    "$$f_F(x) = \\frac{N_F(x) + p_F}{N(x) + 1}$$  \n",
    "$$f_R(x) = \\frac{N_R(x) + p_R}{N(x) + 1}$$  \n",
    "$$f_N(x) = \\frac{N_N(x) + p_N}{N(x) + 1}$$ \n",
    "where:\n",
    "* $x$ is a given value of the high cardinality variable V, \n",
    "* $N_F(x)$, $N_R(x)$ and $f_N(x)$ are the number of observations with V=x and respectively equal to Functional, Repair, and Non Functional \n",
    "* $N(x)$ is the total number of observations with V=X, with $N(x) = N_F(x) + N_R(x) + f_N(x)$\n",
    "* $p_F$, $p_R$ and $p_N$ are the frequencies over the full set of status Functional, Repair, and Non Functional  \n",
    "  \n",
    "Now, it is easy to see that the sum of $f_F$, $f_R$ and $f_N$ is equal to 1 and that these 3 functions can be considered as probabilities of each status: \n",
    "$$f_F(x) + f_R(x) + f_N(x) = \\frac{N_F(x) + p_F + N_R(x) + p_R + N_N(x) + p_N}{N(x) + 1}\n",
    "= \\frac{N_F(x) + N_R(x) + N_N(x) + p_F + p_R + p_N}{N(x) + 1} = \\frac{N(x) + 1}{N(x) + 1}$$  \n",
    "\n",
    "The rationale for these functions is:\n",
    "* their value gets closer to the observed frequencies $\\frac{N_F(x)}{N(x)}$ as the number of observations $N(x)$ increases. Thus they are putting more weight on frequent values \n",
    "* they have an intuitive meaning as estimation of probabilities\n",
    "* they are defined even if the value x is not included in the training set  "
   ]
  },
  {
   "cell_type": "code",
   "execution_count": 42,
   "metadata": {},
   "outputs": [
    {
     "data": {
      "text/plain": [
       "HighCardinalityTransformer()"
      ]
     },
     "execution_count": 42,
     "metadata": {},
     "output_type": "execute_result"
    },
    {
     "data": {
      "text/html": [
       "<div>\n",
       "<style scoped>\n",
       "    .dataframe tbody tr th:only-of-type {\n",
       "        vertical-align: middle;\n",
       "    }\n",
       "\n",
       "    .dataframe tbody tr th {\n",
       "        vertical-align: top;\n",
       "    }\n",
       "\n",
       "    .dataframe thead th {\n",
       "        text-align: right;\n",
       "    }\n",
       "</style>\n",
       "<table border=\"1\" class=\"dataframe\">\n",
       "  <thead>\n",
       "    <tr style=\"text-align: right;\">\n",
       "      <th></th>\n",
       "      <th>region</th>\n",
       "      <th>lga</th>\n",
       "      <th>region_f_0</th>\n",
       "      <th>region_f_1</th>\n",
       "      <th>region_f_2</th>\n",
       "      <th>lga_f_0</th>\n",
       "      <th>lga_f_1</th>\n",
       "      <th>lga_f_2</th>\n",
       "    </tr>\n",
       "  </thead>\n",
       "  <tbody>\n",
       "    <tr>\n",
       "      <th>0</th>\n",
       "      <td>Iringa</td>\n",
       "      <td>Ludewa</td>\n",
       "      <td>0.782161</td>\n",
       "      <td>0.023243</td>\n",
       "      <td>0.194596</td>\n",
       "      <td>0.774413</td>\n",
       "      <td>0.019598</td>\n",
       "      <td>0.205990</td>\n",
       "    </tr>\n",
       "    <tr>\n",
       "      <th>1</th>\n",
       "      <td>Mara</td>\n",
       "      <td>Serengeti</td>\n",
       "      <td>0.450022</td>\n",
       "      <td>0.030494</td>\n",
       "      <td>0.519484</td>\n",
       "      <td>0.592110</td>\n",
       "      <td>0.037758</td>\n",
       "      <td>0.370131</td>\n",
       "    </tr>\n",
       "    <tr>\n",
       "      <th>2</th>\n",
       "      <td>Manyara</td>\n",
       "      <td>Simanjiro</td>\n",
       "      <td>0.623449</td>\n",
       "      <td>0.060652</td>\n",
       "      <td>0.315899</td>\n",
       "      <td>0.581046</td>\n",
       "      <td>0.016416</td>\n",
       "      <td>0.402538</td>\n",
       "    </tr>\n",
       "    <tr>\n",
       "      <th>3</th>\n",
       "      <td>Mtwara</td>\n",
       "      <td>Nanyumbu</td>\n",
       "      <td>0.303029</td>\n",
       "      <td>0.072832</td>\n",
       "      <td>0.624139</td>\n",
       "      <td>0.267567</td>\n",
       "      <td>0.000457</td>\n",
       "      <td>0.731976</td>\n",
       "    </tr>\n",
       "    <tr>\n",
       "      <th>4</th>\n",
       "      <td>Kagera</td>\n",
       "      <td>Karagwe</td>\n",
       "      <td>0.520815</td>\n",
       "      <td>0.091671</td>\n",
       "      <td>0.387514</td>\n",
       "      <td>0.530496</td>\n",
       "      <td>0.058384</td>\n",
       "      <td>0.411119</td>\n",
       "    </tr>\n",
       "  </tbody>\n",
       "</table>\n",
       "</div>"
      ],
      "text/plain": [
       "    region        lga  region_f_0  region_f_1  region_f_2   lga_f_0   lga_f_1  \\\n",
       "0   Iringa     Ludewa    0.782161    0.023243    0.194596  0.774413  0.019598   \n",
       "1     Mara  Serengeti    0.450022    0.030494    0.519484  0.592110  0.037758   \n",
       "2  Manyara  Simanjiro    0.623449    0.060652    0.315899  0.581046  0.016416   \n",
       "3   Mtwara   Nanyumbu    0.303029    0.072832    0.624139  0.267567  0.000457   \n",
       "4   Kagera    Karagwe    0.520815    0.091671    0.387514  0.530496  0.058384   \n",
       "\n",
       "    lga_f_2  \n",
       "0  0.205990  \n",
       "1  0.370131  \n",
       "2  0.402538  \n",
       "3  0.731976  \n",
       "4  0.411119  "
      ]
     },
     "execution_count": 42,
     "metadata": {},
     "output_type": "execute_result"
    }
   ],
   "source": [
    "# define transformer to transform high cardinality variables to numerical functions\n",
    "\n",
    "#### TODO remove hardcoded labels\n",
    "\n",
    "class HighCardinalityTransformer(BaseEstimator, TransformerMixin):\n",
    "    def __init__(self):\n",
    "        self._frequencies = {}\n",
    "        self._label_values = []\n",
    "        self._mapper = {}\n",
    "        pass\n",
    "    \n",
    "    def fit(self, X, y):\n",
    "        # both X and y must be DF\n",
    "        # convert y to string to have a fixed and known type  \n",
    "        y_str = y.astype(str)\n",
    "        \n",
    "        # self._label_values = ['functional', 'functional needs repair', 'non functional']\n",
    "        self._label_values = ['0', '1', '2']        \n",
    "        \n",
    "        # compute frequencies over full data\n",
    "        self._default_frequencies = {}\n",
    "        for status in self._label_values: \n",
    "            self._frequencies[status] = np.count_nonzero(y_str == status) / y_str.shape[0]  \n",
    "        \n",
    "        # get list of all columns in X \n",
    "        columns_to_map = list(X)\n",
    "        \n",
    "        self._mapper = {}\n",
    "        for col in columns_to_map:\n",
    "            # create df with the variable to map and the label\n",
    "            df = pd.concat([X[col],y], axis=1)\n",
    "            df.rename(columns={y.columns.values[0]: 'y'}, inplace=True)\n",
    "            \n",
    "            # replace y with 3 columns 'y_functional', 'y_functional needs repair', 'y_non functional' with counts \n",
    "            df = pd.get_dummies(data=df, columns=['y'])\n",
    "            df = df.groupby(col).sum()\n",
    "            \n",
    "#            df['count'] = df['y_functional'] +  df['y_functional needs repair'] + df['y_non functional']\n",
    "            df['count'] = df['y_0'] +  df['y_1'] + df['y_2']            \n",
    "            # calculate the 3 probability estimates\n",
    "#            df['functional'] = (df['y_functional'] + self._frequencies['functional']) / (df['count'] + 1)\n",
    "#            df['functional needs repair'] = (df['y_functional needs repair'] + self._frequencies['functional needs repair']) / (df['count'] + 1)\n",
    "#            df['non functional'] = (df['y_non functional'] + self._frequencies['non functional']) / (df['count'] + 1) \n",
    "            df['0'] = (df['y_0'] + self._frequencies['0']) / (df['count'] + 1)\n",
    "            df['1'] = (df['y_1'] + self._frequencies['1']) / (df['count'] + 1)\n",
    "            df['2'] = (df['y_2'] + self._frequencies['2']) / (df['count'] + 1) \n",
    "            \n",
    "            # create mapper with format:\n",
    "            #     {'col1': {'functional': {val1: f1, val2: f2, ...},\n",
    "            #               'functional needs repair': {val1: f1, val2: f2, ...},\n",
    "            #               'non functional': {val1: f1, val2: f2, ...}}, \n",
    "            #      'col2': ...}\n",
    "            self._mapper[col] = df[['0', '1', '2']].to_dict()\n",
    "            \n",
    "        return self\n",
    "    \n",
    "    def transform(self, X, y=None):\n",
    "        res = X.copy()\n",
    "        \n",
    "        for col_name in list(X):\n",
    "            for y_name in self._label_values:\n",
    "                mapper = self._mapper[col_name][y_name]\n",
    "                new_col = col_name + '_f_' + y_name\n",
    "                res[new_col] = X[col_name].map(mapper)\n",
    "                \n",
    "                # fill NA value with frequency of corresponding status - TODO not tested \n",
    "                res[new_col] = res[new_col].fillna(value=self._frequencies[y_name])\n",
    "                \n",
    "        return res\n",
    "    \n",
    "    def get_frequencies(self):        \n",
    "        return self._frequencies\n",
    "    \n",
    "    def get_mapper(self):\n",
    "        return self._mapper   \n",
    "    \n",
    "# example: transform 2 categorical values to numeric functions    \n",
    "hct = HighCardinalityTransformer()\n",
    "hct.fit(train_predictors[['region','lga']], train_target[['status_group']])\n",
    "res = hct.transform(train_predictors[['region','lga']])\n",
    "res.head(5)"
   ]
  },
  {
   "cell_type": "markdown",
   "metadata": {},
   "source": [
    "#### prepare data\n"
   ]
  },
  {
   "cell_type": "code",
   "execution_count": 43,
   "metadata": {},
   "outputs": [
    {
     "name": "stdout",
     "output_type": "stream",
     "text": [
      "dropping variables: ['id', 'recorded_by', 'wpt_name', 'subvillage', 'longitude', 'latitude', 'num_private', 'region', 'scheme_name', 'extraction_type', 'extraction_type_class', 'management', 'management_group', 'payment', 'water_quality', 'quantity', 'source_type', 'source_class', 'waterpoint_type_group']\n",
      "transforming variables to dummies: ['basin', 'scheme_management', 'extraction_type_group', 'payment_type', 'quality_group', 'quantity_group', 'source', 'waterpoint_type']\n"
     ]
    },
    {
     "data": {
      "text/html": [
       "<div>\n",
       "<style scoped>\n",
       "    .dataframe tbody tr th:only-of-type {\n",
       "        vertical-align: middle;\n",
       "    }\n",
       "\n",
       "    .dataframe tbody tr th {\n",
       "        vertical-align: top;\n",
       "    }\n",
       "\n",
       "    .dataframe thead th {\n",
       "        text-align: right;\n",
       "    }\n",
       "</style>\n",
       "<table border=\"1\" class=\"dataframe\">\n",
       "  <thead>\n",
       "    <tr style=\"text-align: right;\">\n",
       "      <th></th>\n",
       "      <th>amount_tsh</th>\n",
       "      <th>funder</th>\n",
       "      <th>gps_height</th>\n",
       "      <th>installer</th>\n",
       "      <th>region_code</th>\n",
       "      <th>district_code</th>\n",
       "      <th>lga</th>\n",
       "      <th>ward</th>\n",
       "      <th>population</th>\n",
       "      <th>construction_year</th>\n",
       "      <th>amount_tsh_missing</th>\n",
       "      <th>basin_Internal</th>\n",
       "      <th>basin_Lake Nyasa</th>\n",
       "      <th>basin_Lake Rukwa</th>\n",
       "      <th>basin_Lake Tanganyika</th>\n",
       "      <th>basin_Lake Victoria</th>\n",
       "      <th>basin_Pangani</th>\n",
       "      <th>basin_Rufiji</th>\n",
       "      <th>basin_Ruvuma / Southern Coast</th>\n",
       "      <th>basin_Wami / Ruvu</th>\n",
       "      <th>scheme_management_Company</th>\n",
       "      <th>scheme_management_Other</th>\n",
       "      <th>scheme_management_Parastatal</th>\n",
       "      <th>scheme_management_Private operator</th>\n",
       "      <th>scheme_management_SWC</th>\n",
       "      <th>...</th>\n",
       "      <th>quantity_group_seasonal</th>\n",
       "      <th>quantity_group_unknown</th>\n",
       "      <th>source_dam</th>\n",
       "      <th>source_hand dtw</th>\n",
       "      <th>source_lake</th>\n",
       "      <th>source_machine dbh</th>\n",
       "      <th>source_other</th>\n",
       "      <th>source_rainwater harvesting</th>\n",
       "      <th>source_river</th>\n",
       "      <th>source_shallow well</th>\n",
       "      <th>source_spring</th>\n",
       "      <th>source_unknown</th>\n",
       "      <th>waterpoint_type_cattle trough</th>\n",
       "      <th>waterpoint_type_communal standpipe</th>\n",
       "      <th>waterpoint_type_communal standpipe multiple</th>\n",
       "      <th>waterpoint_type_dam</th>\n",
       "      <th>waterpoint_type_hand pump</th>\n",
       "      <th>waterpoint_type_improved spring</th>\n",
       "      <th>waterpoint_type_other</th>\n",
       "      <th>public_meeting_False</th>\n",
       "      <th>public_meeting_True</th>\n",
       "      <th>public_meeting_nan</th>\n",
       "      <th>permit_False</th>\n",
       "      <th>permit_True</th>\n",
       "      <th>permit_nan</th>\n",
       "    </tr>\n",
       "  </thead>\n",
       "  <tbody>\n",
       "    <tr>\n",
       "      <th>0</th>\n",
       "      <td>6000.0</td>\n",
       "      <td>Roman</td>\n",
       "      <td>1390.0</td>\n",
       "      <td>Roman</td>\n",
       "      <td>11</td>\n",
       "      <td>5</td>\n",
       "      <td>Ludewa</td>\n",
       "      <td>Mundindi</td>\n",
       "      <td>109.0</td>\n",
       "      <td>1999.0</td>\n",
       "      <td>0</td>\n",
       "      <td>0</td>\n",
       "      <td>1</td>\n",
       "      <td>0</td>\n",
       "      <td>0</td>\n",
       "      <td>0</td>\n",
       "      <td>0</td>\n",
       "      <td>0</td>\n",
       "      <td>0</td>\n",
       "      <td>0</td>\n",
       "      <td>0</td>\n",
       "      <td>0</td>\n",
       "      <td>0</td>\n",
       "      <td>0</td>\n",
       "      <td>0</td>\n",
       "      <td>...</td>\n",
       "      <td>0</td>\n",
       "      <td>0</td>\n",
       "      <td>0</td>\n",
       "      <td>0</td>\n",
       "      <td>0</td>\n",
       "      <td>0</td>\n",
       "      <td>0</td>\n",
       "      <td>0</td>\n",
       "      <td>0</td>\n",
       "      <td>0</td>\n",
       "      <td>1</td>\n",
       "      <td>0</td>\n",
       "      <td>0</td>\n",
       "      <td>1</td>\n",
       "      <td>0</td>\n",
       "      <td>0</td>\n",
       "      <td>0</td>\n",
       "      <td>0</td>\n",
       "      <td>0</td>\n",
       "      <td>0</td>\n",
       "      <td>1</td>\n",
       "      <td>0</td>\n",
       "      <td>1</td>\n",
       "      <td>0</td>\n",
       "      <td>0</td>\n",
       "    </tr>\n",
       "    <tr>\n",
       "      <th>1</th>\n",
       "      <td>NaN</td>\n",
       "      <td>Grumeti</td>\n",
       "      <td>1399.0</td>\n",
       "      <td>GRUMETI</td>\n",
       "      <td>20</td>\n",
       "      <td>2</td>\n",
       "      <td>Serengeti</td>\n",
       "      <td>Natta</td>\n",
       "      <td>280.0</td>\n",
       "      <td>2010.0</td>\n",
       "      <td>1</td>\n",
       "      <td>0</td>\n",
       "      <td>0</td>\n",
       "      <td>0</td>\n",
       "      <td>0</td>\n",
       "      <td>1</td>\n",
       "      <td>0</td>\n",
       "      <td>0</td>\n",
       "      <td>0</td>\n",
       "      <td>0</td>\n",
       "      <td>0</td>\n",
       "      <td>1</td>\n",
       "      <td>0</td>\n",
       "      <td>0</td>\n",
       "      <td>0</td>\n",
       "      <td>...</td>\n",
       "      <td>0</td>\n",
       "      <td>0</td>\n",
       "      <td>0</td>\n",
       "      <td>0</td>\n",
       "      <td>0</td>\n",
       "      <td>0</td>\n",
       "      <td>0</td>\n",
       "      <td>1</td>\n",
       "      <td>0</td>\n",
       "      <td>0</td>\n",
       "      <td>0</td>\n",
       "      <td>0</td>\n",
       "      <td>0</td>\n",
       "      <td>1</td>\n",
       "      <td>0</td>\n",
       "      <td>0</td>\n",
       "      <td>0</td>\n",
       "      <td>0</td>\n",
       "      <td>0</td>\n",
       "      <td>0</td>\n",
       "      <td>0</td>\n",
       "      <td>1</td>\n",
       "      <td>0</td>\n",
       "      <td>1</td>\n",
       "      <td>0</td>\n",
       "    </tr>\n",
       "    <tr>\n",
       "      <th>2</th>\n",
       "      <td>25.0</td>\n",
       "      <td>Lottery Club</td>\n",
       "      <td>686.0</td>\n",
       "      <td>World vision</td>\n",
       "      <td>21</td>\n",
       "      <td>4</td>\n",
       "      <td>Simanjiro</td>\n",
       "      <td>Ngorika</td>\n",
       "      <td>250.0</td>\n",
       "      <td>2009.0</td>\n",
       "      <td>0</td>\n",
       "      <td>0</td>\n",
       "      <td>0</td>\n",
       "      <td>0</td>\n",
       "      <td>0</td>\n",
       "      <td>0</td>\n",
       "      <td>1</td>\n",
       "      <td>0</td>\n",
       "      <td>0</td>\n",
       "      <td>0</td>\n",
       "      <td>0</td>\n",
       "      <td>0</td>\n",
       "      <td>0</td>\n",
       "      <td>0</td>\n",
       "      <td>0</td>\n",
       "      <td>...</td>\n",
       "      <td>0</td>\n",
       "      <td>0</td>\n",
       "      <td>1</td>\n",
       "      <td>0</td>\n",
       "      <td>0</td>\n",
       "      <td>0</td>\n",
       "      <td>0</td>\n",
       "      <td>0</td>\n",
       "      <td>0</td>\n",
       "      <td>0</td>\n",
       "      <td>0</td>\n",
       "      <td>0</td>\n",
       "      <td>0</td>\n",
       "      <td>0</td>\n",
       "      <td>1</td>\n",
       "      <td>0</td>\n",
       "      <td>0</td>\n",
       "      <td>0</td>\n",
       "      <td>0</td>\n",
       "      <td>0</td>\n",
       "      <td>1</td>\n",
       "      <td>0</td>\n",
       "      <td>0</td>\n",
       "      <td>1</td>\n",
       "      <td>0</td>\n",
       "    </tr>\n",
       "    <tr>\n",
       "      <th>3</th>\n",
       "      <td>NaN</td>\n",
       "      <td>Unicef</td>\n",
       "      <td>263.0</td>\n",
       "      <td>UNICEF</td>\n",
       "      <td>90</td>\n",
       "      <td>63</td>\n",
       "      <td>Nanyumbu</td>\n",
       "      <td>Nanyumbu</td>\n",
       "      <td>58.0</td>\n",
       "      <td>1986.0</td>\n",
       "      <td>1</td>\n",
       "      <td>0</td>\n",
       "      <td>0</td>\n",
       "      <td>0</td>\n",
       "      <td>0</td>\n",
       "      <td>0</td>\n",
       "      <td>0</td>\n",
       "      <td>0</td>\n",
       "      <td>1</td>\n",
       "      <td>0</td>\n",
       "      <td>0</td>\n",
       "      <td>0</td>\n",
       "      <td>0</td>\n",
       "      <td>0</td>\n",
       "      <td>0</td>\n",
       "      <td>...</td>\n",
       "      <td>0</td>\n",
       "      <td>0</td>\n",
       "      <td>0</td>\n",
       "      <td>0</td>\n",
       "      <td>0</td>\n",
       "      <td>1</td>\n",
       "      <td>0</td>\n",
       "      <td>0</td>\n",
       "      <td>0</td>\n",
       "      <td>0</td>\n",
       "      <td>0</td>\n",
       "      <td>0</td>\n",
       "      <td>0</td>\n",
       "      <td>0</td>\n",
       "      <td>1</td>\n",
       "      <td>0</td>\n",
       "      <td>0</td>\n",
       "      <td>0</td>\n",
       "      <td>0</td>\n",
       "      <td>0</td>\n",
       "      <td>1</td>\n",
       "      <td>0</td>\n",
       "      <td>0</td>\n",
       "      <td>1</td>\n",
       "      <td>0</td>\n",
       "    </tr>\n",
       "    <tr>\n",
       "      <th>4</th>\n",
       "      <td>NaN</td>\n",
       "      <td>Action In A</td>\n",
       "      <td>NaN</td>\n",
       "      <td>Artisan</td>\n",
       "      <td>18</td>\n",
       "      <td>1</td>\n",
       "      <td>Karagwe</td>\n",
       "      <td>Nyakasimbi</td>\n",
       "      <td>NaN</td>\n",
       "      <td>NaN</td>\n",
       "      <td>1</td>\n",
       "      <td>0</td>\n",
       "      <td>0</td>\n",
       "      <td>0</td>\n",
       "      <td>0</td>\n",
       "      <td>1</td>\n",
       "      <td>0</td>\n",
       "      <td>0</td>\n",
       "      <td>0</td>\n",
       "      <td>0</td>\n",
       "      <td>0</td>\n",
       "      <td>0</td>\n",
       "      <td>0</td>\n",
       "      <td>0</td>\n",
       "      <td>0</td>\n",
       "      <td>...</td>\n",
       "      <td>1</td>\n",
       "      <td>0</td>\n",
       "      <td>0</td>\n",
       "      <td>0</td>\n",
       "      <td>0</td>\n",
       "      <td>0</td>\n",
       "      <td>0</td>\n",
       "      <td>1</td>\n",
       "      <td>0</td>\n",
       "      <td>0</td>\n",
       "      <td>0</td>\n",
       "      <td>0</td>\n",
       "      <td>0</td>\n",
       "      <td>1</td>\n",
       "      <td>0</td>\n",
       "      <td>0</td>\n",
       "      <td>0</td>\n",
       "      <td>0</td>\n",
       "      <td>0</td>\n",
       "      <td>0</td>\n",
       "      <td>1</td>\n",
       "      <td>0</td>\n",
       "      <td>0</td>\n",
       "      <td>1</td>\n",
       "      <td>0</td>\n",
       "    </tr>\n",
       "  </tbody>\n",
       "</table>\n",
       "<p>5 rows × 85 columns</p>\n",
       "</div>"
      ],
      "text/plain": [
       "   amount_tsh        funder  gps_height     installer  region_code  \\\n",
       "0      6000.0         Roman      1390.0         Roman           11   \n",
       "1         NaN       Grumeti      1399.0       GRUMETI           20   \n",
       "2        25.0  Lottery Club       686.0  World vision           21   \n",
       "3         NaN        Unicef       263.0        UNICEF           90   \n",
       "4         NaN   Action In A         NaN       Artisan           18   \n",
       "\n",
       "   district_code        lga        ward  population  construction_year  \\\n",
       "0              5     Ludewa    Mundindi       109.0             1999.0   \n",
       "1              2  Serengeti       Natta       280.0             2010.0   \n",
       "2              4  Simanjiro     Ngorika       250.0             2009.0   \n",
       "3             63   Nanyumbu    Nanyumbu        58.0             1986.0   \n",
       "4              1    Karagwe  Nyakasimbi         NaN                NaN   \n",
       "\n",
       "   amount_tsh_missing  basin_Internal  basin_Lake Nyasa  basin_Lake Rukwa  \\\n",
       "0                   0               0                 1                 0   \n",
       "1                   1               0                 0                 0   \n",
       "2                   0               0                 0                 0   \n",
       "3                   1               0                 0                 0   \n",
       "4                   1               0                 0                 0   \n",
       "\n",
       "   basin_Lake Tanganyika  basin_Lake Victoria  basin_Pangani  basin_Rufiji  \\\n",
       "0                      0                    0              0             0   \n",
       "1                      0                    1              0             0   \n",
       "2                      0                    0              1             0   \n",
       "3                      0                    0              0             0   \n",
       "4                      0                    1              0             0   \n",
       "\n",
       "   basin_Ruvuma / Southern Coast  basin_Wami / Ruvu  \\\n",
       "0                              0                  0   \n",
       "1                              0                  0   \n",
       "2                              0                  0   \n",
       "3                              1                  0   \n",
       "4                              0                  0   \n",
       "\n",
       "   scheme_management_Company  scheme_management_Other  \\\n",
       "0                          0                        0   \n",
       "1                          0                        1   \n",
       "2                          0                        0   \n",
       "3                          0                        0   \n",
       "4                          0                        0   \n",
       "\n",
       "   scheme_management_Parastatal  scheme_management_Private operator  \\\n",
       "0                             0                                   0   \n",
       "1                             0                                   0   \n",
       "2                             0                                   0   \n",
       "3                             0                                   0   \n",
       "4                             0                                   0   \n",
       "\n",
       "   scheme_management_SWC  ...  quantity_group_seasonal  \\\n",
       "0                      0  ...                        0   \n",
       "1                      0  ...                        0   \n",
       "2                      0  ...                        0   \n",
       "3                      0  ...                        0   \n",
       "4                      0  ...                        1   \n",
       "\n",
       "   quantity_group_unknown  source_dam  source_hand dtw  source_lake  \\\n",
       "0                       0           0                0            0   \n",
       "1                       0           0                0            0   \n",
       "2                       0           1                0            0   \n",
       "3                       0           0                0            0   \n",
       "4                       0           0                0            0   \n",
       "\n",
       "   source_machine dbh  source_other  source_rainwater harvesting  \\\n",
       "0                   0             0                            0   \n",
       "1                   0             0                            1   \n",
       "2                   0             0                            0   \n",
       "3                   1             0                            0   \n",
       "4                   0             0                            1   \n",
       "\n",
       "   source_river  source_shallow well  source_spring  source_unknown  \\\n",
       "0             0                    0              1               0   \n",
       "1             0                    0              0               0   \n",
       "2             0                    0              0               0   \n",
       "3             0                    0              0               0   \n",
       "4             0                    0              0               0   \n",
       "\n",
       "   waterpoint_type_cattle trough  waterpoint_type_communal standpipe  \\\n",
       "0                              0                                   1   \n",
       "1                              0                                   1   \n",
       "2                              0                                   0   \n",
       "3                              0                                   0   \n",
       "4                              0                                   1   \n",
       "\n",
       "   waterpoint_type_communal standpipe multiple  waterpoint_type_dam  \\\n",
       "0                                            0                    0   \n",
       "1                                            0                    0   \n",
       "2                                            1                    0   \n",
       "3                                            1                    0   \n",
       "4                                            0                    0   \n",
       "\n",
       "   waterpoint_type_hand pump  waterpoint_type_improved spring  \\\n",
       "0                          0                                0   \n",
       "1                          0                                0   \n",
       "2                          0                                0   \n",
       "3                          0                                0   \n",
       "4                          0                                0   \n",
       "\n",
       "   waterpoint_type_other  public_meeting_False  public_meeting_True  \\\n",
       "0                      0                     0                    1   \n",
       "1                      0                     0                    0   \n",
       "2                      0                     0                    1   \n",
       "3                      0                     0                    1   \n",
       "4                      0                     0                    1   \n",
       "\n",
       "   public_meeting_nan  permit_False  permit_True  permit_nan  \n",
       "0                   0             1            0           0  \n",
       "1                   1             0            1           0  \n",
       "2                   0             0            1           0  \n",
       "3                   0             0            1           0  \n",
       "4                   0             0            1           0  \n",
       "\n",
       "[5 rows x 85 columns]"
      ]
     },
     "execution_count": 43,
     "metadata": {},
     "output_type": "execute_result"
    }
   ],
   "source": [
    "def prepare_X(X):\n",
    "    # discard variables which are not informative enough\n",
    "    print('dropping variables: {}'.format(col_to_drop))\n",
    "    df = X.drop(labels=col_to_drop, axis=1)\n",
    "    \n",
    "    # group similar values\n",
    "    df.loc[:,'scheme_management'] = df['scheme_management'].replace(to_replace='None', value='Other')\n",
    "    df.loc[:,'scheme_management'] = df['scheme_management'].replace(to_replace='missing', value='Other')\n",
    "    \n",
    "    # TODO - REMOVE ONCE DONE \n",
    "    df.drop(labels='date_recorded', axis=1, inplace=True)\n",
    "    \n",
    "    # replace 0 with NaN for selected variables\n",
    "    for col in ['amount_tsh', 'gps_height', 'population', 'construction_year']:\n",
    "        df.loc[:,col] = df[col].replace(to_replace=0, value=np.nan)\n",
    "       \n",
    "    # add missing indicators\n",
    "    for col in ['amount_tsh']:\n",
    "        df[col + '_missing'] = df[col].isna()\n",
    "        df[col + '_missing'] = df[col + '_missing'].apply(lambda x: 1 if x else 0)\n",
    "        \n",
    "    # transform to dummies without NAN indicator\n",
    "    print('transforming variables to dummies: {}'.format(col_to_dummies))   \n",
    "    df = pd.get_dummies(df, dummy_na=False, columns=col_to_dummies, drop_first=False)\n",
    "    \n",
    "    # transform to dummies with NAN indicator\n",
    "    df = pd.get_dummies(df, dummy_na=True, columns=['public_meeting','permit'], drop_first=False)\n",
    "    \n",
    "    return df    \n",
    "\n",
    "    \n",
    "X_prep = prepare_X(train_predictors)  \n",
    "X_prep.head()"
   ]
  },
  {
   "cell_type": "code",
   "execution_count": 44,
   "metadata": {},
   "outputs": [
    {
     "name": "stderr",
     "output_type": "stream",
     "text": [
      "C:\\Users\\CEDRIC\\Anaconda3\\envs\\datascience\\lib\\site-packages\\sklearn\\utils\\deprecation.py:58: DeprecationWarning: Class Imputer is deprecated; Imputer was deprecated in version 0.20 and will be removed in 0.22. Import impute.SimpleImputer from sklearn instead.\n",
      "  warnings.warn(msg, category=DeprecationWarning)\n"
     ]
    },
    {
     "data": {
      "text/plain": [
       "HighCardinalityTransformer()"
      ]
     },
     "execution_count": 44,
     "metadata": {},
     "output_type": "execute_result"
    }
   ],
   "source": [
    "# TODO use pipeline \n",
    "X_train, X_test, y_train, y_test = train_test_split(X_prep, train_target[['status_group']], test_size=0.20, random_state=42)\n",
    "\n",
    "imputer = Imputer(strategy='mean')\n",
    "scaler = StandardScaler()\n",
    "\n",
    "# process high cardinality\n",
    "hct = HighCardinalityTransformer()\n",
    "hct.fit(X_train[col_high_cardinality], y_train[['status_group']])\n",
    "\n",
    "X_hct = hct.transform(X_train[col_high_cardinality])\n",
    "X_train = pd.concat([X_train, X_hct], axis=1)\n",
    "X_train.drop(col_high_cardinality, axis=1, inplace=True)\n",
    "X_train = imputer.fit_transform(X_train)\n",
    "X_train = scaler.fit_transform(X_train)\n",
    "\n",
    "X_hct = hct.transform(X_test[col_high_cardinality])\n",
    "X_test = pd.concat([X_test, X_hct], axis=1)\n",
    "X_test.drop(col_high_cardinality, axis=1, inplace=True)\n",
    "X_test = imputer.fit_transform(X_test)\n",
    "X_test = scaler.transform(X_test)\n"
   ]
  },
  {
   "cell_type": "markdown",
   "metadata": {},
   "source": [
    "## Shortlist candidate models"
   ]
  },
  {
   "cell_type": "code",
   "execution_count": 45,
   "metadata": {},
   "outputs": [
    {
     "name": "stderr",
     "output_type": "stream",
     "text": [
      "C:\\Users\\CEDRIC\\Anaconda3\\envs\\datascience\\lib\\site-packages\\ipykernel_launcher.py:2: DataConversionWarning: A column-vector y was passed when a 1d array was expected. Please change the shape of y to (n_samples, ), for example using ravel().\n",
      "  \n"
     ]
    },
    {
     "data": {
      "text/plain": [
       "KNeighborsClassifier(algorithm='auto', leaf_size=30, metric='minkowski',\n",
       "           metric_params=None, n_jobs=None, n_neighbors=3, p=1,\n",
       "           weights='uniform')"
      ]
     },
     "execution_count": 45,
     "metadata": {},
     "output_type": "execute_result"
    },
    {
     "name": "stdout",
     "output_type": "stream",
     "text": [
      "accuracy = 0.7775\n"
     ]
    }
   ],
   "source": [
    "knn = KNeighborsClassifier(n_neighbors=3, p=1)\n",
    "knn.fit(X_train, y_train) \n",
    "\n",
    "y_pred = knn.predict(X_test)\n",
    "\n",
    "from sklearn.metrics import accuracy_score\n",
    "accuracy = accuracy_score(y_test, y_pred)\n",
    "print('accuracy = {:.4f}'.format(accuracy))"
   ]
  },
  {
   "cell_type": "code",
   "execution_count": 46,
   "metadata": {},
   "outputs": [],
   "source": [
    "# TODO - to implement later\n",
    "#dtc = DecisionTreeClassifier(random_state=0)\n",
    "\n",
    "#dtc.fit(X_train, y_train)  \n",
    "\n",
    "#y_pred = dtc.predict(X_test)\n",
    "#accuracy = accuracy_score(y_test, y_pred)\n",
    "#print('accuracy = {:.4f}'.format(accuracy))"
   ]
  },
  {
   "cell_type": "markdown",
   "metadata": {},
   "source": [
    "## Train final model and make submision\n"
   ]
  },
  {
   "cell_type": "code",
   "execution_count": 47,
   "metadata": {},
   "outputs": [
    {
     "name": "stdout",
     "output_type": "stream",
     "text": [
      "dropping variables: ['id', 'recorded_by', 'wpt_name', 'subvillage', 'longitude', 'latitude', 'num_private', 'region', 'scheme_name', 'extraction_type', 'extraction_type_class', 'management', 'management_group', 'payment', 'water_quality', 'quantity', 'source_type', 'source_class', 'waterpoint_type_group']\n",
      "transforming variables to dummies: ['basin', 'scheme_management', 'extraction_type_group', 'payment_type', 'quality_group', 'quantity_group', 'source', 'waterpoint_type']\n"
     ]
    },
    {
     "data": {
      "text/plain": [
       "HighCardinalityTransformer()"
      ]
     },
     "execution_count": 47,
     "metadata": {},
     "output_type": "execute_result"
    },
    {
     "data": {
      "text/plain": [
       "Imputer(axis=0, copy=True, missing_values='NaN', strategy='mean', verbose=0)"
      ]
     },
     "execution_count": 47,
     "metadata": {},
     "output_type": "execute_result"
    },
    {
     "name": "stderr",
     "output_type": "stream",
     "text": [
      "C:\\Users\\CEDRIC\\Anaconda3\\envs\\datascience\\lib\\site-packages\\sklearn\\preprocessing\\data.py:645: DataConversionWarning: Data with input dtype uint8, int64, float64 were all converted to float64 by StandardScaler.\n",
      "  return self.partial_fit(X, y)\n"
     ]
    },
    {
     "data": {
      "text/plain": [
       "StandardScaler(copy=True, with_mean=True, with_std=True)"
      ]
     },
     "execution_count": 47,
     "metadata": {},
     "output_type": "execute_result"
    },
    {
     "data": {
      "text/html": [
       "<div>\n",
       "<style scoped>\n",
       "    .dataframe tbody tr th:only-of-type {\n",
       "        vertical-align: middle;\n",
       "    }\n",
       "\n",
       "    .dataframe tbody tr th {\n",
       "        vertical-align: top;\n",
       "    }\n",
       "\n",
       "    .dataframe thead th {\n",
       "        text-align: right;\n",
       "    }\n",
       "</style>\n",
       "<table border=\"1\" class=\"dataframe\">\n",
       "  <thead>\n",
       "    <tr style=\"text-align: right;\">\n",
       "      <th></th>\n",
       "      <th>amount_tsh</th>\n",
       "      <th>gps_height</th>\n",
       "      <th>population</th>\n",
       "      <th>construction_year</th>\n",
       "      <th>amount_tsh_missing</th>\n",
       "      <th>basin_Internal</th>\n",
       "      <th>basin_Lake Nyasa</th>\n",
       "      <th>basin_Lake Rukwa</th>\n",
       "      <th>basin_Lake Tanganyika</th>\n",
       "      <th>basin_Lake Victoria</th>\n",
       "      <th>basin_Pangani</th>\n",
       "      <th>basin_Rufiji</th>\n",
       "      <th>basin_Ruvuma / Southern Coast</th>\n",
       "      <th>basin_Wami / Ruvu</th>\n",
       "      <th>scheme_management_Company</th>\n",
       "      <th>scheme_management_Other</th>\n",
       "      <th>scheme_management_Parastatal</th>\n",
       "      <th>scheme_management_Private operator</th>\n",
       "      <th>scheme_management_SWC</th>\n",
       "      <th>scheme_management_Trust</th>\n",
       "      <th>scheme_management_VWC</th>\n",
       "      <th>scheme_management_WUA</th>\n",
       "      <th>scheme_management_WUG</th>\n",
       "      <th>scheme_management_Water Board</th>\n",
       "      <th>scheme_management_Water authority</th>\n",
       "      <th>...</th>\n",
       "      <th>waterpoint_type_other</th>\n",
       "      <th>public_meeting_False</th>\n",
       "      <th>public_meeting_True</th>\n",
       "      <th>public_meeting_nan</th>\n",
       "      <th>permit_False</th>\n",
       "      <th>permit_True</th>\n",
       "      <th>permit_nan</th>\n",
       "      <th>funder_f_0</th>\n",
       "      <th>funder_f_1</th>\n",
       "      <th>funder_f_2</th>\n",
       "      <th>installer_f_0</th>\n",
       "      <th>installer_f_1</th>\n",
       "      <th>installer_f_2</th>\n",
       "      <th>lga_f_0</th>\n",
       "      <th>lga_f_1</th>\n",
       "      <th>lga_f_2</th>\n",
       "      <th>ward_f_0</th>\n",
       "      <th>ward_f_1</th>\n",
       "      <th>ward_f_2</th>\n",
       "      <th>region_code_f_0</th>\n",
       "      <th>region_code_f_1</th>\n",
       "      <th>region_code_f_2</th>\n",
       "      <th>district_code_f_0</th>\n",
       "      <th>district_code_f_1</th>\n",
       "      <th>district_code_f_2</th>\n",
       "    </tr>\n",
       "  </thead>\n",
       "  <tbody>\n",
       "    <tr>\n",
       "      <th>0</th>\n",
       "      <td>6000.0</td>\n",
       "      <td>1390.0</td>\n",
       "      <td>109.0</td>\n",
       "      <td>1999.0</td>\n",
       "      <td>0</td>\n",
       "      <td>0</td>\n",
       "      <td>1</td>\n",
       "      <td>0</td>\n",
       "      <td>0</td>\n",
       "      <td>0</td>\n",
       "      <td>0</td>\n",
       "      <td>0</td>\n",
       "      <td>0</td>\n",
       "      <td>0</td>\n",
       "      <td>0</td>\n",
       "      <td>0</td>\n",
       "      <td>0</td>\n",
       "      <td>0</td>\n",
       "      <td>0</td>\n",
       "      <td>0</td>\n",
       "      <td>1</td>\n",
       "      <td>0</td>\n",
       "      <td>0</td>\n",
       "      <td>0</td>\n",
       "      <td>0</td>\n",
       "      <td>...</td>\n",
       "      <td>0</td>\n",
       "      <td>0</td>\n",
       "      <td>1</td>\n",
       "      <td>0</td>\n",
       "      <td>1</td>\n",
       "      <td>0</td>\n",
       "      <td>0</td>\n",
       "      <td>0.820808</td>\n",
       "      <td>0.032872</td>\n",
       "      <td>0.146320</td>\n",
       "      <td>0.605717</td>\n",
       "      <td>0.074449</td>\n",
       "      <td>0.319834</td>\n",
       "      <td>0.774413</td>\n",
       "      <td>0.019598</td>\n",
       "      <td>0.205990</td>\n",
       "      <td>0.609272</td>\n",
       "      <td>0.028991</td>\n",
       "      <td>0.361736</td>\n",
       "      <td>0.781653</td>\n",
       "      <td>0.023217</td>\n",
       "      <td>0.195130</td>\n",
       "      <td>0.569094</td>\n",
       "      <td>0.044543</td>\n",
       "      <td>0.386363</td>\n",
       "    </tr>\n",
       "    <tr>\n",
       "      <th>1</th>\n",
       "      <td>NaN</td>\n",
       "      <td>1399.0</td>\n",
       "      <td>280.0</td>\n",
       "      <td>2010.0</td>\n",
       "      <td>1</td>\n",
       "      <td>0</td>\n",
       "      <td>0</td>\n",
       "      <td>0</td>\n",
       "      <td>0</td>\n",
       "      <td>1</td>\n",
       "      <td>0</td>\n",
       "      <td>0</td>\n",
       "      <td>0</td>\n",
       "      <td>0</td>\n",
       "      <td>0</td>\n",
       "      <td>1</td>\n",
       "      <td>0</td>\n",
       "      <td>0</td>\n",
       "      <td>0</td>\n",
       "      <td>0</td>\n",
       "      <td>0</td>\n",
       "      <td>0</td>\n",
       "      <td>0</td>\n",
       "      <td>0</td>\n",
       "      <td>0</td>\n",
       "      <td>...</td>\n",
       "      <td>0</td>\n",
       "      <td>0</td>\n",
       "      <td>0</td>\n",
       "      <td>1</td>\n",
       "      <td>0</td>\n",
       "      <td>1</td>\n",
       "      <td>0</td>\n",
       "      <td>0.806353</td>\n",
       "      <td>0.001346</td>\n",
       "      <td>0.192301</td>\n",
       "      <td>0.838577</td>\n",
       "      <td>0.001817</td>\n",
       "      <td>0.159606</td>\n",
       "      <td>0.592110</td>\n",
       "      <td>0.037758</td>\n",
       "      <td>0.370131</td>\n",
       "      <td>0.604765</td>\n",
       "      <td>0.042676</td>\n",
       "      <td>0.352559</td>\n",
       "      <td>0.450022</td>\n",
       "      <td>0.030494</td>\n",
       "      <td>0.519484</td>\n",
       "      <td>0.555177</td>\n",
       "      <td>0.075539</td>\n",
       "      <td>0.369284</td>\n",
       "    </tr>\n",
       "    <tr>\n",
       "      <th>2</th>\n",
       "      <td>25.0</td>\n",
       "      <td>686.0</td>\n",
       "      <td>250.0</td>\n",
       "      <td>2009.0</td>\n",
       "      <td>0</td>\n",
       "      <td>0</td>\n",
       "      <td>0</td>\n",
       "      <td>0</td>\n",
       "      <td>0</td>\n",
       "      <td>0</td>\n",
       "      <td>1</td>\n",
       "      <td>0</td>\n",
       "      <td>0</td>\n",
       "      <td>0</td>\n",
       "      <td>0</td>\n",
       "      <td>0</td>\n",
       "      <td>0</td>\n",
       "      <td>0</td>\n",
       "      <td>0</td>\n",
       "      <td>0</td>\n",
       "      <td>1</td>\n",
       "      <td>0</td>\n",
       "      <td>0</td>\n",
       "      <td>0</td>\n",
       "      <td>0</td>\n",
       "      <td>...</td>\n",
       "      <td>0</td>\n",
       "      <td>0</td>\n",
       "      <td>1</td>\n",
       "      <td>0</td>\n",
       "      <td>0</td>\n",
       "      <td>1</td>\n",
       "      <td>0</td>\n",
       "      <td>0.949231</td>\n",
       "      <td>0.008075</td>\n",
       "      <td>0.042694</td>\n",
       "      <td>0.654140</td>\n",
       "      <td>0.132207</td>\n",
       "      <td>0.213653</td>\n",
       "      <td>0.581046</td>\n",
       "      <td>0.016416</td>\n",
       "      <td>0.402538</td>\n",
       "      <td>0.867553</td>\n",
       "      <td>0.006607</td>\n",
       "      <td>0.125840</td>\n",
       "      <td>0.623449</td>\n",
       "      <td>0.060652</td>\n",
       "      <td>0.315899</td>\n",
       "      <td>0.621727</td>\n",
       "      <td>0.056564</td>\n",
       "      <td>0.321709</td>\n",
       "    </tr>\n",
       "  </tbody>\n",
       "</table>\n",
       "<p>3 rows × 97 columns</p>\n",
       "</div>"
      ],
      "text/plain": [
       "   amount_tsh  gps_height  population  construction_year  amount_tsh_missing  \\\n",
       "0      6000.0      1390.0       109.0             1999.0                   0   \n",
       "1         NaN      1399.0       280.0             2010.0                   1   \n",
       "2        25.0       686.0       250.0             2009.0                   0   \n",
       "\n",
       "   basin_Internal  basin_Lake Nyasa  basin_Lake Rukwa  basin_Lake Tanganyika  \\\n",
       "0               0                 1                 0                      0   \n",
       "1               0                 0                 0                      0   \n",
       "2               0                 0                 0                      0   \n",
       "\n",
       "   basin_Lake Victoria  basin_Pangani  basin_Rufiji  \\\n",
       "0                    0              0             0   \n",
       "1                    1              0             0   \n",
       "2                    0              1             0   \n",
       "\n",
       "   basin_Ruvuma / Southern Coast  basin_Wami / Ruvu  \\\n",
       "0                              0                  0   \n",
       "1                              0                  0   \n",
       "2                              0                  0   \n",
       "\n",
       "   scheme_management_Company  scheme_management_Other  \\\n",
       "0                          0                        0   \n",
       "1                          0                        1   \n",
       "2                          0                        0   \n",
       "\n",
       "   scheme_management_Parastatal  scheme_management_Private operator  \\\n",
       "0                             0                                   0   \n",
       "1                             0                                   0   \n",
       "2                             0                                   0   \n",
       "\n",
       "   scheme_management_SWC  scheme_management_Trust  scheme_management_VWC  \\\n",
       "0                      0                        0                      1   \n",
       "1                      0                        0                      0   \n",
       "2                      0                        0                      1   \n",
       "\n",
       "   scheme_management_WUA  scheme_management_WUG  \\\n",
       "0                      0                      0   \n",
       "1                      0                      0   \n",
       "2                      0                      0   \n",
       "\n",
       "   scheme_management_Water Board  scheme_management_Water authority  ...  \\\n",
       "0                              0                                  0  ...   \n",
       "1                              0                                  0  ...   \n",
       "2                              0                                  0  ...   \n",
       "\n",
       "   waterpoint_type_other  public_meeting_False  public_meeting_True  \\\n",
       "0                      0                     0                    1   \n",
       "1                      0                     0                    0   \n",
       "2                      0                     0                    1   \n",
       "\n",
       "   public_meeting_nan  permit_False  permit_True  permit_nan  funder_f_0  \\\n",
       "0                   0             1            0           0    0.820808   \n",
       "1                   1             0            1           0    0.806353   \n",
       "2                   0             0            1           0    0.949231   \n",
       "\n",
       "   funder_f_1  funder_f_2  installer_f_0  installer_f_1  installer_f_2  \\\n",
       "0    0.032872    0.146320       0.605717       0.074449       0.319834   \n",
       "1    0.001346    0.192301       0.838577       0.001817       0.159606   \n",
       "2    0.008075    0.042694       0.654140       0.132207       0.213653   \n",
       "\n",
       "    lga_f_0   lga_f_1   lga_f_2  ward_f_0  ward_f_1  ward_f_2  \\\n",
       "0  0.774413  0.019598  0.205990  0.609272  0.028991  0.361736   \n",
       "1  0.592110  0.037758  0.370131  0.604765  0.042676  0.352559   \n",
       "2  0.581046  0.016416  0.402538  0.867553  0.006607  0.125840   \n",
       "\n",
       "   region_code_f_0  region_code_f_1  region_code_f_2  district_code_f_0  \\\n",
       "0         0.781653         0.023217         0.195130           0.569094   \n",
       "1         0.450022         0.030494         0.519484           0.555177   \n",
       "2         0.623449         0.060652         0.315899           0.621727   \n",
       "\n",
       "   district_code_f_1  district_code_f_2  \n",
       "0           0.044543           0.386363  \n",
       "1           0.075539           0.369284  \n",
       "2           0.056564           0.321709  \n",
       "\n",
       "[3 rows x 97 columns]"
      ]
     },
     "execution_count": 47,
     "metadata": {},
     "output_type": "execute_result"
    }
   ],
   "source": [
    "X_prep = prepare_X(train_predictors)  \n",
    "\n",
    "# train the Transformers on the full training dataset\n",
    "hct.fit(X_prep[col_high_cardinality], train_target[['status_group']])\n",
    "X_hct = hct.transform(X_prep[col_high_cardinality])\n",
    "X_prep = pd.concat([X_prep, X_hct], axis=1)\n",
    "X_prep.drop(col_high_cardinality, axis=1, inplace=True)\n",
    "imputer.fit(X_prep)\n",
    "scaler.fit(X_prep)"
   ]
  },
  {
   "cell_type": "code",
   "execution_count": 48,
   "metadata": {},
   "outputs": [
    {
     "name": "stdout",
     "output_type": "stream",
     "text": [
      "dropping variables: ['id', 'recorded_by', 'wpt_name', 'subvillage', 'longitude', 'latitude', 'num_private', 'region', 'scheme_name', 'extraction_type', 'extraction_type_class', 'management', 'management_group', 'payment', 'water_quality', 'quantity', 'source_type', 'source_class', 'waterpoint_type_group']\n",
      "transforming variables to dummies: ['basin', 'scheme_management', 'extraction_type_group', 'payment_type', 'quality_group', 'quantity_group', 'source', 'waterpoint_type']\n"
     ]
    }
   ],
   "source": [
    "# read test data\n",
    "test_predictors = pd.read_csv('./input/test_X.csv')\n",
    "# do basic FE\n",
    "X_test = prepare_X(test_predictors)  \n",
    "# do HCT FE\n",
    "X_hct = hct.transform(X_test[col_high_cardinality])\n",
    "X_test = pd.concat([X_test, X_hct], axis=1)\n",
    "X_test.drop(col_high_cardinality, axis=1, inplace=True)\n",
    "X_test = imputer.transform(X_test)\n",
    "X_test = scaler.transform(X_test)\n",
    "\n",
    "y_test = knn.predict(X_test)"
   ]
  },
  {
   "cell_type": "code",
   "execution_count": 56,
   "metadata": {},
   "outputs": [
    {
     "data": {
      "text/html": [
       "<div>\n",
       "<style scoped>\n",
       "    .dataframe tbody tr th:only-of-type {\n",
       "        vertical-align: middle;\n",
       "    }\n",
       "\n",
       "    .dataframe tbody tr th {\n",
       "        vertical-align: top;\n",
       "    }\n",
       "\n",
       "    .dataframe thead th {\n",
       "        text-align: right;\n",
       "    }\n",
       "</style>\n",
       "<table border=\"1\" class=\"dataframe\">\n",
       "  <thead>\n",
       "    <tr style=\"text-align: right;\">\n",
       "      <th></th>\n",
       "      <th>id</th>\n",
       "      <th>status_group</th>\n",
       "    </tr>\n",
       "  </thead>\n",
       "  <tbody>\n",
       "    <tr>\n",
       "      <th>0</th>\n",
       "      <td>50785</td>\n",
       "      <td>functional</td>\n",
       "    </tr>\n",
       "    <tr>\n",
       "      <th>1</th>\n",
       "      <td>51630</td>\n",
       "      <td>functional</td>\n",
       "    </tr>\n",
       "    <tr>\n",
       "      <th>2</th>\n",
       "      <td>17168</td>\n",
       "      <td>functional</td>\n",
       "    </tr>\n",
       "    <tr>\n",
       "      <th>3</th>\n",
       "      <td>45559</td>\n",
       "      <td>non functional</td>\n",
       "    </tr>\n",
       "    <tr>\n",
       "      <th>4</th>\n",
       "      <td>49871</td>\n",
       "      <td>functional</td>\n",
       "    </tr>\n",
       "  </tbody>\n",
       "</table>\n",
       "</div>"
      ],
      "text/plain": [
       "      id    status_group\n",
       "0  50785      functional\n",
       "1  51630      functional\n",
       "2  17168      functional\n",
       "3  45559  non functional\n",
       "4  49871      functional"
      ]
     },
     "execution_count": 56,
     "metadata": {},
     "output_type": "execute_result"
    }
   ],
   "source": [
    "submission = test_predictors[['id']].copy()\n",
    "submission['status_group'] = y_test\n",
    "submission['status_group'] = submission['status_group'].map({0: 'functional', \n",
    "                                                             1: 'functional needs repair', \n",
    "                                                             2: 'non functional'})"
   ]
  },
  {
   "cell_type": "code",
   "execution_count": 58,
   "metadata": {},
   "outputs": [],
   "source": [
    "submission.to_csv('./output/submission.csv', \n",
    "                columns=['id', 'status_group'],\n",
    "                header=True,\n",
    "                index=False)"
   ]
  },
  {
   "cell_type": "code",
   "execution_count": null,
   "metadata": {},
   "outputs": [],
   "source": []
  }
 ],
 "metadata": {
  "kernelspec": {
   "display_name": "Python 3",
   "language": "python",
   "name": "python3"
  },
  "language_info": {
   "codemirror_mode": {
    "name": "ipython",
    "version": 3
   },
   "file_extension": ".py",
   "mimetype": "text/x-python",
   "name": "python",
   "nbconvert_exporter": "python",
   "pygments_lexer": "ipython3",
   "version": "3.7.3"
  }
 },
 "nbformat": 4,
 "nbformat_minor": 2
}
