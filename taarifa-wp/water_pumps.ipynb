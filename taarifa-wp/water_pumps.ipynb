{
 "cells": [
  {
   "cell_type": "markdown",
   "metadata": {},
   "source": [
    "# Predicting the functional status of public water pumps in Tanzania\n",
    "This competition is hosted by [drivendata.org](https://www.drivendata.org/competitions/7/pump-it-up-data-mining-the-water-table/), an organization who works on projects at the intersection of data science and social impact, in areas like international development, health, education, research and conservation, and public services.  \n",
    "It is based on data from the Tanzanian Ministry of Water; its goal is to predict the status of public water pumps: *functional*, *needs repair*, or *working*.  \n",
    "\n",
    "The training dataset contains the target label and 40 explanatory variables for 59,400 different pumps:  \n",
    "* amount_tsh - Total static head (amount water available to waterpoint)\n",
    "* date_recorded - The date the row was entered\n",
    "* funder - Who funded the well\n",
    "* gps_height - Altitude of the well\n",
    "* installer - Organization that installed the well\n",
    "* longitude - GPS coordinate\n",
    "* latitude - GPS coordinate\n",
    "* wpt_name - Name of the waterpoint if there is one\n",
    "* num_private -\n",
    "* basin - Geographic water basin\n",
    "* subvillage - Geographic location\n",
    "* region - Geographic location\n",
    "* region_code - Geographic location (coded)\n",
    "* district_code - Geographic location (coded)\n",
    "* lga - Geographic location\n",
    "* ward - Geographic location\n",
    "* population - Population around the well\n",
    "* public_meeting - True/False\n",
    "* recorded_by - Group entering this row of data\n",
    "* scheme_management - Who operates the waterpoint\n",
    "* scheme_name - Who operates the waterpoint\n",
    "* permit - If the waterpoint is permitted\n",
    "* construction_year - Year the waterpoint was constructed\n",
    "* extraction_type - The kind of extraction the waterpoint uses\n",
    "* extraction_type_group - The kind of extraction the waterpoint uses\n",
    "* extraction_type_class - The kind of extraction the waterpoint uses\n",
    "* management - How the waterpoint is managed\n",
    "* management_group - How the waterpoint is managed\n",
    "* payment - What the water costs\n",
    "* payment_type - What the water costs\n",
    "* water_quality - The quality of the water\n",
    "* quality_group - The quality of the water\n",
    "* quantity - The quantity of water\n",
    "* quantity_group - The quantity of water\n",
    "* source - The source of the water\n",
    "* source_type - The source of the water\n",
    "* source_class - The source of the water\n",
    "* waterpoint_type - The kind of waterpoint\n",
    "* waterpoint_type_group - The kind of waterpoint\n",
    "\n",
    "This notebook achieved an **accuracy of 0.7882**, getting rank 1718 out of 7999 (**top 21%**) \n",
    "\n",
    "**NOTE:** this is still work in progress so parts of the notebook needs better presentation/explanation**, this will come in a later phase  "
   ]
  },
  {
   "cell_type": "code",
   "execution_count": 1,
   "metadata": {},
   "outputs": [],
   "source": [
    "from datetime import datetime\n",
    "\n",
    "import numpy as np\n",
    "import pandas as pd\n",
    "\n",
    "# visualisation\n",
    "import matplotlib.pyplot as plt\n",
    "#set figure size\n",
    "plt.rcParams['figure.figsize'] = 15, 4\n",
    "import seaborn as sns\n",
    "sns.set_style('whitegrid')   \n",
    "\n",
    "# to build specific estimators\n",
    "from sklearn.base import BaseEstimator, TransformerMixin\n",
    "from sklearn.preprocessing import StandardScaler, OneHotEncoder\n",
    "from sklearn.pipeline import Pipeline, FeatureUnion \n",
    "from sklearn.impute import SimpleImputer, MissingIndicator\n",
    "\n",
    "from sklearn.model_selection import train_test_split #, GridSearchCV\n",
    "\n",
    "from sklearn.neighbors import KNeighborsClassifier\n",
    "from sklearn.tree import DecisionTreeClassifier \n",
    "\n",
    "# to display all columns of dataframe \n",
    "pd.set_option('display.max_columns', 50)\n",
    "\n",
    "# to print all outputs in a cell instead of just the last one \n",
    "from IPython.core.interactiveshell import InteractiveShell  \n",
    "InteractiveShell.ast_node_interactivity = 'all'  # 'last_expr' to revert to default behaviour "
   ]
  },
  {
   "cell_type": "code",
   "execution_count": 2,
   "metadata": {},
   "outputs": [],
   "source": [
    "# read data files\n",
    "train_predictors = pd.read_csv('./input/training_X.csv')\n",
    "train_target = pd.read_csv('./input/training_y.csv')\n",
    "# create dataset with both label and independent variables\n",
    "train_set = pd.concat([train_target[['status_group']], train_predictors], axis=1, sort=False)"
   ]
  },
  {
   "cell_type": "markdown",
   "metadata": {},
   "source": [
    "# EDA\n",
    "59400 observations x  40 features"
   ]
  },
  {
   "cell_type": "code",
   "execution_count": 3,
   "metadata": {},
   "outputs": [
    {
     "name": "stdout",
     "output_type": "stream",
     "text": [
      "Dimensions of training set = 59400 observations x  40 features\n"
     ]
    },
    {
     "data": {
      "text/html": [
       "<div>\n",
       "<style scoped>\n",
       "    .dataframe tbody tr th:only-of-type {\n",
       "        vertical-align: middle;\n",
       "    }\n",
       "\n",
       "    .dataframe tbody tr th {\n",
       "        vertical-align: top;\n",
       "    }\n",
       "\n",
       "    .dataframe thead th {\n",
       "        text-align: right;\n",
       "    }\n",
       "</style>\n",
       "<table border=\"1\" class=\"dataframe\">\n",
       "  <thead>\n",
       "    <tr style=\"text-align: right;\">\n",
       "      <th></th>\n",
       "      <th>status_group</th>\n",
       "      <th>id</th>\n",
       "      <th>amount_tsh</th>\n",
       "      <th>date_recorded</th>\n",
       "      <th>funder</th>\n",
       "      <th>gps_height</th>\n",
       "      <th>installer</th>\n",
       "      <th>longitude</th>\n",
       "      <th>latitude</th>\n",
       "      <th>wpt_name</th>\n",
       "      <th>num_private</th>\n",
       "      <th>basin</th>\n",
       "      <th>subvillage</th>\n",
       "      <th>region</th>\n",
       "      <th>region_code</th>\n",
       "      <th>district_code</th>\n",
       "      <th>lga</th>\n",
       "      <th>ward</th>\n",
       "      <th>population</th>\n",
       "      <th>public_meeting</th>\n",
       "      <th>recorded_by</th>\n",
       "      <th>scheme_management</th>\n",
       "      <th>scheme_name</th>\n",
       "      <th>permit</th>\n",
       "      <th>construction_year</th>\n",
       "      <th>extraction_type</th>\n",
       "      <th>extraction_type_group</th>\n",
       "      <th>extraction_type_class</th>\n",
       "      <th>management</th>\n",
       "      <th>management_group</th>\n",
       "      <th>payment</th>\n",
       "      <th>payment_type</th>\n",
       "      <th>water_quality</th>\n",
       "      <th>quality_group</th>\n",
       "      <th>quantity</th>\n",
       "      <th>quantity_group</th>\n",
       "      <th>source</th>\n",
       "      <th>source_type</th>\n",
       "      <th>source_class</th>\n",
       "      <th>waterpoint_type</th>\n",
       "      <th>waterpoint_type_group</th>\n",
       "    </tr>\n",
       "  </thead>\n",
       "  <tbody>\n",
       "    <tr>\n",
       "      <th>40090</th>\n",
       "      <td>functional needs repair</td>\n",
       "      <td>49400</td>\n",
       "      <td>0.0</td>\n",
       "      <td>2012-10-13</td>\n",
       "      <td>Rural Water Supply And Sanita</td>\n",
       "      <td>0</td>\n",
       "      <td>DWE</td>\n",
       "      <td>31.850469</td>\n",
       "      <td>-3.289127</td>\n",
       "      <td>Miembeni</td>\n",
       "      <td>0</td>\n",
       "      <td>Lake Tanganyika</td>\n",
       "      <td>Kakoyoyo</td>\n",
       "      <td>Shinyanga</td>\n",
       "      <td>17</td>\n",
       "      <td>5</td>\n",
       "      <td>Bukombe</td>\n",
       "      <td>Ushirombo</td>\n",
       "      <td>0</td>\n",
       "      <td>True</td>\n",
       "      <td>GeoData Consultants Ltd</td>\n",
       "      <td>WUG</td>\n",
       "      <td>NaN</td>\n",
       "      <td>True</td>\n",
       "      <td>0</td>\n",
       "      <td>nira/tanira</td>\n",
       "      <td>nira/tanira</td>\n",
       "      <td>handpump</td>\n",
       "      <td>wug</td>\n",
       "      <td>user-group</td>\n",
       "      <td>unknown</td>\n",
       "      <td>unknown</td>\n",
       "      <td>soft</td>\n",
       "      <td>good</td>\n",
       "      <td>enough</td>\n",
       "      <td>enough</td>\n",
       "      <td>shallow well</td>\n",
       "      <td>shallow well</td>\n",
       "      <td>groundwater</td>\n",
       "      <td>hand pump</td>\n",
       "      <td>hand pump</td>\n",
       "    </tr>\n",
       "    <tr>\n",
       "      <th>9893</th>\n",
       "      <td>non functional</td>\n",
       "      <td>62569</td>\n",
       "      <td>0.0</td>\n",
       "      <td>2011-03-14</td>\n",
       "      <td>Tardo</td>\n",
       "      <td>1773</td>\n",
       "      <td>Tardo</td>\n",
       "      <td>38.285855</td>\n",
       "      <td>-4.636165</td>\n",
       "      <td>Kwa Mzee Manase</td>\n",
       "      <td>15</td>\n",
       "      <td>Pangani</td>\n",
       "      <td>Maringo</td>\n",
       "      <td>Tanga</td>\n",
       "      <td>4</td>\n",
       "      <td>1</td>\n",
       "      <td>Lushoto</td>\n",
       "      <td>Malindi</td>\n",
       "      <td>1</td>\n",
       "      <td>True</td>\n",
       "      <td>GeoData Consultants Ltd</td>\n",
       "      <td>VWC</td>\n",
       "      <td>Kiboelo forest</td>\n",
       "      <td>True</td>\n",
       "      <td>1985</td>\n",
       "      <td>gravity</td>\n",
       "      <td>gravity</td>\n",
       "      <td>gravity</td>\n",
       "      <td>vwc</td>\n",
       "      <td>user-group</td>\n",
       "      <td>never pay</td>\n",
       "      <td>never pay</td>\n",
       "      <td>soft</td>\n",
       "      <td>good</td>\n",
       "      <td>enough</td>\n",
       "      <td>enough</td>\n",
       "      <td>spring</td>\n",
       "      <td>spring</td>\n",
       "      <td>groundwater</td>\n",
       "      <td>communal standpipe</td>\n",
       "      <td>communal standpipe</td>\n",
       "    </tr>\n",
       "    <tr>\n",
       "      <th>33286</th>\n",
       "      <td>functional</td>\n",
       "      <td>62924</td>\n",
       "      <td>0.0</td>\n",
       "      <td>2013-02-24</td>\n",
       "      <td>District Council</td>\n",
       "      <td>1382</td>\n",
       "      <td>District Council</td>\n",
       "      <td>37.669260</td>\n",
       "      <td>-3.702595</td>\n",
       "      <td>Kwa Idd Ismail</td>\n",
       "      <td>0</td>\n",
       "      <td>Pangani</td>\n",
       "      <td>Mwerera</td>\n",
       "      <td>Kilimanjaro</td>\n",
       "      <td>3</td>\n",
       "      <td>2</td>\n",
       "      <td>Mwanga</td>\n",
       "      <td>Kirongwe</td>\n",
       "      <td>140</td>\n",
       "      <td>True</td>\n",
       "      <td>GeoData Consultants Ltd</td>\n",
       "      <td>WUA</td>\n",
       "      <td>Kindoroko water supply</td>\n",
       "      <td>False</td>\n",
       "      <td>2012</td>\n",
       "      <td>gravity</td>\n",
       "      <td>gravity</td>\n",
       "      <td>gravity</td>\n",
       "      <td>wua</td>\n",
       "      <td>user-group</td>\n",
       "      <td>never pay</td>\n",
       "      <td>never pay</td>\n",
       "      <td>unknown</td>\n",
       "      <td>unknown</td>\n",
       "      <td>insufficient</td>\n",
       "      <td>insufficient</td>\n",
       "      <td>spring</td>\n",
       "      <td>spring</td>\n",
       "      <td>groundwater</td>\n",
       "      <td>communal standpipe</td>\n",
       "      <td>communal standpipe</td>\n",
       "    </tr>\n",
       "  </tbody>\n",
       "</table>\n",
       "</div>"
      ],
      "text/plain": [
       "                  status_group     id  amount_tsh date_recorded  \\\n",
       "40090  functional needs repair  49400         0.0    2012-10-13   \n",
       "9893            non functional  62569         0.0    2011-03-14   \n",
       "33286               functional  62924         0.0    2013-02-24   \n",
       "\n",
       "                              funder  gps_height         installer  longitude  \\\n",
       "40090  Rural Water Supply And Sanita           0               DWE  31.850469   \n",
       "9893                           Tardo        1773             Tardo  38.285855   \n",
       "33286               District Council        1382  District Council  37.669260   \n",
       "\n",
       "       latitude         wpt_name  num_private            basin subvillage  \\\n",
       "40090 -3.289127         Miembeni            0  Lake Tanganyika   Kakoyoyo   \n",
       "9893  -4.636165  Kwa Mzee Manase           15          Pangani    Maringo   \n",
       "33286 -3.702595   Kwa Idd Ismail            0          Pangani    Mwerera   \n",
       "\n",
       "            region  region_code  district_code      lga       ward  \\\n",
       "40090    Shinyanga           17              5  Bukombe  Ushirombo   \n",
       "9893         Tanga            4              1  Lushoto    Malindi   \n",
       "33286  Kilimanjaro            3              2   Mwanga   Kirongwe   \n",
       "\n",
       "       population public_meeting              recorded_by scheme_management  \\\n",
       "40090           0           True  GeoData Consultants Ltd               WUG   \n",
       "9893            1           True  GeoData Consultants Ltd               VWC   \n",
       "33286         140           True  GeoData Consultants Ltd               WUA   \n",
       "\n",
       "                  scheme_name permit  construction_year extraction_type  \\\n",
       "40090                     NaN   True                  0     nira/tanira   \n",
       "9893           Kiboelo forest   True               1985         gravity   \n",
       "33286  Kindoroko water supply  False               2012         gravity   \n",
       "\n",
       "      extraction_type_group extraction_type_class management management_group  \\\n",
       "40090           nira/tanira              handpump        wug       user-group   \n",
       "9893                gravity               gravity        vwc       user-group   \n",
       "33286               gravity               gravity        wua       user-group   \n",
       "\n",
       "         payment payment_type water_quality quality_group      quantity  \\\n",
       "40090    unknown      unknown          soft          good        enough   \n",
       "9893   never pay    never pay          soft          good        enough   \n",
       "33286  never pay    never pay       unknown       unknown  insufficient   \n",
       "\n",
       "      quantity_group        source   source_type source_class  \\\n",
       "40090         enough  shallow well  shallow well  groundwater   \n",
       "9893          enough        spring        spring  groundwater   \n",
       "33286   insufficient        spring        spring  groundwater   \n",
       "\n",
       "          waterpoint_type waterpoint_type_group  \n",
       "40090           hand pump             hand pump  \n",
       "9893   communal standpipe    communal standpipe  \n",
       "33286  communal standpipe    communal standpipe  "
      ]
     },
     "execution_count": 3,
     "metadata": {},
     "output_type": "execute_result"
    }
   ],
   "source": [
    "print('Dimensions of training set = {:d} observations x  {:d} features'.format(train_predictors.shape[0], train_predictors.shape[1]))\n",
    "train_set.sample(3)"
   ]
  },
  {
   "cell_type": "markdown",
   "metadata": {},
   "source": [
    "## Target"
   ]
  },
  {
   "cell_type": "code",
   "execution_count": 4,
   "metadata": {},
   "outputs": [
    {
     "data": {
      "text/plain": [
       "functional                 0.543081\n",
       "non functional             0.384242\n",
       "functional needs repair    0.072677\n",
       "Name: status_group, dtype: float64"
      ]
     },
     "execution_count": 4,
     "metadata": {},
     "output_type": "execute_result"
    }
   ],
   "source": [
    "train_set['status_group'].value_counts(normalize=True)"
   ]
  },
  {
   "cell_type": "markdown",
   "metadata": {},
   "source": [
    "## Features\n",
    "\n",
    "Several features have missing values: funder, installer, subvillage, public meeting, scheme_management and scheme_name, permit.  \n",
    "There is apparently no missing values for numerical variables.  \n",
    "The variables *id* (id of each pump) and *recorded_by* (only one distinct value) have no explicative value and can ignored.  "
   ]
  },
  {
   "cell_type": "code",
   "execution_count": 5,
   "metadata": {},
   "outputs": [
    {
     "data": {
      "text/html": [
       "<div>\n",
       "<style scoped>\n",
       "    .dataframe tbody tr th:only-of-type {\n",
       "        vertical-align: middle;\n",
       "    }\n",
       "\n",
       "    .dataframe tbody tr th {\n",
       "        vertical-align: top;\n",
       "    }\n",
       "\n",
       "    .dataframe thead th {\n",
       "        text-align: right;\n",
       "    }\n",
       "</style>\n",
       "<table border=\"1\" class=\"dataframe\">\n",
       "  <thead>\n",
       "    <tr style=\"text-align: right;\">\n",
       "      <th></th>\n",
       "      <th>id</th>\n",
       "      <th>amount_tsh</th>\n",
       "      <th>date_recorded</th>\n",
       "      <th>funder</th>\n",
       "      <th>gps_height</th>\n",
       "      <th>installer</th>\n",
       "      <th>longitude</th>\n",
       "      <th>latitude</th>\n",
       "      <th>wpt_name</th>\n",
       "      <th>num_private</th>\n",
       "      <th>basin</th>\n",
       "      <th>subvillage</th>\n",
       "      <th>region</th>\n",
       "      <th>region_code</th>\n",
       "      <th>district_code</th>\n",
       "      <th>lga</th>\n",
       "      <th>ward</th>\n",
       "      <th>population</th>\n",
       "      <th>public_meeting</th>\n",
       "      <th>recorded_by</th>\n",
       "      <th>scheme_management</th>\n",
       "      <th>scheme_name</th>\n",
       "      <th>permit</th>\n",
       "      <th>construction_year</th>\n",
       "      <th>extraction_type</th>\n",
       "      <th>extraction_type_group</th>\n",
       "      <th>extraction_type_class</th>\n",
       "      <th>management</th>\n",
       "      <th>management_group</th>\n",
       "      <th>payment</th>\n",
       "      <th>payment_type</th>\n",
       "      <th>water_quality</th>\n",
       "      <th>quality_group</th>\n",
       "      <th>quantity</th>\n",
       "      <th>quantity_group</th>\n",
       "      <th>source</th>\n",
       "      <th>source_type</th>\n",
       "      <th>source_class</th>\n",
       "      <th>waterpoint_type</th>\n",
       "      <th>waterpoint_type_group</th>\n",
       "    </tr>\n",
       "  </thead>\n",
       "  <tbody>\n",
       "    <tr>\n",
       "      <th>Dtype</th>\n",
       "      <td>int64</td>\n",
       "      <td>float64</td>\n",
       "      <td>object</td>\n",
       "      <td>object</td>\n",
       "      <td>int64</td>\n",
       "      <td>object</td>\n",
       "      <td>float64</td>\n",
       "      <td>float64</td>\n",
       "      <td>object</td>\n",
       "      <td>int64</td>\n",
       "      <td>object</td>\n",
       "      <td>object</td>\n",
       "      <td>object</td>\n",
       "      <td>int64</td>\n",
       "      <td>int64</td>\n",
       "      <td>object</td>\n",
       "      <td>object</td>\n",
       "      <td>int64</td>\n",
       "      <td>object</td>\n",
       "      <td>object</td>\n",
       "      <td>object</td>\n",
       "      <td>object</td>\n",
       "      <td>object</td>\n",
       "      <td>int64</td>\n",
       "      <td>object</td>\n",
       "      <td>object</td>\n",
       "      <td>object</td>\n",
       "      <td>object</td>\n",
       "      <td>object</td>\n",
       "      <td>object</td>\n",
       "      <td>object</td>\n",
       "      <td>object</td>\n",
       "      <td>object</td>\n",
       "      <td>object</td>\n",
       "      <td>object</td>\n",
       "      <td>object</td>\n",
       "      <td>object</td>\n",
       "      <td>object</td>\n",
       "      <td>object</td>\n",
       "      <td>object</td>\n",
       "    </tr>\n",
       "    <tr>\n",
       "      <th>NbrNullValues</th>\n",
       "      <td>0</td>\n",
       "      <td>0</td>\n",
       "      <td>0</td>\n",
       "      <td>3635</td>\n",
       "      <td>0</td>\n",
       "      <td>3655</td>\n",
       "      <td>0</td>\n",
       "      <td>0</td>\n",
       "      <td>0</td>\n",
       "      <td>0</td>\n",
       "      <td>0</td>\n",
       "      <td>371</td>\n",
       "      <td>0</td>\n",
       "      <td>0</td>\n",
       "      <td>0</td>\n",
       "      <td>0</td>\n",
       "      <td>0</td>\n",
       "      <td>0</td>\n",
       "      <td>3334</td>\n",
       "      <td>0</td>\n",
       "      <td>3877</td>\n",
       "      <td>28166</td>\n",
       "      <td>3056</td>\n",
       "      <td>0</td>\n",
       "      <td>0</td>\n",
       "      <td>0</td>\n",
       "      <td>0</td>\n",
       "      <td>0</td>\n",
       "      <td>0</td>\n",
       "      <td>0</td>\n",
       "      <td>0</td>\n",
       "      <td>0</td>\n",
       "      <td>0</td>\n",
       "      <td>0</td>\n",
       "      <td>0</td>\n",
       "      <td>0</td>\n",
       "      <td>0</td>\n",
       "      <td>0</td>\n",
       "      <td>0</td>\n",
       "      <td>0</td>\n",
       "    </tr>\n",
       "    <tr>\n",
       "      <th>NbrDistinctVal</th>\n",
       "      <td>59400</td>\n",
       "      <td>98</td>\n",
       "      <td>356</td>\n",
       "      <td>1897</td>\n",
       "      <td>2428</td>\n",
       "      <td>2145</td>\n",
       "      <td>57516</td>\n",
       "      <td>57517</td>\n",
       "      <td>37400</td>\n",
       "      <td>65</td>\n",
       "      <td>9</td>\n",
       "      <td>19287</td>\n",
       "      <td>21</td>\n",
       "      <td>27</td>\n",
       "      <td>20</td>\n",
       "      <td>125</td>\n",
       "      <td>2092</td>\n",
       "      <td>1049</td>\n",
       "      <td>2</td>\n",
       "      <td>1</td>\n",
       "      <td>12</td>\n",
       "      <td>2696</td>\n",
       "      <td>2</td>\n",
       "      <td>55</td>\n",
       "      <td>18</td>\n",
       "      <td>13</td>\n",
       "      <td>7</td>\n",
       "      <td>12</td>\n",
       "      <td>5</td>\n",
       "      <td>7</td>\n",
       "      <td>7</td>\n",
       "      <td>8</td>\n",
       "      <td>6</td>\n",
       "      <td>5</td>\n",
       "      <td>5</td>\n",
       "      <td>10</td>\n",
       "      <td>7</td>\n",
       "      <td>3</td>\n",
       "      <td>7</td>\n",
       "      <td>6</td>\n",
       "    </tr>\n",
       "  </tbody>\n",
       "</table>\n",
       "</div>"
      ],
      "text/plain": [
       "                   id amount_tsh date_recorded  funder gps_height installer  \\\n",
       "Dtype           int64    float64        object  object      int64    object   \n",
       "NbrNullValues       0          0             0    3635          0      3655   \n",
       "NbrDistinctVal  59400         98           356    1897       2428      2145   \n",
       "\n",
       "               longitude latitude wpt_name num_private   basin subvillage  \\\n",
       "Dtype            float64  float64   object       int64  object     object   \n",
       "NbrNullValues          0        0        0           0       0        371   \n",
       "NbrDistinctVal     57516    57517    37400          65       9      19287   \n",
       "\n",
       "                region region_code district_code     lga    ward population  \\\n",
       "Dtype           object       int64         int64  object  object      int64   \n",
       "NbrNullValues        0           0             0       0       0          0   \n",
       "NbrDistinctVal      21          27            20     125    2092       1049   \n",
       "\n",
       "               public_meeting recorded_by scheme_management scheme_name  \\\n",
       "Dtype                  object      object            object      object   \n",
       "NbrNullValues            3334           0              3877       28166   \n",
       "NbrDistinctVal              2           1                12        2696   \n",
       "\n",
       "                permit construction_year extraction_type  \\\n",
       "Dtype           object             int64          object   \n",
       "NbrNullValues     3056                 0               0   \n",
       "NbrDistinctVal       2                55              18   \n",
       "\n",
       "               extraction_type_group extraction_type_class management  \\\n",
       "Dtype                         object                object     object   \n",
       "NbrNullValues                      0                     0          0   \n",
       "NbrDistinctVal                    13                     7         12   \n",
       "\n",
       "               management_group payment payment_type water_quality  \\\n",
       "Dtype                    object  object       object        object   \n",
       "NbrNullValues                 0       0            0             0   \n",
       "NbrDistinctVal                5       7            7             8   \n",
       "\n",
       "               quality_group quantity quantity_group  source source_type  \\\n",
       "Dtype                 object   object         object  object      object   \n",
       "NbrNullValues              0        0              0       0           0   \n",
       "NbrDistinctVal             6        5              5      10           7   \n",
       "\n",
       "               source_class waterpoint_type waterpoint_type_group  \n",
       "Dtype                object          object                object  \n",
       "NbrNullValues             0               0                     0  \n",
       "NbrDistinctVal            3               7                     6  "
      ]
     },
     "metadata": {},
     "output_type": "display_data"
    }
   ],
   "source": [
    "summary = pd.DataFrame(np.array([train_predictors.dtypes, \n",
    "                                 train_predictors.isnull().sum(), \n",
    "                                 train_predictors.nunique()]),\n",
    "                       index=['Dtype', 'NbrNullValues', 'NbrDistinctVal'],                                 \n",
    "                       columns=np.array(list(train_predictors)))\n",
    "display(summary)\n",
    "\n",
    "col_to_drop = ['id', 'recorded_by', 'wpt_name', 'subvillage']"
   ]
  },
  {
   "cell_type": "markdown",
   "metadata": {},
   "source": [
    "## Numerical features\n",
    "\n",
    "Several numerical variables preset a high number of 0 values, which probably corresponds to missing value.  \n",
    "*region_code* and *district_code* are ordinal categorical features. We will process them with the other categorical variables."
   ]
  },
  {
   "cell_type": "code",
   "execution_count": 6,
   "metadata": {},
   "outputs": [
    {
     "data": {
      "text/html": [
       "<div>\n",
       "<style scoped>\n",
       "    .dataframe tbody tr th:only-of-type {\n",
       "        vertical-align: middle;\n",
       "    }\n",
       "\n",
       "    .dataframe tbody tr th {\n",
       "        vertical-align: top;\n",
       "    }\n",
       "\n",
       "    .dataframe thead th {\n",
       "        text-align: right;\n",
       "    }\n",
       "</style>\n",
       "<table border=\"1\" class=\"dataframe\">\n",
       "  <thead>\n",
       "    <tr style=\"text-align: right;\">\n",
       "      <th></th>\n",
       "      <th>amount_tsh</th>\n",
       "      <th>gps_height</th>\n",
       "      <th>longitude</th>\n",
       "      <th>latitude</th>\n",
       "      <th>num_private</th>\n",
       "      <th>region_code</th>\n",
       "      <th>district_code</th>\n",
       "      <th>population</th>\n",
       "      <th>construction_year</th>\n",
       "    </tr>\n",
       "  </thead>\n",
       "  <tbody>\n",
       "    <tr>\n",
       "      <th>count</th>\n",
       "      <td>59400.000000</td>\n",
       "      <td>59400.000000</td>\n",
       "      <td>59400.000000</td>\n",
       "      <td>5.940000e+04</td>\n",
       "      <td>59400.000000</td>\n",
       "      <td>59400.000000</td>\n",
       "      <td>59400.000000</td>\n",
       "      <td>59400.000000</td>\n",
       "      <td>59400.000000</td>\n",
       "    </tr>\n",
       "    <tr>\n",
       "      <th>mean</th>\n",
       "      <td>317.650385</td>\n",
       "      <td>668.297239</td>\n",
       "      <td>34.077427</td>\n",
       "      <td>-5.706033e+00</td>\n",
       "      <td>0.474141</td>\n",
       "      <td>15.297003</td>\n",
       "      <td>5.629747</td>\n",
       "      <td>179.909983</td>\n",
       "      <td>1300.652475</td>\n",
       "    </tr>\n",
       "    <tr>\n",
       "      <th>std</th>\n",
       "      <td>2997.574558</td>\n",
       "      <td>693.116350</td>\n",
       "      <td>6.567432</td>\n",
       "      <td>2.946019e+00</td>\n",
       "      <td>12.236230</td>\n",
       "      <td>17.587406</td>\n",
       "      <td>9.633649</td>\n",
       "      <td>471.482176</td>\n",
       "      <td>951.620547</td>\n",
       "    </tr>\n",
       "    <tr>\n",
       "      <th>min</th>\n",
       "      <td>0.000000</td>\n",
       "      <td>-90.000000</td>\n",
       "      <td>0.000000</td>\n",
       "      <td>-1.164944e+01</td>\n",
       "      <td>0.000000</td>\n",
       "      <td>1.000000</td>\n",
       "      <td>0.000000</td>\n",
       "      <td>0.000000</td>\n",
       "      <td>0.000000</td>\n",
       "    </tr>\n",
       "    <tr>\n",
       "      <th>25%</th>\n",
       "      <td>0.000000</td>\n",
       "      <td>0.000000</td>\n",
       "      <td>33.090347</td>\n",
       "      <td>-8.540621e+00</td>\n",
       "      <td>0.000000</td>\n",
       "      <td>5.000000</td>\n",
       "      <td>2.000000</td>\n",
       "      <td>0.000000</td>\n",
       "      <td>0.000000</td>\n",
       "    </tr>\n",
       "    <tr>\n",
       "      <th>50%</th>\n",
       "      <td>0.000000</td>\n",
       "      <td>369.000000</td>\n",
       "      <td>34.908743</td>\n",
       "      <td>-5.021597e+00</td>\n",
       "      <td>0.000000</td>\n",
       "      <td>12.000000</td>\n",
       "      <td>3.000000</td>\n",
       "      <td>25.000000</td>\n",
       "      <td>1986.000000</td>\n",
       "    </tr>\n",
       "    <tr>\n",
       "      <th>75%</th>\n",
       "      <td>20.000000</td>\n",
       "      <td>1319.250000</td>\n",
       "      <td>37.178387</td>\n",
       "      <td>-3.326156e+00</td>\n",
       "      <td>0.000000</td>\n",
       "      <td>17.000000</td>\n",
       "      <td>5.000000</td>\n",
       "      <td>215.000000</td>\n",
       "      <td>2004.000000</td>\n",
       "    </tr>\n",
       "    <tr>\n",
       "      <th>max</th>\n",
       "      <td>350000.000000</td>\n",
       "      <td>2770.000000</td>\n",
       "      <td>40.345193</td>\n",
       "      <td>-2.000000e-08</td>\n",
       "      <td>1776.000000</td>\n",
       "      <td>99.000000</td>\n",
       "      <td>80.000000</td>\n",
       "      <td>30500.000000</td>\n",
       "      <td>2013.000000</td>\n",
       "    </tr>\n",
       "  </tbody>\n",
       "</table>\n",
       "</div>"
      ],
      "text/plain": [
       "          amount_tsh    gps_height     longitude      latitude   num_private  \\\n",
       "count   59400.000000  59400.000000  59400.000000  5.940000e+04  59400.000000   \n",
       "mean      317.650385    668.297239     34.077427 -5.706033e+00      0.474141   \n",
       "std      2997.574558    693.116350      6.567432  2.946019e+00     12.236230   \n",
       "min         0.000000    -90.000000      0.000000 -1.164944e+01      0.000000   \n",
       "25%         0.000000      0.000000     33.090347 -8.540621e+00      0.000000   \n",
       "50%         0.000000    369.000000     34.908743 -5.021597e+00      0.000000   \n",
       "75%        20.000000   1319.250000     37.178387 -3.326156e+00      0.000000   \n",
       "max    350000.000000   2770.000000     40.345193 -2.000000e-08   1776.000000   \n",
       "\n",
       "        region_code  district_code    population  construction_year  \n",
       "count  59400.000000   59400.000000  59400.000000       59400.000000  \n",
       "mean      15.297003       5.629747    179.909983        1300.652475  \n",
       "std       17.587406       9.633649    471.482176         951.620547  \n",
       "min        1.000000       0.000000      0.000000           0.000000  \n",
       "25%        5.000000       2.000000      0.000000           0.000000  \n",
       "50%       12.000000       3.000000     25.000000        1986.000000  \n",
       "75%       17.000000       5.000000    215.000000        2004.000000  \n",
       "max       99.000000      80.000000  30500.000000        2013.000000  "
      ]
     },
     "execution_count": 6,
     "metadata": {},
     "output_type": "execute_result"
    }
   ],
   "source": [
    "# extract all numerical variables plus target\n",
    "train_num = train_predictors.select_dtypes(include=np.number)\n",
    "train_num = pd.concat([train_num, train_target], axis=1)\n",
    "train_num = train_num.drop(labels='id', axis=1)\n",
    "\n",
    "train_num.describe()"
   ]
  },
  {
   "cell_type": "code",
   "execution_count": 7,
   "metadata": {},
   "outputs": [],
   "source": [
    "# define function to perform eda on numerical variables\n",
    "def eda_numerical_variable(col, transform='none'):\n",
    "    # create df and add column coding for 0 value\n",
    "    df = train_num[['status_group',col]].copy()\n",
    "    df['is_zero'] = (train_num[col] == 0)\n",
    "\n",
    "    # frequency of 0 value\n",
    "    print('NUMERICAL VARIABLE: ' + col)\n",
    "    print('percentage of 0 value = {:.2f}%'.format(df[df.is_zero == True].shape[0]/train_num.shape[0]*100))\n",
    "   \n",
    "    if transform == 'log':\n",
    "        df[col] = df[col].apply(lambda x: np.log(x))\n",
    "\n",
    "    sns.catplot(x='status_group', y=col, data=df[df.is_zero == False], kind='box');"
   ]
  },
  {
   "cell_type": "code",
   "execution_count": 8,
   "metadata": {},
   "outputs": [
    {
     "name": "stdout",
     "output_type": "stream",
     "text": [
      "NUMERICAL VARIABLE: amount_tsh\n",
      "percentage of 0 value = 70.10%\n"
     ]
    },
    {
     "data": {
      "image/png": "[encoded data removed]",
      "text/plain": [
       "<Figure size 360x360 with 1 Axes>"
      ]
     },
     "metadata": {
      "needs_background": "light"
     },
     "output_type": "display_data"
    }
   ],
   "source": [
    "# amount_tsh - Total static head (amount water available to waterpoint)\n",
    "eda_numerical_variable('amount_tsh', 'log')"
   ]
  },
  {
   "cell_type": "code",
   "execution_count": 9,
   "metadata": {},
   "outputs": [
    {
     "name": "stdout",
     "output_type": "stream",
     "text": [
      "NUMERICAL VARIABLE: gps_height\n",
      "percentage of 0 value = 34.41%\n"
     ]
    },
    {
     "data": {
      "image/png": "[encoded data removed]",
      "text/plain": [
       "<Figure size 360x360 with 1 Axes>"
      ]
     },
     "metadata": {
      "needs_background": "light"
     },
     "output_type": "display_data"
    }
   ],
   "source": [
    "# gps_height - Altitude of the well\n",
    "eda_numerical_variable('gps_height')"
   ]
  },
  {
   "cell_type": "code",
   "execution_count": 10,
   "metadata": {},
   "outputs": [
    {
     "name": "stdout",
     "output_type": "stream",
     "text": [
      "NUMERICAL VARIABLE: longitude\n",
      "percentage of 0 value = 3.05%\n"
     ]
    },
    {
     "data": {
      "image/png": "[encoded data removed]",
      "text/plain": [
       "<Figure size 360x360 with 1 Axes>"
      ]
     },
     "metadata": {
      "needs_background": "light"
     },
     "output_type": "display_data"
    }
   ],
   "source": [
    "# longitude - GPS coordinate\n",
    "eda_numerical_variable('longitude')\n",
    "col_to_drop.append('longitude')"
   ]
  },
  {
   "cell_type": "code",
   "execution_count": 11,
   "metadata": {},
   "outputs": [
    {
     "name": "stdout",
     "output_type": "stream",
     "text": [
      "NUMERICAL VARIABLE: latitude\n",
      "percentage of 0 value = 0.00%\n"
     ]
    },
    {
     "data": {
      "image/png": "[encoded data removed]",
      "text/plain": [
       "<Figure size 360x360 with 1 Axes>"
      ]
     },
     "metadata": {
      "needs_background": "light"
     },
     "output_type": "display_data"
    }
   ],
   "source": [
    "# latitude - GPS coordinate\n",
    "eda_numerical_variable('latitude')\n",
    "col_to_drop.append('latitude')"
   ]
  },
  {
   "cell_type": "code",
   "execution_count": 12,
   "metadata": {},
   "outputs": [
    {
     "name": "stdout",
     "output_type": "stream",
     "text": [
      "NUMERICAL VARIABLE: num_private\n",
      "percentage of 0 value = 98.73%\n"
     ]
    },
    {
     "data": {
      "image/png": "[encoded data removed]",
      "text/plain": [
       "<Figure size 360x360 with 1 Axes>"
      ]
     },
     "metadata": {
      "needs_background": "light"
     },
     "output_type": "display_data"
    }
   ],
   "source": [
    "# num_private -\n",
    "eda_numerical_variable('num_private', 'log')\n",
    "col_to_drop.append('num_private')"
   ]
  },
  {
   "cell_type": "code",
   "execution_count": 13,
   "metadata": {},
   "outputs": [
    {
     "name": "stdout",
     "output_type": "stream",
     "text": [
      "NUMERICAL VARIABLE: population\n",
      "percentage of 0 value = 35.99%\n"
     ]
    },
    {
     "data": {
      "image/png": "[encoded data removed]",
      "text/plain": [
       "<Figure size 360x360 with 1 Axes>"
      ]
     },
     "metadata": {
      "needs_background": "light"
     },
     "output_type": "display_data"
    }
   ],
   "source": [
    "# population - Population around the well\n",
    "eda_numerical_variable('population', 'log')"
   ]
  },
  {
   "cell_type": "code",
   "execution_count": 14,
   "metadata": {},
   "outputs": [
    {
     "name": "stdout",
     "output_type": "stream",
     "text": [
      "NUMERICAL VARIABLE: construction_year\n",
      "percentage of 0 value = 34.86%\n"
     ]
    },
    {
     "data": {
      "image/png": "[encoded data removed]",
      "text/plain": [
       "<Figure size 360x360 with 1 Axes>"
      ]
     },
     "metadata": {
      "needs_background": "light"
     },
     "output_type": "display_data"
    }
   ],
   "source": [
    "# construction_year - Year the waterpoint was constructed\n",
    "eda_numerical_variable('construction_year')"
   ]
  },
  {
   "cell_type": "markdown",
   "metadata": {},
   "source": [
    "#### Plan for Feature Engineering of numerical features\n",
    "Based on the above results, we plan Feature Engineering of numerical variables as follows:\n",
    "* drop variable 'num_private'\n",
    "* for the other features 'amount_tsh', 'gps_height', 'longitude', 'latitude', 'population', 'construction_year': \n",
    "    - replace 0 with NaN\n",
    "    - create a new feature coding for missing value     \n",
    "    - map NaN to median"
   ]
  },
  {
   "cell_type": "code",
   "execution_count": 15,
   "metadata": {},
   "outputs": [],
   "source": [
    "col_to_drop = ['num_private']\n",
    "col_numerical_fe1 = ['amount_tsh', 'gps_height', 'longitude', 'latitude', 'population', 'construction_year']"
   ]
  },
  {
   "cell_type": "markdown",
   "metadata": {},
   "source": [
    "## Categorical features"
   ]
  },
  {
   "cell_type": "code",
   "execution_count": 16,
   "metadata": {},
   "outputs": [
    {
     "data": {
      "text/html": [
       "<div>\n",
       "<style scoped>\n",
       "    .dataframe tbody tr th:only-of-type {\n",
       "        vertical-align: middle;\n",
       "    }\n",
       "\n",
       "    .dataframe tbody tr th {\n",
       "        vertical-align: top;\n",
       "    }\n",
       "\n",
       "    .dataframe thead th {\n",
       "        text-align: right;\n",
       "    }\n",
       "</style>\n",
       "<table border=\"1\" class=\"dataframe\">\n",
       "  <thead>\n",
       "    <tr style=\"text-align: right;\">\n",
       "      <th></th>\n",
       "      <th>date_recorded</th>\n",
       "      <th>funder</th>\n",
       "      <th>installer</th>\n",
       "      <th>basin</th>\n",
       "      <th>region</th>\n",
       "      <th>region_code</th>\n",
       "      <th>district_code</th>\n",
       "      <th>lga</th>\n",
       "      <th>ward</th>\n",
       "      <th>public_meeting</th>\n",
       "      <th>scheme_management</th>\n",
       "      <th>scheme_name</th>\n",
       "      <th>permit</th>\n",
       "      <th>extraction_type</th>\n",
       "      <th>extraction_type_group</th>\n",
       "      <th>extraction_type_class</th>\n",
       "      <th>management</th>\n",
       "      <th>management_group</th>\n",
       "      <th>payment</th>\n",
       "      <th>payment_type</th>\n",
       "      <th>water_quality</th>\n",
       "      <th>quality_group</th>\n",
       "      <th>quantity</th>\n",
       "      <th>quantity_group</th>\n",
       "      <th>source</th>\n",
       "      <th>source_type</th>\n",
       "      <th>source_class</th>\n",
       "      <th>waterpoint_type</th>\n",
       "      <th>waterpoint_type_group</th>\n",
       "      <th>status_group</th>\n",
       "    </tr>\n",
       "  </thead>\n",
       "  <tbody>\n",
       "    <tr>\n",
       "      <th>56493</th>\n",
       "      <td>2013-04-04</td>\n",
       "      <td>Government Of Tanzania</td>\n",
       "      <td>Government</td>\n",
       "      <td>Pangani</td>\n",
       "      <td>Kilimanjaro</td>\n",
       "      <td>3</td>\n",
       "      <td>4</td>\n",
       "      <td>Moshi Rural</td>\n",
       "      <td>Mabogini</td>\n",
       "      <td>True</td>\n",
       "      <td>Water authority</td>\n",
       "      <td>Coffee curing-Kahe pipeline</td>\n",
       "      <td>True</td>\n",
       "      <td>gravity</td>\n",
       "      <td>gravity</td>\n",
       "      <td>gravity</td>\n",
       "      <td>water authority</td>\n",
       "      <td>commercial</td>\n",
       "      <td>pay monthly</td>\n",
       "      <td>monthly</td>\n",
       "      <td>soft</td>\n",
       "      <td>good</td>\n",
       "      <td>insufficient</td>\n",
       "      <td>insufficient</td>\n",
       "      <td>spring</td>\n",
       "      <td>spring</td>\n",
       "      <td>groundwater</td>\n",
       "      <td>communal standpipe</td>\n",
       "      <td>communal standpipe</td>\n",
       "      <td>functional</td>\n",
       "    </tr>\n",
       "    <tr>\n",
       "      <th>27969</th>\n",
       "      <td>2011-04-03</td>\n",
       "      <td>Government Of Tanzania</td>\n",
       "      <td>Central Government</td>\n",
       "      <td>Rufiji</td>\n",
       "      <td>Mbeya</td>\n",
       "      <td>12</td>\n",
       "      <td>2</td>\n",
       "      <td>Mbeya Rural</td>\n",
       "      <td>Inyala</td>\n",
       "      <td>True</td>\n",
       "      <td>VWC</td>\n",
       "      <td>NaN</td>\n",
       "      <td>True</td>\n",
       "      <td>gravity</td>\n",
       "      <td>gravity</td>\n",
       "      <td>gravity</td>\n",
       "      <td>wug</td>\n",
       "      <td>user-group</td>\n",
       "      <td>pay annually</td>\n",
       "      <td>annually</td>\n",
       "      <td>soft</td>\n",
       "      <td>good</td>\n",
       "      <td>insufficient</td>\n",
       "      <td>insufficient</td>\n",
       "      <td>river</td>\n",
       "      <td>river/lake</td>\n",
       "      <td>surface</td>\n",
       "      <td>communal standpipe</td>\n",
       "      <td>communal standpipe</td>\n",
       "      <td>functional</td>\n",
       "    </tr>\n",
       "    <tr>\n",
       "      <th>23130</th>\n",
       "      <td>2011-02-26</td>\n",
       "      <td>Dhv</td>\n",
       "      <td>DWE</td>\n",
       "      <td>Wami / Ruvu</td>\n",
       "      <td>Morogoro</td>\n",
       "      <td>5</td>\n",
       "      <td>6</td>\n",
       "      <td>Mvomero</td>\n",
       "      <td>Mvomero</td>\n",
       "      <td>True</td>\n",
       "      <td>VWC</td>\n",
       "      <td>NaN</td>\n",
       "      <td>True</td>\n",
       "      <td>swn 80</td>\n",
       "      <td>swn 80</td>\n",
       "      <td>handpump</td>\n",
       "      <td>vwc</td>\n",
       "      <td>user-group</td>\n",
       "      <td>pay annually</td>\n",
       "      <td>annually</td>\n",
       "      <td>soft</td>\n",
       "      <td>good</td>\n",
       "      <td>insufficient</td>\n",
       "      <td>insufficient</td>\n",
       "      <td>shallow well</td>\n",
       "      <td>shallow well</td>\n",
       "      <td>groundwater</td>\n",
       "      <td>hand pump</td>\n",
       "      <td>hand pump</td>\n",
       "      <td>functional</td>\n",
       "    </tr>\n",
       "    <tr>\n",
       "      <th>1938</th>\n",
       "      <td>2011-04-02</td>\n",
       "      <td>NaN</td>\n",
       "      <td>NaN</td>\n",
       "      <td>Rufiji</td>\n",
       "      <td>Mbeya</td>\n",
       "      <td>12</td>\n",
       "      <td>7</td>\n",
       "      <td>Mbarali</td>\n",
       "      <td>Mawindi</td>\n",
       "      <td>True</td>\n",
       "      <td>WUA</td>\n",
       "      <td>NaN</td>\n",
       "      <td>True</td>\n",
       "      <td>gravity</td>\n",
       "      <td>gravity</td>\n",
       "      <td>gravity</td>\n",
       "      <td>wua</td>\n",
       "      <td>user-group</td>\n",
       "      <td>never pay</td>\n",
       "      <td>never pay</td>\n",
       "      <td>soft</td>\n",
       "      <td>good</td>\n",
       "      <td>seasonal</td>\n",
       "      <td>seasonal</td>\n",
       "      <td>river</td>\n",
       "      <td>river/lake</td>\n",
       "      <td>surface</td>\n",
       "      <td>communal standpipe</td>\n",
       "      <td>communal standpipe</td>\n",
       "      <td>functional</td>\n",
       "    </tr>\n",
       "    <tr>\n",
       "      <th>38388</th>\n",
       "      <td>2011-07-24</td>\n",
       "      <td>Concern</td>\n",
       "      <td>TWESA</td>\n",
       "      <td>Lake Victoria</td>\n",
       "      <td>Kagera</td>\n",
       "      <td>18</td>\n",
       "      <td>30</td>\n",
       "      <td>Ngara</td>\n",
       "      <td>Kabanga</td>\n",
       "      <td>True</td>\n",
       "      <td>VWC</td>\n",
       "      <td>NaN</td>\n",
       "      <td>False</td>\n",
       "      <td>nira/tanira</td>\n",
       "      <td>nira/tanira</td>\n",
       "      <td>handpump</td>\n",
       "      <td>vwc</td>\n",
       "      <td>user-group</td>\n",
       "      <td>never pay</td>\n",
       "      <td>never pay</td>\n",
       "      <td>soft</td>\n",
       "      <td>good</td>\n",
       "      <td>enough</td>\n",
       "      <td>enough</td>\n",
       "      <td>shallow well</td>\n",
       "      <td>shallow well</td>\n",
       "      <td>groundwater</td>\n",
       "      <td>hand pump</td>\n",
       "      <td>hand pump</td>\n",
       "      <td>non functional</td>\n",
       "    </tr>\n",
       "  </tbody>\n",
       "</table>\n",
       "</div>"
      ],
      "text/plain": [
       "      date_recorded                  funder           installer  \\\n",
       "56493    2013-04-04  Government Of Tanzania          Government   \n",
       "27969    2011-04-03  Government Of Tanzania  Central Government   \n",
       "23130    2011-02-26                     Dhv                 DWE   \n",
       "1938     2011-04-02                     NaN                 NaN   \n",
       "38388    2011-07-24                 Concern               TWESA   \n",
       "\n",
       "               basin       region  region_code  district_code          lga  \\\n",
       "56493        Pangani  Kilimanjaro            3              4  Moshi Rural   \n",
       "27969         Rufiji        Mbeya           12              2  Mbeya Rural   \n",
       "23130    Wami / Ruvu     Morogoro            5              6      Mvomero   \n",
       "1938          Rufiji        Mbeya           12              7      Mbarali   \n",
       "38388  Lake Victoria       Kagera           18             30        Ngara   \n",
       "\n",
       "           ward public_meeting scheme_management                  scheme_name  \\\n",
       "56493  Mabogini           True   Water authority  Coffee curing-Kahe pipeline   \n",
       "27969    Inyala           True               VWC                          NaN   \n",
       "23130   Mvomero           True               VWC                          NaN   \n",
       "1938    Mawindi           True               WUA                          NaN   \n",
       "38388   Kabanga           True               VWC                          NaN   \n",
       "\n",
       "      permit extraction_type extraction_type_group extraction_type_class  \\\n",
       "56493   True         gravity               gravity               gravity   \n",
       "27969   True         gravity               gravity               gravity   \n",
       "23130   True          swn 80                swn 80              handpump   \n",
       "1938    True         gravity               gravity               gravity   \n",
       "38388  False     nira/tanira           nira/tanira              handpump   \n",
       "\n",
       "            management management_group       payment payment_type  \\\n",
       "56493  water authority       commercial   pay monthly      monthly   \n",
       "27969              wug       user-group  pay annually     annually   \n",
       "23130              vwc       user-group  pay annually     annually   \n",
       "1938               wua       user-group     never pay    never pay   \n",
       "38388              vwc       user-group     never pay    never pay   \n",
       "\n",
       "      water_quality quality_group      quantity quantity_group        source  \\\n",
       "56493          soft          good  insufficient   insufficient        spring   \n",
       "27969          soft          good  insufficient   insufficient         river   \n",
       "23130          soft          good  insufficient   insufficient  shallow well   \n",
       "1938           soft          good      seasonal       seasonal         river   \n",
       "38388          soft          good        enough         enough  shallow well   \n",
       "\n",
       "        source_type source_class     waterpoint_type waterpoint_type_group  \\\n",
       "56493        spring  groundwater  communal standpipe    communal standpipe   \n",
       "27969    river/lake      surface  communal standpipe    communal standpipe   \n",
       "23130  shallow well  groundwater           hand pump             hand pump   \n",
       "1938     river/lake      surface  communal standpipe    communal standpipe   \n",
       "38388  shallow well  groundwater           hand pump             hand pump   \n",
       "\n",
       "         status_group  \n",
       "56493      functional  \n",
       "27969      functional  \n",
       "23130      functional  \n",
       "1938       functional  \n",
       "38388  non functional  "
      ]
     },
     "execution_count": 16,
     "metadata": {},
     "output_type": "execute_result"
    }
   ],
   "source": [
    "train_cat = train_predictors.copy()\n",
    "train_cat = pd.concat([train_cat, train_target], axis=1)\n",
    "train_cat.drop(labels=['longitude', 'latitude', 'num_private',\n",
    "                       'amount_tsh', 'gps_height', 'population', 'construction_year',\n",
    "                       'id', 'recorded_by', 'wpt_name', 'subvillage'], axis=1, inplace=True)\n",
    "\n",
    "train_cat.sample(5)"
   ]
  },
  {
   "cell_type": "code",
   "execution_count": 17,
   "metadata": {},
   "outputs": [
    {
     "data": {
      "text/html": [
       "<div>\n",
       "<style scoped>\n",
       "    .dataframe tbody tr th:only-of-type {\n",
       "        vertical-align: middle;\n",
       "    }\n",
       "\n",
       "    .dataframe tbody tr th {\n",
       "        vertical-align: top;\n",
       "    }\n",
       "\n",
       "    .dataframe thead th {\n",
       "        text-align: right;\n",
       "    }\n",
       "</style>\n",
       "<table border=\"1\" class=\"dataframe\">\n",
       "  <thead>\n",
       "    <tr style=\"text-align: right;\">\n",
       "      <th></th>\n",
       "      <th>date_recorded</th>\n",
       "      <th>funder</th>\n",
       "      <th>installer</th>\n",
       "      <th>basin</th>\n",
       "      <th>region</th>\n",
       "      <th>region_code</th>\n",
       "      <th>district_code</th>\n",
       "      <th>lga</th>\n",
       "      <th>ward</th>\n",
       "      <th>public_meeting</th>\n",
       "      <th>scheme_management</th>\n",
       "      <th>scheme_name</th>\n",
       "      <th>permit</th>\n",
       "      <th>extraction_type</th>\n",
       "      <th>extraction_type_group</th>\n",
       "      <th>extraction_type_class</th>\n",
       "      <th>management</th>\n",
       "      <th>management_group</th>\n",
       "      <th>payment</th>\n",
       "      <th>payment_type</th>\n",
       "      <th>water_quality</th>\n",
       "      <th>quality_group</th>\n",
       "      <th>quantity</th>\n",
       "      <th>quantity_group</th>\n",
       "      <th>source</th>\n",
       "      <th>source_type</th>\n",
       "      <th>source_class</th>\n",
       "      <th>waterpoint_type</th>\n",
       "      <th>waterpoint_type_group</th>\n",
       "      <th>status_group</th>\n",
       "    </tr>\n",
       "  </thead>\n",
       "  <tbody>\n",
       "    <tr>\n",
       "      <th>Dtype</th>\n",
       "      <td>object</td>\n",
       "      <td>object</td>\n",
       "      <td>object</td>\n",
       "      <td>object</td>\n",
       "      <td>object</td>\n",
       "      <td>int64</td>\n",
       "      <td>int64</td>\n",
       "      <td>object</td>\n",
       "      <td>object</td>\n",
       "      <td>object</td>\n",
       "      <td>object</td>\n",
       "      <td>object</td>\n",
       "      <td>object</td>\n",
       "      <td>object</td>\n",
       "      <td>object</td>\n",
       "      <td>object</td>\n",
       "      <td>object</td>\n",
       "      <td>object</td>\n",
       "      <td>object</td>\n",
       "      <td>object</td>\n",
       "      <td>object</td>\n",
       "      <td>object</td>\n",
       "      <td>object</td>\n",
       "      <td>object</td>\n",
       "      <td>object</td>\n",
       "      <td>object</td>\n",
       "      <td>object</td>\n",
       "      <td>object</td>\n",
       "      <td>object</td>\n",
       "      <td>object</td>\n",
       "    </tr>\n",
       "    <tr>\n",
       "      <th>NbrNullValues</th>\n",
       "      <td>0</td>\n",
       "      <td>3635</td>\n",
       "      <td>3655</td>\n",
       "      <td>0</td>\n",
       "      <td>0</td>\n",
       "      <td>0</td>\n",
       "      <td>0</td>\n",
       "      <td>0</td>\n",
       "      <td>0</td>\n",
       "      <td>3334</td>\n",
       "      <td>3877</td>\n",
       "      <td>28166</td>\n",
       "      <td>3056</td>\n",
       "      <td>0</td>\n",
       "      <td>0</td>\n",
       "      <td>0</td>\n",
       "      <td>0</td>\n",
       "      <td>0</td>\n",
       "      <td>0</td>\n",
       "      <td>0</td>\n",
       "      <td>0</td>\n",
       "      <td>0</td>\n",
       "      <td>0</td>\n",
       "      <td>0</td>\n",
       "      <td>0</td>\n",
       "      <td>0</td>\n",
       "      <td>0</td>\n",
       "      <td>0</td>\n",
       "      <td>0</td>\n",
       "      <td>0</td>\n",
       "    </tr>\n",
       "    <tr>\n",
       "      <th>NbrDistinctVal</th>\n",
       "      <td>356</td>\n",
       "      <td>1897</td>\n",
       "      <td>2145</td>\n",
       "      <td>9</td>\n",
       "      <td>21</td>\n",
       "      <td>27</td>\n",
       "      <td>20</td>\n",
       "      <td>125</td>\n",
       "      <td>2092</td>\n",
       "      <td>2</td>\n",
       "      <td>12</td>\n",
       "      <td>2696</td>\n",
       "      <td>2</td>\n",
       "      <td>18</td>\n",
       "      <td>13</td>\n",
       "      <td>7</td>\n",
       "      <td>12</td>\n",
       "      <td>5</td>\n",
       "      <td>7</td>\n",
       "      <td>7</td>\n",
       "      <td>8</td>\n",
       "      <td>6</td>\n",
       "      <td>5</td>\n",
       "      <td>5</td>\n",
       "      <td>10</td>\n",
       "      <td>7</td>\n",
       "      <td>3</td>\n",
       "      <td>7</td>\n",
       "      <td>6</td>\n",
       "      <td>3</td>\n",
       "    </tr>\n",
       "  </tbody>\n",
       "</table>\n",
       "</div>"
      ],
      "text/plain": [
       "               date_recorded  funder installer   basin  region region_code  \\\n",
       "Dtype                 object  object    object  object  object       int64   \n",
       "NbrNullValues              0    3635      3655       0       0           0   \n",
       "NbrDistinctVal           356    1897      2145       9      21          27   \n",
       "\n",
       "               district_code     lga    ward public_meeting scheme_management  \\\n",
       "Dtype                  int64  object  object         object            object   \n",
       "NbrNullValues              0       0       0           3334              3877   \n",
       "NbrDistinctVal            20     125    2092              2                12   \n",
       "\n",
       "               scheme_name  permit extraction_type extraction_type_group  \\\n",
       "Dtype               object  object          object                object   \n",
       "NbrNullValues        28166    3056               0                     0   \n",
       "NbrDistinctVal        2696       2              18                    13   \n",
       "\n",
       "               extraction_type_class management management_group payment  \\\n",
       "Dtype                         object     object           object  object   \n",
       "NbrNullValues                      0          0                0       0   \n",
       "NbrDistinctVal                     7         12                5       7   \n",
       "\n",
       "               payment_type water_quality quality_group quantity  \\\n",
       "Dtype                object        object        object   object   \n",
       "NbrNullValues             0             0             0        0   \n",
       "NbrDistinctVal            7             8             6        5   \n",
       "\n",
       "               quantity_group  source source_type source_class  \\\n",
       "Dtype                  object  object      object       object   \n",
       "NbrNullValues               0       0           0            0   \n",
       "NbrDistinctVal              5      10           7            3   \n",
       "\n",
       "               waterpoint_type waterpoint_type_group status_group  \n",
       "Dtype                   object                object       object  \n",
       "NbrNullValues                0                     0            0  \n",
       "NbrDistinctVal               7                     6            3  "
      ]
     },
     "metadata": {},
     "output_type": "display_data"
    }
   ],
   "source": [
    "summary = pd.DataFrame(np.array([train_cat.dtypes, \n",
    "                                 train_cat.isnull().sum(), \n",
    "                                 train_cat.nunique()]),\n",
    "                       index=['Dtype', 'NbrNullValues', 'NbrDistinctVal'],                                 \n",
    "                       columns=np.array(list(train_cat)))\n",
    "display(summary)\n",
    "\n",
    "# code NaN value as 'missing' \n",
    "train_cat.fillna(value='missing_value', inplace=True)"
   ]
  },
  {
   "cell_type": "markdown",
   "metadata": {},
   "source": [
    "### Categorical features to transform to dummy variables\n",
    "Feature **basin** seems to have high explanatory power (see for example *Ruvuma* and *Lake Rukwa* values with higher proportion of *non functional* than *functional* status). We keep it and we will map it to dummy variables."
   ]
  },
  {
   "cell_type": "code",
   "execution_count": 18,
   "metadata": {},
   "outputs": [
    {
     "data": {
      "text/plain": [
       "<matplotlib.axes._subplots.AxesSubplot at 0xf0c5ba8>"
      ]
     },
     "execution_count": 18,
     "metadata": {},
     "output_type": "execute_result"
    },
    {
     "data": {
      "image/png": "[encoded data removed]",
      "text/plain": [
       "<Figure size 432x288 with 1 Axes>"
      ]
     },
     "metadata": {
      "needs_background": "light"
     },
     "output_type": "display_data"
    }
   ],
   "source": [
    "sns.countplot(x='basin', hue='status_group', data=train_cat);\n",
    "col_categorical_onehot = ['basin']"
   ]
  },
  {
   "cell_type": "markdown",
   "metadata": {},
   "source": [
    "Feature **public_meeting** is a boolean feature. It will be transformed to dummy variables after mapping NAN to *missing_value*"
   ]
  },
  {
   "cell_type": "code",
   "execution_count": 19,
   "metadata": {},
   "outputs": [
    {
     "data": {
      "text/plain": [
       "<matplotlib.axes._subplots.AxesSubplot at 0xe31c438>"
      ]
     },
     "execution_count": 19,
     "metadata": {},
     "output_type": "execute_result"
    },
    {
     "data": {
      "image/png": "[encoded data removed]",
      "text/plain": [
       "<Figure size 432x288 with 1 Axes>"
      ]
     },
     "metadata": {
      "needs_background": "light"
     },
     "output_type": "display_data"
    }
   ],
   "source": [
    "sns.countplot(x='public_meeting', hue='status_group', data=train_cat);\n",
    "col_categorical_onehot.append('public_meeting')"
   ]
  },
  {
   "cell_type": "markdown",
   "metadata": {},
   "source": [
    "Feature **scheme_management** will be mapped as dummy variables.  "
   ]
  },
  {
   "cell_type": "code",
   "execution_count": 20,
   "metadata": {},
   "outputs": [
    {
     "data": {
      "text/plain": [
       "<matplotlib.axes._subplots.AxesSubplot at 0xd50a358>"
      ]
     },
     "execution_count": 20,
     "metadata": {},
     "output_type": "execute_result"
    },
    {
     "data": {
      "image/png": "[encoded data removed]",
      "text/plain": [
       "<Figure size 432x288 with 1 Axes>"
      ]
     },
     "metadata": {
      "needs_background": "light"
     },
     "output_type": "display_data"
    }
   ],
   "source": [
    "sns.countplot(x='scheme_management', hue='status_group', data=train_cat);\n",
    "col_categorical_onehot.append('scheme_management')"
   ]
  },
  {
   "cell_type": "markdown",
   "metadata": {},
   "source": [
    "Feature **permit** will be transformed to dummy variables after mapping NAN to *missing_value*"
   ]
  },
  {
   "cell_type": "code",
   "execution_count": 21,
   "metadata": {},
   "outputs": [
    {
     "data": {
      "text/plain": [
       "<matplotlib.axes._subplots.AxesSubplot at 0xe37ccc0>"
      ]
     },
     "execution_count": 21,
     "metadata": {},
     "output_type": "execute_result"
    },
    {
     "data": {
      "image/png": "[encoded data removed]",
      "text/plain": [
       "<Figure size 432x288 with 1 Axes>"
      ]
     },
     "metadata": {
      "needs_background": "light"
     },
     "output_type": "display_data"
    }
   ],
   "source": [
    "sns.countplot(x='permit', hue='status_group', data=train_cat);\n",
    "col_categorical_onehot.append('permit')"
   ]
  },
  {
   "cell_type": "markdown",
   "metadata": {},
   "source": [
    "All 3 features **extraction_type**, **extraction_type_group** and **extraction_type_class** code for similar information. The first two features contain more values but only with very low frequencies. For now, we will keep only *extraction_type_class' and map it later to dummies.  "
   ]
  },
  {
   "cell_type": "code",
   "execution_count": 22,
   "metadata": {},
   "outputs": [
    {
     "data": {
      "text/plain": [
       "<matplotlib.axes._subplots.AxesSubplot at 0xe401d68>"
      ]
     },
     "execution_count": 22,
     "metadata": {},
     "output_type": "execute_result"
    },
    {
     "data": {
      "image/png": "[encoded data removed]",
      "text/plain": [
       "<Figure size 432x288 with 1 Axes>"
      ]
     },
     "metadata": {
      "needs_background": "light"
     },
     "output_type": "display_data"
    },
    {
     "data": {
      "text/plain": [
       "<matplotlib.axes._subplots.AxesSubplot at 0xe6c06a0>"
      ]
     },
     "execution_count": 22,
     "metadata": {},
     "output_type": "execute_result"
    },
    {
     "data": {
      "image/png": "[encoded data removed]",
      "text/plain": [
       "<Figure size 432x288 with 1 Axes>"
      ]
     },
     "metadata": {
      "needs_background": "light"
     },
     "output_type": "display_data"
    },
    {
     "data": {
      "text/plain": [
       "<matplotlib.axes._subplots.AxesSubplot at 0xf110438>"
      ]
     },
     "execution_count": 22,
     "metadata": {},
     "output_type": "execute_result"
    },
    {
     "data": {
      "image/png": "[encoded data removed]",
      "text/plain": [
       "<Figure size 432x288 with 1 Axes>"
      ]
     },
     "metadata": {
      "needs_background": "light"
     },
     "output_type": "display_data"
    }
   ],
   "source": [
    "sns.countplot(x='extraction_type', hue='status_group', data=train_cat);\n",
    "plt.show()\n",
    "sns.countplot(x='extraction_type_group', hue='status_group', data=train_cat);\n",
    "plt.show()\n",
    "sns.countplot(x='extraction_type_class', hue='status_group', data=train_cat);\n",
    "col_categorical_onehot.append('extraction_type_class')"
   ]
  },
  {
   "cell_type": "markdown",
   "metadata": {},
   "source": [
    "The 2 features **management** and **management_group** do not look very informative. We drop them at least for now.  "
   ]
  },
  {
   "cell_type": "code",
   "execution_count": 23,
   "metadata": {},
   "outputs": [
    {
     "data": {
      "image/png": "[encoded data removed]",
      "text/plain": [
       "<Figure size 432x288 with 1 Axes>"
      ]
     },
     "metadata": {
      "needs_background": "light"
     },
     "output_type": "display_data"
    },
    {
     "data": {
      "image/png": "[encoded data removed]",
      "text/plain": [
       "<Figure size 432x288 with 1 Axes>"
      ]
     },
     "metadata": {
      "needs_background": "light"
     },
     "output_type": "display_data"
    }
   ],
   "source": [
    "sns.countplot(x='management', hue='status_group', data=train_cat);\n",
    "plt.show()\n",
    "sns.countplot(x='management_group', hue='status_group', data=train_cat);"
   ]
  },
  {
   "cell_type": "markdown",
   "metadata": {},
   "source": [
    "The 2 features **payment** and **payment_type** are identical. They definitively exhibit predictive power (see value *dry* for example ). We keep only *payment_type* and will map it to dummy variables."
   ]
  },
  {
   "cell_type": "code",
   "execution_count": 24,
   "metadata": {},
   "outputs": [
    {
     "data": {
      "text/plain": [
       "<matplotlib.axes._subplots.AxesSubplot at 0xf2f3f60>"
      ]
     },
     "execution_count": 24,
     "metadata": {},
     "output_type": "execute_result"
    },
    {
     "data": {
      "image/png": "[encoded data removed]",
      "text/plain": [
       "<Figure size 432x288 with 1 Axes>"
      ]
     },
     "metadata": {
      "needs_background": "light"
     },
     "output_type": "display_data"
    },
    {
     "data": {
      "text/plain": [
       "<matplotlib.axes._subplots.AxesSubplot at 0xf22e278>"
      ]
     },
     "execution_count": 24,
     "metadata": {},
     "output_type": "execute_result"
    },
    {
     "data": {
      "image/png": "[encoded data removed]",
      "text/plain": [
       "<Figure size 432x288 with 1 Axes>"
      ]
     },
     "metadata": {
      "needs_background": "light"
     },
     "output_type": "display_data"
    }
   ],
   "source": [
    "sns.countplot(x='quantity', hue='status_group', data=train_cat)\n",
    "plt.show()\n",
    "sns.countplot(x='quantity_group', hue='status_group', data=train_cat);\n",
    "col_categorical_onehot.append('quantity_group')"
   ]
  },
  {
   "cell_type": "markdown",
   "metadata": {},
   "source": [
    "The features **water_quality** and **quality_group** contain for similar information. Feature *water_quality* may be slightly more informative as it contains 2 additional values (*salty abandoned* and *fluoride abandoned*), but they have very low frequency. Since the addition informative power lokks negligeable, we keep only *quality_group* to reduce the number of dummy variables during FE."
   ]
  },
  {
   "cell_type": "code",
   "execution_count": 25,
   "metadata": {},
   "outputs": [
    {
     "data": {
      "text/plain": [
       "<matplotlib.axes._subplots.AxesSubplot at 0xd467c50>"
      ]
     },
     "execution_count": 25,
     "metadata": {},
     "output_type": "execute_result"
    },
    {
     "data": {
      "image/png": "[encoded data removed]",
      "text/plain": [
       "<Figure size 432x288 with 1 Axes>"
      ]
     },
     "metadata": {
      "needs_background": "light"
     },
     "output_type": "display_data"
    },
    {
     "data": {
      "text/plain": [
       "<matplotlib.axes._subplots.AxesSubplot at 0xf2f3390>"
      ]
     },
     "execution_count": 25,
     "metadata": {},
     "output_type": "execute_result"
    },
    {
     "data": {
      "image/png": "[encoded data removed]",
      "text/plain": [
       "<Figure size 432x288 with 1 Axes>"
      ]
     },
     "metadata": {
      "needs_background": "light"
     },
     "output_type": "display_data"
    }
   ],
   "source": [
    "sns.countplot(x='water_quality', hue='status_group', data=train_cat);\n",
    "plt.show()\n",
    "sns.countplot(x='quality_group', hue='status_group', data=train_cat);\n",
    "col_categorical_onehot.append('quality_group')"
   ]
  },
  {
   "cell_type": "markdown",
   "metadata": {},
   "source": [
    "The 2 features **quantity** and **quantity_group** are identical, we keep only *quantity_group* and will transform it to dummy variables."
   ]
  },
  {
   "cell_type": "code",
   "execution_count": 26,
   "metadata": {},
   "outputs": [
    {
     "data": {
      "text/plain": [
       "<matplotlib.axes._subplots.AxesSubplot at 0xf2587b8>"
      ]
     },
     "execution_count": 26,
     "metadata": {},
     "output_type": "execute_result"
    },
    {
     "data": {
      "image/png": "[encoded data removed]",
      "text/plain": [
       "<Figure size 432x288 with 1 Axes>"
      ]
     },
     "metadata": {
      "needs_background": "light"
     },
     "output_type": "display_data"
    },
    {
     "data": {
      "text/plain": [
       "<matplotlib.axes._subplots.AxesSubplot at 0xf951d30>"
      ]
     },
     "execution_count": 26,
     "metadata": {},
     "output_type": "execute_result"
    },
    {
     "data": {
      "image/png": "[encoded data removed]",
      "text/plain": [
       "<Figure size 432x288 with 1 Axes>"
      ]
     },
     "metadata": {
      "needs_background": "light"
     },
     "output_type": "display_data"
    }
   ],
   "source": [
    "sns.countplot(x='quantity', hue='status_group', data=train_cat)\n",
    "plt.show()\n",
    "sns.countplot(x='quantity_group', hue='status_group', data=train_cat);\n",
    "col_categorical_onehot.append('quantity_group')"
   ]
  },
  {
   "cell_type": "markdown",
   "metadata": {},
   "source": [
    "The features **source**, **source_type**, **source_class** code for related information. Feature *source* contains slightly more information than *source_type*, so we will keep it and drop *source_type*. We will also drop *source_class* since it does not look very informative."
   ]
  },
  {
   "cell_type": "code",
   "execution_count": 27,
   "metadata": {},
   "outputs": [
    {
     "data": {
      "text/plain": [
       "<matplotlib.axes._subplots.AxesSubplot at 0xf9e0668>"
      ]
     },
     "execution_count": 27,
     "metadata": {},
     "output_type": "execute_result"
    },
    {
     "data": {
      "image/png": "[encoded data removed]",
      "text/plain": [
       "<Figure size 432x288 with 1 Axes>"
      ]
     },
     "metadata": {
      "needs_background": "light"
     },
     "output_type": "display_data"
    },
    {
     "data": {
      "text/plain": [
       "<matplotlib.axes._subplots.AxesSubplot at 0x10871048>"
      ]
     },
     "execution_count": 27,
     "metadata": {},
     "output_type": "execute_result"
    },
    {
     "data": {
      "image/png": "[encoded data removed]",
      "text/plain": [
       "<Figure size 432x288 with 1 Axes>"
      ]
     },
     "metadata": {
      "needs_background": "light"
     },
     "output_type": "display_data"
    },
    {
     "data": {
      "text/plain": [
       "<matplotlib.axes._subplots.AxesSubplot at 0x10871c18>"
      ]
     },
     "execution_count": 27,
     "metadata": {},
     "output_type": "execute_result"
    },
    {
     "data": {
      "image/png": "[encoded data removed]",
      "text/plain": [
       "<Figure size 432x288 with 1 Axes>"
      ]
     },
     "metadata": {
      "needs_background": "light"
     },
     "output_type": "display_data"
    }
   ],
   "source": [
    "sns.countplot(x='source', hue='status_group', data=train_cat);\n",
    "plt.show()\n",
    "sns.countplot(x='source_type', hue='status_group', data=train_cat);\n",
    "plt.show()\n",
    "sns.countplot(x='source_class', hue='status_group', data=train_cat);\n",
    "col_categorical_onehot.append('source')"
   ]
  },
  {
   "cell_type": "markdown",
   "metadata": {},
   "source": [
    "The features **waterpoint_type** and **waterpoint_type_group** code for similar information, but *waterpoint_type* has one categorie more (*communal standpipe multiple*) and is more informative. We keep only feature *waterpoint_type* and will map it to dummy variables."
   ]
  },
  {
   "cell_type": "code",
   "execution_count": 28,
   "metadata": {},
   "outputs": [
    {
     "data": {
      "text/plain": [
       "<matplotlib.axes._subplots.AxesSubplot at 0x109756a0>"
      ]
     },
     "execution_count": 28,
     "metadata": {},
     "output_type": "execute_result"
    },
    {
     "data": {
      "image/png": "[encoded data removed]",
      "text/plain": [
       "<Figure size 432x288 with 1 Axes>"
      ]
     },
     "metadata": {
      "needs_background": "light"
     },
     "output_type": "display_data"
    },
    {
     "data": {
      "text/plain": [
       "<matplotlib.axes._subplots.AxesSubplot at 0x12968fd0>"
      ]
     },
     "execution_count": 28,
     "metadata": {},
     "output_type": "execute_result"
    },
    {
     "data": {
      "image/png": "[encoded data removed]",
      "text/plain": [
       "<Figure size 432x288 with 1 Axes>"
      ]
     },
     "metadata": {
      "needs_background": "light"
     },
     "output_type": "display_data"
    }
   ],
   "source": [
    "sns.countplot(x='waterpoint_type', hue='status_group', data=train_cat);\n",
    "plt.show()\n",
    "sns.countplot(x='waterpoint_type_group', hue='status_group', data=train_cat);\n",
    "col_categorical_onehot.append('waterpoint_type')"
   ]
  },
  {
   "cell_type": "markdown",
   "metadata": {},
   "source": [
    "### High cardinality variables\n",
    "5 variables with high cardinality: 'funder', 'installer', 'lga', 'ward', 'scheme_name' (ignore this one)\n",
    "will be process during FE by mapping them to a numeric function. Ignore them during EDA"
   ]
  },
  {
   "cell_type": "code",
   "execution_count": 29,
   "metadata": {},
   "outputs": [],
   "source": [
    "# TODO check if we include wpt_name and  subvillage \n",
    "col_high_cardinality = ['funder', 'installer', 'lga', 'ward']"
   ]
  },
  {
   "cell_type": "markdown",
   "metadata": {},
   "source": [
    "#### region and region_code\n",
    "keep one of them, treat as high cardinality"
   ]
  },
  {
   "cell_type": "code",
   "execution_count": 30,
   "metadata": {},
   "outputs": [
    {
     "data": {
      "text/plain": [
       "<matplotlib.axes._subplots.AxesSubplot at 0x129f9f28>"
      ]
     },
     "execution_count": 30,
     "metadata": {},
     "output_type": "execute_result"
    },
    {
     "data": {
      "image/png": "[encoded data removed]",
      "text/plain": [
       "<Figure size 432x288 with 1 Axes>"
      ]
     },
     "metadata": {
      "needs_background": "light"
     },
     "output_type": "display_data"
    }
   ],
   "source": [
    "sns.countplot(x='region', hue='status_group', data=train_cat);\n",
    "col_to_drop.append('region')\n",
    "col_high_cardinality.append('region_code')"
   ]
  },
  {
   "cell_type": "code",
   "execution_count": 31,
   "metadata": {},
   "outputs": [
    {
     "data": {
      "image/png": "[encoded data removed]",
      "text/plain": [
       "<Figure size 432x288 with 1 Axes>"
      ]
     },
     "metadata": {
      "needs_background": "light"
     },
     "output_type": "display_data"
    }
   ],
   "source": [
    "sns.countplot(x='region_code', hue='status_group', data=train_cat);"
   ]
  },
  {
   "cell_type": "markdown",
   "metadata": {},
   "source": [
    "#### district_code\n",
    "probably not very informative but process it as high cardinality"
   ]
  },
  {
   "cell_type": "code",
   "execution_count": 32,
   "metadata": {},
   "outputs": [
    {
     "data": {
      "text/plain": [
       "<matplotlib.axes._subplots.AxesSubplot at 0xe70d240>"
      ]
     },
     "execution_count": 32,
     "metadata": {},
     "output_type": "execute_result"
    },
    {
     "data": {
      "image/png": "[encoded data removed]",
      "text/plain": [
       "<Figure size 432x288 with 1 Axes>"
      ]
     },
     "metadata": {
      "needs_background": "light"
     },
     "output_type": "display_data"
    }
   ],
   "source": [
    "sns.countplot(x='district_code', hue='status_group', data=train_cat);\n",
    "col_high_cardinality.append('district_code')"
   ]
  },
  {
   "cell_type": "markdown",
   "metadata": {},
   "source": [
    "#### TODO EDA and FE for date_recorded"
   ]
  },
  {
   "cell_type": "markdown",
   "metadata": {},
   "source": [
    "#### Summary\n",
    "Plan for Feature Engineering of categorical variables:\n",
    "* drop 'region', 'scheme_management', 'scheme_name', 'extraction_type', 'extraction_type_class', 'payment', 'water_quality', 'quantity', 'source_type', 'source_class', 'waterpoint_type_group'\n",
    "* drop for now 'management', 'management_group'\n",
    "* process as high cardinality 'funder', 'installer', 'lga', 'ward' and 'region_code', 'district_code', 'extraction_type_group'\n",
    "* transform to dummy variables 'basin', 'payment_type', 'quality_group', 'quantity_group', 'source', 'waterpoint_type'\n",
    "* transform to dummy variables 'public_meeting', 'permit'"
   ]
  },
  {
   "cell_type": "markdown",
   "metadata": {},
   "source": [
    "## Feature Engineering"
   ]
  },
  {
   "cell_type": "code",
   "execution_count": 33,
   "metadata": {},
   "outputs": [],
   "source": [
    "# handle the target with mapping\n",
    "train_target['status_group'] = train_target['status_group'].map({'functional': 0, \n",
    "                                                                 'functional needs repair': 1, \n",
    "                                                                 'non functional': 2})"
   ]
  },
  {
   "cell_type": "markdown",
   "metadata": {},
   "source": [
    "This dataset contains several categorical variables with very high cardinality, like for example *funder* with 1897 unique values. There are 3 approaches possible to handle this type of features:\n",
    "* group together values that have close meaning (this is however not possible for variables like *funder* for which there is no clear proximity measure between different values)\n",
    "* discard values with low frequencies (possible, but this would probably be unsufficient to reduce enough the number of unique values)\n",
    "* **transform the initial feature into a continuous numerical feature**  \n",
    "\n",
    "We will use option 3, and we define 3 functions $f_F$, $f_R$ and $f_N$:\n",
    "$$f_F(x) = \\frac{N_F(x) + p_F}{N(x) + 1}$$  \n",
    "$$f_R(x) = \\frac{N_R(x) + p_R}{N(x) + 1}$$  \n",
    "$$f_N(x) = \\frac{N_N(x) + p_N}{N(x) + 1}$$ \n",
    "where:\n",
    "* $x$ is a given value of the high cardinality variable V, \n",
    "* $N_F(x)$, $N_R(x)$ and $f_N(x)$ are the number of observations with V=x and respectively equal to Functional, Repair, and Non Functional \n",
    "* $N(x)$ is the total number of observations with V=X, with $N(x) = N_F(x) + N_R(x) + f_N(x)$\n",
    "* $p_F$, $p_R$ and $p_N$ are the frequencies over the full set of status Functional, Repair, and Non Functional  \n",
    "  \n",
    "Now, it is easy to see that the sum of $f_F$, $f_R$ and $f_N$ is equal to 1 and that these 3 functions can be considered as probabilities of each status: \n",
    "$$f_F(x) + f_R(x) + f_N(x) = \\frac{N_F(x) + p_F + N_R(x) + p_R + N_N(x) + p_N}{N(x) + 1}\n",
    "= \\frac{N_F(x) + N_R(x) + N_N(x) + p_F + p_R + p_N}{N(x) + 1} = \\frac{N(x) + 1}{N(x) + 1}$$  \n",
    "\n",
    "The rationale for these functions is:\n",
    "* their value gets closer to the observed frequencies $\\frac{N_F(x)}{N(x)}$ as the number of observations $N(x)$ increases. Thus they are putting more weight on frequent values \n",
    "* they have an intuitive meaning as estimation of probabilities\n",
    "* they are defined even if the value x is not included in the training set  "
   ]
  },
  {
   "cell_type": "code",
   "execution_count": 34,
   "metadata": {},
   "outputs": [
    {
     "data": {
      "text/plain": [
       "HighCardinalityTransformer(alpha=None)"
      ]
     },
     "execution_count": 34,
     "metadata": {},
     "output_type": "execute_result"
    },
    {
     "data": {
      "text/html": [
       "<div>\n",
       "<style scoped>\n",
       "    .dataframe tbody tr th:only-of-type {\n",
       "        vertical-align: middle;\n",
       "    }\n",
       "\n",
       "    .dataframe tbody tr th {\n",
       "        vertical-align: top;\n",
       "    }\n",
       "\n",
       "    .dataframe thead th {\n",
       "        text-align: right;\n",
       "    }\n",
       "</style>\n",
       "<table border=\"1\" class=\"dataframe\">\n",
       "  <thead>\n",
       "    <tr style=\"text-align: right;\">\n",
       "      <th></th>\n",
       "      <th>region_f_0</th>\n",
       "      <th>region_f_1</th>\n",
       "      <th>region_f_2</th>\n",
       "      <th>lga_f_0</th>\n",
       "      <th>lga_f_1</th>\n",
       "      <th>lga_f_2</th>\n",
       "    </tr>\n",
       "  </thead>\n",
       "  <tbody>\n",
       "    <tr>\n",
       "      <th>0</th>\n",
       "      <td>0.782071</td>\n",
       "      <td>0.023262</td>\n",
       "      <td>0.194667</td>\n",
       "      <td>0.773597</td>\n",
       "      <td>0.019785</td>\n",
       "      <td>0.206619</td>\n",
       "    </tr>\n",
       "    <tr>\n",
       "      <th>1</th>\n",
       "      <td>0.450116</td>\n",
       "      <td>0.030537</td>\n",
       "      <td>0.519347</td>\n",
       "      <td>0.591974</td>\n",
       "      <td>0.037855</td>\n",
       "      <td>0.370171</td>\n",
       "    </tr>\n",
       "    <tr>\n",
       "      <th>2</th>\n",
       "      <td>0.623348</td>\n",
       "      <td>0.060667</td>\n",
       "      <td>0.315985</td>\n",
       "      <td>0.580801</td>\n",
       "      <td>0.016778</td>\n",
       "      <td>0.402420</td>\n",
       "    </tr>\n",
       "  </tbody>\n",
       "</table>\n",
       "</div>"
      ],
      "text/plain": [
       "   region_f_0  region_f_1  region_f_2   lga_f_0   lga_f_1   lga_f_2\n",
       "0    0.782071    0.023262    0.194667  0.773597  0.019785  0.206619\n",
       "1    0.450116    0.030537    0.519347  0.591974  0.037855  0.370171\n",
       "2    0.623348    0.060667    0.315985  0.580801  0.016778  0.402420"
      ]
     },
     "execution_count": 34,
     "metadata": {},
     "output_type": "execute_result"
    }
   ],
   "source": [
    "# define transformer to transform high cardinality variables to numerical functions\n",
    "\n",
    "#### TODO remove hardcoded labels\n",
    "\n",
    "class HighCardinalityTransformer(BaseEstimator, TransformerMixin):\n",
    "    def __init__(self, alpha=3):\n",
    "        self._frequencies = {}\n",
    "        self._label_values = []\n",
    "        self._mapper = {}\n",
    "        self._alpha = alpha\n",
    "        pass\n",
    "    \n",
    "    def fit(self, X, y):\n",
    "        # both X and y must be DF\n",
    "        # convert y to string to have a fixed and known type  \n",
    "        y_str = y.astype(str)\n",
    "        \n",
    "        # self._label_values = ['functional', 'functional needs repair', 'non functional']\n",
    "        self._label_values = ['0', '1', '2']        \n",
    "        \n",
    "        # compute frequencies over full data\n",
    "        self._default_frequencies = {}\n",
    "        for status in self._label_values: \n",
    "            self._frequencies[status] = np.count_nonzero(y_str == status) / y_str.shape[0]  \n",
    "        \n",
    "        # get list of all columns in X \n",
    "        columns_to_map = list(X)\n",
    "        \n",
    "        self._mapper = {}\n",
    "        for col in columns_to_map:\n",
    "            # create df with the variable to map and the label\n",
    "            df = pd.concat([X[col],y], axis=1)\n",
    "            df.rename(columns={y.columns.values[0]: 'y'}, inplace=True)\n",
    "            \n",
    "            # replace y with 3 columns 'y_functional', 'y_functional needs repair', 'y_non functional' with counts \n",
    "            df = pd.get_dummies(data=df, columns=['y'])\n",
    "            df = df.groupby(col).sum()\n",
    "            \n",
    "#            df['count'] = df['y_functional'] +  df['y_functional needs repair'] + df['y_non functional']\n",
    "            df['count'] = df['y_0'] +  df['y_1'] + df['y_2']            \n",
    "            # calculate the 3 probability estimates\n",
    "#            df['functional'] = (df['y_functional'] + self._frequencies['functional']) / (df['count'] + 1)\n",
    "#            df['functional needs repair'] = (df['y_functional needs repair'] + self._frequencies['functional needs repair']) / (df['count'] + 1)\n",
    "#            df['non functional'] = (df['y_non functional'] + self._frequencies['non functional']) / (df['count'] + 1) \n",
    "            df['0'] = (df['y_0'] + self._alpha *self._frequencies['0']) / (df['count'] + self._alpha)\n",
    "            df['1'] = (df['y_1'] + self._alpha * self._frequencies['1']) / (df['count'] + self._alpha)\n",
    "            df['2'] = (df['y_2'] + self._alpha * self._frequencies['2']) / (df['count'] + self._alpha) \n",
    "            \n",
    "            # create mapper with format:\n",
    "            #     {'col1': {'functional': {val1: f1, val2: f2, ...},\n",
    "            #               'functional needs repair': {val1: f1, val2: f2, ...},\n",
    "            #               'non functional': {val1: f1, val2: f2, ...}}, \n",
    "            #      'col2': ...}\n",
    "            self._mapper[col] = df[['0', '1', '2']].to_dict()\n",
    "            \n",
    "        return self\n",
    "    \n",
    "    def transform(self, X, y=None):\n",
    "        res = X.copy()\n",
    "        \n",
    "        for col_name in list(X):\n",
    "            for y_name in self._label_values:\n",
    "                mapper = self._mapper[col_name][y_name]\n",
    "                new_col = col_name + '_f_' + y_name\n",
    "                res[new_col] = X[col_name].map(mapper)\n",
    "                \n",
    "                # fill NA value with frequency of corresponding status - TODO not tested \n",
    "                res[new_col] = res[new_col].fillna(value=self._frequencies[y_name])\n",
    "             \n",
    "        #drop initial columns\n",
    "        res.drop(list(X), axis=1, inplace=True)\n",
    "        return res\n",
    "    \n",
    "    def get_frequencies(self):        \n",
    "        return self._frequencies\n",
    "    \n",
    "    def get_mapper(self):\n",
    "        return self._mapper   \n",
    "    \n",
    "# example: transform 2 categorical values to numeric functions    \n",
    "hct = HighCardinalityTransformer()\n",
    "hct.fit(train_predictors[['region','lga']], train_target[['status_group']])\n",
    "res = hct.transform(train_predictors[['region','lga']])\n",
    "res.head(3)"
   ]
  },
  {
   "cell_type": "markdown",
   "metadata": {},
   "source": [
    "#### prepare data\n"
   ]
  },
  {
   "cell_type": "code",
   "execution_count": 35,
   "metadata": {},
   "outputs": [],
   "source": [
    "# implement pipeline\n",
    "\n",
    "class DataFrameSelector(BaseEstimator, TransformerMixin):\n",
    "    '''returns a NumPy array corresponding to the attributes in the list given as argument for the constructor'''\n",
    "    def __init__(self, attribute_names):\n",
    "        self._attribute_names = attribute_names\n",
    "    \n",
    "    def fit(self, X, y=None):\n",
    "        return self\n",
    "    \n",
    "    def transform(self, X):\n",
    "        return X[self._attribute_names] #.values\n",
    "    \n",
    "num_pipeline = Pipeline([\n",
    "    ('selector', DataFrameSelector(col_numerical_fe1)),\n",
    "    ('imputer1', SimpleImputer(missing_values=0, fill_value=np.nan)),\n",
    "#    ('indicator', MissingIndicator()),  # TODO doesnot work - add_indicator not available before 0.21.3\n",
    "    ('imputer2', SimpleImputer(strategy='median')), #, add_indicator=True)),\n",
    "    ('scaler', StandardScaler()),\n",
    "    ])    \n",
    "\n",
    "# pipeline for boolean/categorical features encoded with OneHot\n",
    "cat_pipeline_1 = Pipeline([\n",
    "    ('selector', DataFrameSelector(col_categorical_onehot)),\n",
    "    ('imputer1', SimpleImputer(strategy='constant', fill_value='missing_values')),    \n",
    "    ('encoder', OneHotEncoder(sparse=False, handle_unknown='error')),  # upgrade version for drop drop \n",
    "#    ('indicator', MissingIndicator()),  # TODO doesnot work - add_indicator not available before 0.21.3  \n",
    "    ('imputer2', SimpleImputer(strategy='median')), #, add_indicator=True)),\n",
    "    ('scaler', StandardScaler()),\n",
    "    ]) \n",
    "\n",
    "# pipeline for high cardinality categorical features\n",
    "cat_hc_pipeline = Pipeline([\n",
    "    ('selector', DataFrameSelector(col_high_cardinality)),\n",
    "    ('high_cardinality', HighCardinalityTransformer()),\n",
    "#    ('indicator', MissingIndicator()),  # TODO doesnot work - add_indicator not available before 0.21.3\n",
    "    ('imputer2', SimpleImputer(strategy='median')), #, add_indicator=True)),\n",
    "    ('scaler', StandardScaler()),\n",
    "    ]) \n",
    "\n",
    "full_pipeline = FeatureUnion([\n",
    "    ('num1', num_pipeline),\n",
    "    ('cat1', cat_pipeline_1),  \n",
    "    ('hc', cat_hc_pipeline)\n",
    "    ])"
   ]
  },
  {
   "cell_type": "code",
   "execution_count": 36,
   "metadata": {},
   "outputs": [
    {
     "data": {
      "text/html": [
       "<div>\n",
       "<style scoped>\n",
       "    .dataframe tbody tr th:only-of-type {\n",
       "        vertical-align: middle;\n",
       "    }\n",
       "\n",
       "    .dataframe tbody tr th {\n",
       "        vertical-align: top;\n",
       "    }\n",
       "\n",
       "    .dataframe thead th {\n",
       "        text-align: right;\n",
       "    }\n",
       "</style>\n",
       "<table border=\"1\" class=\"dataframe\">\n",
       "  <thead>\n",
       "    <tr style=\"text-align: right;\">\n",
       "      <th></th>\n",
       "      <th>id</th>\n",
       "      <th>amount_tsh</th>\n",
       "      <th>funder</th>\n",
       "      <th>gps_height</th>\n",
       "      <th>installer</th>\n",
       "      <th>longitude</th>\n",
       "      <th>latitude</th>\n",
       "      <th>wpt_name</th>\n",
       "      <th>num_private</th>\n",
       "      <th>basin</th>\n",
       "      <th>subvillage</th>\n",
       "      <th>region</th>\n",
       "      <th>region_code</th>\n",
       "      <th>district_code</th>\n",
       "      <th>lga</th>\n",
       "      <th>ward</th>\n",
       "      <th>population</th>\n",
       "      <th>public_meeting</th>\n",
       "      <th>recorded_by</th>\n",
       "      <th>scheme_management</th>\n",
       "      <th>scheme_name</th>\n",
       "      <th>permit</th>\n",
       "      <th>construction_year</th>\n",
       "      <th>extraction_type</th>\n",
       "      <th>extraction_type_group</th>\n",
       "      <th>extraction_type_class</th>\n",
       "      <th>management</th>\n",
       "      <th>management_group</th>\n",
       "      <th>payment</th>\n",
       "      <th>payment_type</th>\n",
       "      <th>water_quality</th>\n",
       "      <th>quality_group</th>\n",
       "      <th>quantity</th>\n",
       "      <th>quantity_group</th>\n",
       "      <th>source</th>\n",
       "      <th>source_type</th>\n",
       "      <th>source_class</th>\n",
       "      <th>waterpoint_type</th>\n",
       "      <th>waterpoint_type_group</th>\n",
       "    </tr>\n",
       "  </thead>\n",
       "  <tbody>\n",
       "    <tr>\n",
       "      <th>0</th>\n",
       "      <td>69572</td>\n",
       "      <td>6000.0</td>\n",
       "      <td>Roman</td>\n",
       "      <td>1390</td>\n",
       "      <td>Roman</td>\n",
       "      <td>34.938093</td>\n",
       "      <td>-9.856322</td>\n",
       "      <td>none</td>\n",
       "      <td>0</td>\n",
       "      <td>Lake Nyasa</td>\n",
       "      <td>Mnyusi B</td>\n",
       "      <td>Iringa</td>\n",
       "      <td>11</td>\n",
       "      <td>5</td>\n",
       "      <td>Ludewa</td>\n",
       "      <td>Mundindi</td>\n",
       "      <td>109</td>\n",
       "      <td>true</td>\n",
       "      <td>GeoData Consultants Ltd</td>\n",
       "      <td>VWC</td>\n",
       "      <td>Roman</td>\n",
       "      <td>false</td>\n",
       "      <td>1999</td>\n",
       "      <td>gravity</td>\n",
       "      <td>gravity</td>\n",
       "      <td>gravity</td>\n",
       "      <td>vwc</td>\n",
       "      <td>user-group</td>\n",
       "      <td>pay annually</td>\n",
       "      <td>annually</td>\n",
       "      <td>soft</td>\n",
       "      <td>good</td>\n",
       "      <td>enough</td>\n",
       "      <td>enough</td>\n",
       "      <td>spring</td>\n",
       "      <td>spring</td>\n",
       "      <td>groundwater</td>\n",
       "      <td>communal standpipe</td>\n",
       "      <td>communal standpipe</td>\n",
       "    </tr>\n",
       "    <tr>\n",
       "      <th>1</th>\n",
       "      <td>8776</td>\n",
       "      <td>0.0</td>\n",
       "      <td>Grumeti</td>\n",
       "      <td>1399</td>\n",
       "      <td>GRUMETI</td>\n",
       "      <td>34.698766</td>\n",
       "      <td>-2.147466</td>\n",
       "      <td>Zahanati</td>\n",
       "      <td>0</td>\n",
       "      <td>Lake Victoria</td>\n",
       "      <td>Nyamara</td>\n",
       "      <td>Mara</td>\n",
       "      <td>20</td>\n",
       "      <td>2</td>\n",
       "      <td>Serengeti</td>\n",
       "      <td>Natta</td>\n",
       "      <td>280</td>\n",
       "      <td>NaN</td>\n",
       "      <td>GeoData Consultants Ltd</td>\n",
       "      <td>Other</td>\n",
       "      <td>NaN</td>\n",
       "      <td>true</td>\n",
       "      <td>2010</td>\n",
       "      <td>gravity</td>\n",
       "      <td>gravity</td>\n",
       "      <td>gravity</td>\n",
       "      <td>wug</td>\n",
       "      <td>user-group</td>\n",
       "      <td>never pay</td>\n",
       "      <td>never pay</td>\n",
       "      <td>soft</td>\n",
       "      <td>good</td>\n",
       "      <td>insufficient</td>\n",
       "      <td>insufficient</td>\n",
       "      <td>rainwater harvesting</td>\n",
       "      <td>rainwater harvesting</td>\n",
       "      <td>surface</td>\n",
       "      <td>communal standpipe</td>\n",
       "      <td>communal standpipe</td>\n",
       "    </tr>\n",
       "    <tr>\n",
       "      <th>2</th>\n",
       "      <td>34310</td>\n",
       "      <td>25.0</td>\n",
       "      <td>Lottery Club</td>\n",
       "      <td>686</td>\n",
       "      <td>World vision</td>\n",
       "      <td>37.460664</td>\n",
       "      <td>-3.821329</td>\n",
       "      <td>Kwa Mahundi</td>\n",
       "      <td>0</td>\n",
       "      <td>Pangani</td>\n",
       "      <td>Majengo</td>\n",
       "      <td>Manyara</td>\n",
       "      <td>21</td>\n",
       "      <td>4</td>\n",
       "      <td>Simanjiro</td>\n",
       "      <td>Ngorika</td>\n",
       "      <td>250</td>\n",
       "      <td>true</td>\n",
       "      <td>GeoData Consultants Ltd</td>\n",
       "      <td>VWC</td>\n",
       "      <td>Nyumba ya mungu pipe scheme</td>\n",
       "      <td>true</td>\n",
       "      <td>2009</td>\n",
       "      <td>gravity</td>\n",
       "      <td>gravity</td>\n",
       "      <td>gravity</td>\n",
       "      <td>vwc</td>\n",
       "      <td>user-group</td>\n",
       "      <td>pay per bucket</td>\n",
       "      <td>per bucket</td>\n",
       "      <td>soft</td>\n",
       "      <td>good</td>\n",
       "      <td>enough</td>\n",
       "      <td>enough</td>\n",
       "      <td>dam</td>\n",
       "      <td>dam</td>\n",
       "      <td>surface</td>\n",
       "      <td>communal standpipe multiple</td>\n",
       "      <td>communal standpipe</td>\n",
       "    </tr>\n",
       "  </tbody>\n",
       "</table>\n",
       "</div>"
      ],
      "text/plain": [
       "      id  amount_tsh        funder  gps_height     installer  longitude  \\\n",
       "0  69572      6000.0         Roman        1390         Roman  34.938093   \n",
       "1   8776         0.0       Grumeti        1399       GRUMETI  34.698766   \n",
       "2  34310        25.0  Lottery Club         686  World vision  37.460664   \n",
       "\n",
       "   latitude     wpt_name  num_private          basin subvillage   region  \\\n",
       "0 -9.856322         none            0     Lake Nyasa   Mnyusi B   Iringa   \n",
       "1 -2.147466     Zahanati            0  Lake Victoria    Nyamara     Mara   \n",
       "2 -3.821329  Kwa Mahundi            0        Pangani    Majengo  Manyara   \n",
       "\n",
       "   region_code  district_code        lga      ward  population public_meeting  \\\n",
       "0           11              5     Ludewa  Mundindi         109           true   \n",
       "1           20              2  Serengeti     Natta         280            NaN   \n",
       "2           21              4  Simanjiro   Ngorika         250           true   \n",
       "\n",
       "               recorded_by scheme_management                  scheme_name  \\\n",
       "0  GeoData Consultants Ltd               VWC                        Roman   \n",
       "1  GeoData Consultants Ltd             Other                          NaN   \n",
       "2  GeoData Consultants Ltd               VWC  Nyumba ya mungu pipe scheme   \n",
       "\n",
       "  permit  construction_year extraction_type extraction_type_group  \\\n",
       "0  false               1999         gravity               gravity   \n",
       "1   true               2010         gravity               gravity   \n",
       "2   true               2009         gravity               gravity   \n",
       "\n",
       "  extraction_type_class management management_group         payment  \\\n",
       "0               gravity        vwc       user-group    pay annually   \n",
       "1               gravity        wug       user-group       never pay   \n",
       "2               gravity        vwc       user-group  pay per bucket   \n",
       "\n",
       "  payment_type water_quality quality_group      quantity quantity_group  \\\n",
       "0     annually          soft          good        enough         enough   \n",
       "1    never pay          soft          good  insufficient   insufficient   \n",
       "2   per bucket          soft          good        enough         enough   \n",
       "\n",
       "                 source           source_type source_class  \\\n",
       "0                spring                spring  groundwater   \n",
       "1  rainwater harvesting  rainwater harvesting      surface   \n",
       "2                   dam                   dam      surface   \n",
       "\n",
       "               waterpoint_type waterpoint_type_group  \n",
       "0           communal standpipe    communal standpipe  \n",
       "1           communal standpipe    communal standpipe  \n",
       "2  communal standpipe multiple    communal standpipe  "
      ]
     },
     "execution_count": 36,
     "metadata": {},
     "output_type": "execute_result"
    }
   ],
   "source": [
    "def prepare_X(X):\n",
    "    df = X.copy()\n",
    "    \n",
    "    # group similar values\n",
    "    df.loc[:,'scheme_management'] = df['scheme_management'].replace(to_replace='None', value='Other')\n",
    "    df.loc[:,'scheme_management'] = df['scheme_management'].replace(to_replace='missing', value='Other')\n",
    "    \n",
    "    # TODO - REMOVE ONCE DONE \n",
    "    df.drop(labels='date_recorded', axis=1, inplace=True)\n",
    "    \n",
    "    # transform boolean features to string\n",
    "    for col in ['public_meeting', 'permit']:\n",
    "        df.loc[:,col] = df[col].map({True: 'true', False: 'false'}, na_action='ignore')\n",
    "    \n",
    "    return df    \n",
    "   \n",
    "X_prep = prepare_X(train_predictors)  \n",
    "X_prep.head(3)"
   ]
  },
  {
   "cell_type": "code",
   "execution_count": 37,
   "metadata": {},
   "outputs": [
    {
     "name": "stdout",
     "output_type": "stream",
     "text": [
      "(59400, 91)\n"
     ]
    }
   ],
   "source": [
    "X_prep = full_pipeline.fit_transform(X_prep, train_target[['status_group']])\n",
    "print(X_prep.shape)\n",
    "\n",
    "# get train and test set \n",
    "X_train, X_test, y_train, y_test = train_test_split(X_prep, train_target[['status_group']], test_size=0.20, random_state=42)"
   ]
  },
  {
   "cell_type": "markdown",
   "metadata": {},
   "source": [
    "## Shortlist candidate models"
   ]
  },
  {
   "cell_type": "code",
   "execution_count": 38,
   "metadata": {},
   "outputs": [
    {
     "name": "stderr",
     "output_type": "stream",
     "text": [
      "C:\\Users\\CEDRIC\\Anaconda3\\envs\\datascience\\lib\\site-packages\\ipykernel_launcher.py:2: DataConversionWarning: A column-vector y was passed when a 1d array was expected. Please change the shape of y to (n_samples, ), for example using ravel().\n",
      "  \n"
     ]
    },
    {
     "data": {
      "text/plain": [
       "KNeighborsClassifier(algorithm='auto', leaf_size=30, metric='minkowski',\n",
       "           metric_params=None, n_jobs=None, n_neighbors=3, p=1,\n",
       "           weights='uniform')"
      ]
     },
     "execution_count": 38,
     "metadata": {},
     "output_type": "execute_result"
    },
    {
     "name": "stdout",
     "output_type": "stream",
     "text": [
      "accuracy = 0.7860\n"
     ]
    }
   ],
   "source": [
    "knn = KNeighborsClassifier(n_neighbors=3, p=1)\n",
    "knn.fit(X_train, y_train) \n",
    "\n",
    "y_pred = knn.predict(X_test)\n",
    "\n",
    "from sklearn.metrics import accuracy_score\n",
    "accuracy = accuracy_score(y_test, y_pred)\n",
    "print('accuracy = {:.4f}'.format(accuracy))"
   ]
  },
  {
   "cell_type": "code",
   "execution_count": 39,
   "metadata": {},
   "outputs": [],
   "source": [
    "# TODO - to implement later\n",
    "#dtc = DecisionTreeClassifier(random_state=0)\n",
    "\n",
    "#dtc.fit(X_train, y_train)  \n",
    "\n",
    "#y_pred = dtc.predict(X_test)\n",
    "#accuracy = accuracy_score(y_test, y_pred)\n",
    "#print('accuracy = {:.4f}'.format(accuracy))"
   ]
  },
  {
   "cell_type": "markdown",
   "metadata": {},
   "source": [
    "# Make submision\n"
   ]
  },
  {
   "cell_type": "code",
   "execution_count": 40,
   "metadata": {},
   "outputs": [],
   "source": [
    "# read test data\n",
    "test_predictors = pd.read_csv('./input/test_X.csv')\n",
    "# do basic FE\n",
    "X_test = prepare_X(test_predictors) \n",
    "X_test = full_pipeline.transform(X_test)\n",
    "\n",
    "y_test = knn.predict(X_test)"
   ]
  },
  {
   "cell_type": "code",
   "execution_count": 41,
   "metadata": {},
   "outputs": [],
   "source": [
    "submission = test_predictors[['id']].copy()\n",
    "submission['status_group'] = y_test\n",
    "submission['status_group'] = submission['status_group'].map({0: 'functional', \n",
    "                                                             1: 'functional needs repair', \n",
    "                                                             2: 'non functional'})"
   ]
  },
  {
   "cell_type": "code",
   "execution_count": 42,
   "metadata": {},
   "outputs": [],
   "source": [
    "submission.to_csv('./output/submission.csv', \n",
    "                columns=['id', 'status_group'],\n",
    "                header=True,\n",
    "                index=False)"
   ]
  },
  {
   "cell_type": "code",
   "execution_count": null,
   "metadata": {},
   "outputs": [],
   "source": []
  }
 ],
 "metadata": {
  "kernelspec": {
   "display_name": "Python 3",
   "language": "python",
   "name": "python3"
  },
  "language_info": {
   "codemirror_mode": {
    "name": "ipython",
    "version": 3
   },
   "file_extension": ".py",
   "mimetype": "text/x-python",
   "name": "python",
   "nbconvert_exporter": "python",
   "pygments_lexer": "ipython3",
   "version": "3.7.3"
  }
 },
 "nbformat": 4,
 "nbformat_minor": 2
}
