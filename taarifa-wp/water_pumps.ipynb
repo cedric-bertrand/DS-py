{
 "cells": [
  {
   "cell_type": "markdown",
   "metadata": {},
   "source": [
    "# Predicting the functional status of public water pumps in Tanzania"
   ]
  },
  {
   "cell_type": "code",
   "execution_count": 35,
   "metadata": {},
   "outputs": [],
   "source": [
    "# to print all outputs in a cell instead of just the last one \n",
    "from IPython.core.interactiveshell import InteractiveShell  \n",
    "InteractiveShell.ast_node_interactivity = 'all'  # 'last_expr' to revert to default behaviour \n",
    "\n",
    "# import\n",
    "import numpy as np\n",
    "import pandas as pd\n",
    "\n",
    "# visualisation\n",
    "import matplotlib.pyplot as plt\n",
    "#set figure size\n",
    "plt.rcParams['figure.figsize'] = 9, 6\n",
    "import seaborn as sns\n",
    "sns.set_style('whitegrid')   \n",
    "\n",
    "# to build specific estimators\n",
    "from sklearn.base import BaseEstimator, TransformerMixin\n",
    "\n",
    "#from sklearn.model_selection import train_test_split, GridSearchCV, PredefinedSplit\n",
    "#from sklearn.tree import DecisionTreeClassifier \n",
    "#from sklearn.metrics import f1_score\n",
    "\n",
    "# to display all columns of dataframe \n",
    "pd.set_option('display.max_columns', 50)"
   ]
  },
  {
   "cell_type": "code",
   "execution_count": 2,
   "metadata": {},
   "outputs": [],
   "source": [
    "# read data files\n",
    "train_predictors = pd.read_csv('./input/training_X.csv')\n",
    "train_target = pd.read_csv('./input/training_y.csv')\n",
    "# create dataset with both label and independent variables\n",
    "train_set = pd.concat([train_target[['status_group']], train_predictors], axis=1, sort=False)"
   ]
  },
  {
   "cell_type": "markdown",
   "metadata": {},
   "source": [
    "## EDA\n",
    "59400 observations x  40 features"
   ]
  },
  {
   "cell_type": "code",
   "execution_count": 3,
   "metadata": {},
   "outputs": [
    {
     "name": "stdout",
     "output_type": "stream",
     "text": [
      "Dimensions of training set = 59400 observations x  40 features\n"
     ]
    },
    {
     "data": {
      "text/html": [
       "<div>\n",
       "<style scoped>\n",
       "    .dataframe tbody tr th:only-of-type {\n",
       "        vertical-align: middle;\n",
       "    }\n",
       "\n",
       "    .dataframe tbody tr th {\n",
       "        vertical-align: top;\n",
       "    }\n",
       "\n",
       "    .dataframe thead th {\n",
       "        text-align: right;\n",
       "    }\n",
       "</style>\n",
       "<table border=\"1\" class=\"dataframe\">\n",
       "  <thead>\n",
       "    <tr style=\"text-align: right;\">\n",
       "      <th></th>\n",
       "      <th>status_group</th>\n",
       "      <th>id</th>\n",
       "      <th>amount_tsh</th>\n",
       "      <th>date_recorded</th>\n",
       "      <th>funder</th>\n",
       "      <th>gps_height</th>\n",
       "      <th>installer</th>\n",
       "      <th>longitude</th>\n",
       "      <th>latitude</th>\n",
       "      <th>wpt_name</th>\n",
       "      <th>num_private</th>\n",
       "      <th>basin</th>\n",
       "      <th>subvillage</th>\n",
       "      <th>region</th>\n",
       "      <th>region_code</th>\n",
       "      <th>district_code</th>\n",
       "      <th>lga</th>\n",
       "      <th>ward</th>\n",
       "      <th>population</th>\n",
       "      <th>public_meeting</th>\n",
       "      <th>recorded_by</th>\n",
       "      <th>scheme_management</th>\n",
       "      <th>scheme_name</th>\n",
       "      <th>permit</th>\n",
       "      <th>construction_year</th>\n",
       "      <th>extraction_type</th>\n",
       "      <th>extraction_type_group</th>\n",
       "      <th>extraction_type_class</th>\n",
       "      <th>management</th>\n",
       "      <th>management_group</th>\n",
       "      <th>payment</th>\n",
       "      <th>payment_type</th>\n",
       "      <th>water_quality</th>\n",
       "      <th>quality_group</th>\n",
       "      <th>quantity</th>\n",
       "      <th>quantity_group</th>\n",
       "      <th>source</th>\n",
       "      <th>source_type</th>\n",
       "      <th>source_class</th>\n",
       "      <th>waterpoint_type</th>\n",
       "      <th>waterpoint_type_group</th>\n",
       "    </tr>\n",
       "  </thead>\n",
       "  <tbody>\n",
       "    <tr>\n",
       "      <th>8246</th>\n",
       "      <td>functional</td>\n",
       "      <td>56151</td>\n",
       "      <td>0.0</td>\n",
       "      <td>2011-03-25</td>\n",
       "      <td>Lvia</td>\n",
       "      <td>0</td>\n",
       "      <td>commu</td>\n",
       "      <td>36.406365</td>\n",
       "      <td>-6.211546</td>\n",
       "      <td>Kwa Foibe</td>\n",
       "      <td>0</td>\n",
       "      <td>Wami / Ruvu</td>\n",
       "      <td>NaN</td>\n",
       "      <td>Dodoma</td>\n",
       "      <td>1</td>\n",
       "      <td>3</td>\n",
       "      <td>Kongwa</td>\n",
       "      <td>Kongwa Urban</td>\n",
       "      <td>0</td>\n",
       "      <td>True</td>\n",
       "      <td>GeoData Consultants Ltd</td>\n",
       "      <td>VWC</td>\n",
       "      <td>Mlan</td>\n",
       "      <td>False</td>\n",
       "      <td>0</td>\n",
       "      <td>gravity</td>\n",
       "      <td>gravity</td>\n",
       "      <td>gravity</td>\n",
       "      <td>vwc</td>\n",
       "      <td>user-group</td>\n",
       "      <td>never pay</td>\n",
       "      <td>never pay</td>\n",
       "      <td>soft</td>\n",
       "      <td>good</td>\n",
       "      <td>insufficient</td>\n",
       "      <td>insufficient</td>\n",
       "      <td>spring</td>\n",
       "      <td>spring</td>\n",
       "      <td>groundwater</td>\n",
       "      <td>communal standpipe</td>\n",
       "      <td>communal standpipe</td>\n",
       "    </tr>\n",
       "    <tr>\n",
       "      <th>3652</th>\n",
       "      <td>non functional</td>\n",
       "      <td>51717</td>\n",
       "      <td>1.0</td>\n",
       "      <td>2011-03-13</td>\n",
       "      <td>District Council</td>\n",
       "      <td>-20</td>\n",
       "      <td>DWE</td>\n",
       "      <td>38.977494</td>\n",
       "      <td>-5.427067</td>\n",
       "      <td>Kwa Mama Songoro</td>\n",
       "      <td>0</td>\n",
       "      <td>Pangani</td>\n",
       "      <td>Malindi</td>\n",
       "      <td>Tanga</td>\n",
       "      <td>4</td>\n",
       "      <td>5</td>\n",
       "      <td>Pangani</td>\n",
       "      <td>Pangani Mashariki</td>\n",
       "      <td>3000</td>\n",
       "      <td>False</td>\n",
       "      <td>GeoData Consultants Ltd</td>\n",
       "      <td>VWC</td>\n",
       "      <td>NaN</td>\n",
       "      <td>False</td>\n",
       "      <td>1963</td>\n",
       "      <td>submersible</td>\n",
       "      <td>submersible</td>\n",
       "      <td>submersible</td>\n",
       "      <td>vwc</td>\n",
       "      <td>user-group</td>\n",
       "      <td>pay per bucket</td>\n",
       "      <td>per bucket</td>\n",
       "      <td>salty</td>\n",
       "      <td>salty</td>\n",
       "      <td>insufficient</td>\n",
       "      <td>insufficient</td>\n",
       "      <td>machine dbh</td>\n",
       "      <td>borehole</td>\n",
       "      <td>groundwater</td>\n",
       "      <td>communal standpipe</td>\n",
       "      <td>communal standpipe</td>\n",
       "    </tr>\n",
       "    <tr>\n",
       "      <th>51232</th>\n",
       "      <td>non functional</td>\n",
       "      <td>30914</td>\n",
       "      <td>0.0</td>\n",
       "      <td>2012-10-17</td>\n",
       "      <td>World Vision</td>\n",
       "      <td>0</td>\n",
       "      <td>Consuting Engineer</td>\n",
       "      <td>33.018337</td>\n",
       "      <td>-4.160917</td>\n",
       "      <td>Mbugani Nzega Mpya</td>\n",
       "      <td>0</td>\n",
       "      <td>Internal</td>\n",
       "      <td>Nzega Mpya</td>\n",
       "      <td>Tabora</td>\n",
       "      <td>14</td>\n",
       "      <td>1</td>\n",
       "      <td>Nzega</td>\n",
       "      <td>Itobo</td>\n",
       "      <td>0</td>\n",
       "      <td>False</td>\n",
       "      <td>GeoData Consultants Ltd</td>\n",
       "      <td>VWC</td>\n",
       "      <td>NaN</td>\n",
       "      <td>False</td>\n",
       "      <td>0</td>\n",
       "      <td>other</td>\n",
       "      <td>other</td>\n",
       "      <td>other</td>\n",
       "      <td>vwc</td>\n",
       "      <td>user-group</td>\n",
       "      <td>never pay</td>\n",
       "      <td>never pay</td>\n",
       "      <td>soft</td>\n",
       "      <td>good</td>\n",
       "      <td>seasonal</td>\n",
       "      <td>seasonal</td>\n",
       "      <td>shallow well</td>\n",
       "      <td>shallow well</td>\n",
       "      <td>groundwater</td>\n",
       "      <td>other</td>\n",
       "      <td>other</td>\n",
       "    </tr>\n",
       "  </tbody>\n",
       "</table>\n",
       "</div>"
      ],
      "text/plain": [
       "         status_group     id  amount_tsh date_recorded            funder  \\\n",
       "8246       functional  56151         0.0    2011-03-25              Lvia   \n",
       "3652   non functional  51717         1.0    2011-03-13  District Council   \n",
       "51232  non functional  30914         0.0    2012-10-17      World Vision   \n",
       "\n",
       "       gps_height           installer  longitude  latitude  \\\n",
       "8246            0               commu  36.406365 -6.211546   \n",
       "3652          -20                 DWE  38.977494 -5.427067   \n",
       "51232           0  Consuting Engineer  33.018337 -4.160917   \n",
       "\n",
       "                 wpt_name  num_private        basin  subvillage  region  \\\n",
       "8246            Kwa Foibe            0  Wami / Ruvu         NaN  Dodoma   \n",
       "3652     Kwa Mama Songoro            0      Pangani     Malindi   Tanga   \n",
       "51232  Mbugani Nzega Mpya            0     Internal  Nzega Mpya  Tabora   \n",
       "\n",
       "       region_code  district_code      lga               ward  population  \\\n",
       "8246             1              3   Kongwa       Kongwa Urban           0   \n",
       "3652             4              5  Pangani  Pangani Mashariki        3000   \n",
       "51232           14              1    Nzega              Itobo           0   \n",
       "\n",
       "      public_meeting              recorded_by scheme_management scheme_name  \\\n",
       "8246            True  GeoData Consultants Ltd               VWC        Mlan   \n",
       "3652           False  GeoData Consultants Ltd               VWC         NaN   \n",
       "51232          False  GeoData Consultants Ltd               VWC         NaN   \n",
       "\n",
       "      permit  construction_year extraction_type extraction_type_group  \\\n",
       "8246   False                  0         gravity               gravity   \n",
       "3652   False               1963     submersible           submersible   \n",
       "51232  False                  0           other                 other   \n",
       "\n",
       "      extraction_type_class management management_group         payment  \\\n",
       "8246                gravity        vwc       user-group       never pay   \n",
       "3652            submersible        vwc       user-group  pay per bucket   \n",
       "51232                 other        vwc       user-group       never pay   \n",
       "\n",
       "      payment_type water_quality quality_group      quantity quantity_group  \\\n",
       "8246     never pay          soft          good  insufficient   insufficient   \n",
       "3652    per bucket         salty         salty  insufficient   insufficient   \n",
       "51232    never pay          soft          good      seasonal       seasonal   \n",
       "\n",
       "             source   source_type source_class     waterpoint_type  \\\n",
       "8246         spring        spring  groundwater  communal standpipe   \n",
       "3652    machine dbh      borehole  groundwater  communal standpipe   \n",
       "51232  shallow well  shallow well  groundwater               other   \n",
       "\n",
       "      waterpoint_type_group  \n",
       "8246     communal standpipe  \n",
       "3652     communal standpipe  \n",
       "51232                 other  "
      ]
     },
     "execution_count": 3,
     "metadata": {},
     "output_type": "execute_result"
    }
   ],
   "source": [
    "print('Dimensions of training set = {:d} observations x  {:d} features'.format(train_predictors.shape[0], train_predictors.shape[1]))\n",
    "train_set.sample(3)"
   ]
  },
  {
   "cell_type": "markdown",
   "metadata": {},
   "source": [
    "### Target"
   ]
  },
  {
   "cell_type": "code",
   "execution_count": 4,
   "metadata": {},
   "outputs": [
    {
     "data": {
      "text/plain": [
       "functional                 0.543081\n",
       "non functional             0.384242\n",
       "functional needs repair    0.072677\n",
       "Name: status_group, dtype: float64"
      ]
     },
     "execution_count": 4,
     "metadata": {},
     "output_type": "execute_result"
    }
   ],
   "source": [
    "train_set['status_group'].value_counts(normalize=True)"
   ]
  },
  {
   "cell_type": "markdown",
   "metadata": {},
   "source": [
    "### Independant variables\n",
    "\n",
    "Several categorical variables have missing values: funder, installer, subvillage, public meeting, scheme_management and scheme_name, permit.  \n",
    "There is apparently no missing values for numerical variables.  \n",
    "The variables *id* (id of each pump) and *recorded_by* (only one distinct value) have no explicative value and can ignored. "
   ]
  },
  {
   "cell_type": "code",
   "execution_count": 5,
   "metadata": {},
   "outputs": [
    {
     "data": {
      "text/html": [
       "<div>\n",
       "<style scoped>\n",
       "    .dataframe tbody tr th:only-of-type {\n",
       "        vertical-align: middle;\n",
       "    }\n",
       "\n",
       "    .dataframe tbody tr th {\n",
       "        vertical-align: top;\n",
       "    }\n",
       "\n",
       "    .dataframe thead th {\n",
       "        text-align: right;\n",
       "    }\n",
       "</style>\n",
       "<table border=\"1\" class=\"dataframe\">\n",
       "  <thead>\n",
       "    <tr style=\"text-align: right;\">\n",
       "      <th></th>\n",
       "      <th>id</th>\n",
       "      <th>amount_tsh</th>\n",
       "      <th>date_recorded</th>\n",
       "      <th>funder</th>\n",
       "      <th>gps_height</th>\n",
       "      <th>installer</th>\n",
       "      <th>longitude</th>\n",
       "      <th>latitude</th>\n",
       "      <th>wpt_name</th>\n",
       "      <th>num_private</th>\n",
       "      <th>basin</th>\n",
       "      <th>subvillage</th>\n",
       "      <th>region</th>\n",
       "      <th>region_code</th>\n",
       "      <th>district_code</th>\n",
       "      <th>lga</th>\n",
       "      <th>ward</th>\n",
       "      <th>population</th>\n",
       "      <th>public_meeting</th>\n",
       "      <th>recorded_by</th>\n",
       "      <th>scheme_management</th>\n",
       "      <th>scheme_name</th>\n",
       "      <th>permit</th>\n",
       "      <th>construction_year</th>\n",
       "      <th>extraction_type</th>\n",
       "      <th>extraction_type_group</th>\n",
       "      <th>extraction_type_class</th>\n",
       "      <th>management</th>\n",
       "      <th>management_group</th>\n",
       "      <th>payment</th>\n",
       "      <th>payment_type</th>\n",
       "      <th>water_quality</th>\n",
       "      <th>quality_group</th>\n",
       "      <th>quantity</th>\n",
       "      <th>quantity_group</th>\n",
       "      <th>source</th>\n",
       "      <th>source_type</th>\n",
       "      <th>source_class</th>\n",
       "      <th>waterpoint_type</th>\n",
       "      <th>waterpoint_type_group</th>\n",
       "    </tr>\n",
       "  </thead>\n",
       "  <tbody>\n",
       "    <tr>\n",
       "      <th>Dtype</th>\n",
       "      <td>int64</td>\n",
       "      <td>float64</td>\n",
       "      <td>object</td>\n",
       "      <td>object</td>\n",
       "      <td>int64</td>\n",
       "      <td>object</td>\n",
       "      <td>float64</td>\n",
       "      <td>float64</td>\n",
       "      <td>object</td>\n",
       "      <td>int64</td>\n",
       "      <td>object</td>\n",
       "      <td>object</td>\n",
       "      <td>object</td>\n",
       "      <td>int64</td>\n",
       "      <td>int64</td>\n",
       "      <td>object</td>\n",
       "      <td>object</td>\n",
       "      <td>int64</td>\n",
       "      <td>object</td>\n",
       "      <td>object</td>\n",
       "      <td>object</td>\n",
       "      <td>object</td>\n",
       "      <td>object</td>\n",
       "      <td>int64</td>\n",
       "      <td>object</td>\n",
       "      <td>object</td>\n",
       "      <td>object</td>\n",
       "      <td>object</td>\n",
       "      <td>object</td>\n",
       "      <td>object</td>\n",
       "      <td>object</td>\n",
       "      <td>object</td>\n",
       "      <td>object</td>\n",
       "      <td>object</td>\n",
       "      <td>object</td>\n",
       "      <td>object</td>\n",
       "      <td>object</td>\n",
       "      <td>object</td>\n",
       "      <td>object</td>\n",
       "      <td>object</td>\n",
       "    </tr>\n",
       "    <tr>\n",
       "      <th>NbrNullValues</th>\n",
       "      <td>0</td>\n",
       "      <td>0</td>\n",
       "      <td>0</td>\n",
       "      <td>3635</td>\n",
       "      <td>0</td>\n",
       "      <td>3655</td>\n",
       "      <td>0</td>\n",
       "      <td>0</td>\n",
       "      <td>0</td>\n",
       "      <td>0</td>\n",
       "      <td>0</td>\n",
       "      <td>371</td>\n",
       "      <td>0</td>\n",
       "      <td>0</td>\n",
       "      <td>0</td>\n",
       "      <td>0</td>\n",
       "      <td>0</td>\n",
       "      <td>0</td>\n",
       "      <td>3334</td>\n",
       "      <td>0</td>\n",
       "      <td>3877</td>\n",
       "      <td>28166</td>\n",
       "      <td>3056</td>\n",
       "      <td>0</td>\n",
       "      <td>0</td>\n",
       "      <td>0</td>\n",
       "      <td>0</td>\n",
       "      <td>0</td>\n",
       "      <td>0</td>\n",
       "      <td>0</td>\n",
       "      <td>0</td>\n",
       "      <td>0</td>\n",
       "      <td>0</td>\n",
       "      <td>0</td>\n",
       "      <td>0</td>\n",
       "      <td>0</td>\n",
       "      <td>0</td>\n",
       "      <td>0</td>\n",
       "      <td>0</td>\n",
       "      <td>0</td>\n",
       "    </tr>\n",
       "    <tr>\n",
       "      <th>NbrDistinctVal</th>\n",
       "      <td>59400</td>\n",
       "      <td>98</td>\n",
       "      <td>356</td>\n",
       "      <td>1897</td>\n",
       "      <td>2428</td>\n",
       "      <td>2145</td>\n",
       "      <td>57516</td>\n",
       "      <td>57517</td>\n",
       "      <td>37400</td>\n",
       "      <td>65</td>\n",
       "      <td>9</td>\n",
       "      <td>19287</td>\n",
       "      <td>21</td>\n",
       "      <td>27</td>\n",
       "      <td>20</td>\n",
       "      <td>125</td>\n",
       "      <td>2092</td>\n",
       "      <td>1049</td>\n",
       "      <td>2</td>\n",
       "      <td>1</td>\n",
       "      <td>12</td>\n",
       "      <td>2696</td>\n",
       "      <td>2</td>\n",
       "      <td>55</td>\n",
       "      <td>18</td>\n",
       "      <td>13</td>\n",
       "      <td>7</td>\n",
       "      <td>12</td>\n",
       "      <td>5</td>\n",
       "      <td>7</td>\n",
       "      <td>7</td>\n",
       "      <td>8</td>\n",
       "      <td>6</td>\n",
       "      <td>5</td>\n",
       "      <td>5</td>\n",
       "      <td>10</td>\n",
       "      <td>7</td>\n",
       "      <td>3</td>\n",
       "      <td>7</td>\n",
       "      <td>6</td>\n",
       "    </tr>\n",
       "  </tbody>\n",
       "</table>\n",
       "</div>"
      ],
      "text/plain": [
       "                   id amount_tsh date_recorded  funder gps_height installer  \\\n",
       "Dtype           int64    float64        object  object      int64    object   \n",
       "NbrNullValues       0          0             0    3635          0      3655   \n",
       "NbrDistinctVal  59400         98           356    1897       2428      2145   \n",
       "\n",
       "               longitude latitude wpt_name num_private   basin subvillage  \\\n",
       "Dtype            float64  float64   object       int64  object     object   \n",
       "NbrNullValues          0        0        0           0       0        371   \n",
       "NbrDistinctVal     57516    57517    37400          65       9      19287   \n",
       "\n",
       "                region region_code district_code     lga    ward population  \\\n",
       "Dtype           object       int64         int64  object  object      int64   \n",
       "NbrNullValues        0           0             0       0       0          0   \n",
       "NbrDistinctVal      21          27            20     125    2092       1049   \n",
       "\n",
       "               public_meeting recorded_by scheme_management scheme_name  \\\n",
       "Dtype                  object      object            object      object   \n",
       "NbrNullValues            3334           0              3877       28166   \n",
       "NbrDistinctVal              2           1                12        2696   \n",
       "\n",
       "                permit construction_year extraction_type  \\\n",
       "Dtype           object             int64          object   \n",
       "NbrNullValues     3056                 0               0   \n",
       "NbrDistinctVal       2                55              18   \n",
       "\n",
       "               extraction_type_group extraction_type_class management  \\\n",
       "Dtype                         object                object     object   \n",
       "NbrNullValues                      0                     0          0   \n",
       "NbrDistinctVal                    13                     7         12   \n",
       "\n",
       "               management_group payment payment_type water_quality  \\\n",
       "Dtype                    object  object       object        object   \n",
       "NbrNullValues                 0       0            0             0   \n",
       "NbrDistinctVal                5       7            7             8   \n",
       "\n",
       "               quality_group quantity quantity_group  source source_type  \\\n",
       "Dtype                 object   object         object  object      object   \n",
       "NbrNullValues              0        0              0       0           0   \n",
       "NbrDistinctVal             6        5              5      10           7   \n",
       "\n",
       "               source_class waterpoint_type waterpoint_type_group  \n",
       "Dtype                object          object                object  \n",
       "NbrNullValues             0               0                     0  \n",
       "NbrDistinctVal            3               7                     6  "
      ]
     },
     "metadata": {},
     "output_type": "display_data"
    }
   ],
   "source": [
    "summary = pd.DataFrame(np.array([train_predictors.dtypes, \n",
    "                                 train_predictors.isnull().sum(), \n",
    "                                 train_predictors.nunique()]),\n",
    "                       index=['Dtype', 'NbrNullValues', 'NbrDistinctVal'],                                 \n",
    "                       columns=np.array(list(train_predictors)))\n",
    "display(summary)"
   ]
  },
  {
   "cell_type": "markdown",
   "metadata": {},
   "source": [
    "### Numerical variables\n",
    "\n",
    "Several numerical variables preset a high number of 0 values, which probably corresponds to missing value."
   ]
  },
  {
   "cell_type": "code",
   "execution_count": 17,
   "metadata": {},
   "outputs": [
    {
     "data": {
      "text/html": [
       "<div>\n",
       "<style scoped>\n",
       "    .dataframe tbody tr th:only-of-type {\n",
       "        vertical-align: middle;\n",
       "    }\n",
       "\n",
       "    .dataframe tbody tr th {\n",
       "        vertical-align: top;\n",
       "    }\n",
       "\n",
       "    .dataframe thead th {\n",
       "        text-align: right;\n",
       "    }\n",
       "</style>\n",
       "<table border=\"1\" class=\"dataframe\">\n",
       "  <thead>\n",
       "    <tr style=\"text-align: right;\">\n",
       "      <th></th>\n",
       "      <th>amount_tsh</th>\n",
       "      <th>gps_height</th>\n",
       "      <th>longitude</th>\n",
       "      <th>latitude</th>\n",
       "      <th>num_private</th>\n",
       "      <th>region_code</th>\n",
       "      <th>district_code</th>\n",
       "      <th>population</th>\n",
       "      <th>construction_year</th>\n",
       "    </tr>\n",
       "  </thead>\n",
       "  <tbody>\n",
       "    <tr>\n",
       "      <th>count</th>\n",
       "      <td>59400.000000</td>\n",
       "      <td>59400.000000</td>\n",
       "      <td>59400.000000</td>\n",
       "      <td>5.940000e+04</td>\n",
       "      <td>59400.000000</td>\n",
       "      <td>59400.000000</td>\n",
       "      <td>59400.000000</td>\n",
       "      <td>59400.000000</td>\n",
       "      <td>59400.000000</td>\n",
       "    </tr>\n",
       "    <tr>\n",
       "      <th>mean</th>\n",
       "      <td>317.650385</td>\n",
       "      <td>668.297239</td>\n",
       "      <td>34.077427</td>\n",
       "      <td>-5.706033e+00</td>\n",
       "      <td>0.474141</td>\n",
       "      <td>15.297003</td>\n",
       "      <td>5.629747</td>\n",
       "      <td>179.909983</td>\n",
       "      <td>1300.652475</td>\n",
       "    </tr>\n",
       "    <tr>\n",
       "      <th>std</th>\n",
       "      <td>2997.574558</td>\n",
       "      <td>693.116350</td>\n",
       "      <td>6.567432</td>\n",
       "      <td>2.946019e+00</td>\n",
       "      <td>12.236230</td>\n",
       "      <td>17.587406</td>\n",
       "      <td>9.633649</td>\n",
       "      <td>471.482176</td>\n",
       "      <td>951.620547</td>\n",
       "    </tr>\n",
       "    <tr>\n",
       "      <th>min</th>\n",
       "      <td>0.000000</td>\n",
       "      <td>-90.000000</td>\n",
       "      <td>0.000000</td>\n",
       "      <td>-1.164944e+01</td>\n",
       "      <td>0.000000</td>\n",
       "      <td>1.000000</td>\n",
       "      <td>0.000000</td>\n",
       "      <td>0.000000</td>\n",
       "      <td>0.000000</td>\n",
       "    </tr>\n",
       "    <tr>\n",
       "      <th>25%</th>\n",
       "      <td>0.000000</td>\n",
       "      <td>0.000000</td>\n",
       "      <td>33.090347</td>\n",
       "      <td>-8.540621e+00</td>\n",
       "      <td>0.000000</td>\n",
       "      <td>5.000000</td>\n",
       "      <td>2.000000</td>\n",
       "      <td>0.000000</td>\n",
       "      <td>0.000000</td>\n",
       "    </tr>\n",
       "    <tr>\n",
       "      <th>50%</th>\n",
       "      <td>0.000000</td>\n",
       "      <td>369.000000</td>\n",
       "      <td>34.908743</td>\n",
       "      <td>-5.021597e+00</td>\n",
       "      <td>0.000000</td>\n",
       "      <td>12.000000</td>\n",
       "      <td>3.000000</td>\n",
       "      <td>25.000000</td>\n",
       "      <td>1986.000000</td>\n",
       "    </tr>\n",
       "    <tr>\n",
       "      <th>75%</th>\n",
       "      <td>20.000000</td>\n",
       "      <td>1319.250000</td>\n",
       "      <td>37.178387</td>\n",
       "      <td>-3.326156e+00</td>\n",
       "      <td>0.000000</td>\n",
       "      <td>17.000000</td>\n",
       "      <td>5.000000</td>\n",
       "      <td>215.000000</td>\n",
       "      <td>2004.000000</td>\n",
       "    </tr>\n",
       "    <tr>\n",
       "      <th>max</th>\n",
       "      <td>350000.000000</td>\n",
       "      <td>2770.000000</td>\n",
       "      <td>40.345193</td>\n",
       "      <td>-2.000000e-08</td>\n",
       "      <td>1776.000000</td>\n",
       "      <td>99.000000</td>\n",
       "      <td>80.000000</td>\n",
       "      <td>30500.000000</td>\n",
       "      <td>2013.000000</td>\n",
       "    </tr>\n",
       "  </tbody>\n",
       "</table>\n",
       "</div>"
      ],
      "text/plain": [
       "          amount_tsh    gps_height     longitude      latitude   num_private  \\\n",
       "count   59400.000000  59400.000000  59400.000000  5.940000e+04  59400.000000   \n",
       "mean      317.650385    668.297239     34.077427 -5.706033e+00      0.474141   \n",
       "std      2997.574558    693.116350      6.567432  2.946019e+00     12.236230   \n",
       "min         0.000000    -90.000000      0.000000 -1.164944e+01      0.000000   \n",
       "25%         0.000000      0.000000     33.090347 -8.540621e+00      0.000000   \n",
       "50%         0.000000    369.000000     34.908743 -5.021597e+00      0.000000   \n",
       "75%        20.000000   1319.250000     37.178387 -3.326156e+00      0.000000   \n",
       "max    350000.000000   2770.000000     40.345193 -2.000000e-08   1776.000000   \n",
       "\n",
       "        region_code  district_code    population  construction_year  \n",
       "count  59400.000000   59400.000000  59400.000000       59400.000000  \n",
       "mean      15.297003       5.629747    179.909983        1300.652475  \n",
       "std       17.587406       9.633649    471.482176         951.620547  \n",
       "min        1.000000       0.000000      0.000000           0.000000  \n",
       "25%        5.000000       2.000000      0.000000           0.000000  \n",
       "50%       12.000000       3.000000     25.000000        1986.000000  \n",
       "75%       17.000000       5.000000    215.000000        2004.000000  \n",
       "max       99.000000      80.000000  30500.000000        2013.000000  "
      ]
     },
     "execution_count": 17,
     "metadata": {},
     "output_type": "execute_result"
    }
   ],
   "source": [
    "# extract all numerical variables plus target\n",
    "train_num = train_predictors.select_dtypes(include=np.number)\n",
    "train_num = pd.concat([train_num, train_target], axis=1)\n",
    "train_num = train_num.drop(labels='id', axis=1)\n",
    "\n",
    "train_num.describe()"
   ]
  },
  {
   "cell_type": "code",
   "execution_count": 91,
   "metadata": {},
   "outputs": [],
   "source": [
    "# define here function to do some eda on numerical variables\n",
    "def eda_numerical_variable(col, transform='none'):\n",
    "    # create df and add column coding for 0 value\n",
    "    df = train_num[['status_group',col]].copy()\n",
    "    df['is_zero'] = (train_num[col] == 0)\n",
    "\n",
    "    # frequency of 0 value\n",
    "    print('NUMERICAL VARIABLE: ' + col)\n",
    "    print('percentage of 0 value = {:.2f}%'.format(df[df.is_zero == True].shape[0]/train_num.shape[0]*100))\n",
    "\n",
    "    # is distribution of label values different between variable group with 0 or non-0 value?\n",
    "    print('\\nDistribution of label values for predictor with NON-ZERO value')\n",
    "    display(df.loc[df.is_zero == False, 'status_group'].value_counts(normalize=True))\n",
    "    print('Distribution of label values for predictor with ZERO value')\n",
    "    display(df.loc[df.is_zero == True, 'status_group'].value_counts(normalize=True))\n",
    "    # similar result but as plot\n",
    "    sns.countplot(x='status_group',hue='is_zero', data=df);\n",
    "   \n",
    "    if transform == 'log':\n",
    "        df[col] = df[col].apply(lambda x: np.log(x))\n",
    "\n",
    "    sns.catplot(x='status_group', y=col, data=df[df.is_zero == False], kind='box');"
   ]
  },
  {
   "cell_type": "markdown",
   "metadata": {},
   "source": [
    "#### amount_tsh\n",
    "this is the total head of the pump.\n",
    "* high percentage of 0 (ie missing value)\n",
    "* distribution of target differs significantly between groups with valid value and with missing value. Information of whether value is missing or not should be included as new variable\n",
    "* distribution of valid values for different differs label  "
   ]
  },
  {
   "cell_type": "code",
   "execution_count": 94,
   "metadata": {},
   "outputs": [
    {
     "name": "stdout",
     "output_type": "stream",
     "text": [
      "NUMERICAL VARIABLE: amount_tsh\n",
      "percentage of 0 value = 70.10%\n",
      "\n",
      "Distribution of label values for predictor with NON-ZERO value\n"
     ]
    },
    {
     "data": {
      "text/plain": [
       "functional                 0.706773\n",
       "non functional             0.221778\n",
       "functional needs repair    0.071449\n",
       "Name: status_group, dtype: float64"
      ]
     },
     "metadata": {},
     "output_type": "display_data"
    },
    {
     "name": "stdout",
     "output_type": "stream",
     "text": [
      "Distribution of label values for predictor with ZERO value\n"
     ]
    },
    {
     "data": {
      "text/plain": [
       "functional                 0.473258\n",
       "non functional             0.453541\n",
       "functional needs repair    0.073201\n",
       "Name: status_group, dtype: float64"
      ]
     },
     "metadata": {},
     "output_type": "display_data"
    },
    {
     "data": {
      "image/png": "[encoded data removed]",
      "text/plain": [
       "<Figure size 648x432 with 1 Axes>"
      ]
     },
     "metadata": {},
     "output_type": "display_data"
    },
    {
     "data": {
      "image/png": "[encoded data removed]",
      "text/plain": [
       "<Figure size 360x360 with 1 Axes>"
      ]
     },
     "metadata": {},
     "output_type": "display_data"
    }
   ],
   "source": [
    "eda_numerical_variable('amount_tsh', 'log')"
   ]
  },
  {
   "cell_type": "markdown",
   "metadata": {},
   "source": [
    "#### gps_height\n",
    "This is the altitude of the well.  \n",
    "Label *functional needs repair* may be underrepresented for altitude below 750. "
   ]
  },
  {
   "cell_type": "code",
   "execution_count": 96,
   "metadata": {},
   "outputs": [
    {
     "name": "stdout",
     "output_type": "stream",
     "text": [
      "NUMERICAL VARIABLE: gps_height\n",
      "percentage of 0 value = 34.41%\n",
      "\n",
      "Distribution of label values for predictor with NON-ZERO value\n"
     ]
    },
    {
     "data": {
      "text/plain": [
       "functional                 0.559263\n",
       "non functional             0.375186\n",
       "functional needs repair    0.065551\n",
       "Name: status_group, dtype: float64"
      ]
     },
     "metadata": {},
     "output_type": "display_data"
    },
    {
     "name": "stdout",
     "output_type": "stream",
     "text": [
      "Distribution of label values for predictor with ZERO value\n"
     ]
    },
    {
     "data": {
      "text/plain": [
       "functional                 0.512232\n",
       "non functional             0.401507\n",
       "functional needs repair    0.086261\n",
       "Name: status_group, dtype: float64"
      ]
     },
     "metadata": {},
     "output_type": "display_data"
    },
    {
     "data": {
      "image/png": "[encoded data removed]",
      "text/plain": [
       "<Figure size 648x432 with 1 Axes>"
      ]
     },
     "metadata": {},
     "output_type": "display_data"
    },
    {
     "data": {
      "image/png": "[encoded data removed]",
      "text/plain": [
       "<Figure size 360x360 with 1 Axes>"
      ]
     },
     "metadata": {},
     "output_type": "display_data"
    }
   ],
   "source": [
    "eda_numerical_variable('gps_height')"
   ]
  },
  {
   "cell_type": "markdown",
   "metadata": {},
   "source": [
    "#### longitude\n",
    "Some missing value. Higher frequency of *functional needs repair* status for missing value. "
   ]
  },
  {
   "cell_type": "code",
   "execution_count": 97,
   "metadata": {},
   "outputs": [
    {
     "name": "stdout",
     "output_type": "stream",
     "text": [
      "NUMERICAL VARIABLE: longitude\n",
      "percentage of 0 value = 3.05%\n",
      "\n",
      "Distribution of label values for predictor with NON-ZERO value\n"
     ]
    },
    {
     "data": {
      "text/plain": [
       "functional                 0.545061\n",
       "non functional             0.386678\n",
       "functional needs repair    0.068261\n",
       "Name: status_group, dtype: float64"
      ]
     },
     "metadata": {},
     "output_type": "display_data"
    },
    {
     "name": "stdout",
     "output_type": "stream",
     "text": [
      "Distribution of label values for predictor with ZERO value\n"
     ]
    },
    {
     "data": {
      "text/plain": [
       "functional                 0.480132\n",
       "non functional             0.306843\n",
       "functional needs repair    0.213024\n",
       "Name: status_group, dtype: float64"
      ]
     },
     "metadata": {},
     "output_type": "display_data"
    },
    {
     "data": {
      "image/png": "[encoded data removed]",
      "text/plain": [
       "<Figure size 648x432 with 1 Axes>"
      ]
     },
     "metadata": {},
     "output_type": "display_data"
    },
    {
     "data": {
      "image/png": "[encoded data removed]",
      "text/plain": [
       "<Figure size 360x360 with 1 Axes>"
      ]
     },
     "metadata": {},
     "output_type": "display_data"
    }
   ],
   "source": [
    "eda_numerical_variable('longitude')"
   ]
  },
  {
   "cell_type": "markdown",
   "metadata": {},
   "source": [
    "#### latitude\n",
    "no missing value and not obvious correlation with label. We will drop it."
   ]
  },
  {
   "cell_type": "code",
   "execution_count": 98,
   "metadata": {},
   "outputs": [
    {
     "name": "stdout",
     "output_type": "stream",
     "text": [
      "NUMERICAL VARIABLE: latitude\n",
      "percentage of 0 value = 0.00%\n",
      "\n",
      "Distribution of label values for predictor with NON-ZERO value\n"
     ]
    },
    {
     "data": {
      "text/plain": [
       "functional                 0.543081\n",
       "non functional             0.384242\n",
       "functional needs repair    0.072677\n",
       "Name: status_group, dtype: float64"
      ]
     },
     "metadata": {},
     "output_type": "display_data"
    },
    {
     "name": "stdout",
     "output_type": "stream",
     "text": [
      "Distribution of label values for predictor with ZERO value\n"
     ]
    },
    {
     "data": {
      "text/plain": [
       "Series([], Name: status_group, dtype: float64)"
      ]
     },
     "metadata": {},
     "output_type": "display_data"
    },
    {
     "data": {
      "image/png": "[encoded data removed]",
      "text/plain": [
       "<Figure size 648x432 with 1 Axes>"
      ]
     },
     "metadata": {},
     "output_type": "display_data"
    },
    {
     "data": {
      "image/png": "[encoded data removed]",
      "text/plain": [
       "<Figure size 360x360 with 1 Axes>"
      ]
     },
     "metadata": {},
     "output_type": "display_data"
    }
   ],
   "source": [
    "eda_numerical_variable('latitude')"
   ]
  },
  {
   "cell_type": "markdown",
   "metadata": {},
   "source": [
    "#### num_private\n",
    "meaning unknown. Very high frequency of 0 value. Drop or treat as categorical."
   ]
  },
  {
   "cell_type": "code",
   "execution_count": 99,
   "metadata": {},
   "outputs": [
    {
     "name": "stdout",
     "output_type": "stream",
     "text": [
      "NUMERICAL VARIABLE: num_private\n",
      "percentage of 0 value = 98.73%\n",
      "\n",
      "Distribution of label values for predictor with NON-ZERO value\n"
     ]
    },
    {
     "data": {
      "text/plain": [
       "functional                 0.608983\n",
       "non functional             0.327609\n",
       "functional needs repair    0.063408\n",
       "Name: status_group, dtype: float64"
      ]
     },
     "metadata": {},
     "output_type": "display_data"
    },
    {
     "name": "stdout",
     "output_type": "stream",
     "text": [
      "Distribution of label values for predictor with ZERO value\n"
     ]
    },
    {
     "data": {
      "text/plain": [
       "functional                 0.542230\n",
       "non functional             0.384973\n",
       "functional needs repair    0.072796\n",
       "Name: status_group, dtype: float64"
      ]
     },
     "metadata": {},
     "output_type": "display_data"
    },
    {
     "data": {
      "image/png": "[encoded data removed]",
      "text/plain": [
       "<Figure size 648x432 with 1 Axes>"
      ]
     },
     "metadata": {},
     "output_type": "display_data"
    },
    {
     "data": {
      "image/png": "[encoded data removed]",
      "text/plain": [
       "<Figure size 360x360 with 1 Axes>"
      ]
     },
     "metadata": {},
     "output_type": "display_data"
    }
   ],
   "source": [
    "eda_numerical_variable('num_private', 'log')"
   ]
  },
  {
   "cell_type": "markdown",
   "metadata": {},
   "source": [
    "#### region_code and district_code\n",
    "* region_code - Geographic location (coded)\n",
    "* district_code - Geographic location (coded)\n",
    "Numerical values but unordered. Process as categorical variables."
   ]
  },
  {
   "cell_type": "markdown",
   "metadata": {},
   "source": [
    "#### population\n",
    "no impact of missing/valid value  \n"
   ]
  },
  {
   "cell_type": "code",
   "execution_count": 100,
   "metadata": {},
   "outputs": [
    {
     "name": "stdout",
     "output_type": "stream",
     "text": [
      "NUMERICAL VARIABLE: population\n",
      "percentage of 0 value = 35.99%\n",
      "\n",
      "Distribution of label values for predictor with NON-ZERO value\n"
     ]
    },
    {
     "data": {
      "text/plain": [
       "functional                 0.551961\n",
       "non functional             0.381178\n",
       "functional needs repair    0.066861\n",
       "Name: status_group, dtype: float64"
      ]
     },
     "metadata": {},
     "output_type": "display_data"
    },
    {
     "name": "stdout",
     "output_type": "stream",
     "text": [
      "Distribution of label values for predictor with ZERO value\n"
     ]
    },
    {
     "data": {
      "text/plain": [
       "functional                 0.527291\n",
       "non functional             0.389692\n",
       "functional needs repair    0.083018\n",
       "Name: status_group, dtype: float64"
      ]
     },
     "metadata": {},
     "output_type": "display_data"
    },
    {
     "data": {
      "image/png": "[encoded data removed]",
      "text/plain": [
       "<Figure size 648x432 with 1 Axes>"
      ]
     },
     "metadata": {},
     "output_type": "display_data"
    },
    {
     "data": {
      "image/png": "[encoded data removed]",
      "text/plain": [
       "<Figure size 360x360 with 1 Axes>"
      ]
     },
     "metadata": {},
     "output_type": "display_data"
    }
   ],
   "source": [
    "eda_numerical_variable('population', 'log')"
   ]
  },
  {
   "cell_type": "markdown",
   "metadata": {},
   "source": [
    "### Categorical variables"
   ]
  },
  {
   "cell_type": "code",
   "execution_count": null,
   "metadata": {},
   "outputs": [],
   "source": []
  },
  {
   "cell_type": "markdown",
   "metadata": {},
   "source": [
    "## Feature Engineering"
   ]
  },
  {
   "cell_type": "markdown",
   "metadata": {},
   "source": [
    "This dataset contains several categorical variables with very high cardinality, like for example *funder* with 1897 unique values. There are 3 approaches possible to handle this type of features:\n",
    "* group together values that have close meaning (this is however not possible for variables like *funder* for which there is no clear proximity measure between different values)\n",
    "* discard values with low frequencies (possible, but this would probably be unsufficient to reduce enough the number of unique values)\n",
    "* **transform the initial feature into a continuous numerical feature**  \n",
    "\n",
    "We will use option 3, and we define 3 functions $f_F$, $f_R$ and $f_N$:\n",
    "$$f_F(x) = \\frac{N_F(x) + p_F}{N(x) + 1}$$  \n",
    "$$f_R(x) = \\frac{N_R(x) + p_R}{N(x) + 1}$$  \n",
    "$$f_N(x) = \\frac{N_N(x) + p_N}{N(x) + 1}$$ \n",
    "where:\n",
    "* $x$ is a given value of the high cardinality variable V, \n",
    "* $N_F(x)$, $N_R(x)$ and $f_N(x)$ are the number of observations with V=x and respectively equal to Functional, Repair, and Non Functional \n",
    "* $N(x)$ is the total number of observations with V=X, with $N(x) = N_F(x) + N_R(x) + f_N(x)$\n",
    "* $p_F$, $p_R$ and $p_N$ are the frequencies over the full set of status Functional, Repair, and Non Functional  \n",
    "  \n",
    "Now, it is easy to see that the sum of $f_F$, $f_R$ and $f_N$ is equal to 1 and that these 3 functions can be considered as probabilities of each status: \n",
    "$$f_F(x) + f_R(x) + f_N(x) = \\frac{N_F(x) + p_F + N_R(x) + p_R + N_N(x) + p_N}{N(x) + 1}\n",
    "= \\frac{N_F(x) + N_R(x) + N_N(x) + p_F + p_R + p_N}{N(x) + 1} = \\frac{N(x) + 1}{N(x) + 1}$$  \n",
    "\n",
    "The rationale for these functions is:\n",
    "* their value gets closer to the observed frequencies $\\frac{N_F(x)}{N(x)}$ as the number of observations $N(x)$ increases. Thus they are putting more weight on frequent values \n",
    "* they have an intuitive meaning as estimation of probabilities\n",
    "* they are defined even if the value x is not included in the training set  "
   ]
  },
  {
   "cell_type": "code",
   "execution_count": 78,
   "metadata": {},
   "outputs": [
    {
     "data": {
      "text/plain": [
       "HighCardinalityTransformer()"
      ]
     },
     "execution_count": 78,
     "metadata": {},
     "output_type": "execute_result"
    },
    {
     "data": {
      "text/html": [
       "<div>\n",
       "<style scoped>\n",
       "    .dataframe tbody tr th:only-of-type {\n",
       "        vertical-align: middle;\n",
       "    }\n",
       "\n",
       "    .dataframe tbody tr th {\n",
       "        vertical-align: top;\n",
       "    }\n",
       "\n",
       "    .dataframe thead th {\n",
       "        text-align: right;\n",
       "    }\n",
       "</style>\n",
       "<table border=\"1\" class=\"dataframe\">\n",
       "  <thead>\n",
       "    <tr style=\"text-align: right;\">\n",
       "      <th></th>\n",
       "      <th>region</th>\n",
       "      <th>lga</th>\n",
       "      <th>region_f_functional</th>\n",
       "      <th>region_f_functional needs repair</th>\n",
       "      <th>region_f_non functional</th>\n",
       "      <th>lga_f_functional</th>\n",
       "      <th>lga_f_functional needs repair</th>\n",
       "      <th>lga_f_non functional</th>\n",
       "    </tr>\n",
       "  </thead>\n",
       "  <tbody>\n",
       "    <tr>\n",
       "      <th>0</th>\n",
       "      <td>Iringa</td>\n",
       "      <td>Ludewa</td>\n",
       "      <td>0.782161</td>\n",
       "      <td>0.023243</td>\n",
       "      <td>0.194596</td>\n",
       "      <td>0.774413</td>\n",
       "      <td>0.019598</td>\n",
       "      <td>0.205990</td>\n",
       "    </tr>\n",
       "    <tr>\n",
       "      <th>1</th>\n",
       "      <td>Mara</td>\n",
       "      <td>Serengeti</td>\n",
       "      <td>0.450022</td>\n",
       "      <td>0.030494</td>\n",
       "      <td>0.519484</td>\n",
       "      <td>0.592110</td>\n",
       "      <td>0.037758</td>\n",
       "      <td>0.370131</td>\n",
       "    </tr>\n",
       "    <tr>\n",
       "      <th>2</th>\n",
       "      <td>Manyara</td>\n",
       "      <td>Simanjiro</td>\n",
       "      <td>0.623449</td>\n",
       "      <td>0.060652</td>\n",
       "      <td>0.315899</td>\n",
       "      <td>0.581046</td>\n",
       "      <td>0.016416</td>\n",
       "      <td>0.402538</td>\n",
       "    </tr>\n",
       "    <tr>\n",
       "      <th>3</th>\n",
       "      <td>Mtwara</td>\n",
       "      <td>Nanyumbu</td>\n",
       "      <td>0.303029</td>\n",
       "      <td>0.072832</td>\n",
       "      <td>0.624139</td>\n",
       "      <td>0.267567</td>\n",
       "      <td>0.000457</td>\n",
       "      <td>0.731976</td>\n",
       "    </tr>\n",
       "    <tr>\n",
       "      <th>4</th>\n",
       "      <td>Kagera</td>\n",
       "      <td>Karagwe</td>\n",
       "      <td>0.520815</td>\n",
       "      <td>0.091671</td>\n",
       "      <td>0.387514</td>\n",
       "      <td>0.530496</td>\n",
       "      <td>0.058384</td>\n",
       "      <td>0.411119</td>\n",
       "    </tr>\n",
       "    <tr>\n",
       "      <th>5</th>\n",
       "      <td>Tanga</td>\n",
       "      <td>Mkinga</td>\n",
       "      <td>0.563792</td>\n",
       "      <td>0.028678</td>\n",
       "      <td>0.407529</td>\n",
       "      <td>0.776966</td>\n",
       "      <td>0.000251</td>\n",
       "      <td>0.222783</td>\n",
       "    </tr>\n",
       "    <tr>\n",
       "      <th>6</th>\n",
       "      <td>Shinyanga</td>\n",
       "      <td>Shinyanga Rural</td>\n",
       "      <td>0.559812</td>\n",
       "      <td>0.127448</td>\n",
       "      <td>0.312740</td>\n",
       "      <td>0.564589</td>\n",
       "      <td>0.018799</td>\n",
       "      <td>0.416612</td>\n",
       "    </tr>\n",
       "    <tr>\n",
       "      <th>7</th>\n",
       "      <td>Shinyanga</td>\n",
       "      <td>Kahama</td>\n",
       "      <td>0.559812</td>\n",
       "      <td>0.127448</td>\n",
       "      <td>0.312740</td>\n",
       "      <td>0.552620</td>\n",
       "      <td>0.004866</td>\n",
       "      <td>0.442514</td>\n",
       "    </tr>\n",
       "    <tr>\n",
       "      <th>8</th>\n",
       "      <td>Tabora</td>\n",
       "      <td>Tabora Urban</td>\n",
       "      <td>0.432930</td>\n",
       "      <td>0.022996</td>\n",
       "      <td>0.544074</td>\n",
       "      <td>0.349635</td>\n",
       "      <td>0.000466</td>\n",
       "      <td>0.649899</td>\n",
       "    </tr>\n",
       "    <tr>\n",
       "      <th>9</th>\n",
       "      <td>Kagera</td>\n",
       "      <td>Karagwe</td>\n",
       "      <td>0.520815</td>\n",
       "      <td>0.091671</td>\n",
       "      <td>0.387514</td>\n",
       "      <td>0.530496</td>\n",
       "      <td>0.058384</td>\n",
       "      <td>0.411119</td>\n",
       "    </tr>\n",
       "  </tbody>\n",
       "</table>\n",
       "</div>"
      ],
      "text/plain": [
       "      region              lga  region_f_functional  \\\n",
       "0     Iringa           Ludewa             0.782161   \n",
       "1       Mara        Serengeti             0.450022   \n",
       "2    Manyara        Simanjiro             0.623449   \n",
       "3     Mtwara         Nanyumbu             0.303029   \n",
       "4     Kagera          Karagwe             0.520815   \n",
       "5      Tanga           Mkinga             0.563792   \n",
       "6  Shinyanga  Shinyanga Rural             0.559812   \n",
       "7  Shinyanga           Kahama             0.559812   \n",
       "8     Tabora     Tabora Urban             0.432930   \n",
       "9     Kagera          Karagwe             0.520815   \n",
       "\n",
       "   region_f_functional needs repair  region_f_non functional  \\\n",
       "0                          0.023243                 0.194596   \n",
       "1                          0.030494                 0.519484   \n",
       "2                          0.060652                 0.315899   \n",
       "3                          0.072832                 0.624139   \n",
       "4                          0.091671                 0.387514   \n",
       "5                          0.028678                 0.407529   \n",
       "6                          0.127448                 0.312740   \n",
       "7                          0.127448                 0.312740   \n",
       "8                          0.022996                 0.544074   \n",
       "9                          0.091671                 0.387514   \n",
       "\n",
       "   lga_f_functional  lga_f_functional needs repair  lga_f_non functional  \n",
       "0          0.774413                       0.019598              0.205990  \n",
       "1          0.592110                       0.037758              0.370131  \n",
       "2          0.581046                       0.016416              0.402538  \n",
       "3          0.267567                       0.000457              0.731976  \n",
       "4          0.530496                       0.058384              0.411119  \n",
       "5          0.776966                       0.000251              0.222783  \n",
       "6          0.564589                       0.018799              0.416612  \n",
       "7          0.552620                       0.004866              0.442514  \n",
       "8          0.349635                       0.000466              0.649899  \n",
       "9          0.530496                       0.058384              0.411119  "
      ]
     },
     "execution_count": 78,
     "metadata": {},
     "output_type": "execute_result"
    }
   ],
   "source": [
    "# define transformer to transform high cardinality variables to numerical functions\n",
    "\n",
    "class HighCardinalityTransformer(BaseEstimator, TransformerMixin):\n",
    "    def __init__(self):\n",
    "        self._frequencies = {}\n",
    "        self._mapper = {}\n",
    "        pass\n",
    "    \n",
    "    def fit(self, X, y):\n",
    "        # both X and y must be DF\n",
    "    \n",
    "        # compute frequencies over full data\n",
    "        self._default_frequencies = {}\n",
    "        for status in ['functional', 'functional needs repair', 'non functional']: \n",
    "            self._frequencies[status] = np.count_nonzero(y == status) / y.shape[0]  \n",
    "        \n",
    "        # get list of all columns in X \n",
    "        columns_to_map = list(X)\n",
    "        \n",
    "        self._mapper = {}\n",
    "        for col in columns_to_map:\n",
    "            # create df with one variable to map and label\n",
    "            df = pd.concat([X[col],y], axis=1)\n",
    "            df.rename(columns={y.columns.values[0]: 'y'}, inplace=True)\n",
    "            \n",
    "            # replace y with 3 columns 'y_functional', 'y_functional needs repair', 'y_non functional' with counts \n",
    "            df = pd.get_dummies(data=df, columns=['y'])\n",
    "            df = df.groupby(col).sum()\n",
    "            df['count'] = df['y_functional'] +  df['y_functional needs repair'] + df['y_non functional']\n",
    "            # calculate the 3 probability estimates\n",
    "            df['functional'] = (df['y_functional'] + self._frequencies['functional']) / (df['count'] + 1)\n",
    "            df['functional needs repair'] = (df['y_functional needs repair'] + self._frequencies['functional needs repair']) / (df['count'] + 1)\n",
    "            df['non functional'] = (df['y_non functional'] + self._frequencies['non functional']) / (df['count'] + 1) \n",
    "\n",
    "            # create mapper with format:\n",
    "            #     {'col1': {'functional': {val1: f1, val2: f2, ...},\n",
    "            #               'functional needs repair': {val1: f1, val2: f2, ...},\n",
    "            #               'non functional': {val1: f1, val2: f2, ...}}, \n",
    "            #      'col2': ...}\n",
    "            self._mapper[col] = df[['functional', 'functional needs repair', 'non functional']].to_dict()\n",
    "            \n",
    "        return self\n",
    "    \n",
    "    def transform(self, X, y=None):\n",
    "        res = X.copy()\n",
    "        \n",
    "        col_name = 'lga'\n",
    "        for col_name in list(X):\n",
    "            for y_name in ['functional', 'functional needs repair', 'non functional']: \n",
    "                mapper = self._mapper[col_name][y_name]\n",
    "                new_col = col_name + '_f_' + y_name\n",
    "                res[new_col] = X[col_name].map(mapper)\n",
    "                \n",
    "                # fill NA value with frequency of corresponding status - TODO not tested \n",
    "                res[new_col] = res[new_col].fillna(value=self._frequencies[y_name])\n",
    "                \n",
    "        return res\n",
    "    \n",
    "    def get_frequencies(self):        \n",
    "        return self._frequencies\n",
    "    \n",
    "    def get_mapper(self):\n",
    "        return self._mapper   \n",
    "    \n",
    "# example: transform 2 categorical values to numeric functions    \n",
    "hct = HighCardinalityTransformer()\n",
    "hct.fit(train_predictors[['region','lga']], train_target[['status_group']])\n",
    "res = hct.transform(train_predictors[['region','lga']])\n",
    "res.head(10)"
   ]
  },
  {
   "cell_type": "code",
   "execution_count": null,
   "metadata": {},
   "outputs": [],
   "source": []
  },
  {
   "cell_type": "code",
   "execution_count": null,
   "metadata": {},
   "outputs": [],
   "source": []
  }
 ],
 "metadata": {
  "kernelspec": {
   "display_name": "Python 3",
   "language": "python",
   "name": "python3"
  },
  "language_info": {
   "codemirror_mode": {
    "name": "ipython",
    "version": 3
   },
   "file_extension": ".py",
   "mimetype": "text/x-python",
   "name": "python",
   "nbconvert_exporter": "python",
   "pygments_lexer": "ipython3",
   "version": "3.7.3"
  }
 },
 "nbformat": 4,
 "nbformat_minor": 2
}
