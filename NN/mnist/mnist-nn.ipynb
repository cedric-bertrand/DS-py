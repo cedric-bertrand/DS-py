{
 "cells": [
  {
   "cell_type": "markdown",
   "metadata": {},
   "source": [
    "# MNIST digit classification\n",
    "\n",
    "For detailed explanations, refer to:\n",
    "* this [link](https://victorzhou.com/blog/keras-neural-network-tutorial/) for the MLP\n",
    "* [here](https://victorzhou.com/blog/keras-cnn-tutorial/) for the simple CNN, and to this Kaggle [kernel](https://www.kaggle.com/anebzt/mnist-with-cnn-in-keras-detailed-explanation) for additional information on implementing CNN\n",
    "\n",
    "On optimizing the CNN: \n",
    "this awesome Kaggle [kernel](https://www.kaggle.com/cdeotte/how-to-choose-cnn-architecture-mnist) and  \n",
    "[Keras documentation](https://keras.io/examples/mnist_cnn/)"
   ]
  },
  {
   "cell_type": "code",
   "execution_count": 2,
   "metadata": {},
   "outputs": [],
   "source": [
    "# import\n",
    "import numpy as np\n",
    "import pandas as pd\n",
    "\n",
    "from sklearn.metrics import confusion_matrix\n",
    "from sklearn.model_selection import train_test_split\n",
    "\n",
    "# keras import\n",
    "from keras.models import Sequential\n",
    "from keras.layers import Dense, Dropout, Conv2D, MaxPooling2D, Flatten\n",
    "from keras.utils import to_categorical\n",
    "from keras.callbacks import EarlyStopping\n",
    "\n",
    "# visualisation\n",
    "import matplotlib.pyplot as plt\n",
    "import matplotlib.image as mpimg\n",
    "import seaborn as sns\n",
    "#set figure size\n",
    "plt.rcParams['figure.figsize'] = 9, 6\n",
    "sns.set_style('white')\n",
    "\n",
    "from random import randrange"
   ]
  },
  {
   "cell_type": "code",
   "execution_count": 3,
   "metadata": {},
   "outputs": [
    {
     "name": "stdout",
     "output_type": "stream",
     "text": [
      "(42000, 785)\n"
     ]
    }
   ],
   "source": [
    "# load data\n",
    "data_set = pd.read_csv('./input/train.csv')\n",
    "print(data_set.shape)"
   ]
  },
  {
   "cell_type": "code",
   "execution_count": 4,
   "metadata": {},
   "outputs": [
    {
     "data": {
      "text/html": [
       "<div>\n",
       "<style scoped>\n",
       "    .dataframe tbody tr th:only-of-type {\n",
       "        vertical-align: middle;\n",
       "    }\n",
       "\n",
       "    .dataframe tbody tr th {\n",
       "        vertical-align: top;\n",
       "    }\n",
       "\n",
       "    .dataframe thead th {\n",
       "        text-align: right;\n",
       "    }\n",
       "</style>\n",
       "<table border=\"1\" class=\"dataframe\">\n",
       "  <thead>\n",
       "    <tr style=\"text-align: right;\">\n",
       "      <th></th>\n",
       "      <th>label</th>\n",
       "      <th>pixel0</th>\n",
       "      <th>pixel1</th>\n",
       "      <th>pixel2</th>\n",
       "      <th>pixel3</th>\n",
       "      <th>pixel4</th>\n",
       "      <th>pixel5</th>\n",
       "      <th>pixel6</th>\n",
       "      <th>pixel7</th>\n",
       "      <th>pixel8</th>\n",
       "      <th>...</th>\n",
       "      <th>pixel774</th>\n",
       "      <th>pixel775</th>\n",
       "      <th>pixel776</th>\n",
       "      <th>pixel777</th>\n",
       "      <th>pixel778</th>\n",
       "      <th>pixel779</th>\n",
       "      <th>pixel780</th>\n",
       "      <th>pixel781</th>\n",
       "      <th>pixel782</th>\n",
       "      <th>pixel783</th>\n",
       "    </tr>\n",
       "  </thead>\n",
       "  <tbody>\n",
       "    <tr>\n",
       "      <td>2395</td>\n",
       "      <td>4</td>\n",
       "      <td>0</td>\n",
       "      <td>0</td>\n",
       "      <td>0</td>\n",
       "      <td>0</td>\n",
       "      <td>0</td>\n",
       "      <td>0</td>\n",
       "      <td>0</td>\n",
       "      <td>0</td>\n",
       "      <td>0</td>\n",
       "      <td>...</td>\n",
       "      <td>0</td>\n",
       "      <td>0</td>\n",
       "      <td>0</td>\n",
       "      <td>0</td>\n",
       "      <td>0</td>\n",
       "      <td>0</td>\n",
       "      <td>0</td>\n",
       "      <td>0</td>\n",
       "      <td>0</td>\n",
       "      <td>0</td>\n",
       "    </tr>\n",
       "    <tr>\n",
       "      <td>25144</td>\n",
       "      <td>6</td>\n",
       "      <td>0</td>\n",
       "      <td>0</td>\n",
       "      <td>0</td>\n",
       "      <td>0</td>\n",
       "      <td>0</td>\n",
       "      <td>0</td>\n",
       "      <td>0</td>\n",
       "      <td>0</td>\n",
       "      <td>0</td>\n",
       "      <td>...</td>\n",
       "      <td>0</td>\n",
       "      <td>0</td>\n",
       "      <td>0</td>\n",
       "      <td>0</td>\n",
       "      <td>0</td>\n",
       "      <td>0</td>\n",
       "      <td>0</td>\n",
       "      <td>0</td>\n",
       "      <td>0</td>\n",
       "      <td>0</td>\n",
       "    </tr>\n",
       "    <tr>\n",
       "      <td>38906</td>\n",
       "      <td>8</td>\n",
       "      <td>0</td>\n",
       "      <td>0</td>\n",
       "      <td>0</td>\n",
       "      <td>0</td>\n",
       "      <td>0</td>\n",
       "      <td>0</td>\n",
       "      <td>0</td>\n",
       "      <td>0</td>\n",
       "      <td>0</td>\n",
       "      <td>...</td>\n",
       "      <td>0</td>\n",
       "      <td>0</td>\n",
       "      <td>0</td>\n",
       "      <td>0</td>\n",
       "      <td>0</td>\n",
       "      <td>0</td>\n",
       "      <td>0</td>\n",
       "      <td>0</td>\n",
       "      <td>0</td>\n",
       "      <td>0</td>\n",
       "    </tr>\n",
       "  </tbody>\n",
       "</table>\n",
       "<p>3 rows × 785 columns</p>\n",
       "</div>"
      ],
      "text/plain": [
       "       label  pixel0  pixel1  pixel2  pixel3  pixel4  pixel5  pixel6  pixel7  \\\n",
       "2395       4       0       0       0       0       0       0       0       0   \n",
       "25144      6       0       0       0       0       0       0       0       0   \n",
       "38906      8       0       0       0       0       0       0       0       0   \n",
       "\n",
       "       pixel8  ...  pixel774  pixel775  pixel776  pixel777  pixel778  \\\n",
       "2395        0  ...         0         0         0         0         0   \n",
       "25144       0  ...         0         0         0         0         0   \n",
       "38906       0  ...         0         0         0         0         0   \n",
       "\n",
       "       pixel779  pixel780  pixel781  pixel782  pixel783  \n",
       "2395          0         0         0         0         0  \n",
       "25144         0         0         0         0         0  \n",
       "38906         0         0         0         0         0  \n",
       "\n",
       "[3 rows x 785 columns]"
      ]
     },
     "execution_count": 4,
     "metadata": {},
     "output_type": "execute_result"
    }
   ],
   "source": [
    "data_set.sample(3)"
   ]
  },
  {
   "cell_type": "code",
   "execution_count": 5,
   "metadata": {},
   "outputs": [
    {
     "data": {
      "image/png": "[encoded data removed]",
      "text/plain": [
       "<Figure size 648x432 with 1 Axes>"
      ]
     },
     "metadata": {},
     "output_type": "display_data"
    }
   ],
   "source": [
    "# segregate training data set in pixel features and label\n",
    "y = data_set['label']\n",
    "X = data_set.drop(labels = ['label'], axis=1) \n",
    "# free memory\n",
    "del data_set\n",
    "\n",
    "# check distribution of the handwritten digits\n",
    "sns.countplot(y, color='skyblue');"
   ]
  },
  {
   "cell_type": "code",
   "execution_count": 6,
   "metadata": {},
   "outputs": [
    {
     "data": {
      "image/png": "[encoded data removed]",
      "text/plain": [
       "<Figure size 720x144 with 20 Axes>"
      ]
     },
     "metadata": {},
     "output_type": "display_data"
    }
   ],
   "source": [
    "# show multiple images chosen randomly \n",
    "fig, axs = plt.subplots(2, 10, figsize=(10, 2)) # 2 rows of 10 images\n",
    "\n",
    "for ax in axs.flat:\n",
    "    i = randrange(X.shape[0])\n",
    "    ax.imshow(X.loc[i].values.reshape(28, 28), cmap='gray_r')\n",
    "    ax.set_axis_off()"
   ]
  },
  {
   "cell_type": "code",
   "execution_count": 7,
   "metadata": {},
   "outputs": [],
   "source": [
    "# Normalize pixel value to range 0 to 1\n",
    "X = X / 255.0\n",
    "\n",
    "# extract train and validation set\n",
    "X_train, X_val, y_train, y_val = train_test_split(X, y, test_size=0.05)"
   ]
  },
  {
   "cell_type": "markdown",
   "metadata": {},
   "source": [
    "## MLP"
   ]
  },
  {
   "cell_type": "code",
   "execution_count": 11,
   "metadata": {},
   "outputs": [
    {
     "name": "stdout",
     "output_type": "stream",
     "text": [
      "_________________________________________________________________\n",
      "Layer (type)                 Output Shape              Param #   \n",
      "=================================================================\n",
      "dense_4 (Dense)              (None, 128)               100480    \n",
      "_________________________________________________________________\n",
      "dropout_3 (Dropout)          (None, 128)               0         \n",
      "_________________________________________________________________\n",
      "dense_5 (Dense)              (None, 64)                8256      \n",
      "_________________________________________________________________\n",
      "dropout_4 (Dropout)          (None, 64)                0         \n",
      "_________________________________________________________________\n",
      "dense_6 (Dense)              (None, 10)                650       \n",
      "=================================================================\n",
      "Total params: 109,386\n",
      "Trainable params: 109,386\n",
      "Non-trainable params: 0\n",
      "_________________________________________________________________\n"
     ]
    }
   ],
   "source": [
    "# define model\n",
    "mlp = Sequential([\n",
    "  Dense(128, activation='relu', input_shape=(784,)),  # change layer size from 64 to 128\n",
    "  Dropout(0.25),\n",
    "  Dense(64, activation='sigmoid'), # change activation function from relu to sigmoid\n",
    "  Dropout(0.25),    \n",
    "  Dense(10, activation='softmax'),\n",
    "])\n",
    "\n",
    "mlp.compile(\n",
    "  optimizer='adam',\n",
    "  loss='categorical_crossentropy',\n",
    "  metrics=['accuracy'],\n",
    ")\n",
    "\n",
    "mlp.summary()"
   ]
  },
  {
   "cell_type": "code",
   "execution_count": 12,
   "metadata": {},
   "outputs": [
    {
     "name": "stdout",
     "output_type": "stream",
     "text": [
      "Train on 39900 samples, validate on 2100 samples\n",
      "Epoch 1/15\n",
      "39900/39900 [==============================] - 27s 687us/step - loss: 0.5154 - acc: 0.8590 - val_loss: 0.2161 - val_acc: 0.9333\n",
      "Epoch 2/15\n",
      "39900/39900 [==============================] - 26s 655us/step - loss: 0.2248 - acc: 0.9352 - val_loss: 0.1631 - val_acc: 0.9467\n",
      "Epoch 3/15\n",
      "39900/39900 [==============================] - 26s 649us/step - loss: 0.1716 - acc: 0.9505 - val_loss: 0.1357 - val_acc: 0.9586\n",
      "Epoch 4/15\n",
      "39900/39900 [==============================] - 27s 684us/step - loss: 0.1392 - acc: 0.9586 - val_loss: 0.1319 - val_acc: 0.9581\n",
      "Epoch 5/15\n",
      "39900/39900 [==============================] - 27s 681us/step - loss: 0.1218 - acc: 0.9636 - val_loss: 0.1208 - val_acc: 0.9624\n",
      "Epoch 6/15\n",
      "39900/39900 [==============================] - 28s 701us/step - loss: 0.1076 - acc: 0.9673 - val_loss: 0.1095 - val_acc: 0.9638\n",
      "Epoch 7/15\n",
      "39900/39900 [==============================] - 26s 655us/step - loss: 0.0975 - acc: 0.9701 - val_loss: 0.1081 - val_acc: 0.9671\n",
      "Epoch 8/15\n",
      "39900/39900 [==============================] - 28s 690us/step - loss: 0.0875 - acc: 0.9734 - val_loss: 0.1064 - val_acc: 0.9686\n",
      "Epoch 9/15\n",
      "39900/39900 [==============================] - 27s 687us/step - loss: 0.0810 - acc: 0.9754 - val_loss: 0.1028 - val_acc: 0.9681\n",
      "Epoch 10/15\n",
      "39900/39900 [==============================] - 27s 673us/step - loss: 0.0733 - acc: 0.9773 - val_loss: 0.1024 - val_acc: 0.9686\n",
      "Epoch 11/15\n",
      "39900/39900 [==============================] - 28s 690us/step - loss: 0.0685 - acc: 0.9780 - val_loss: 0.1034 - val_acc: 0.9695\n",
      "Epoch 12/15\n",
      "39900/39900 [==============================] - 28s 691us/step - loss: 0.0634 - acc: 0.9795 - val_loss: 0.1080 - val_acc: 0.9686\n"
     ]
    }
   ],
   "source": [
    "# Train the model\n",
    "n_epochs = 15 \n",
    "validation_split = 0.05\n",
    "\n",
    "#define callbacks\n",
    "early_stop = EarlyStopping(monitor = 'val_loss', mode = 'min', patience=2)\n",
    "\n",
    "history = mlp.fit(\n",
    "    X_train,\n",
    "    to_categorical(y_train),\n",
    "    epochs = n_epochs,  \n",
    "    validation_data = (X_val, to_categorical(y_val)),\n",
    "    batch_size = 32,\n",
    "    callbacks = [early_stop]\n",
    ")"
   ]
  },
  {
   "cell_type": "code",
   "execution_count": 13,
   "metadata": {},
   "outputs": [
    {
     "data": {
      "image/png": "[encoded data removed]",
      "text/plain": [
       "<Figure size 648x432 with 1 Axes>"
      ]
     },
     "metadata": {},
     "output_type": "display_data"
    }
   ],
   "source": [
    "# load history in dataframe and plot accuracy of training and validation data\n",
    "df_history = pd.DataFrame(history.history)\n",
    "sns.lineplot(data=df_history[['acc','val_acc']], palette=\"tab10\", linewidth=2.5);"
   ]
  },
  {
   "cell_type": "code",
   "execution_count": 14,
   "metadata": {},
   "outputs": [
    {
     "data": {
      "image/png": "[encoded data removed]",
      "text/plain": [
       "<Figure size 648x432 with 2 Axes>"
      ]
     },
     "metadata": {},
     "output_type": "display_data"
    }
   ],
   "source": [
    "# get prediction on full dataset \n",
    "y_pred = mlp.predict(X_val)\n",
    "y_pred = np.argmax(y_pred,axis=1)\n",
    "\n",
    "confusion_mtx = confusion_matrix(y_val, y_pred)\n",
    "sns.heatmap(data=confusion_mtx, annot=True, fmt='d', cmap='YlGnBu');"
   ]
  },
  {
   "cell_type": "code",
   "execution_count": 16,
   "metadata": {},
   "outputs": [],
   "source": [
    "# save weights\n",
    "mlp.save_weights('./output/mnist_mlp_dropout.h5')\n",
    "\n",
    "# load test data\n",
    "test = pd.read_csv('./input/test.csv')\n",
    "\n",
    "# prediction\n",
    "y_test = mlp.predict(test)"
   ]
  },
  {
   "cell_type": "code",
   "execution_count": 17,
   "metadata": {},
   "outputs": [],
   "source": [
    "# convert to df\n",
    "submission = pd.DataFrame(data=y_test)\n",
    "\n",
    "# set label as the 0-9 class with highest value \n",
    "submission['Label'] = submission.idxmax(axis=1)\n",
    "submission['ImageId'] = np.asarray([i+1 for i in range(submission.shape[0])])\n",
    "\n",
    "submission.to_csv('./output/submission-mlp_dropout.csv', \n",
    "                  columns=['ImageId','Label'],\n",
    "                  header=True,\n",
    "                  index=False)"
   ]
  },
  {
   "cell_type": "markdown",
   "metadata": {},
   "source": [
    "## Simple CNN"
   ]
  },
  {
   "cell_type": "code",
   "execution_count": 13,
   "metadata": {},
   "outputs": [
    {
     "name": "stdout",
     "output_type": "stream",
     "text": [
      "(42000, 28, 28, 1)\n"
     ]
    }
   ],
   "source": [
    "# Reshape the images\n",
    "img_size = 28\n",
    "X_cnn = X.values.reshape(-1, img_size, img_size, 1)\n",
    "# check \n",
    "print(X_cnn.shape)\n",
    "\n",
    "X_train, X_test, y_train, y_test = train_test_split(X_cnn, y, test_size=0.1)"
   ]
  },
  {
   "cell_type": "code",
   "execution_count": 14,
   "metadata": {},
   "outputs": [
    {
     "name": "stdout",
     "output_type": "stream",
     "text": [
      "WARNING:tensorflow:From C:\\Users\\CEDRIC\\Anaconda3\\envs\\keras-tf\\lib\\site-packages\\keras\\backend\\tensorflow_backend.py:3976: The name tf.nn.max_pool is deprecated. Please use tf.nn.max_pool2d instead.\n",
      "\n"
     ]
    }
   ],
   "source": [
    "# define model\n",
    "num_filters = 8\n",
    "filter_size = 3\n",
    "pool_size = 2\n",
    "\n",
    "model = Sequential([\n",
    "  Conv2D(num_filters, filter_size, input_shape=(28, 28, 1)),\n",
    "  MaxPooling2D(pool_size=pool_size),\n",
    "  Flatten(),  \n",
    "#  Dense(10, activation='sigmoid'),   \n",
    "#  Dropout(0.25),     \n",
    "  Dense(10, activation='softmax'),\n",
    "])\n",
    "\n",
    "model.compile(\n",
    "  optimizer='adam',\n",
    "  loss='categorical_crossentropy',\n",
    "  metrics=['accuracy'],\n",
    ")"
   ]
  },
  {
   "cell_type": "code",
   "execution_count": 15,
   "metadata": {},
   "outputs": [
    {
     "name": "stdout",
     "output_type": "stream",
     "text": [
      "Train on 37800 samples, validate on 4200 samples\n",
      "Epoch 1/10\n",
      "37800/37800 [==============================] - 44s 1ms/step - loss: 0.4824 - acc: 0.8703 - val_loss: 0.2948 - val_acc: 0.9174\n",
      "Epoch 2/10\n",
      "37800/37800 [==============================] - 37s 991us/step - loss: 0.2403 - acc: 0.9319 - val_loss: 0.2342 - val_acc: 0.9319\n",
      "Epoch 3/10\n",
      "37800/37800 [==============================] - 38s 1ms/step - loss: 0.1865 - acc: 0.9484 - val_loss: 0.1901 - val_acc: 0.9455\n",
      "Epoch 4/10\n",
      "37800/37800 [==============================] - 38s 1ms/step - loss: 0.1519 - acc: 0.9574 - val_loss: 0.1715 - val_acc: 0.9531\n",
      "Epoch 5/10\n",
      "37800/37800 [==============================] - 40s 1ms/step - loss: 0.1276 - acc: 0.9641 - val_loss: 0.1483 - val_acc: 0.9571\n",
      "Epoch 6/10\n",
      "37800/37800 [==============================] - 39s 1ms/step - loss: 0.1105 - acc: 0.9693 - val_loss: 0.1391 - val_acc: 0.9586\n",
      "Epoch 7/10\n",
      "37800/37800 [==============================] - 38s 1ms/step - loss: 0.0982 - acc: 0.9731 - val_loss: 0.1273 - val_acc: 0.9621\n",
      "Epoch 8/10\n",
      "37800/37800 [==============================] - 40s 1ms/step - loss: 0.0883 - acc: 0.9758 - val_loss: 0.1280 - val_acc: 0.9605\n",
      "Epoch 9/10\n",
      "37800/37800 [==============================] - 39s 1ms/step - loss: 0.0811 - acc: 0.9771 - val_loss: 0.1140 - val_acc: 0.9664\n",
      "Epoch 10/10\n",
      "37800/37800 [==============================] - 41s 1ms/step - loss: 0.0749 - acc: 0.9779 - val_loss: 0.1115 - val_acc: 0.9633\n"
     ]
    }
   ],
   "source": [
    "# Train the model\n",
    "n_epochs = 10 # increase nbr of epochs from 5 to 10\n",
    "\n",
    "history = model.fit(\n",
    "    X_train,\n",
    "    to_categorical(y_train),\n",
    "    epochs=n_epochs,  \n",
    "    validation_data=(X_test, to_categorical(y_test)), \n",
    "    batch_size=64,\n",
    ")"
   ]
  },
  {
   "cell_type": "code",
   "execution_count": 16,
   "metadata": {},
   "outputs": [
    {
     "data": {
      "image/png": "[encoded data removed]",
      "text/plain": [
       "<Figure size 432x288 with 1 Axes>"
      ]
     },
     "metadata": {
      "needs_background": "light"
     },
     "output_type": "display_data"
    }
   ],
   "source": [
    "# load history in dataframe and plot accuracy for training and test data\n",
    "df_history = pd.DataFrame(history.history, index=[i+1 for i in range(n_epochs)])  \n",
    "sns.lineplot(data=df_history[['acc','val_acc']], palette=\"tab10\", linewidth=2.5);"
   ]
  },
  {
   "cell_type": "code",
   "execution_count": null,
   "metadata": {},
   "outputs": [],
   "source": []
  }
 ],
 "metadata": {
  "kernelspec": {
   "display_name": "Python 3",
   "language": "python",
   "name": "python3"
  },
  "language_info": {
   "codemirror_mode": {
    "name": "ipython",
    "version": 3
   },
   "file_extension": ".py",
   "mimetype": "text/x-python",
   "name": "python",
   "nbconvert_exporter": "python",
   "pygments_lexer": "ipython3",
   "version": "3.6.9"
  }
 },
 "nbformat": 4,
 "nbformat_minor": 4
}
