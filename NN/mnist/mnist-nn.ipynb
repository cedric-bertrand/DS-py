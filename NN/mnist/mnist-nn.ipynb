{
 "cells": [
  {
   "cell_type": "markdown",
   "metadata": {},
   "source": [
    "# MNIST digit classification\n",
    "\n",
    "For detailed explanations, refer to:\n",
    "* this [link](https://victorzhou.com/blog/keras-neural-network-tutorial/) for the FFNN"
   ]
  },
  {
   "cell_type": "code",
   "execution_count": 13,
   "metadata": {},
   "outputs": [],
   "source": [
    "# import\n",
    "import numpy as np\n",
    "import pandas as pd\n",
    "\n",
    "from sklearn.model_selection import train_test_split\n",
    "\n",
    "from keras.models import Sequential\n",
    "from keras.layers import Dense\n",
    "from keras.utils import to_categorical\n",
    "from keras.layers import Dropout\n",
    "\n",
    "import matplotlib.pyplot as plt\n",
    "import matplotlib.image as mpimg\n",
    "import seaborn as sns\n",
    "sns.set_style('white')\n",
    "\n",
    "from random import randrange"
   ]
  },
  {
   "cell_type": "code",
   "execution_count": 2,
   "metadata": {},
   "outputs": [
    {
     "name": "stdout",
     "output_type": "stream",
     "text": [
      "(42000, 785)\n"
     ]
    }
   ],
   "source": [
    "# load data\n",
    "data_set = pd.read_csv('./input/train.csv')\n",
    "print(data_set.shape)"
   ]
  },
  {
   "cell_type": "code",
   "execution_count": 3,
   "metadata": {},
   "outputs": [
    {
     "data": {
      "text/html": [
       "<div>\n",
       "<style scoped>\n",
       "    .dataframe tbody tr th:only-of-type {\n",
       "        vertical-align: middle;\n",
       "    }\n",
       "\n",
       "    .dataframe tbody tr th {\n",
       "        vertical-align: top;\n",
       "    }\n",
       "\n",
       "    .dataframe thead th {\n",
       "        text-align: right;\n",
       "    }\n",
       "</style>\n",
       "<table border=\"1\" class=\"dataframe\">\n",
       "  <thead>\n",
       "    <tr style=\"text-align: right;\">\n",
       "      <th></th>\n",
       "      <th>label</th>\n",
       "      <th>pixel0</th>\n",
       "      <th>pixel1</th>\n",
       "      <th>pixel2</th>\n",
       "      <th>pixel3</th>\n",
       "      <th>pixel4</th>\n",
       "      <th>pixel5</th>\n",
       "      <th>pixel6</th>\n",
       "      <th>pixel7</th>\n",
       "      <th>pixel8</th>\n",
       "      <th>...</th>\n",
       "      <th>pixel774</th>\n",
       "      <th>pixel775</th>\n",
       "      <th>pixel776</th>\n",
       "      <th>pixel777</th>\n",
       "      <th>pixel778</th>\n",
       "      <th>pixel779</th>\n",
       "      <th>pixel780</th>\n",
       "      <th>pixel781</th>\n",
       "      <th>pixel782</th>\n",
       "      <th>pixel783</th>\n",
       "    </tr>\n",
       "  </thead>\n",
       "  <tbody>\n",
       "    <tr>\n",
       "      <td>12455</td>\n",
       "      <td>9</td>\n",
       "      <td>0</td>\n",
       "      <td>0</td>\n",
       "      <td>0</td>\n",
       "      <td>0</td>\n",
       "      <td>0</td>\n",
       "      <td>0</td>\n",
       "      <td>0</td>\n",
       "      <td>0</td>\n",
       "      <td>0</td>\n",
       "      <td>...</td>\n",
       "      <td>0</td>\n",
       "      <td>0</td>\n",
       "      <td>0</td>\n",
       "      <td>0</td>\n",
       "      <td>0</td>\n",
       "      <td>0</td>\n",
       "      <td>0</td>\n",
       "      <td>0</td>\n",
       "      <td>0</td>\n",
       "      <td>0</td>\n",
       "    </tr>\n",
       "    <tr>\n",
       "      <td>18930</td>\n",
       "      <td>8</td>\n",
       "      <td>0</td>\n",
       "      <td>0</td>\n",
       "      <td>0</td>\n",
       "      <td>0</td>\n",
       "      <td>0</td>\n",
       "      <td>0</td>\n",
       "      <td>0</td>\n",
       "      <td>0</td>\n",
       "      <td>0</td>\n",
       "      <td>...</td>\n",
       "      <td>0</td>\n",
       "      <td>0</td>\n",
       "      <td>0</td>\n",
       "      <td>0</td>\n",
       "      <td>0</td>\n",
       "      <td>0</td>\n",
       "      <td>0</td>\n",
       "      <td>0</td>\n",
       "      <td>0</td>\n",
       "      <td>0</td>\n",
       "    </tr>\n",
       "    <tr>\n",
       "      <td>16704</td>\n",
       "      <td>7</td>\n",
       "      <td>0</td>\n",
       "      <td>0</td>\n",
       "      <td>0</td>\n",
       "      <td>0</td>\n",
       "      <td>0</td>\n",
       "      <td>0</td>\n",
       "      <td>0</td>\n",
       "      <td>0</td>\n",
       "      <td>0</td>\n",
       "      <td>...</td>\n",
       "      <td>0</td>\n",
       "      <td>0</td>\n",
       "      <td>0</td>\n",
       "      <td>0</td>\n",
       "      <td>0</td>\n",
       "      <td>0</td>\n",
       "      <td>0</td>\n",
       "      <td>0</td>\n",
       "      <td>0</td>\n",
       "      <td>0</td>\n",
       "    </tr>\n",
       "  </tbody>\n",
       "</table>\n",
       "<p>3 rows × 785 columns</p>\n",
       "</div>"
      ],
      "text/plain": [
       "       label  pixel0  pixel1  pixel2  pixel3  pixel4  pixel5  pixel6  pixel7  \\\n",
       "12455      9       0       0       0       0       0       0       0       0   \n",
       "18930      8       0       0       0       0       0       0       0       0   \n",
       "16704      7       0       0       0       0       0       0       0       0   \n",
       "\n",
       "       pixel8  ...  pixel774  pixel775  pixel776  pixel777  pixel778  \\\n",
       "12455       0  ...         0         0         0         0         0   \n",
       "18930       0  ...         0         0         0         0         0   \n",
       "16704       0  ...         0         0         0         0         0   \n",
       "\n",
       "       pixel779  pixel780  pixel781  pixel782  pixel783  \n",
       "12455         0         0         0         0         0  \n",
       "18930         0         0         0         0         0  \n",
       "16704         0         0         0         0         0  \n",
       "\n",
       "[3 rows x 785 columns]"
      ]
     },
     "execution_count": 3,
     "metadata": {},
     "output_type": "execute_result"
    }
   ],
   "source": [
    "data_set.sample(3)"
   ]
  },
  {
   "cell_type": "code",
   "execution_count": 4,
   "metadata": {},
   "outputs": [
    {
     "data": {
      "image/png": "[encoded data removed]",
      "text/plain": [
       "<Figure size 432x288 with 1 Axes>"
      ]
     },
     "metadata": {
      "needs_background": "light"
     },
     "output_type": "display_data"
    }
   ],
   "source": [
    "# segregate training data set in pixel features and label\n",
    "y = data_set['label']\n",
    "X = data_set.drop(labels = ['label'], axis=1) \n",
    "# free memory\n",
    "del data_set\n",
    "\n",
    "# check distribution of the handwritten digits\n",
    "sns.countplot(y, color='skyblue');"
   ]
  },
  {
   "cell_type": "code",
   "execution_count": 5,
   "metadata": {},
   "outputs": [
    {
     "data": {
      "image/png": "[encoded data removed]",
      "text/plain": [
       "<Figure size 720x144 with 20 Axes>"
      ]
     },
     "metadata": {
      "needs_background": "light"
     },
     "output_type": "display_data"
    }
   ],
   "source": [
    "# show multiple images chosen randomly \n",
    "fig, axs = plt.subplots(2, 10, figsize=(10, 2)) # 2 rows of 10 images\n",
    "\n",
    "for ax in axs.flat:\n",
    "    i = randrange(X.shape[0])\n",
    "    ax.imshow(X.loc[i].values.reshape(28, 28), cmap='gray_r')\n",
    "    ax.set_axis_off()"
   ]
  },
  {
   "cell_type": "code",
   "execution_count": 6,
   "metadata": {},
   "outputs": [],
   "source": [
    "# Normalize pixel value to range 0 to 1\n",
    "X = X / 255.0\n",
    "\n",
    "X_train, X_test, y_train, y_test = train_test_split(X, y, test_size=0.1)"
   ]
  },
  {
   "cell_type": "code",
   "execution_count": 14,
   "metadata": {},
   "outputs": [
    {
     "name": "stdout",
     "output_type": "stream",
     "text": [
      "WARNING:tensorflow:From C:\\Users\\CEDRIC\\Anaconda3\\envs\\keras-tf\\lib\\site-packages\\keras\\backend\\tensorflow_backend.py:3445: calling dropout (from tensorflow.python.ops.nn_ops) with keep_prob is deprecated and will be removed in a future version.\n",
      "Instructions for updating:\n",
      "Please use `rate` instead of `keep_prob`. Rate should be set to `rate = 1 - keep_prob`.\n"
     ]
    }
   ],
   "source": [
    "# define model\n",
    "model = Sequential([\n",
    "  Dense(128, activation='relu', input_shape=(784,)),  # change layer size from 64 to 128\n",
    "  Dropout(0.25),\n",
    "  Dense(64, activation='sigmoid'), # change activation function from relu to sigmoid\n",
    "  Dropout(0.25),    \n",
    "  Dense(10, activation='softmax'),\n",
    "])\n",
    "\n",
    "model.compile(\n",
    "  optimizer='adam',\n",
    "  loss='categorical_crossentropy',\n",
    "  metrics=['accuracy'],\n",
    ")"
   ]
  },
  {
   "cell_type": "code",
   "execution_count": 15,
   "metadata": {},
   "outputs": [
    {
     "name": "stdout",
     "output_type": "stream",
     "text": [
      "Train on 37800 samples, validate on 4200 samples\n",
      "Epoch 1/10\n",
      "37800/37800 [==============================] - 24s 636us/step - loss: 0.5355 - acc: 0.8479 - val_loss: 0.2163 - val_acc: 0.9352\n",
      "Epoch 2/10\n",
      "37800/37800 [==============================] - 23s 598us/step - loss: 0.2310 - acc: 0.9329 - val_loss: 0.1583 - val_acc: 0.9495\n",
      "Epoch 3/10\n",
      "37800/37800 [==============================] - 22s 583us/step - loss: 0.1773 - acc: 0.9475 - val_loss: 0.1352 - val_acc: 0.9595\n",
      "Epoch 4/10\n",
      "37800/37800 [==============================] - 22s 581us/step - loss: 0.1451 - acc: 0.9578 - val_loss: 0.1099 - val_acc: 0.9636\n",
      "Epoch 5/10\n",
      "37800/37800 [==============================] - 24s 633us/step - loss: 0.1232 - acc: 0.9642 - val_loss: 0.1125 - val_acc: 0.9650\n",
      "Epoch 6/10\n",
      "37800/37800 [==============================] - 22s 594us/step - loss: 0.1074 - acc: 0.9678 - val_loss: 0.1066 - val_acc: 0.9667\n",
      "Epoch 7/10\n",
      "37800/37800 [==============================] - 24s 643us/step - loss: 0.1005 - acc: 0.9688 - val_loss: 0.1002 - val_acc: 0.9679\n",
      "Epoch 8/10\n",
      "37800/37800 [==============================] - 23s 607us/step - loss: 0.0881 - acc: 0.9721 - val_loss: 0.0924 - val_acc: 0.9707\n",
      "Epoch 9/10\n",
      "37800/37800 [==============================] - 24s 625us/step - loss: 0.0840 - acc: 0.9739 - val_loss: 0.0944 - val_acc: 0.9726\n",
      "Epoch 10/10\n",
      "37800/37800 [==============================] - 22s 575us/step - loss: 0.0732 - acc: 0.9782 - val_loss: 0.0934 - val_acc: 0.9719\n"
     ]
    }
   ],
   "source": [
    "# Train the model\n",
    "n_epochs = 10 # increase nbr of epochs from 5 to 10\n",
    "\n",
    "history = model.fit(\n",
    "    X_train,\n",
    "    to_categorical(y_train),\n",
    "    epochs=n_epochs,  \n",
    "    validation_data=(X_test, to_categorical(y_test)), \n",
    "    batch_size=32,\n",
    ")"
   ]
  },
  {
   "cell_type": "code",
   "execution_count": 16,
   "metadata": {},
   "outputs": [
    {
     "data": {
      "image/png": "[encoded data removed]",
      "text/plain": [
       "<Figure size 432x288 with 1 Axes>"
      ]
     },
     "metadata": {},
     "output_type": "display_data"
    }
   ],
   "source": [
    "# load history in dataframe and plot accuracy for training and test data\n",
    "df_history = pd.DataFrame(history.history, index=[i+1 for i in range(n_epochs)])  \n",
    "sns.lineplot(data=df_history[['acc','val_acc']], palette=\"tab10\", linewidth=2.5);"
   ]
  },
  {
   "cell_type": "code",
   "execution_count": 17,
   "metadata": {},
   "outputs": [],
   "source": [
    "# save weights\n",
    "model.save_weights('./output/mnist_mlp_dropout.h5')\n",
    "\n",
    "# load test data\n",
    "test = pd.read_csv('./input/test.csv')\n",
    "\n",
    "# prediction\n",
    "y_test = model.predict(test)"
   ]
  },
  {
   "cell_type": "code",
   "execution_count": 18,
   "metadata": {},
   "outputs": [],
   "source": [
    "# convert to df\n",
    "submission = pd.DataFrame(data=y_test)\n",
    "\n",
    "# set label as the 0-9 class with highest value \n",
    "submission['Label'] = submission.idxmax(axis=1)\n",
    "\n",
    "submission['ImageId'] = np.asarray([i+1 for i in range(submission.shape[0])])\n",
    "\n",
    "submission.to_csv('./output/submission-mlp_dropout.csv', \n",
    "                  columns=['ImageId','Label'],\n",
    "                  header=True,\n",
    "                  index=False)"
   ]
  },
  {
   "cell_type": "code",
   "execution_count": null,
   "metadata": {},
   "outputs": [],
   "source": []
  }
 ],
 "metadata": {
  "kernelspec": {
   "display_name": "Python 3",
   "language": "python",
   "name": "python3"
  },
  "language_info": {
   "codemirror_mode": {
    "name": "ipython",
    "version": 3
   },
   "file_extension": ".py",
   "mimetype": "text/x-python",
   "name": "python",
   "nbconvert_exporter": "python",
   "pygments_lexer": "ipython3",
   "version": "3.6.9"
  }
 },
 "nbformat": 4,
 "nbformat_minor": 4
}
