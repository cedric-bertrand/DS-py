{
 "cells": [
  {
   "cell_type": "markdown",
   "metadata": {},
   "source": [
    "# MNIST digit classification\n",
    "\n",
    "We will:\n",
    "1. Implement a simple MLP\n",
    "1. Use dropout to reduce overfit\n",
    "1. Move to a simple CNN \n",
    "\n",
    "For detailed explanations, refer to:\n",
    "* this [link](https://victorzhou.com/blog/keras-neural-network-tutorial/) for the MLP\n",
    "* [here](https://victorzhou.com/blog/keras-cnn-tutorial/) for the simple CNN, and to this Kaggle [kernel](https://www.kaggle.com/anebzt/mnist-with-cnn-in-keras-detailed-explanation) for additional information on implementing CNN\n",
    "\n",
    "On optimizing the CNN: \n",
    "this awesome Kaggle [kernel](https://www.kaggle.com/cdeotte/how-to-choose-cnn-architecture-mnist) and  \n",
    "[Keras documentation](https://keras.io/examples/mnist_cnn/)"
   ]
  },
  {
   "cell_type": "code",
   "execution_count": 7,
   "metadata": {},
   "outputs": [],
   "source": [
    "# import\n",
    "import numpy as np\n",
    "import pandas as pd\n",
    "\n",
    "from sklearn.metrics import confusion_matrix\n",
    "from sklearn.model_selection import train_test_split\n",
    "\n",
    "# keras import\n",
    "from keras.models import Sequential\n",
    "from keras.layers import Dense, Dropout, Conv2D, MaxPooling2D, Flatten\n",
    "from keras.utils import to_categorical\n",
    "from keras.callbacks import EarlyStopping\n",
    "\n",
    "# visualisation\n",
    "import matplotlib.pyplot as plt\n",
    "import matplotlib.image as mpimg\n",
    "import seaborn as sns\n",
    "#set figure size\n",
    "plt.rcParams['figure.figsize'] = 9, 6\n",
    "sns.set_style('white')\n",
    "\n",
    "from random import randrange"
   ]
  },
  {
   "cell_type": "code",
   "execution_count": 3,
   "metadata": {},
   "outputs": [
    {
     "name": "stdout",
     "output_type": "stream",
     "text": [
      "(42000, 785)\n"
     ]
    }
   ],
   "source": [
    "# load data\n",
    "data_set = pd.read_csv('./input/train.csv')\n",
    "print(data_set.shape)"
   ]
  },
  {
   "cell_type": "code",
   "execution_count": 4,
   "metadata": {},
   "outputs": [
    {
     "data": {
      "text/html": [
       "<div>\n",
       "<style scoped>\n",
       "    .dataframe tbody tr th:only-of-type {\n",
       "        vertical-align: middle;\n",
       "    }\n",
       "\n",
       "    .dataframe tbody tr th {\n",
       "        vertical-align: top;\n",
       "    }\n",
       "\n",
       "    .dataframe thead th {\n",
       "        text-align: right;\n",
       "    }\n",
       "</style>\n",
       "<table border=\"1\" class=\"dataframe\">\n",
       "  <thead>\n",
       "    <tr style=\"text-align: right;\">\n",
       "      <th></th>\n",
       "      <th>label</th>\n",
       "      <th>pixel0</th>\n",
       "      <th>pixel1</th>\n",
       "      <th>pixel2</th>\n",
       "      <th>pixel3</th>\n",
       "      <th>pixel4</th>\n",
       "      <th>pixel5</th>\n",
       "      <th>pixel6</th>\n",
       "      <th>pixel7</th>\n",
       "      <th>pixel8</th>\n",
       "      <th>...</th>\n",
       "      <th>pixel774</th>\n",
       "      <th>pixel775</th>\n",
       "      <th>pixel776</th>\n",
       "      <th>pixel777</th>\n",
       "      <th>pixel778</th>\n",
       "      <th>pixel779</th>\n",
       "      <th>pixel780</th>\n",
       "      <th>pixel781</th>\n",
       "      <th>pixel782</th>\n",
       "      <th>pixel783</th>\n",
       "    </tr>\n",
       "  </thead>\n",
       "  <tbody>\n",
       "    <tr>\n",
       "      <td>4432</td>\n",
       "      <td>0</td>\n",
       "      <td>0</td>\n",
       "      <td>0</td>\n",
       "      <td>0</td>\n",
       "      <td>0</td>\n",
       "      <td>0</td>\n",
       "      <td>0</td>\n",
       "      <td>0</td>\n",
       "      <td>0</td>\n",
       "      <td>0</td>\n",
       "      <td>...</td>\n",
       "      <td>0</td>\n",
       "      <td>0</td>\n",
       "      <td>0</td>\n",
       "      <td>0</td>\n",
       "      <td>0</td>\n",
       "      <td>0</td>\n",
       "      <td>0</td>\n",
       "      <td>0</td>\n",
       "      <td>0</td>\n",
       "      <td>0</td>\n",
       "    </tr>\n",
       "    <tr>\n",
       "      <td>36413</td>\n",
       "      <td>8</td>\n",
       "      <td>0</td>\n",
       "      <td>0</td>\n",
       "      <td>0</td>\n",
       "      <td>0</td>\n",
       "      <td>0</td>\n",
       "      <td>0</td>\n",
       "      <td>0</td>\n",
       "      <td>0</td>\n",
       "      <td>0</td>\n",
       "      <td>...</td>\n",
       "      <td>0</td>\n",
       "      <td>0</td>\n",
       "      <td>0</td>\n",
       "      <td>0</td>\n",
       "      <td>0</td>\n",
       "      <td>0</td>\n",
       "      <td>0</td>\n",
       "      <td>0</td>\n",
       "      <td>0</td>\n",
       "      <td>0</td>\n",
       "    </tr>\n",
       "    <tr>\n",
       "      <td>13372</td>\n",
       "      <td>6</td>\n",
       "      <td>0</td>\n",
       "      <td>0</td>\n",
       "      <td>0</td>\n",
       "      <td>0</td>\n",
       "      <td>0</td>\n",
       "      <td>0</td>\n",
       "      <td>0</td>\n",
       "      <td>0</td>\n",
       "      <td>0</td>\n",
       "      <td>...</td>\n",
       "      <td>0</td>\n",
       "      <td>0</td>\n",
       "      <td>0</td>\n",
       "      <td>0</td>\n",
       "      <td>0</td>\n",
       "      <td>0</td>\n",
       "      <td>0</td>\n",
       "      <td>0</td>\n",
       "      <td>0</td>\n",
       "      <td>0</td>\n",
       "    </tr>\n",
       "  </tbody>\n",
       "</table>\n",
       "<p>3 rows × 785 columns</p>\n",
       "</div>"
      ],
      "text/plain": [
       "       label  pixel0  pixel1  pixel2  pixel3  pixel4  pixel5  pixel6  pixel7  \\\n",
       "4432       0       0       0       0       0       0       0       0       0   \n",
       "36413      8       0       0       0       0       0       0       0       0   \n",
       "13372      6       0       0       0       0       0       0       0       0   \n",
       "\n",
       "       pixel8  ...  pixel774  pixel775  pixel776  pixel777  pixel778  \\\n",
       "4432        0  ...         0         0         0         0         0   \n",
       "36413       0  ...         0         0         0         0         0   \n",
       "13372       0  ...         0         0         0         0         0   \n",
       "\n",
       "       pixel779  pixel780  pixel781  pixel782  pixel783  \n",
       "4432          0         0         0         0         0  \n",
       "36413         0         0         0         0         0  \n",
       "13372         0         0         0         0         0  \n",
       "\n",
       "[3 rows x 785 columns]"
      ]
     },
     "execution_count": 4,
     "metadata": {},
     "output_type": "execute_result"
    }
   ],
   "source": [
    "data_set.sample(3)"
   ]
  },
  {
   "cell_type": "markdown",
   "metadata": {},
   "source": [
    "We check the distribution of the 10 classes of digits. They are equivalently represented, therefore we will not need to use stratify when splitting the data set into training and validation sets."
   ]
  },
  {
   "cell_type": "code",
   "execution_count": 5,
   "metadata": {},
   "outputs": [
    {
     "data": {
      "image/png": "[encoded data removed]",
      "text/plain": [
       "<Figure size 648x432 with 1 Axes>"
      ]
     },
     "metadata": {},
     "output_type": "display_data"
    }
   ],
   "source": [
    "# segregate training data set in pixel features and label\n",
    "y = data_set['label']\n",
    "X = data_set.drop(labels = ['label'], axis=1) \n",
    "# free memory\n",
    "del data_set\n",
    "\n",
    "# check distribution of the handwritten digits\n",
    "sns.countplot(y, color='skyblue');"
   ]
  },
  {
   "cell_type": "code",
   "execution_count": 8,
   "metadata": {},
   "outputs": [
    {
     "data": {
      "image/png": "[encoded data removed]",
      "text/plain": [
       "<Figure size 720x144 with 20 Axes>"
      ]
     },
     "metadata": {},
     "output_type": "display_data"
    }
   ],
   "source": [
    "# show multiple images chosen randomly \n",
    "fig, axs = plt.subplots(2, 10, figsize=(10, 2)) # 2 rows of 10 images\n",
    "\n",
    "for ax in axs.flat:\n",
    "    i = randrange(X.shape[0])\n",
    "    ax.imshow(X.loc[i].values.reshape(28, 28), cmap='gray_r')\n",
    "    ax.set_axis_off()"
   ]
  },
  {
   "cell_type": "code",
   "execution_count": 9,
   "metadata": {},
   "outputs": [],
   "source": [
    "# Normalize pixel value to range 0 to 1\n",
    "X = X / 255.0\n",
    "\n",
    "# extract train and validation set\n",
    "X_train, X_val, y_train, y_val = train_test_split(X, y, test_size=0.10)"
   ]
  },
  {
   "cell_type": "markdown",
   "metadata": {},
   "source": [
    "## 1. Implementing a simple MLP"
   ]
  },
  {
   "cell_type": "code",
   "execution_count": 10,
   "metadata": {},
   "outputs": [
    {
     "name": "stdout",
     "output_type": "stream",
     "text": [
      "WARNING:tensorflow:From C:\\Users\\CEDRIC\\Anaconda3\\envs\\keras-tf\\lib\\site-packages\\keras\\backend\\tensorflow_backend.py:74: The name tf.get_default_graph is deprecated. Please use tf.compat.v1.get_default_graph instead.\n",
      "\n",
      "WARNING:tensorflow:From C:\\Users\\CEDRIC\\Anaconda3\\envs\\keras-tf\\lib\\site-packages\\keras\\backend\\tensorflow_backend.py:517: The name tf.placeholder is deprecated. Please use tf.compat.v1.placeholder instead.\n",
      "\n",
      "WARNING:tensorflow:From C:\\Users\\CEDRIC\\Anaconda3\\envs\\keras-tf\\lib\\site-packages\\keras\\backend\\tensorflow_backend.py:4138: The name tf.random_uniform is deprecated. Please use tf.random.uniform instead.\n",
      "\n",
      "WARNING:tensorflow:From C:\\Users\\CEDRIC\\Anaconda3\\envs\\keras-tf\\lib\\site-packages\\keras\\optimizers.py:790: The name tf.train.Optimizer is deprecated. Please use tf.compat.v1.train.Optimizer instead.\n",
      "\n",
      "WARNING:tensorflow:From C:\\Users\\CEDRIC\\Anaconda3\\envs\\keras-tf\\lib\\site-packages\\keras\\backend\\tensorflow_backend.py:3295: The name tf.log is deprecated. Please use tf.math.log instead.\n",
      "\n",
      "_________________________________________________________________\n",
      "Layer (type)                 Output Shape              Param #   \n",
      "=================================================================\n",
      "dense_1 (Dense)              (None, 128)               100480    \n",
      "_________________________________________________________________\n",
      "dense_2 (Dense)              (None, 64)                8256      \n",
      "_________________________________________________________________\n",
      "dense_3 (Dense)              (None, 10)                650       \n",
      "=================================================================\n",
      "Total params: 109,386\n",
      "Trainable params: 109,386\n",
      "Non-trainable params: 0\n",
      "_________________________________________________________________\n"
     ]
    }
   ],
   "source": [
    "# define model\n",
    "mlp = Sequential([\n",
    "  Dense(128, activation='relu', input_shape=(784,)),  # change layer size from 64 to 128\n",
    "  Dense(64, activation='sigmoid'), # change activation function from relu to sigmoid  \n",
    "  Dense(10, activation='softmax'),\n",
    "])\n",
    "\n",
    "mlp.compile(\n",
    "  optimizer='adam',\n",
    "  loss='categorical_crossentropy',\n",
    "  metrics=['accuracy'],\n",
    ")\n",
    "\n",
    "mlp.summary()"
   ]
  },
  {
   "cell_type": "markdown",
   "metadata": {},
   "source": [
    "Results after training the model:\n",
    "* the accuracy on the validation set is around 0.975\n",
    "* there is clear sign of overfitting as the loss for the validation set (around 0.090) is significantly higher than the loss on the training set (around 0.015)"
   ]
  },
  {
   "cell_type": "code",
   "execution_count": 11,
   "metadata": {},
   "outputs": [
    {
     "name": "stdout",
     "output_type": "stream",
     "text": [
      "WARNING:tensorflow:From C:\\Users\\CEDRIC\\Anaconda3\\envs\\keras-tf\\lib\\site-packages\\tensorflow\\python\\ops\\math_grad.py:1250: add_dispatch_support.<locals>.wrapper (from tensorflow.python.ops.array_ops) is deprecated and will be removed in a future version.\n",
      "Instructions for updating:\n",
      "Use tf.where in 2.0, which has the same broadcast rule as np.where\n",
      "WARNING:tensorflow:From C:\\Users\\CEDRIC\\Anaconda3\\envs\\keras-tf\\lib\\site-packages\\keras\\backend\\tensorflow_backend.py:986: The name tf.assign_add is deprecated. Please use tf.compat.v1.assign_add instead.\n",
      "\n",
      "Train on 37800 samples, validate on 4200 samples\n",
      "Epoch 1/15\n",
      "37800/37800 [==============================] - 30s 802us/step - loss: 0.4091 - acc: 0.8922 - val_loss: 0.1902 - val_acc: 0.9455\n",
      "Epoch 2/15\n",
      "37800/37800 [==============================] - 21s 563us/step - loss: 0.1523 - acc: 0.9553 - val_loss: 0.1371 - val_acc: 0.9595\n",
      "Epoch 3/15\n",
      "37800/37800 [==============================] - 22s 589us/step - loss: 0.0996 - acc: 0.9711 - val_loss: 0.1066 - val_acc: 0.9669\n",
      "Epoch 4/15\n",
      "37800/37800 [==============================] - 22s 569us/step - loss: 0.0724 - acc: 0.9782 - val_loss: 0.0959 - val_acc: 0.9700\n",
      "Epoch 5/15\n",
      "37800/37800 [==============================] - 22s 574us/step - loss: 0.0530 - acc: 0.9844 - val_loss: 0.0828 - val_acc: 0.9717\n",
      "Epoch 6/15\n",
      "37800/37800 [==============================] - 22s 593us/step - loss: 0.0396 - acc: 0.9883 - val_loss: 0.0930 - val_acc: 0.9719\n",
      "Epoch 7/15\n",
      "37800/37800 [==============================] - 22s 582us/step - loss: 0.0303 - acc: 0.9913 - val_loss: 0.0780 - val_acc: 0.9750\n",
      "Epoch 8/15\n",
      "37800/37800 [==============================] - 23s 610us/step - loss: 0.0235 - acc: 0.9936 - val_loss: 0.0830 - val_acc: 0.9750\n",
      "Epoch 9/15\n",
      "37800/37800 [==============================] - 22s 569us/step - loss: 0.0177 - acc: 0.9955 - val_loss: 0.0867 - val_acc: 0.9760\n",
      "Epoch 10/15\n",
      "37800/37800 [==============================] - 22s 587us/step - loss: 0.0153 - acc: 0.9961 - val_loss: 0.0827 - val_acc: 0.9750\n",
      "Epoch 11/15\n",
      "37800/37800 [==============================] - 24s 624us/step - loss: 0.0125 - acc: 0.9962 - val_loss: 0.0958 - val_acc: 0.9752\n"
     ]
    }
   ],
   "source": [
    "# Train the model\n",
    "n_epochs = 15 \n",
    "\n",
    "#define callbacks\n",
    "early_stop = EarlyStopping(monitor = 'val_acc', mode = 'max', patience=2)\n",
    "\n",
    "history = mlp.fit(\n",
    "    X_train,\n",
    "    to_categorical(y_train),\n",
    "    epochs = n_epochs,  \n",
    "    validation_data = (X_val, to_categorical(y_val)),\n",
    "    batch_size = 32,\n",
    "    callbacks = [early_stop]\n",
    ")"
   ]
  },
  {
   "cell_type": "code",
   "execution_count": 12,
   "metadata": {},
   "outputs": [
    {
     "data": {
      "image/png": "[encoded data removed]",
      "text/plain": [
       "<Figure size 648x432 with 1 Axes>"
      ]
     },
     "metadata": {},
     "output_type": "display_data"
    }
   ],
   "source": [
    "# load history in dataframe and plot accuracy of training and validation data\n",
    "df_history = pd.DataFrame(history.history)\n",
    "sns.lineplot(data=df_history[['acc','val_acc']], palette=\"tab10\", linewidth=2.5);"
   ]
  },
  {
   "cell_type": "markdown",
   "metadata": {},
   "source": [
    "## 2. Add dropout to reduce overfit\n",
    "Our MLP model showed signs of overfitè we are now adding dropout to reduce the overfit.  \n",
    "Results are:\n",
    "* no more overfit from dropout rate = 0.2 and above \n",
    "* no or minimal improvement of the accuracy on the validation set: **we are reaching the limit of a simple MLP model**\n",
    "* noticeable degradation of results (both on training and validation sets) for rate of 0.4 and above "
   ]
  },
  {
   "cell_type": "code",
   "execution_count": 25,
   "metadata": {},
   "outputs": [
    {
     "name": "stdout",
     "output_type": "stream",
     "text": [
      "Fit model, dropout rate = 0.00\n",
      "Train on 37800 samples, validate on 4200 samples\n",
      "Epoch 1/15\n",
      "37800/37800 [==============================] - 43s 1ms/step - loss: 0.4017 - acc: 0.8966 - val_loss: 0.1798 - val_acc: 0.9479\n",
      "Epoch 2/15\n",
      "37800/37800 [==============================] - 23s 607us/step - loss: 0.1486 - acc: 0.9561 - val_loss: 0.1346 - val_acc: 0.9598\n",
      "Epoch 3/15\n",
      "37800/37800 [==============================] - 24s 630us/step - loss: 0.0988 - acc: 0.9712 - val_loss: 0.1133 - val_acc: 0.9674\n",
      "Epoch 4/15\n",
      "37800/37800 [==============================] - 23s 619us/step - loss: 0.0727 - acc: 0.9789 - val_loss: 0.0970 - val_acc: 0.9714\n",
      "Epoch 5/15\n",
      "37800/37800 [==============================] - 25s 664us/step - loss: 0.0542 - acc: 0.9841 - val_loss: 0.0883 - val_acc: 0.9717\n",
      "Epoch 6/15\n",
      "37800/37800 [==============================] - 24s 643us/step - loss: 0.0416 - acc: 0.9877 - val_loss: 0.0857 - val_acc: 0.9752\n",
      "Epoch 7/15\n",
      "37800/37800 [==============================] - 24s 641us/step - loss: 0.0323 - acc: 0.9911 - val_loss: 0.0950 - val_acc: 0.9731\n",
      "Epoch 8/15\n",
      "37800/37800 [==============================] - 24s 629us/step - loss: 0.0243 - acc: 0.9930 - val_loss: 0.0846 - val_acc: 0.9752\n",
      "Fit model, dropout rate = 0.10\n",
      "Train on 37800 samples, validate on 4200 samples\n",
      "Epoch 1/15\n",
      "37800/37800 [==============================] - 34s 912us/step - loss: 0.4383 - acc: 0.8820 - val_loss: 0.1898 - val_acc: 0.9450\n",
      "Epoch 2/15\n",
      "37800/37800 [==============================] - 29s 769us/step - loss: 0.1759 - acc: 0.9482 - val_loss: 0.1309 - val_acc: 0.9631\n",
      "Epoch 3/15\n",
      "37800/37800 [==============================] - 28s 745us/step - loss: 0.1265 - acc: 0.9622 - val_loss: 0.1062 - val_acc: 0.9698\n",
      "Epoch 4/15\n",
      "37800/37800 [==============================] - 28s 754us/step - loss: 0.0972 - acc: 0.9708 - val_loss: 0.0977 - val_acc: 0.9714\n",
      "Epoch 5/15\n",
      "37800/37800 [==============================] - 28s 742us/step - loss: 0.0775 - acc: 0.9765 - val_loss: 0.0919 - val_acc: 0.9733\n",
      "Epoch 6/15\n",
      "37800/37800 [==============================] - 28s 750us/step - loss: 0.0647 - acc: 0.9802 - val_loss: 0.0876 - val_acc: 0.9755\n",
      "Epoch 7/15\n",
      "37800/37800 [==============================] - 27s 724us/step - loss: 0.0545 - acc: 0.9824 - val_loss: 0.0801 - val_acc: 0.9767\n",
      "Epoch 8/15\n",
      "37800/37800 [==============================] - 28s 752us/step - loss: 0.0484 - acc: 0.9851 - val_loss: 0.0848 - val_acc: 0.9743\n",
      "Epoch 9/15\n",
      "37800/37800 [==============================] - 29s 759us/step - loss: 0.0403 - acc: 0.9867 - val_loss: 0.0844 - val_acc: 0.9745\n",
      "Fit model, dropout rate = 0.20\n",
      "Train on 37800 samples, validate on 4200 samples\n",
      "Epoch 1/15\n",
      "37800/37800 [==============================] - 33s 863us/step - loss: 0.4878 - acc: 0.8673 - val_loss: 0.1930 - val_acc: 0.9452\n",
      "Epoch 2/15\n",
      "37800/37800 [==============================] - 30s 795us/step - loss: 0.2051 - acc: 0.9410 - val_loss: 0.1417 - val_acc: 0.9588\n",
      "Epoch 3/15\n",
      "37800/37800 [==============================] - 29s 765us/step - loss: 0.1512 - acc: 0.9551 - val_loss: 0.1150 - val_acc: 0.9655\n",
      "Epoch 4/15\n",
      "37800/37800 [==============================] - 26s 696us/step - loss: 0.1206 - acc: 0.9640 - val_loss: 0.0981 - val_acc: 0.9712\n",
      "Epoch 5/15\n",
      "37800/37800 [==============================] - 29s 758us/step - loss: 0.1055 - acc: 0.9686 - val_loss: 0.0911 - val_acc: 0.9726\n",
      "Epoch 6/15\n",
      "37800/37800 [==============================] - 31s 809us/step - loss: 0.0912 - acc: 0.9723 - val_loss: 0.0838 - val_acc: 0.9740\n",
      "Epoch 7/15\n",
      "37800/37800 [==============================] - 29s 769us/step - loss: 0.0794 - acc: 0.9750 - val_loss: 0.0801 - val_acc: 0.9752\n",
      "Epoch 8/15\n",
      "37800/37800 [==============================] - 29s 762us/step - loss: 0.0725 - acc: 0.9772 - val_loss: 0.0801 - val_acc: 0.9760\n",
      "Epoch 9/15\n",
      "37800/37800 [==============================] - 30s 797us/step - loss: 0.0661 - acc: 0.9793 - val_loss: 0.0784 - val_acc: 0.9771\n",
      "Epoch 10/15\n",
      "37800/37800 [==============================] - 29s 757us/step - loss: 0.0603 - acc: 0.9816 - val_loss: 0.0817 - val_acc: 0.9752\n",
      "Epoch 11/15\n",
      "37800/37800 [==============================] - 29s 779us/step - loss: 0.0531 - acc: 0.9826 - val_loss: 0.0816 - val_acc: 0.9779\n",
      "Epoch 12/15\n",
      "37800/37800 [==============================] - 29s 774us/step - loss: 0.0525 - acc: 0.9828 - val_loss: 0.0791 - val_acc: 0.9786\n",
      "Epoch 13/15\n",
      "37800/37800 [==============================] - 30s 785us/step - loss: 0.0507 - acc: 0.9836 - val_loss: 0.0868 - val_acc: 0.9771\n",
      "Epoch 14/15\n",
      "37800/37800 [==============================] - 30s 791us/step - loss: 0.0449 - acc: 0.9852 - val_loss: 0.0810 - val_acc: 0.9757\n",
      "Fit model, dropout rate = 0.30\n",
      "Train on 37800 samples, validate on 4200 samples\n",
      "Epoch 1/15\n",
      "37800/37800 [==============================] - 33s 864us/step - loss: 0.5534 - acc: 0.8443 - val_loss: 0.2065 - val_acc: 0.9402\n",
      "Epoch 2/15\n",
      "37800/37800 [==============================] - 30s 801us/step - loss: 0.2443 - acc: 0.9308 - val_loss: 0.1559 - val_acc: 0.9543\n",
      "Epoch 3/15\n",
      "37800/37800 [==============================] - 31s 812us/step - loss: 0.1929 - acc: 0.9443 - val_loss: 0.1333 - val_acc: 0.9621\n",
      "Epoch 4/15\n",
      "37800/37800 [==============================] - 31s 811us/step - loss: 0.1598 - acc: 0.9541 - val_loss: 0.1201 - val_acc: 0.9645\n",
      "Epoch 5/15\n",
      "37800/37800 [==============================] - 31s 824us/step - loss: 0.1358 - acc: 0.9596 - val_loss: 0.1030 - val_acc: 0.9710\n",
      "Epoch 6/15\n",
      "37800/37800 [==============================] - 33s 872us/step - loss: 0.1230 - acc: 0.9633 - val_loss: 0.1021 - val_acc: 0.9712\n",
      "Epoch 7/15\n",
      "37800/37800 [==============================] - 37s 986us/step - loss: 0.1121 - acc: 0.9656 - val_loss: 0.1022 - val_acc: 0.9717\n",
      "Epoch 8/15\n",
      "37800/37800 [==============================] - 36s 947us/step - loss: 0.1068 - acc: 0.9674 - val_loss: 0.0952 - val_acc: 0.9733\n",
      "Epoch 9/15\n",
      "37800/37800 [==============================] - 32s 842us/step - loss: 0.0967 - acc: 0.9706 - val_loss: 0.0911 - val_acc: 0.9755\n",
      "Epoch 10/15\n",
      "37800/37800 [==============================] - 32s 841us/step - loss: 0.0903 - acc: 0.9720 - val_loss: 0.1001 - val_acc: 0.9724\n",
      "Epoch 11/15\n",
      "37800/37800 [==============================] - 33s 862us/step - loss: 0.0810 - acc: 0.9744 - val_loss: 0.0883 - val_acc: 0.9771\n",
      "Epoch 12/15\n",
      "37800/37800 [==============================] - 32s 841us/step - loss: 0.0817 - acc: 0.9747 - val_loss: 0.0893 - val_acc: 0.9769\n",
      "Epoch 13/15\n",
      "37800/37800 [==============================] - 32s 838us/step - loss: 0.0768 - acc: 0.9766 - val_loss: 0.0894 - val_acc: 0.9764\n",
      "Fit model, dropout rate = 0.40\n",
      "Train on 37800 samples, validate on 4200 samples\n",
      "Epoch 1/15\n",
      "37800/37800 [==============================] - 37s 979us/step - loss: 0.6687 - acc: 0.8078 - val_loss: 0.2347 - val_acc: 0.9310\n",
      "Epoch 2/15\n",
      "37800/37800 [==============================] - 34s 896us/step - loss: 0.3124 - acc: 0.9122 - val_loss: 0.1765 - val_acc: 0.9486\n",
      "Epoch 3/15\n",
      "37800/37800 [==============================] - 33s 876us/step - loss: 0.2445 - acc: 0.9319 - val_loss: 0.1433 - val_acc: 0.9581\n",
      "Epoch 4/15\n",
      "37800/37800 [==============================] - 33s 873us/step - loss: 0.2100 - acc: 0.9397 - val_loss: 0.1347 - val_acc: 0.9612\n",
      "Epoch 5/15\n",
      "37800/37800 [==============================] - 34s 905us/step - loss: 0.1839 - acc: 0.9475 - val_loss: 0.1145 - val_acc: 0.9667\n",
      "Epoch 6/15\n",
      "37800/37800 [==============================] - 34s 895us/step - loss: 0.1725 - acc: 0.9505 - val_loss: 0.1073 - val_acc: 0.9681\n",
      "Epoch 7/15\n",
      "37800/37800 [==============================] - 34s 896us/step - loss: 0.1530 - acc: 0.9558 - val_loss: 0.1048 - val_acc: 0.9700\n",
      "Epoch 8/15\n",
      "37800/37800 [==============================] - 33s 879us/step - loss: 0.1429 - acc: 0.9591 - val_loss: 0.1033 - val_acc: 0.9721\n",
      "Epoch 9/15\n",
      "37800/37800 [==============================] - 33s 886us/step - loss: 0.1359 - acc: 0.9589 - val_loss: 0.0993 - val_acc: 0.9731\n",
      "Epoch 10/15\n",
      "37800/37800 [==============================] - 34s 907us/step - loss: 0.1298 - acc: 0.9618 - val_loss: 0.0998 - val_acc: 0.9705\n",
      "Epoch 11/15\n",
      "37800/37800 [==============================] - 33s 886us/step - loss: 0.1258 - acc: 0.9634 - val_loss: 0.0941 - val_acc: 0.9738\n",
      "Epoch 12/15\n",
      "37800/37800 [==============================] - 33s 878us/step - loss: 0.1207 - acc: 0.9650 - val_loss: 0.0979 - val_acc: 0.9733\n",
      "Epoch 13/15\n",
      "37800/37800 [==============================] - 34s 894us/step - loss: 0.1126 - acc: 0.9654 - val_loss: 0.0921 - val_acc: 0.9755\n",
      "Epoch 14/15\n",
      "37800/37800 [==============================] - 36s 962us/step - loss: 0.1121 - acc: 0.9662 - val_loss: 0.0907 - val_acc: 0.9760\n",
      "Epoch 15/15\n",
      "37800/37800 [==============================] - 36s 948us/step - loss: 0.1066 - acc: 0.9671 - val_loss: 0.0900 - val_acc: 0.9760\n",
      "Fit model, dropout rate = 0.50\n",
      "Train on 37800 samples, validate on 4200 samples\n",
      "Epoch 1/15\n",
      "37800/37800 [==============================] - 37s 986us/step - loss: 0.7710 - acc: 0.7696 - val_loss: 0.2524 - val_acc: 0.9293\n",
      "Epoch 2/15\n",
      "37800/37800 [==============================] - 34s 910us/step - loss: 0.3780 - acc: 0.8937 - val_loss: 0.1865 - val_acc: 0.9486\n",
      "Epoch 3/15\n",
      "37800/37800 [==============================] - 33s 879us/step - loss: 0.3143 - acc: 0.9123 - val_loss: 0.1575 - val_acc: 0.9548\n",
      "Epoch 4/15\n",
      "37800/37800 [==============================] - 35s 934us/step - loss: 0.2766 - acc: 0.9231 - val_loss: 0.1472 - val_acc: 0.9548\n",
      "Epoch 5/15\n",
      "37800/37800 [==============================] - 35s 915us/step - loss: 0.2477 - acc: 0.9304 - val_loss: 0.1363 - val_acc: 0.9602\n",
      "Epoch 6/15\n",
      "37800/37800 [==============================] - 36s 947us/step - loss: 0.2295 - acc: 0.9359 - val_loss: 0.1226 - val_acc: 0.9652\n",
      "Epoch 7/15\n",
      "37800/37800 [==============================] - 36s 942us/step - loss: 0.2162 - acc: 0.9383 - val_loss: 0.1254 - val_acc: 0.9655\n",
      "Epoch 8/15\n",
      "37800/37800 [==============================] - 35s 919us/step - loss: 0.2060 - acc: 0.9413 - val_loss: 0.1167 - val_acc: 0.9662\n",
      "Epoch 9/15\n",
      "37800/37800 [==============================] - 35s 935us/step - loss: 0.1988 - acc: 0.9437 - val_loss: 0.1156 - val_acc: 0.9667\n",
      "Epoch 10/15\n",
      "37800/37800 [==============================] - 34s 899us/step - loss: 0.1871 - acc: 0.9469 - val_loss: 0.1131 - val_acc: 0.9674\n",
      "Epoch 11/15\n",
      "37800/37800 [==============================] - 40s 1ms/step - loss: 0.1807 - acc: 0.9464 - val_loss: 0.1115 - val_acc: 0.9698\n",
      "Epoch 12/15\n",
      "37800/37800 [==============================] - 36s 955us/step - loss: 0.1749 - acc: 0.9489 - val_loss: 0.1105 - val_acc: 0.9690\n",
      "Epoch 13/15\n",
      "37800/37800 [==============================] - 35s 923us/step - loss: 0.1704 - acc: 0.9519 - val_loss: 0.1044 - val_acc: 0.9724\n",
      "Epoch 14/15\n",
      "37800/37800 [==============================] - 39s 1ms/step - loss: 0.1700 - acc: 0.9507 - val_loss: 0.1061 - val_acc: 0.9714\n",
      "Epoch 15/15\n",
      "37800/37800 [==============================] - 38s 1ms/step - loss: 0.1648 - acc: 0.9520 - val_loss: 0.1111 - val_acc: 0.9690\n"
     ]
    }
   ],
   "source": [
    "n_epochs = 15 \n",
    "\n",
    "# empty lists to store models\n",
    "models = []\n",
    "# create empty dataframe to store history resukts\n",
    "df_history = pd.DataFrame() \n",
    "\n",
    "for dropout in [i/10 for i in range(6)]:\n",
    "    mlp = Sequential([\n",
    "        Dense(128, activation='relu', input_shape=(784,)),  \n",
    "        Dropout(rate=dropout),\n",
    "        Dense(64, activation='sigmoid'), \n",
    "        Dropout(rate=dropout),    \n",
    "        Dense(10, activation='softmax'),\n",
    "        ])\n",
    "    # add the new model to the list of models\n",
    "    models.append(mlp)\n",
    "    \n",
    "    mlp.compile( \n",
    "        optimizer='adam',\n",
    "        loss='categorical_crossentropy',\n",
    "        metrics=['accuracy'],\n",
    "        )\n",
    "\n",
    "    print('Fit model, dropout rate = {:.2f}'.format(dropout))\n",
    "    history = mlp.fit(\n",
    "        X_train,\n",
    "        to_categorical(y_train),\n",
    "        epochs = n_epochs,  \n",
    "        validation_data = (X_val, to_categorical(y_val)),\n",
    "        batch_size = 32,\n",
    "        callbacks = [early_stop]\n",
    "        )\n",
    "    \n",
    "    # load history in dataframe and plot accuracy of training and validation data\n",
    "    df = pd.DataFrame(history.history)\n",
    "    df['epoch'] = [i+1 for i in range(df.shape[0])]\n",
    "    df['dropout'] = dropout\n",
    "    df_history = pd.concat([df_history, df], axis=0, sort=False)\n",
    "    \n",
    "    "
   ]
  },
  {
   "cell_type": "code",
   "execution_count": 26,
   "metadata": {},
   "outputs": [
    {
     "data": {
      "image/png": "[encoded data removed]",
      "text/plain": [
       "<Figure size 648x432 with 1 Axes>"
      ]
     },
     "metadata": {},
     "output_type": "display_data"
    }
   ],
   "source": [
    "# issue in seaborn when hue has numbers formatted as string - https://github.com/mwaskom/seaborn/issues/1515\n",
    "df_history['dropout'] = 'rate=' + df_history['dropout'].astype(str)\n",
    "sns.lineplot(x='epoch', y='val_acc', hue='dropout', data=df_history[['epoch','val_acc','dropout']], palette=\"tab10\", linewidth=2.5);"
   ]
  },
  {
   "cell_type": "code",
   "execution_count": 27,
   "metadata": {},
   "outputs": [
    {
     "data": {
      "image/png": "[encoded data removed]",
      "text/plain": [
       "<Figure size 648x432 with 2 Axes>"
      ]
     },
     "metadata": {},
     "output_type": "display_data"
    }
   ],
   "source": [
    "# reload best model, dropout rate = 0.2\n",
    "mlp = models[2]\n",
    "\n",
    "# get prediction on full dataset \n",
    "y_pred = mlp.predict(X_val)\n",
    "y_pred = np.argmax(y_pred,axis=1)\n",
    "\n",
    "confusion_mtx = confusion_matrix(y_val, y_pred)\n",
    "sns.heatmap(data=confusion_mtx, annot=True, fmt='d', cmap='YlGnBu');"
   ]
  },
  {
   "cell_type": "code",
   "execution_count": 28,
   "metadata": {},
   "outputs": [],
   "source": [
    "# save weights\n",
    "mlp.save_weights('./output/mnist_mlp_dropout.h5')\n",
    "\n",
    "# load test data\n",
    "test = pd.read_csv('./input/test.csv')\n",
    "\n",
    "# prediction\n",
    "y_test = mlp.predict(test)"
   ]
  },
  {
   "cell_type": "code",
   "execution_count": 29,
   "metadata": {},
   "outputs": [],
   "source": [
    "# convert to df\n",
    "submission = pd.DataFrame(data=y_test)\n",
    "\n",
    "# set label as the 0-9 class with highest value \n",
    "submission['Label'] = submission.idxmax(axis=1)\n",
    "submission['ImageId'] = np.asarray([i+1 for i in range(submission.shape[0])])\n",
    "\n",
    "submission.to_csv('./output/submission-mlp_dropout.csv', \n",
    "                  columns=['ImageId','Label'],\n",
    "                  header=True,\n",
    "                  index=False)"
   ]
  },
  {
   "cell_type": "code",
   "execution_count": 33,
   "metadata": {},
   "outputs": [],
   "source": [
    "# free memory\n",
    "del models"
   ]
  },
  {
   "cell_type": "markdown",
   "metadata": {},
   "source": [
    "## 3. Implementing a simple CNN\n",
    "We implement now a simple CNN since MLP model is limited at 0.975 accuracy. But tis doesnot show significant improvement over the MLP. It looks like this CNN is too simple."
   ]
  },
  {
   "cell_type": "code",
   "execution_count": 47,
   "metadata": {},
   "outputs": [
    {
     "name": "stdout",
     "output_type": "stream",
     "text": [
      "(42000, 28, 28, 1)\n"
     ]
    }
   ],
   "source": [
    "# Reshape the images\n",
    "img_size = 28\n",
    "X_cnn = X.values.reshape(-1, img_size, img_size, 1)\n",
    "# check \n",
    "print(X_cnn.shape)\n",
    "\n",
    "X_train, X_val, y_train, y_val = train_test_split(X_cnn, y, test_size=0.1)"
   ]
  },
  {
   "cell_type": "code",
   "execution_count": 48,
   "metadata": {},
   "outputs": [
    {
     "name": "stdout",
     "output_type": "stream",
     "text": [
      "_________________________________________________________________\n",
      "Layer (type)                 Output Shape              Param #   \n",
      "=================================================================\n",
      "conv2d_6 (Conv2D)            (None, 26, 26, 32)        320       \n",
      "_________________________________________________________________\n",
      "max_pooling2d_6 (MaxPooling2 (None, 13, 13, 32)        0         \n",
      "_________________________________________________________________\n",
      "flatten_6 (Flatten)          (None, 5408)              0         \n",
      "_________________________________________________________________\n",
      "dense_51 (Dense)             (None, 10)                54090     \n",
      "=================================================================\n",
      "Total params: 54,410\n",
      "Trainable params: 54,410\n",
      "Non-trainable params: 0\n",
      "_________________________________________________________________\n"
     ]
    }
   ],
   "source": [
    "# define model\n",
    "num_filters = 32\n",
    "filter_size = 3\n",
    "pool_size = 2\n",
    "\n",
    "cnn = Sequential([\n",
    "  Conv2D(num_filters, filter_size, input_shape=(28, 28, 1)),\n",
    "  MaxPooling2D(pool_size=pool_size),\n",
    "  Flatten(),      \n",
    "  Dense(10, activation='softmax'),\n",
    "])\n",
    "\n",
    "cnn.compile(\n",
    "  optimizer='adam',\n",
    "  loss='categorical_crossentropy',\n",
    "  metrics=['accuracy'],\n",
    ")\n",
    "\n",
    "cnn.summary()"
   ]
  },
  {
   "cell_type": "code",
   "execution_count": 49,
   "metadata": {},
   "outputs": [
    {
     "name": "stdout",
     "output_type": "stream",
     "text": [
      "Train on 37800 samples, validate on 4200 samples\n",
      "Epoch 1/15\n",
      "37800/37800 [==============================] - 107s 3ms/step - loss: 0.3766 - acc: 0.8922 - val_loss: 0.2172 - val_acc: 0.9386\n",
      "Epoch 2/15\n",
      "37800/37800 [==============================] - 86s 2ms/step - loss: 0.1864 - acc: 0.9478 - val_loss: 0.1548 - val_acc: 0.9576\n",
      "Epoch 3/15\n",
      "37800/37800 [==============================] - 92s 2ms/step - loss: 0.1287 - acc: 0.9637 - val_loss: 0.1242 - val_acc: 0.9671\n",
      "Epoch 4/15\n",
      "37800/37800 [==============================] - 94s 2ms/step - loss: 0.0978 - acc: 0.9722 - val_loss: 0.1154 - val_acc: 0.9686\n",
      "Epoch 5/15\n",
      "37800/37800 [==============================] - 92s 2ms/step - loss: 0.0793 - acc: 0.9774 - val_loss: 0.0952 - val_acc: 0.9712\n",
      "Epoch 6/15\n",
      "37800/37800 [==============================] - 91s 2ms/step - loss: 0.0678 - acc: 0.9800 - val_loss: 0.1028 - val_acc: 0.9712\n",
      "Epoch 7/15\n",
      "37800/37800 [==============================] - 92s 2ms/step - loss: 0.0585 - acc: 0.9826 - val_loss: 0.0955 - val_acc: 0.9731\n",
      "Epoch 8/15\n",
      "37800/37800 [==============================] - 92s 2ms/step - loss: 0.0507 - acc: 0.9853 - val_loss: 0.0992 - val_acc: 0.9688\n",
      "Epoch 9/15\n",
      "37800/37800 [==============================] - 97s 3ms/step - loss: 0.0453 - acc: 0.9866 - val_loss: 0.0916 - val_acc: 0.9700\n"
     ]
    }
   ],
   "source": [
    "# Train the model\n",
    "n_epochs = 15\n",
    "\n",
    "history = cnn.fit(\n",
    "    X_train,\n",
    "    to_categorical(y_train),\n",
    "    epochs=n_epochs,  \n",
    "    validation_data=(X_val, to_categorical(y_val)), \n",
    "    batch_size=64,\n",
    "    callbacks = [early_stop]\n",
    ")"
   ]
  },
  {
   "cell_type": "code",
   "execution_count": 50,
   "metadata": {},
   "outputs": [
    {
     "data": {
      "image/png": "[encoded data removed]",
      "text/plain": [
       "<Figure size 648x432 with 1 Axes>"
      ]
     },
     "metadata": {},
     "output_type": "display_data"
    }
   ],
   "source": [
    "# load history in dataframe and plot accuracy for training and test data\n",
    "df_history = pd.DataFrame(history.history)  \n",
    "sns.lineplot(data=df_history[['acc','val_acc']], palette=\"tab10\", linewidth=2.5);"
   ]
  },
  {
   "cell_type": "markdown",
   "metadata": {},
   "source": [
    "### 4. Using a more complex CNN\n"
   ]
  },
  {
   "cell_type": "code",
   "execution_count": 55,
   "metadata": {},
   "outputs": [
    {
     "name": "stdout",
     "output_type": "stream",
     "text": [
      "_________________________________________________________________\n",
      "Layer (type)                 Output Shape              Param #   \n",
      "=================================================================\n",
      "conv2d_11 (Conv2D)           (None, 26, 26, 32)        320       \n",
      "_________________________________________________________________\n",
      "conv2d_12 (Conv2D)           (None, 24, 24, 64)        18496     \n",
      "_________________________________________________________________\n",
      "max_pooling2d_9 (MaxPooling2 (None, 12, 12, 64)        0         \n",
      "_________________________________________________________________\n",
      "dropout_33 (Dropout)         (None, 12, 12, 64)        0         \n",
      "_________________________________________________________________\n",
      "flatten_9 (Flatten)          (None, 9216)              0         \n",
      "_________________________________________________________________\n",
      "dense_56 (Dense)             (None, 64)                589888    \n",
      "_________________________________________________________________\n",
      "dropout_34 (Dropout)         (None, 64)                0         \n",
      "_________________________________________________________________\n",
      "dense_57 (Dense)             (None, 10)                650       \n",
      "=================================================================\n",
      "Total params: 609,354\n",
      "Trainable params: 609,354\n",
      "Non-trainable params: 0\n",
      "_________________________________________________________________\n"
     ]
    }
   ],
   "source": [
    "num_filters = 32\n",
    "filter_size = 3\n",
    "pool_size = 2\n",
    "\n",
    "cnn = Sequential([\n",
    "    Conv2D(32, kernel_size=(3, 3), activation='relu', input_shape=(28, 28, 1)),\n",
    "    Conv2D(64, (3, 3), activation='relu'),\n",
    "    MaxPooling2D(pool_size=(2, 2)),\n",
    "    Dropout(0.25),\n",
    "    Flatten(),\n",
    "    Dense(64, activation='relu'),  # 128\n",
    "    Dropout(0.5),\n",
    "    Dense(10, activation='softmax')\n",
    "])\n",
    "\n",
    "cnn.compile(\n",
    "  optimizer='adam',\n",
    "  loss='categorical_crossentropy',  \n",
    "  metrics=['accuracy'],\n",
    ")\n",
    "\n",
    "cnn.summary()"
   ]
  },
  {
   "cell_type": "code",
   "execution_count": 56,
   "metadata": {},
   "outputs": [
    {
     "name": "stdout",
     "output_type": "stream",
     "text": [
      "Train on 37800 samples, validate on 4200 samples\n",
      "Epoch 1/15\n",
      "37800/37800 [==============================] - 623s 16ms/step - loss: 0.3881 - acc: 0.8808 - val_loss: 0.0967 - val_acc: 0.9714\n",
      "Epoch 2/15\n",
      "37800/37800 [==============================] - 574s 15ms/step - loss: 0.1519 - acc: 0.9552 - val_loss: 0.0775 - val_acc: 0.9798\n",
      "Epoch 3/15\n",
      "37800/37800 [==============================] - 573s 15ms/step - loss: 0.1158 - acc: 0.9647 - val_loss: 0.0604 - val_acc: 0.9852\n",
      "Epoch 4/15\n",
      "37800/37800 [==============================] - 12414s 328ms/step - loss: 0.0925 - acc: 0.9719 - val_loss: 0.0630 - val_acc: 0.9840\n",
      "Epoch 5/15\n",
      "37800/37800 [==============================] - 602s 16ms/step - loss: 0.0797 - acc: 0.9753 - val_loss: 0.0607 - val_acc: 0.9843\n"
     ]
    }
   ],
   "source": [
    "# Train the model\n",
    "n_epochs = 15\n",
    "\n",
    "history = cnn.fit(\n",
    "    X_train,\n",
    "    to_categorical(y_train),\n",
    "    epochs=n_epochs,  \n",
    "    validation_data=(X_val, to_categorical(y_val)), \n",
    "    batch_size=64,\n",
    "    callbacks = [early_stop]\n",
    ")"
   ]
  },
  {
   "cell_type": "code",
   "execution_count": 64,
   "metadata": {},
   "outputs": [
    {
     "name": "stdout",
     "output_type": "stream",
     "text": [
      "_________________________________________________________________\n",
      "Layer (type)                 Output Shape              Param #   \n",
      "=================================================================\n",
      "conv2d_19 (Conv2D)           (None, 24, 24, 64)        1664      \n",
      "_________________________________________________________________\n",
      "conv2d_20 (Conv2D)           (None, 22, 22, 32)        18464     \n",
      "_________________________________________________________________\n",
      "max_pooling2d_14 (MaxPooling (None, 11, 11, 32)        0         \n",
      "_________________________________________________________________\n",
      "dropout_41 (Dropout)         (None, 11, 11, 32)        0         \n",
      "_________________________________________________________________\n",
      "flatten_13 (Flatten)         (None, 3872)              0         \n",
      "_________________________________________________________________\n",
      "dense_64 (Dense)             (None, 64)                247872    \n",
      "_________________________________________________________________\n",
      "dropout_42 (Dropout)         (None, 64)                0         \n",
      "_________________________________________________________________\n",
      "dense_65 (Dense)             (None, 10)                650       \n",
      "=================================================================\n",
      "Total params: 268,650\n",
      "Trainable params: 268,650\n",
      "Non-trainable params: 0\n",
      "_________________________________________________________________\n"
     ]
    }
   ],
   "source": [
    "cnn = Sequential([\n",
    "    Conv2D(64, kernel_size=(5, 5), activation='relu', input_shape=(28, 28, 1)),\n",
    "#    MaxPooling2D(pool_size=(2, 2)),\n",
    "    Conv2D(32, (3, 3), activation='relu'),\n",
    "    MaxPooling2D(pool_size=(2, 2)),\n",
    "    Dropout(0.25),\n",
    "    Flatten(),\n",
    "    Dense(64, activation='relu'),  \n",
    "    Dropout(0.5),\n",
    "    Dense(10, activation='softmax')\n",
    "])\n",
    "\n",
    "cnn.compile(\n",
    "#  optimizer='adam',\n",
    "  optimizer='adadelta',    \n",
    "  loss='categorical_crossentropy',  \n",
    "  metrics=['accuracy'],\n",
    ")\n",
    "\n",
    "cnn.summary()"
   ]
  },
  {
   "cell_type": "code",
   "execution_count": 65,
   "metadata": {},
   "outputs": [
    {
     "name": "stdout",
     "output_type": "stream",
     "text": [
      "Train on 37800 samples, validate on 4200 samples\n",
      "Epoch 1/15\n",
      "37800/37800 [==============================] - 754s 20ms/step - loss: 0.3618 - acc: 0.8852 - val_loss: 0.0931 - val_acc: 0.9717\n",
      "Epoch 2/15\n",
      "37800/37800 [==============================] - 572s 15ms/step - loss: 0.1428 - acc: 0.9570 - val_loss: 0.0787 - val_acc: 0.9783\n",
      "Epoch 3/15\n",
      "37800/37800 [==============================] - 570s 15ms/step - loss: 0.1120 - acc: 0.9680 - val_loss: 0.0607 - val_acc: 0.9838\n",
      "Epoch 4/15\n",
      "37800/37800 [==============================] - 569s 15ms/step - loss: 0.0908 - acc: 0.9727 - val_loss: 0.0605 - val_acc: 0.9836\n",
      "Epoch 5/15\n",
      "37800/37800 [==============================] - 570s 15ms/step - loss: 0.0798 - acc: 0.9770 - val_loss: 0.0559 - val_acc: 0.9852\n",
      "Epoch 6/15\n",
      "37800/37800 [==============================] - 571s 15ms/step - loss: 0.0741 - acc: 0.9781 - val_loss: 0.0565 - val_acc: 0.9869\n",
      "Epoch 7/15\n",
      "37800/37800 [==============================] - 572s 15ms/step - loss: 0.0686 - acc: 0.9800 - val_loss: 0.0601 - val_acc: 0.9833\n",
      "Epoch 8/15\n",
      "37800/37800 [==============================] - 578s 15ms/step - loss: 0.0651 - acc: 0.9806 - val_loss: 0.0534 - val_acc: 0.9855\n"
     ]
    }
   ],
   "source": [
    "n_epochs = 15\n",
    "\n",
    "history = cnn.fit(\n",
    "    X_train,\n",
    "    to_categorical(y_train),\n",
    "    epochs=n_epochs,  \n",
    "    validation_data=(X_val, to_categorical(y_val)), \n",
    "    batch_size=64,\n",
    "    callbacks = [early_stop]\n",
    ")"
   ]
  },
  {
   "cell_type": "code",
   "execution_count": 66,
   "metadata": {},
   "outputs": [],
   "source": [
    "# save weights\n",
    "cnn.save_weights('./output/mnist_cnn.h5')\n",
    "test = pd.read_csv('./input/test.csv')\n",
    "\n",
    "X_test = test.values.reshape(-1, img_size, img_size, 1)\n",
    "y_test = cnn.predict(X_test)\n",
    "\n",
    "# convert to df\n",
    "submission = pd.DataFrame(data=y_test)\n",
    "\n",
    "# set label as the 0-9 class with highest value \n",
    "submission['Label'] = submission.idxmax(axis=1)\n",
    "submission['ImageId'] = np.asarray([i+1 for i in range(submission.shape[0])])\n",
    "\n",
    "submission.to_csv('./output/submission-cnn.csv', \n",
    "                  columns=['ImageId','Label'],\n",
    "                  header=True,\n",
    "                  index=False)"
   ]
  },
  {
   "cell_type": "code",
   "execution_count": null,
   "metadata": {},
   "outputs": [],
   "source": []
  }
 ],
 "metadata": {
  "kernelspec": {
   "display_name": "Python 3",
   "language": "python",
   "name": "python3"
  },
  "language_info": {
   "codemirror_mode": {
    "name": "ipython",
    "version": 3
   },
   "file_extension": ".py",
   "mimetype": "text/x-python",
   "name": "python",
   "nbconvert_exporter": "python",
   "pygments_lexer": "ipython3",
   "version": "3.6.9"
  }
 },
 "nbformat": 4,
 "nbformat_minor": 4
}
