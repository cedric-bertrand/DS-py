{
 "cells": [
  {
   "cell_type": "markdown",
   "metadata": {},
   "source": [
    "# Binary classification with Naive Bayes  \n",
    "\n",
    "We will apply the naive Bayes algorithm to a problem of binary classification. The dataset we will use is the well know Titanic from Kaggle. The mathematical formulation of our problem is:  \n",
    "$$P(Survived \\mid X) = \\frac{P(X \\mid Survived)P(Survived)}{P(X)}$$ \n",
    "with $X = (x_1, x_2, ..., x_n)$ is the observation of n variables that we need to classify  \n",
    "\n",
    "Under the assumption of independance of Naive Bayes, we compute the a posteriori probabilities for the 2 classes *Survived* and *Deceased* and assign the observation $X$ to the class with the highest a posteriori probability:     \n",
    "$$P(Survived \\mid X) = \\frac{P(x_1 \\mid Survived)...P(x_n \\mid Survived)P(Survived)}{P(X)}$$\n",
    "$$P(Deceased \\mid X) = \\frac{P(x_1 \\mid Deceased)...P(x_n \\mid Deceased)P(Deceased)}{P(X)}$$\n",
    "\n",
    "Our submission will be evaluated on its accuracy:  \n",
    "$$accuracy = \\frac{True Positive + True Negative}{total \\ number \\ of \\ observations}$$\n",
    "We will take advantage of the low number of predictors in the Titanic dataset to focus on the data engineering phase and create a predictor with highest accuracy. "
   ]
  },
  {
   "cell_type": "code",
   "execution_count": 15,
   "metadata": {},
   "outputs": [],
   "source": [
    "import numpy as np\n",
    "import pandas as pd\n",
    "\n",
    "from sklearn.preprocessing import StandardScaler\n",
    "\n",
    "#from sklearn.model_selection import GridSearchCV\n",
    "\n",
    "from matplotlib import pyplot as plt\n",
    "plt.rcParams['figure.figsize'] = 10, 5\n",
    "import seaborn as sns\n",
    "sns.set_style(\"darkgrid\")\n",
    "sns.set_palette('muted')\n",
    "\n",
    "from sklearn.naive_bayes import BernoulliNB\n",
    "\n",
    "# multiple outputs in one cell\n",
    "from IPython.core.interactiveshell import InteractiveShell\n",
    "InteractiveShell.ast_node_interactivity = \"all\""
   ]
  },
  {
   "cell_type": "markdown",
   "metadata": {},
   "source": [
    "## Data exploration  \n",
    "The dataset includes 10 explanatory variables:\n",
    "* 2 continuous numerical variables Age and Fare\n",
    "* 2 discrete numerical variables SibSp (number of siblings and spouse aboard) and Parch (number pf parents and children aboard)\n",
    "* 1 categorical ordinal variable Pclass\n",
    "* 5 categorical nominal variables Name, Sex, Ticket, Fare, Cabin, Embarked  \n",
    "\n",
    "We can build a very simple estimator by classifying all observations as Deceased. Since 61.6% of all observations did not survive, this estimator has an accuracy of 0.616. This is the baseline to estimate the improvement of our estimator."
   ]
  },
  {
   "cell_type": "code",
   "execution_count": 16,
   "metadata": {},
   "outputs": [
    {
     "data": {
      "text/html": [
       "<div>\n",
       "<style scoped>\n",
       "    .dataframe tbody tr th:only-of-type {\n",
       "        vertical-align: middle;\n",
       "    }\n",
       "\n",
       "    .dataframe tbody tr th {\n",
       "        vertical-align: top;\n",
       "    }\n",
       "\n",
       "    .dataframe thead th {\n",
       "        text-align: right;\n",
       "    }\n",
       "</style>\n",
       "<table border=\"1\" class=\"dataframe\">\n",
       "  <thead>\n",
       "    <tr style=\"text-align: right;\">\n",
       "      <th></th>\n",
       "      <th>Survived</th>\n",
       "      <th>Pclass</th>\n",
       "      <th>Name</th>\n",
       "      <th>Sex</th>\n",
       "      <th>Age</th>\n",
       "      <th>SibSp</th>\n",
       "      <th>Parch</th>\n",
       "      <th>Ticket</th>\n",
       "      <th>Fare</th>\n",
       "      <th>Cabin</th>\n",
       "      <th>Embarked</th>\n",
       "    </tr>\n",
       "    <tr>\n",
       "      <th>PassengerId</th>\n",
       "      <th></th>\n",
       "      <th></th>\n",
       "      <th></th>\n",
       "      <th></th>\n",
       "      <th></th>\n",
       "      <th></th>\n",
       "      <th></th>\n",
       "      <th></th>\n",
       "      <th></th>\n",
       "      <th></th>\n",
       "      <th></th>\n",
       "    </tr>\n",
       "  </thead>\n",
       "  <tbody>\n",
       "    <tr>\n",
       "      <th>1</th>\n",
       "      <td>0</td>\n",
       "      <td>3</td>\n",
       "      <td>Braund, Mr. Owen Harris</td>\n",
       "      <td>male</td>\n",
       "      <td>22.0</td>\n",
       "      <td>1</td>\n",
       "      <td>0</td>\n",
       "      <td>A/5 21171</td>\n",
       "      <td>7.2500</td>\n",
       "      <td>NaN</td>\n",
       "      <td>S</td>\n",
       "    </tr>\n",
       "    <tr>\n",
       "      <th>2</th>\n",
       "      <td>1</td>\n",
       "      <td>1</td>\n",
       "      <td>Cumings, Mrs. John Bradley (Florence Briggs Th...</td>\n",
       "      <td>female</td>\n",
       "      <td>38.0</td>\n",
       "      <td>1</td>\n",
       "      <td>0</td>\n",
       "      <td>PC 17599</td>\n",
       "      <td>71.2833</td>\n",
       "      <td>C85</td>\n",
       "      <td>C</td>\n",
       "    </tr>\n",
       "    <tr>\n",
       "      <th>3</th>\n",
       "      <td>1</td>\n",
       "      <td>3</td>\n",
       "      <td>Heikkinen, Miss. Laina</td>\n",
       "      <td>female</td>\n",
       "      <td>26.0</td>\n",
       "      <td>0</td>\n",
       "      <td>0</td>\n",
       "      <td>STON/O2. 3101282</td>\n",
       "      <td>7.9250</td>\n",
       "      <td>NaN</td>\n",
       "      <td>S</td>\n",
       "    </tr>\n",
       "    <tr>\n",
       "      <th>4</th>\n",
       "      <td>1</td>\n",
       "      <td>1</td>\n",
       "      <td>Futrelle, Mrs. Jacques Heath (Lily May Peel)</td>\n",
       "      <td>female</td>\n",
       "      <td>35.0</td>\n",
       "      <td>1</td>\n",
       "      <td>0</td>\n",
       "      <td>113803</td>\n",
       "      <td>53.1000</td>\n",
       "      <td>C123</td>\n",
       "      <td>S</td>\n",
       "    </tr>\n",
       "    <tr>\n",
       "      <th>5</th>\n",
       "      <td>0</td>\n",
       "      <td>3</td>\n",
       "      <td>Allen, Mr. William Henry</td>\n",
       "      <td>male</td>\n",
       "      <td>35.0</td>\n",
       "      <td>0</td>\n",
       "      <td>0</td>\n",
       "      <td>373450</td>\n",
       "      <td>8.0500</td>\n",
       "      <td>NaN</td>\n",
       "      <td>S</td>\n",
       "    </tr>\n",
       "  </tbody>\n",
       "</table>\n",
       "</div>"
      ],
      "text/plain": [
       "             Survived  Pclass  \\\n",
       "PassengerId                     \n",
       "1                   0       3   \n",
       "2                   1       1   \n",
       "3                   1       3   \n",
       "4                   1       1   \n",
       "5                   0       3   \n",
       "\n",
       "                                                          Name     Sex   Age  \\\n",
       "PassengerId                                                                    \n",
       "1                                      Braund, Mr. Owen Harris    male  22.0   \n",
       "2            Cumings, Mrs. John Bradley (Florence Briggs Th...  female  38.0   \n",
       "3                                       Heikkinen, Miss. Laina  female  26.0   \n",
       "4                 Futrelle, Mrs. Jacques Heath (Lily May Peel)  female  35.0   \n",
       "5                                     Allen, Mr. William Henry    male  35.0   \n",
       "\n",
       "             SibSp  Parch            Ticket     Fare Cabin Embarked  \n",
       "PassengerId                                                          \n",
       "1                1      0         A/5 21171   7.2500   NaN        S  \n",
       "2                1      0          PC 17599  71.2833   C85        C  \n",
       "3                0      0  STON/O2. 3101282   7.9250   NaN        S  \n",
       "4                1      0            113803  53.1000  C123        S  \n",
       "5                0      0            373450   8.0500   NaN        S  "
      ]
     },
     "execution_count": 16,
     "metadata": {},
     "output_type": "execute_result"
    },
    {
     "name": "stdout",
     "output_type": "stream",
     "text": [
      "probability of not surviving = 0.6162\n"
     ]
    }
   ],
   "source": [
    "# Load datasets\n",
    "train = pd.read_csv('./input/train.csv', index_col = 'PassengerId')\n",
    "test = pd.read_csv('./input/test.csv', index_col = 'PassengerId')\n",
    "\n",
    "# create temporary dataframe for data exploration\n",
    "explo = train.copy()\n",
    "n_obs = explo.shape[0]\n",
    "explo.head()\n",
    "\n",
    "print('probability of not surviving = {:.4f}'.format(1 - explo.Survived.mean()))"
   ]
  },
  {
   "cell_type": "markdown",
   "metadata": {},
   "source": [
    "### NA values\n",
    "For both train and test datasets:\n",
    "* variable Age is missing values in 20% of observations \n",
    "* variable Cabin is missing values in about 80% of observations  \n",
    "Additionnally, the train dataset contains a few rows with missing value for Embarked, while the test dataset has few rows with missing value for Fare variable."
   ]
  },
  {
   "cell_type": "code",
   "execution_count": 17,
   "metadata": {},
   "outputs": [
    {
     "name": "stdout",
     "output_type": "stream",
     "text": [
      "Frequency of NA values in the TRAIN dataset:\n"
     ]
    },
    {
     "data": {
      "text/plain": [
       "Survived    0.000000\n",
       "Pclass      0.000000\n",
       "Name        0.000000\n",
       "Sex         0.000000\n",
       "Age         0.198653\n",
       "SibSp       0.000000\n",
       "Parch       0.000000\n",
       "Ticket      0.000000\n",
       "Fare        0.000000\n",
       "Cabin       0.771044\n",
       "Embarked    0.002245\n",
       "dtype: float64"
      ]
     },
     "execution_count": 17,
     "metadata": {},
     "output_type": "execute_result"
    },
    {
     "name": "stdout",
     "output_type": "stream",
     "text": [
      "Frequency of NA values in the TEST dataset:\n"
     ]
    },
    {
     "data": {
      "text/plain": [
       "Pclass      0.000000\n",
       "Name        0.000000\n",
       "Sex         0.000000\n",
       "Age         0.205742\n",
       "SibSp       0.000000\n",
       "Parch       0.000000\n",
       "Ticket      0.000000\n",
       "Fare        0.002392\n",
       "Cabin       0.782297\n",
       "Embarked    0.000000\n",
       "dtype: float64"
      ]
     },
     "execution_count": 17,
     "metadata": {},
     "output_type": "execute_result"
    }
   ],
   "source": [
    "print('Frequency of NA values in the TRAIN dataset:')\n",
    "train.isna().sum() / train.shape[0]\n",
    "print('Frequency of NA values in the TEST dataset:')\n",
    "test.isna().sum() / test.shape[0]"
   ]
  },
  {
   "cell_type": "markdown",
   "metadata": {},
   "source": [
    "### variable Sex\n",
    "This variable has a high explanatory power: building an estimator only based on it (all females survived, all males died) increases the accuracy from 0.616 to 0.787.  \n",
    "Sex will be a major criteria of our classification."
   ]
  },
  {
   "cell_type": "code",
   "execution_count": 18,
   "metadata": {},
   "outputs": [
    {
     "data": {
      "text/html": [
       "<div>\n",
       "<style scoped>\n",
       "    .dataframe tbody tr th:only-of-type {\n",
       "        vertical-align: middle;\n",
       "    }\n",
       "\n",
       "    .dataframe tbody tr th {\n",
       "        vertical-align: top;\n",
       "    }\n",
       "\n",
       "    .dataframe thead tr th {\n",
       "        text-align: left;\n",
       "    }\n",
       "</style>\n",
       "<table border=\"1\" class=\"dataframe\">\n",
       "  <thead>\n",
       "    <tr>\n",
       "      <th></th>\n",
       "      <th>Sex</th>\n",
       "      <th colspan=\"2\" halign=\"left\">Survived</th>\n",
       "    </tr>\n",
       "    <tr>\n",
       "      <th></th>\n",
       "      <th></th>\n",
       "      <th>count</th>\n",
       "      <th>mean</th>\n",
       "    </tr>\n",
       "  </thead>\n",
       "  <tbody>\n",
       "    <tr>\n",
       "      <th>0</th>\n",
       "      <td>female</td>\n",
       "      <td>314</td>\n",
       "      <td>0.742038</td>\n",
       "    </tr>\n",
       "    <tr>\n",
       "      <th>1</th>\n",
       "      <td>male</td>\n",
       "      <td>577</td>\n",
       "      <td>0.188908</td>\n",
       "    </tr>\n",
       "  </tbody>\n",
       "</table>\n",
       "</div>"
      ],
      "text/plain": [
       "      Sex Survived          \n",
       "             count      mean\n",
       "0  female      314  0.742038\n",
       "1    male      577  0.188908"
      ]
     },
     "metadata": {},
     "output_type": "display_data"
    },
    {
     "name": "stdout",
     "output_type": "stream",
     "text": [
      "accuracy = 0.7868\n"
     ]
    },
    {
     "data": {
      "image/png": "[encoded data removed]",
      "text/plain": [
       "<Figure size 360x360 with 1 Axes>"
      ]
     },
     "metadata": {},
     "output_type": "display_data"
    }
   ],
   "source": [
    "df = explo[['Sex','Survived']].groupby('Sex', as_index=False).agg({'Survived': ['count','mean']})\n",
    "display(df)\n",
    "#accuracy = (df.iloc[0,1] * df.iloc[0,2] )\n",
    "# compute accuracy\n",
    "true_positive = df.loc[0,('Survived','count')] * df.loc[0,('Survived','mean')]\n",
    "true_negative = df.loc[1,('Survived','count')] * (1 - df.loc[1,('Survived','mean')])\n",
    "accuracy = ( true_positive + true_negative) / n_obs\n",
    "print('accuracy = {:.4f}'.format(accuracy))\n",
    "        \n",
    "sns.catplot(x='Sex', y='Survived', data=explo, kind='bar', ci=None);"
   ]
  },
  {
   "cell_type": "markdown",
   "metadata": {},
   "source": [
    "### variable Age\n",
    "A plot of a logistic regression of Survival versus Age for male and female shows a slight effect of Age, but with opposite effect:\n",
    "* for females, probability of survival increases with Age \n",
    "* for males, the effect is opposite and probability of survival decreases with Age  \n",
    "\n",
    "We are leaving for now this variable and will see later how to take it into account."
   ]
  },
  {
   "cell_type": "code",
   "execution_count": 19,
   "metadata": {},
   "outputs": [
    {
     "data": {
      "image/png": "[encoded data removed]",
      "text/plain": [
       "<Figure size 426.125x360 with 1 Axes>"
      ]
     },
     "metadata": {},
     "output_type": "display_data"
    }
   ],
   "source": [
    "sns.lmplot(x='Age', y='Survived', data=explo, hue='Sex', logistic=True, y_jitter=.03, ci=None);"
   ]
  },
  {
   "cell_type": "markdown",
   "metadata": {},
   "source": [
    "### variable Name\n",
    "The variable Name contains a title (such as Mr, ir, Dr, Mrs, ...) for each passager. We extract this title and lloked at survival rate as a function of title. This shows:\n",
    "* a perfect map from Title to Sex \n",
    "* a higher survival rate for title Mrs compared to Miss (ie unmarried women plus female children)\n",
    "* a lower survival rate for title Mr compared to Master (ie male children)\n",
    "* Survival probability for title Master is above 0.5, therefore using this variable will help to better classify males  \n",
    "\n",
    "The variable Title explains the impact of both Sex and Age and will be used instead of these 2 variables.   "
   ]
  },
  {
   "cell_type": "code",
   "execution_count": 20,
   "metadata": {},
   "outputs": [
    {
     "data": {
      "text/html": [
       "<div>\n",
       "<style scoped>\n",
       "    .dataframe tbody tr th:only-of-type {\n",
       "        vertical-align: middle;\n",
       "    }\n",
       "\n",
       "    .dataframe tbody tr th {\n",
       "        vertical-align: top;\n",
       "    }\n",
       "\n",
       "    .dataframe thead tr th {\n",
       "        text-align: left;\n",
       "    }\n",
       "</style>\n",
       "<table border=\"1\" class=\"dataframe\">\n",
       "  <thead>\n",
       "    <tr>\n",
       "      <th></th>\n",
       "      <th>Title</th>\n",
       "      <th colspan=\"2\" halign=\"left\">Survived</th>\n",
       "    </tr>\n",
       "    <tr>\n",
       "      <th></th>\n",
       "      <th></th>\n",
       "      <th>count</th>\n",
       "      <th>mean</th>\n",
       "    </tr>\n",
       "  </thead>\n",
       "  <tbody>\n",
       "    <tr>\n",
       "      <th>0</th>\n",
       "      <td>Master</td>\n",
       "      <td>40</td>\n",
       "      <td>0.575000</td>\n",
       "    </tr>\n",
       "    <tr>\n",
       "      <th>1</th>\n",
       "      <td>Miss</td>\n",
       "      <td>185</td>\n",
       "      <td>0.702703</td>\n",
       "    </tr>\n",
       "    <tr>\n",
       "      <th>2</th>\n",
       "      <td>Mr</td>\n",
       "      <td>537</td>\n",
       "      <td>0.160149</td>\n",
       "    </tr>\n",
       "    <tr>\n",
       "      <th>3</th>\n",
       "      <td>Mrs</td>\n",
       "      <td>129</td>\n",
       "      <td>0.798450</td>\n",
       "    </tr>\n",
       "  </tbody>\n",
       "</table>\n",
       "</div>"
      ],
      "text/plain": [
       "    Title Survived          \n",
       "             count      mean\n",
       "0  Master       40  0.575000\n",
       "1    Miss      185  0.702703\n",
       "2      Mr      537  0.160149\n",
       "3     Mrs      129  0.798450"
      ]
     },
     "metadata": {},
     "output_type": "display_data"
    },
    {
     "data": {
      "image/png": "[encoded data removed]",
      "text/plain": [
       "<Figure size 426.125x360 with 1 Axes>"
      ]
     },
     "metadata": {},
     "output_type": "display_data"
    }
   ],
   "source": [
    "def get_title(data):\n",
    "    # we do not touch the original dataframe\n",
    "    df = data.copy()  \n",
    "      \n",
    "    # extract title from Name\n",
    "    df['Title'] = df['Name'].apply(lambda x: \n",
    "        x[x.find(',')+2:x.find('.')]) \n",
    "    # and regroup values to get a proxy for male/female + child/adult\n",
    "    df['Title'].replace(['Mr','Don','Rev','Dr','Major','Sir','Col',\n",
    "      'Capt','Jonkheer'], 'Mr', inplace=True) \n",
    "    df['Title'].replace(['Mrs','Mme','Lady','the Countess','Dona'], \n",
    "      'Mrs', inplace=True)     \n",
    "    df['Title'].replace(['Miss','Mlle','Ms'], 'Miss', inplace=True) \n",
    "    \n",
    "    #one observation with title Dr is a woman and should be corrected\n",
    "    df.loc[(df.Title == 'Mr') & (df.Sex == 'female'), 'Title'] = 'Mrs'\n",
    "    \n",
    "    return df\n",
    " \n",
    "# visualization of interactions btw survival and sex/class \n",
    "explo = get_title(train)\n",
    "df = explo[['Title','Survived']].groupby(['Title'], as_index=False).agg({'Survived': ['count','mean']})\n",
    "display(df)\n",
    "sns.catplot(x='Title', y='Survived', hue='Sex', data=explo, kind='bar', ci=None);"
   ]
  },
  {
   "cell_type": "markdown",
   "metadata": {},
   "source": [
    "### variable passenger class Pclass \n",
    "The variable Pclass reveals a significant drop of survival rate in 3rd class and will kept as it provides important information."
   ]
  },
  {
   "cell_type": "code",
   "execution_count": 21,
   "metadata": {},
   "outputs": [
    {
     "data": {
      "image/png": "[encoded data removed]",
      "text/plain": [
       "<Figure size 426.875x360 with 1 Axes>"
      ]
     },
     "metadata": {},
     "output_type": "display_data"
    }
   ],
   "source": [
    "sns.catplot(x='Pclass', y='Survived', hue='Title', data=explo, kind='bar', ci=None);"
   ]
  },
  {
   "cell_type": "markdown",
   "metadata": {},
   "source": [
    "### variables SibSp and Parch\n",
    "We compute the size of family groups by summing these 2 variables (plus one). The probability of survival increases with family size up to 4, and is very low for size of 5 or above. Therefore, we will group all sizes of 5 or more in the same category."
   ]
  },
  {
   "cell_type": "code",
   "execution_count": 22,
   "metadata": {},
   "outputs": [
    {
     "data": {
      "image/png": "[encoded data removed]",
      "text/plain": [
       "<Figure size 360x360 with 1 Axes>"
      ]
     },
     "metadata": {},
     "output_type": "display_data"
    }
   ],
   "source": [
    "explo['Family'] = explo.SibSp + explo.Parch + 1\n",
    "sns.catplot(x='Family', y='Survived', data=explo, kind='bar', ci=None);"
   ]
  },
  {
   "cell_type": "code",
   "execution_count": 23,
   "metadata": {},
   "outputs": [
    {
     "data": {
      "image/png": "[encoded data removed]",
      "text/plain": [
       "<Figure size 360x360 with 1 Axes>"
      ]
     },
     "metadata": {},
     "output_type": "display_data"
    }
   ],
   "source": [
    "explo['Family'] = explo['Family'].apply(lambda x: x if x < 5 else 5)\n",
    "sns.catplot(x='Family', y='Survived', data=explo, kind='bar', ci=None);"
   ]
  },
  {
   "cell_type": "markdown",
   "metadata": {},
   "source": [
    "### variables Ticket, Fare and Cabin\n",
    "We drop these 3 variables as Fare is likely to be correlated to Pclass, and Cabin has missing values in 80% of cases. Ticket variable might have some predictive power but we igore it for this study.  \n",
    "Future work might be to confirm correlation between Fare and Pclass, and investigate the 2 other variables Cabin and Ticket.\n",
    "\n",
    "### variable Embarked\n",
    "This variable has some impact on the survival rate so we will kep it"
   ]
  },
  {
   "cell_type": "code",
   "execution_count": 24,
   "metadata": {},
   "outputs": [
    {
     "data": {
      "text/html": [
       "<div>\n",
       "<style scoped>\n",
       "    .dataframe tbody tr th:only-of-type {\n",
       "        vertical-align: middle;\n",
       "    }\n",
       "\n",
       "    .dataframe tbody tr th {\n",
       "        vertical-align: top;\n",
       "    }\n",
       "\n",
       "    .dataframe thead tr th {\n",
       "        text-align: left;\n",
       "    }\n",
       "</style>\n",
       "<table border=\"1\" class=\"dataframe\">\n",
       "  <thead>\n",
       "    <tr>\n",
       "      <th></th>\n",
       "      <th>Embarked</th>\n",
       "      <th colspan=\"2\" halign=\"left\">Survived</th>\n",
       "    </tr>\n",
       "    <tr>\n",
       "      <th></th>\n",
       "      <th></th>\n",
       "      <th>count</th>\n",
       "      <th>mean</th>\n",
       "    </tr>\n",
       "  </thead>\n",
       "  <tbody>\n",
       "    <tr>\n",
       "      <th>0</th>\n",
       "      <td>C</td>\n",
       "      <td>168</td>\n",
       "      <td>0.553571</td>\n",
       "    </tr>\n",
       "    <tr>\n",
       "      <th>1</th>\n",
       "      <td>Q</td>\n",
       "      <td>77</td>\n",
       "      <td>0.389610</td>\n",
       "    </tr>\n",
       "    <tr>\n",
       "      <th>2</th>\n",
       "      <td>S</td>\n",
       "      <td>644</td>\n",
       "      <td>0.336957</td>\n",
       "    </tr>\n",
       "  </tbody>\n",
       "</table>\n",
       "</div>"
      ],
      "text/plain": [
       "  Embarked Survived          \n",
       "              count      mean\n",
       "0        C      168  0.553571\n",
       "1        Q       77  0.389610\n",
       "2        S      644  0.336957"
      ]
     },
     "metadata": {},
     "output_type": "display_data"
    }
   ],
   "source": [
    "df = explo[['Embarked','Survived']].groupby(['Embarked'], as_index=False).agg({'Survived': ['count','mean']})\n",
    "display(df) "
   ]
  },
  {
   "cell_type": "markdown",
   "metadata": {},
   "source": [
    "## Data Engineering"
   ]
  },
  {
   "cell_type": "code",
   "execution_count": 25,
   "metadata": {},
   "outputs": [],
   "source": [
    "train = get_title(train)\n",
    "test = get_title(test)\n",
    "\n",
    "train['Family'] = train.SibSp + train.Parch + 1\n",
    "test['Family'] = test.SibSp + test.Parch + 1\n",
    "\n",
    "# fill missing values for Embarked with most frequent value (S)\n",
    "train['Embarked'].fillna('S', inplace=True)\n",
    "# encode categorical variables\n",
    "#mapping = {'Sex': {'female': 0, 'male': 1}, 'Embarked': {'C': 0, 'S': 1, 'Q': 2}, 'Title': {'Miss': 0, 'Mrs': 1, 'Master': 2, 'Mr': 3}}\n",
    "mapping = {'Sex': {'female': 0, 'male': 1}}\n",
    "train.replace(mapping, inplace=True)\n",
    "test.replace(mapping, inplace=True)\n",
    "train = pd.get_dummies(train, columns=['Pclass', 'Embarked', 'Title'], drop_first=False)\n",
    "test = pd.get_dummies(test, columns=['Pclass', 'Embarked', 'Title'], drop_first=False)\n",
    "\n",
    "# drop non-required columns\n",
    "train.drop(['Name', 'Age', 'SibSp','Parch', 'Ticket', 'Fare', 'Age','Cabin'], axis=1, inplace=True)\n",
    "test.drop(['Name', 'Age', 'SibSp','Parch', 'Ticket', 'Fare', 'Cabin'], axis=1, inplace=True)"
   ]
  },
  {
   "cell_type": "markdown",
   "metadata": {},
   "source": [
    "## Applying the Naive Bayes estimator"
   ]
  },
  {
   "cell_type": "code",
   "execution_count": 26,
   "metadata": {},
   "outputs": [
    {
     "data": {
      "text/plain": [
       "BernoulliNB(alpha=1.0, binarize=0.0, class_prior=None, fit_prior=True)"
      ]
     },
     "execution_count": 26,
     "metadata": {},
     "output_type": "execute_result"
    },
    {
     "data": {
      "text/plain": [
       "0.8047138047138047"
      ]
     },
     "execution_count": 26,
     "metadata": {},
     "output_type": "execute_result"
    }
   ],
   "source": [
    "nb = BernoulliNB()\n",
    "\n",
    "X_train = train.drop(['Survived'], axis=1)\n",
    "y_train = train['Survived']\n",
    "\n",
    "nb.fit(X_train, y_train)\n",
    "nb.score(X_train, y_train)"
   ]
  },
  {
   "cell_type": "code",
   "execution_count": 27,
   "metadata": {},
   "outputs": [],
   "source": [
    "# make submission - result = 0.77511 can do better\n",
    "y_test = nb.predict(test)\n",
    "test['Survived'] = y_test\n",
    "\n",
    "test.to_csv('./output/result.csv', \n",
    "                columns=['Survived'],\n",
    "                header=True,\n",
    "                index=True)"
   ]
  },
  {
   "cell_type": "code",
   "execution_count": null,
   "metadata": {},
   "outputs": [],
   "source": []
  }
 ],
 "metadata": {
  "kernelspec": {
   "display_name": "Python 3",
   "language": "python",
   "name": "python3"
  },
  "language_info": {
   "codemirror_mode": {
    "name": "ipython",
    "version": 3
   },
   "file_extension": ".py",
   "mimetype": "text/x-python",
   "name": "python",
   "nbconvert_exporter": "python",
   "pygments_lexer": "ipython3",
   "version": "3.6.9"
  }
 },
 "nbformat": 4,
 "nbformat_minor": 4
}
